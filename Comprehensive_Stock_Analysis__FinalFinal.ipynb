{
  "nbformat": 4,
  "nbformat_minor": 0,
  "metadata": {
    "colab": {
      "name": "Comprehensive_Stock_Analysis__FinalFinal.ipynb",
      "provenance": [],
      "collapsed_sections": []
    },
    "kernelspec": {
      "display_name": "Python 3",
      "name": "python3"
    },
    "language_info": {
      "name": "python"
    },
    "widgets": {
      "application/vnd.jupyter.widget-state+json": {
        "4a387f14adc345f9ac3481b6e46fedb1": {
          "model_module": "@jupyter-widgets/controls",
          "model_name": "HBoxModel",
          "model_module_version": "1.5.0",
          "state": {
            "_view_name": "HBoxView",
            "_dom_classes": [],
            "_model_name": "HBoxModel",
            "_view_module": "@jupyter-widgets/controls",
            "_model_module_version": "1.5.0",
            "_view_count": null,
            "_view_module_version": "1.5.0",
            "box_style": "",
            "layout": "IPY_MODEL_1ecc2c757a4a42308f1b446b331b6437",
            "_model_module": "@jupyter-widgets/controls",
            "children": [
              "IPY_MODEL_6c0e93e843384469b385ccfa8787f056",
              "IPY_MODEL_7373f3617f64483793b97714438f660f",
              "IPY_MODEL_5d44ed32782241bbbb564b50d87bbf96"
            ]
          }
        },
        "1ecc2c757a4a42308f1b446b331b6437": {
          "model_module": "@jupyter-widgets/base",
          "model_name": "LayoutModel",
          "model_module_version": "1.2.0",
          "state": {
            "_view_name": "LayoutView",
            "grid_template_rows": null,
            "right": null,
            "justify_content": null,
            "_view_module": "@jupyter-widgets/base",
            "overflow": null,
            "_model_module_version": "1.2.0",
            "_view_count": null,
            "flex_flow": null,
            "width": null,
            "min_width": null,
            "border": null,
            "align_items": null,
            "bottom": null,
            "_model_module": "@jupyter-widgets/base",
            "top": null,
            "grid_column": null,
            "overflow_y": null,
            "overflow_x": null,
            "grid_auto_flow": null,
            "grid_area": null,
            "grid_template_columns": null,
            "flex": null,
            "_model_name": "LayoutModel",
            "justify_items": null,
            "grid_row": null,
            "max_height": null,
            "align_content": null,
            "visibility": null,
            "align_self": null,
            "height": null,
            "min_height": null,
            "padding": null,
            "grid_auto_rows": null,
            "grid_gap": null,
            "max_width": null,
            "order": null,
            "_view_module_version": "1.2.0",
            "grid_template_areas": null,
            "object_position": null,
            "object_fit": null,
            "grid_auto_columns": null,
            "margin": null,
            "display": null,
            "left": null
          }
        },
        "6c0e93e843384469b385ccfa8787f056": {
          "model_module": "@jupyter-widgets/controls",
          "model_name": "HTMLModel",
          "model_module_version": "1.5.0",
          "state": {
            "_view_name": "HTMLView",
            "style": "IPY_MODEL_c1dacb1a903f4425a6ba1ac386a99e5c",
            "_dom_classes": [],
            "description": "",
            "_model_name": "HTMLModel",
            "placeholder": "​",
            "_view_module": "@jupyter-widgets/controls",
            "_model_module_version": "1.5.0",
            "value": "Downloading: 100%",
            "_view_count": null,
            "_view_module_version": "1.5.0",
            "description_tooltip": null,
            "_model_module": "@jupyter-widgets/controls",
            "layout": "IPY_MODEL_901dd13cca3b4b239e115b0f629f2569"
          }
        },
        "7373f3617f64483793b97714438f660f": {
          "model_module": "@jupyter-widgets/controls",
          "model_name": "FloatProgressModel",
          "model_module_version": "1.5.0",
          "state": {
            "_view_name": "ProgressView",
            "style": "IPY_MODEL_ba86ddfa712a47eebdfe300be84cee60",
            "_dom_classes": [],
            "description": "",
            "_model_name": "FloatProgressModel",
            "bar_style": "success",
            "max": 28,
            "_view_module": "@jupyter-widgets/controls",
            "_model_module_version": "1.5.0",
            "value": 28,
            "_view_count": null,
            "_view_module_version": "1.5.0",
            "orientation": "horizontal",
            "min": 0,
            "description_tooltip": null,
            "_model_module": "@jupyter-widgets/controls",
            "layout": "IPY_MODEL_f1bc81bc98144ded8e0edf2d961e6a81"
          }
        },
        "5d44ed32782241bbbb564b50d87bbf96": {
          "model_module": "@jupyter-widgets/controls",
          "model_name": "HTMLModel",
          "model_module_version": "1.5.0",
          "state": {
            "_view_name": "HTMLView",
            "style": "IPY_MODEL_812fba1400bd454597ec5cb7e9d4b4fc",
            "_dom_classes": [],
            "description": "",
            "_model_name": "HTMLModel",
            "placeholder": "​",
            "_view_module": "@jupyter-widgets/controls",
            "_model_module_version": "1.5.0",
            "value": " 28.0/28.0 [00:00&lt;00:00, 710B/s]",
            "_view_count": null,
            "_view_module_version": "1.5.0",
            "description_tooltip": null,
            "_model_module": "@jupyter-widgets/controls",
            "layout": "IPY_MODEL_f57e30cf11814b159be9ee2f60010a0a"
          }
        },
        "c1dacb1a903f4425a6ba1ac386a99e5c": {
          "model_module": "@jupyter-widgets/controls",
          "model_name": "DescriptionStyleModel",
          "model_module_version": "1.5.0",
          "state": {
            "_view_name": "StyleView",
            "_model_name": "DescriptionStyleModel",
            "description_width": "",
            "_view_module": "@jupyter-widgets/base",
            "_model_module_version": "1.5.0",
            "_view_count": null,
            "_view_module_version": "1.2.0",
            "_model_module": "@jupyter-widgets/controls"
          }
        },
        "901dd13cca3b4b239e115b0f629f2569": {
          "model_module": "@jupyter-widgets/base",
          "model_name": "LayoutModel",
          "model_module_version": "1.2.0",
          "state": {
            "_view_name": "LayoutView",
            "grid_template_rows": null,
            "right": null,
            "justify_content": null,
            "_view_module": "@jupyter-widgets/base",
            "overflow": null,
            "_model_module_version": "1.2.0",
            "_view_count": null,
            "flex_flow": null,
            "width": null,
            "min_width": null,
            "border": null,
            "align_items": null,
            "bottom": null,
            "_model_module": "@jupyter-widgets/base",
            "top": null,
            "grid_column": null,
            "overflow_y": null,
            "overflow_x": null,
            "grid_auto_flow": null,
            "grid_area": null,
            "grid_template_columns": null,
            "flex": null,
            "_model_name": "LayoutModel",
            "justify_items": null,
            "grid_row": null,
            "max_height": null,
            "align_content": null,
            "visibility": null,
            "align_self": null,
            "height": null,
            "min_height": null,
            "padding": null,
            "grid_auto_rows": null,
            "grid_gap": null,
            "max_width": null,
            "order": null,
            "_view_module_version": "1.2.0",
            "grid_template_areas": null,
            "object_position": null,
            "object_fit": null,
            "grid_auto_columns": null,
            "margin": null,
            "display": null,
            "left": null
          }
        },
        "ba86ddfa712a47eebdfe300be84cee60": {
          "model_module": "@jupyter-widgets/controls",
          "model_name": "ProgressStyleModel",
          "model_module_version": "1.5.0",
          "state": {
            "_view_name": "StyleView",
            "_model_name": "ProgressStyleModel",
            "description_width": "",
            "_view_module": "@jupyter-widgets/base",
            "_model_module_version": "1.5.0",
            "_view_count": null,
            "_view_module_version": "1.2.0",
            "bar_color": null,
            "_model_module": "@jupyter-widgets/controls"
          }
        },
        "f1bc81bc98144ded8e0edf2d961e6a81": {
          "model_module": "@jupyter-widgets/base",
          "model_name": "LayoutModel",
          "model_module_version": "1.2.0",
          "state": {
            "_view_name": "LayoutView",
            "grid_template_rows": null,
            "right": null,
            "justify_content": null,
            "_view_module": "@jupyter-widgets/base",
            "overflow": null,
            "_model_module_version": "1.2.0",
            "_view_count": null,
            "flex_flow": null,
            "width": null,
            "min_width": null,
            "border": null,
            "align_items": null,
            "bottom": null,
            "_model_module": "@jupyter-widgets/base",
            "top": null,
            "grid_column": null,
            "overflow_y": null,
            "overflow_x": null,
            "grid_auto_flow": null,
            "grid_area": null,
            "grid_template_columns": null,
            "flex": null,
            "_model_name": "LayoutModel",
            "justify_items": null,
            "grid_row": null,
            "max_height": null,
            "align_content": null,
            "visibility": null,
            "align_self": null,
            "height": null,
            "min_height": null,
            "padding": null,
            "grid_auto_rows": null,
            "grid_gap": null,
            "max_width": null,
            "order": null,
            "_view_module_version": "1.2.0",
            "grid_template_areas": null,
            "object_position": null,
            "object_fit": null,
            "grid_auto_columns": null,
            "margin": null,
            "display": null,
            "left": null
          }
        },
        "812fba1400bd454597ec5cb7e9d4b4fc": {
          "model_module": "@jupyter-widgets/controls",
          "model_name": "DescriptionStyleModel",
          "model_module_version": "1.5.0",
          "state": {
            "_view_name": "StyleView",
            "_model_name": "DescriptionStyleModel",
            "description_width": "",
            "_view_module": "@jupyter-widgets/base",
            "_model_module_version": "1.5.0",
            "_view_count": null,
            "_view_module_version": "1.2.0",
            "_model_module": "@jupyter-widgets/controls"
          }
        },
        "f57e30cf11814b159be9ee2f60010a0a": {
          "model_module": "@jupyter-widgets/base",
          "model_name": "LayoutModel",
          "model_module_version": "1.2.0",
          "state": {
            "_view_name": "LayoutView",
            "grid_template_rows": null,
            "right": null,
            "justify_content": null,
            "_view_module": "@jupyter-widgets/base",
            "overflow": null,
            "_model_module_version": "1.2.0",
            "_view_count": null,
            "flex_flow": null,
            "width": null,
            "min_width": null,
            "border": null,
            "align_items": null,
            "bottom": null,
            "_model_module": "@jupyter-widgets/base",
            "top": null,
            "grid_column": null,
            "overflow_y": null,
            "overflow_x": null,
            "grid_auto_flow": null,
            "grid_area": null,
            "grid_template_columns": null,
            "flex": null,
            "_model_name": "LayoutModel",
            "justify_items": null,
            "grid_row": null,
            "max_height": null,
            "align_content": null,
            "visibility": null,
            "align_self": null,
            "height": null,
            "min_height": null,
            "padding": null,
            "grid_auto_rows": null,
            "grid_gap": null,
            "max_width": null,
            "order": null,
            "_view_module_version": "1.2.0",
            "grid_template_areas": null,
            "object_position": null,
            "object_fit": null,
            "grid_auto_columns": null,
            "margin": null,
            "display": null,
            "left": null
          }
        },
        "bedee7ba920b427a88d54da2536abc01": {
          "model_module": "@jupyter-widgets/controls",
          "model_name": "HBoxModel",
          "model_module_version": "1.5.0",
          "state": {
            "_view_name": "HBoxView",
            "_dom_classes": [],
            "_model_name": "HBoxModel",
            "_view_module": "@jupyter-widgets/controls",
            "_model_module_version": "1.5.0",
            "_view_count": null,
            "_view_module_version": "1.5.0",
            "box_style": "",
            "layout": "IPY_MODEL_09d6e1df07614bd29d7e3bdfb766e215",
            "_model_module": "@jupyter-widgets/controls",
            "children": [
              "IPY_MODEL_0c89b2c8d7ca461696f45b6204f410cc",
              "IPY_MODEL_8f6e058400084657a111607ebd69a235",
              "IPY_MODEL_76a5fe0bce7b4f30ac549aeaa234321d"
            ]
          }
        },
        "09d6e1df07614bd29d7e3bdfb766e215": {
          "model_module": "@jupyter-widgets/base",
          "model_name": "LayoutModel",
          "model_module_version": "1.2.0",
          "state": {
            "_view_name": "LayoutView",
            "grid_template_rows": null,
            "right": null,
            "justify_content": null,
            "_view_module": "@jupyter-widgets/base",
            "overflow": null,
            "_model_module_version": "1.2.0",
            "_view_count": null,
            "flex_flow": null,
            "width": null,
            "min_width": null,
            "border": null,
            "align_items": null,
            "bottom": null,
            "_model_module": "@jupyter-widgets/base",
            "top": null,
            "grid_column": null,
            "overflow_y": null,
            "overflow_x": null,
            "grid_auto_flow": null,
            "grid_area": null,
            "grid_template_columns": null,
            "flex": null,
            "_model_name": "LayoutModel",
            "justify_items": null,
            "grid_row": null,
            "max_height": null,
            "align_content": null,
            "visibility": null,
            "align_self": null,
            "height": null,
            "min_height": null,
            "padding": null,
            "grid_auto_rows": null,
            "grid_gap": null,
            "max_width": null,
            "order": null,
            "_view_module_version": "1.2.0",
            "grid_template_areas": null,
            "object_position": null,
            "object_fit": null,
            "grid_auto_columns": null,
            "margin": null,
            "display": null,
            "left": null
          }
        },
        "0c89b2c8d7ca461696f45b6204f410cc": {
          "model_module": "@jupyter-widgets/controls",
          "model_name": "HTMLModel",
          "model_module_version": "1.5.0",
          "state": {
            "_view_name": "HTMLView",
            "style": "IPY_MODEL_6fcb67d585164d65a6593f762eb09154",
            "_dom_classes": [],
            "description": "",
            "_model_name": "HTMLModel",
            "placeholder": "​",
            "_view_module": "@jupyter-widgets/controls",
            "_model_module_version": "1.5.0",
            "value": "Downloading: 100%",
            "_view_count": null,
            "_view_module_version": "1.5.0",
            "description_tooltip": null,
            "_model_module": "@jupyter-widgets/controls",
            "layout": "IPY_MODEL_6bae74591ab14fc7b372402f81c7d95e"
          }
        },
        "8f6e058400084657a111607ebd69a235": {
          "model_module": "@jupyter-widgets/controls",
          "model_name": "FloatProgressModel",
          "model_module_version": "1.5.0",
          "state": {
            "_view_name": "ProgressView",
            "style": "IPY_MODEL_adc6629c90204d07a8074476868c96e2",
            "_dom_classes": [],
            "description": "",
            "_model_name": "FloatProgressModel",
            "bar_style": "success",
            "max": 231508,
            "_view_module": "@jupyter-widgets/controls",
            "_model_module_version": "1.5.0",
            "value": 231508,
            "_view_count": null,
            "_view_module_version": "1.5.0",
            "orientation": "horizontal",
            "min": 0,
            "description_tooltip": null,
            "_model_module": "@jupyter-widgets/controls",
            "layout": "IPY_MODEL_f662bc47fa094d8baf418e8153a08451"
          }
        },
        "76a5fe0bce7b4f30ac549aeaa234321d": {
          "model_module": "@jupyter-widgets/controls",
          "model_name": "HTMLModel",
          "model_module_version": "1.5.0",
          "state": {
            "_view_name": "HTMLView",
            "style": "IPY_MODEL_9edf8956d356459b9b5fe1fb360f1f79",
            "_dom_classes": [],
            "description": "",
            "_model_name": "HTMLModel",
            "placeholder": "​",
            "_view_module": "@jupyter-widgets/controls",
            "_model_module_version": "1.5.0",
            "value": " 226k/226k [00:00&lt;00:00, 353kB/s]",
            "_view_count": null,
            "_view_module_version": "1.5.0",
            "description_tooltip": null,
            "_model_module": "@jupyter-widgets/controls",
            "layout": "IPY_MODEL_719162a35ac34b35b96538c671e55693"
          }
        },
        "6fcb67d585164d65a6593f762eb09154": {
          "model_module": "@jupyter-widgets/controls",
          "model_name": "DescriptionStyleModel",
          "model_module_version": "1.5.0",
          "state": {
            "_view_name": "StyleView",
            "_model_name": "DescriptionStyleModel",
            "description_width": "",
            "_view_module": "@jupyter-widgets/base",
            "_model_module_version": "1.5.0",
            "_view_count": null,
            "_view_module_version": "1.2.0",
            "_model_module": "@jupyter-widgets/controls"
          }
        },
        "6bae74591ab14fc7b372402f81c7d95e": {
          "model_module": "@jupyter-widgets/base",
          "model_name": "LayoutModel",
          "model_module_version": "1.2.0",
          "state": {
            "_view_name": "LayoutView",
            "grid_template_rows": null,
            "right": null,
            "justify_content": null,
            "_view_module": "@jupyter-widgets/base",
            "overflow": null,
            "_model_module_version": "1.2.0",
            "_view_count": null,
            "flex_flow": null,
            "width": null,
            "min_width": null,
            "border": null,
            "align_items": null,
            "bottom": null,
            "_model_module": "@jupyter-widgets/base",
            "top": null,
            "grid_column": null,
            "overflow_y": null,
            "overflow_x": null,
            "grid_auto_flow": null,
            "grid_area": null,
            "grid_template_columns": null,
            "flex": null,
            "_model_name": "LayoutModel",
            "justify_items": null,
            "grid_row": null,
            "max_height": null,
            "align_content": null,
            "visibility": null,
            "align_self": null,
            "height": null,
            "min_height": null,
            "padding": null,
            "grid_auto_rows": null,
            "grid_gap": null,
            "max_width": null,
            "order": null,
            "_view_module_version": "1.2.0",
            "grid_template_areas": null,
            "object_position": null,
            "object_fit": null,
            "grid_auto_columns": null,
            "margin": null,
            "display": null,
            "left": null
          }
        },
        "adc6629c90204d07a8074476868c96e2": {
          "model_module": "@jupyter-widgets/controls",
          "model_name": "ProgressStyleModel",
          "model_module_version": "1.5.0",
          "state": {
            "_view_name": "StyleView",
            "_model_name": "ProgressStyleModel",
            "description_width": "",
            "_view_module": "@jupyter-widgets/base",
            "_model_module_version": "1.5.0",
            "_view_count": null,
            "_view_module_version": "1.2.0",
            "bar_color": null,
            "_model_module": "@jupyter-widgets/controls"
          }
        },
        "f662bc47fa094d8baf418e8153a08451": {
          "model_module": "@jupyter-widgets/base",
          "model_name": "LayoutModel",
          "model_module_version": "1.2.0",
          "state": {
            "_view_name": "LayoutView",
            "grid_template_rows": null,
            "right": null,
            "justify_content": null,
            "_view_module": "@jupyter-widgets/base",
            "overflow": null,
            "_model_module_version": "1.2.0",
            "_view_count": null,
            "flex_flow": null,
            "width": null,
            "min_width": null,
            "border": null,
            "align_items": null,
            "bottom": null,
            "_model_module": "@jupyter-widgets/base",
            "top": null,
            "grid_column": null,
            "overflow_y": null,
            "overflow_x": null,
            "grid_auto_flow": null,
            "grid_area": null,
            "grid_template_columns": null,
            "flex": null,
            "_model_name": "LayoutModel",
            "justify_items": null,
            "grid_row": null,
            "max_height": null,
            "align_content": null,
            "visibility": null,
            "align_self": null,
            "height": null,
            "min_height": null,
            "padding": null,
            "grid_auto_rows": null,
            "grid_gap": null,
            "max_width": null,
            "order": null,
            "_view_module_version": "1.2.0",
            "grid_template_areas": null,
            "object_position": null,
            "object_fit": null,
            "grid_auto_columns": null,
            "margin": null,
            "display": null,
            "left": null
          }
        },
        "9edf8956d356459b9b5fe1fb360f1f79": {
          "model_module": "@jupyter-widgets/controls",
          "model_name": "DescriptionStyleModel",
          "model_module_version": "1.5.0",
          "state": {
            "_view_name": "StyleView",
            "_model_name": "DescriptionStyleModel",
            "description_width": "",
            "_view_module": "@jupyter-widgets/base",
            "_model_module_version": "1.5.0",
            "_view_count": null,
            "_view_module_version": "1.2.0",
            "_model_module": "@jupyter-widgets/controls"
          }
        },
        "719162a35ac34b35b96538c671e55693": {
          "model_module": "@jupyter-widgets/base",
          "model_name": "LayoutModel",
          "model_module_version": "1.2.0",
          "state": {
            "_view_name": "LayoutView",
            "grid_template_rows": null,
            "right": null,
            "justify_content": null,
            "_view_module": "@jupyter-widgets/base",
            "overflow": null,
            "_model_module_version": "1.2.0",
            "_view_count": null,
            "flex_flow": null,
            "width": null,
            "min_width": null,
            "border": null,
            "align_items": null,
            "bottom": null,
            "_model_module": "@jupyter-widgets/base",
            "top": null,
            "grid_column": null,
            "overflow_y": null,
            "overflow_x": null,
            "grid_auto_flow": null,
            "grid_area": null,
            "grid_template_columns": null,
            "flex": null,
            "_model_name": "LayoutModel",
            "justify_items": null,
            "grid_row": null,
            "max_height": null,
            "align_content": null,
            "visibility": null,
            "align_self": null,
            "height": null,
            "min_height": null,
            "padding": null,
            "grid_auto_rows": null,
            "grid_gap": null,
            "max_width": null,
            "order": null,
            "_view_module_version": "1.2.0",
            "grid_template_areas": null,
            "object_position": null,
            "object_fit": null,
            "grid_auto_columns": null,
            "margin": null,
            "display": null,
            "left": null
          }
        },
        "61eff8273eee485e9099eda12033ded7": {
          "model_module": "@jupyter-widgets/controls",
          "model_name": "HBoxModel",
          "model_module_version": "1.5.0",
          "state": {
            "_view_name": "HBoxView",
            "_dom_classes": [],
            "_model_name": "HBoxModel",
            "_view_module": "@jupyter-widgets/controls",
            "_model_module_version": "1.5.0",
            "_view_count": null,
            "_view_module_version": "1.5.0",
            "box_style": "",
            "layout": "IPY_MODEL_05c0287798064e129b2223319e60ba33",
            "_model_module": "@jupyter-widgets/controls",
            "children": [
              "IPY_MODEL_4063e83f98bb44a19784b0a2faab93e5",
              "IPY_MODEL_fec23ef87c16438c95f19f383651e747",
              "IPY_MODEL_6cfde36739ca4b95b9cc9be9fea94d4b"
            ]
          }
        },
        "05c0287798064e129b2223319e60ba33": {
          "model_module": "@jupyter-widgets/base",
          "model_name": "LayoutModel",
          "model_module_version": "1.2.0",
          "state": {
            "_view_name": "LayoutView",
            "grid_template_rows": null,
            "right": null,
            "justify_content": null,
            "_view_module": "@jupyter-widgets/base",
            "overflow": null,
            "_model_module_version": "1.2.0",
            "_view_count": null,
            "flex_flow": null,
            "width": null,
            "min_width": null,
            "border": null,
            "align_items": null,
            "bottom": null,
            "_model_module": "@jupyter-widgets/base",
            "top": null,
            "grid_column": null,
            "overflow_y": null,
            "overflow_x": null,
            "grid_auto_flow": null,
            "grid_area": null,
            "grid_template_columns": null,
            "flex": null,
            "_model_name": "LayoutModel",
            "justify_items": null,
            "grid_row": null,
            "max_height": null,
            "align_content": null,
            "visibility": null,
            "align_self": null,
            "height": null,
            "min_height": null,
            "padding": null,
            "grid_auto_rows": null,
            "grid_gap": null,
            "max_width": null,
            "order": null,
            "_view_module_version": "1.2.0",
            "grid_template_areas": null,
            "object_position": null,
            "object_fit": null,
            "grid_auto_columns": null,
            "margin": null,
            "display": null,
            "left": null
          }
        },
        "4063e83f98bb44a19784b0a2faab93e5": {
          "model_module": "@jupyter-widgets/controls",
          "model_name": "HTMLModel",
          "model_module_version": "1.5.0",
          "state": {
            "_view_name": "HTMLView",
            "style": "IPY_MODEL_a4259d3251ea4135bc4df697cfd56022",
            "_dom_classes": [],
            "description": "",
            "_model_name": "HTMLModel",
            "placeholder": "​",
            "_view_module": "@jupyter-widgets/controls",
            "_model_module_version": "1.5.0",
            "value": "Downloading: 100%",
            "_view_count": null,
            "_view_module_version": "1.5.0",
            "description_tooltip": null,
            "_model_module": "@jupyter-widgets/controls",
            "layout": "IPY_MODEL_4f167c385b904305a878ef04e92b23c7"
          }
        },
        "fec23ef87c16438c95f19f383651e747": {
          "model_module": "@jupyter-widgets/controls",
          "model_name": "FloatProgressModel",
          "model_module_version": "1.5.0",
          "state": {
            "_view_name": "ProgressView",
            "style": "IPY_MODEL_921efdb2d8de4e0095c141e2c9bdd7f2",
            "_dom_classes": [],
            "description": "",
            "_model_name": "FloatProgressModel",
            "bar_style": "success",
            "max": 466062,
            "_view_module": "@jupyter-widgets/controls",
            "_model_module_version": "1.5.0",
            "value": 466062,
            "_view_count": null,
            "_view_module_version": "1.5.0",
            "orientation": "horizontal",
            "min": 0,
            "description_tooltip": null,
            "_model_module": "@jupyter-widgets/controls",
            "layout": "IPY_MODEL_7b7afc043489491a8ae6efd8482b6112"
          }
        },
        "6cfde36739ca4b95b9cc9be9fea94d4b": {
          "model_module": "@jupyter-widgets/controls",
          "model_name": "HTMLModel",
          "model_module_version": "1.5.0",
          "state": {
            "_view_name": "HTMLView",
            "style": "IPY_MODEL_3e5a095f6a6341c99bf444d408b3030c",
            "_dom_classes": [],
            "description": "",
            "_model_name": "HTMLModel",
            "placeholder": "​",
            "_view_module": "@jupyter-widgets/controls",
            "_model_module_version": "1.5.0",
            "value": " 455k/455k [00:00&lt;00:00, 587kB/s]",
            "_view_count": null,
            "_view_module_version": "1.5.0",
            "description_tooltip": null,
            "_model_module": "@jupyter-widgets/controls",
            "layout": "IPY_MODEL_4782fa2b57ae4c85840dd3acc742b9e8"
          }
        },
        "a4259d3251ea4135bc4df697cfd56022": {
          "model_module": "@jupyter-widgets/controls",
          "model_name": "DescriptionStyleModel",
          "model_module_version": "1.5.0",
          "state": {
            "_view_name": "StyleView",
            "_model_name": "DescriptionStyleModel",
            "description_width": "",
            "_view_module": "@jupyter-widgets/base",
            "_model_module_version": "1.5.0",
            "_view_count": null,
            "_view_module_version": "1.2.0",
            "_model_module": "@jupyter-widgets/controls"
          }
        },
        "4f167c385b904305a878ef04e92b23c7": {
          "model_module": "@jupyter-widgets/base",
          "model_name": "LayoutModel",
          "model_module_version": "1.2.0",
          "state": {
            "_view_name": "LayoutView",
            "grid_template_rows": null,
            "right": null,
            "justify_content": null,
            "_view_module": "@jupyter-widgets/base",
            "overflow": null,
            "_model_module_version": "1.2.0",
            "_view_count": null,
            "flex_flow": null,
            "width": null,
            "min_width": null,
            "border": null,
            "align_items": null,
            "bottom": null,
            "_model_module": "@jupyter-widgets/base",
            "top": null,
            "grid_column": null,
            "overflow_y": null,
            "overflow_x": null,
            "grid_auto_flow": null,
            "grid_area": null,
            "grid_template_columns": null,
            "flex": null,
            "_model_name": "LayoutModel",
            "justify_items": null,
            "grid_row": null,
            "max_height": null,
            "align_content": null,
            "visibility": null,
            "align_self": null,
            "height": null,
            "min_height": null,
            "padding": null,
            "grid_auto_rows": null,
            "grid_gap": null,
            "max_width": null,
            "order": null,
            "_view_module_version": "1.2.0",
            "grid_template_areas": null,
            "object_position": null,
            "object_fit": null,
            "grid_auto_columns": null,
            "margin": null,
            "display": null,
            "left": null
          }
        },
        "921efdb2d8de4e0095c141e2c9bdd7f2": {
          "model_module": "@jupyter-widgets/controls",
          "model_name": "ProgressStyleModel",
          "model_module_version": "1.5.0",
          "state": {
            "_view_name": "StyleView",
            "_model_name": "ProgressStyleModel",
            "description_width": "",
            "_view_module": "@jupyter-widgets/base",
            "_model_module_version": "1.5.0",
            "_view_count": null,
            "_view_module_version": "1.2.0",
            "bar_color": null,
            "_model_module": "@jupyter-widgets/controls"
          }
        },
        "7b7afc043489491a8ae6efd8482b6112": {
          "model_module": "@jupyter-widgets/base",
          "model_name": "LayoutModel",
          "model_module_version": "1.2.0",
          "state": {
            "_view_name": "LayoutView",
            "grid_template_rows": null,
            "right": null,
            "justify_content": null,
            "_view_module": "@jupyter-widgets/base",
            "overflow": null,
            "_model_module_version": "1.2.0",
            "_view_count": null,
            "flex_flow": null,
            "width": null,
            "min_width": null,
            "border": null,
            "align_items": null,
            "bottom": null,
            "_model_module": "@jupyter-widgets/base",
            "top": null,
            "grid_column": null,
            "overflow_y": null,
            "overflow_x": null,
            "grid_auto_flow": null,
            "grid_area": null,
            "grid_template_columns": null,
            "flex": null,
            "_model_name": "LayoutModel",
            "justify_items": null,
            "grid_row": null,
            "max_height": null,
            "align_content": null,
            "visibility": null,
            "align_self": null,
            "height": null,
            "min_height": null,
            "padding": null,
            "grid_auto_rows": null,
            "grid_gap": null,
            "max_width": null,
            "order": null,
            "_view_module_version": "1.2.0",
            "grid_template_areas": null,
            "object_position": null,
            "object_fit": null,
            "grid_auto_columns": null,
            "margin": null,
            "display": null,
            "left": null
          }
        },
        "3e5a095f6a6341c99bf444d408b3030c": {
          "model_module": "@jupyter-widgets/controls",
          "model_name": "DescriptionStyleModel",
          "model_module_version": "1.5.0",
          "state": {
            "_view_name": "StyleView",
            "_model_name": "DescriptionStyleModel",
            "description_width": "",
            "_view_module": "@jupyter-widgets/base",
            "_model_module_version": "1.5.0",
            "_view_count": null,
            "_view_module_version": "1.2.0",
            "_model_module": "@jupyter-widgets/controls"
          }
        },
        "4782fa2b57ae4c85840dd3acc742b9e8": {
          "model_module": "@jupyter-widgets/base",
          "model_name": "LayoutModel",
          "model_module_version": "1.2.0",
          "state": {
            "_view_name": "LayoutView",
            "grid_template_rows": null,
            "right": null,
            "justify_content": null,
            "_view_module": "@jupyter-widgets/base",
            "overflow": null,
            "_model_module_version": "1.2.0",
            "_view_count": null,
            "flex_flow": null,
            "width": null,
            "min_width": null,
            "border": null,
            "align_items": null,
            "bottom": null,
            "_model_module": "@jupyter-widgets/base",
            "top": null,
            "grid_column": null,
            "overflow_y": null,
            "overflow_x": null,
            "grid_auto_flow": null,
            "grid_area": null,
            "grid_template_columns": null,
            "flex": null,
            "_model_name": "LayoutModel",
            "justify_items": null,
            "grid_row": null,
            "max_height": null,
            "align_content": null,
            "visibility": null,
            "align_self": null,
            "height": null,
            "min_height": null,
            "padding": null,
            "grid_auto_rows": null,
            "grid_gap": null,
            "max_width": null,
            "order": null,
            "_view_module_version": "1.2.0",
            "grid_template_areas": null,
            "object_position": null,
            "object_fit": null,
            "grid_auto_columns": null,
            "margin": null,
            "display": null,
            "left": null
          }
        },
        "b8d2b17082354aaf8228d5e336f0d75a": {
          "model_module": "@jupyter-widgets/controls",
          "model_name": "HBoxModel",
          "model_module_version": "1.5.0",
          "state": {
            "_view_name": "HBoxView",
            "_dom_classes": [],
            "_model_name": "HBoxModel",
            "_view_module": "@jupyter-widgets/controls",
            "_model_module_version": "1.5.0",
            "_view_count": null,
            "_view_module_version": "1.5.0",
            "box_style": "",
            "layout": "IPY_MODEL_abe9a19dd5144b4b991ad28e58a591dc",
            "_model_module": "@jupyter-widgets/controls",
            "children": [
              "IPY_MODEL_fe0dc101c0254294b963bee7926e3d04",
              "IPY_MODEL_7279fb8574d749c2a0d88036aa9e88ca",
              "IPY_MODEL_88ea4f05ade841fe8938bf0a0ac46b46"
            ]
          }
        },
        "abe9a19dd5144b4b991ad28e58a591dc": {
          "model_module": "@jupyter-widgets/base",
          "model_name": "LayoutModel",
          "model_module_version": "1.2.0",
          "state": {
            "_view_name": "LayoutView",
            "grid_template_rows": null,
            "right": null,
            "justify_content": null,
            "_view_module": "@jupyter-widgets/base",
            "overflow": null,
            "_model_module_version": "1.2.0",
            "_view_count": null,
            "flex_flow": null,
            "width": null,
            "min_width": null,
            "border": null,
            "align_items": null,
            "bottom": null,
            "_model_module": "@jupyter-widgets/base",
            "top": null,
            "grid_column": null,
            "overflow_y": null,
            "overflow_x": null,
            "grid_auto_flow": null,
            "grid_area": null,
            "grid_template_columns": null,
            "flex": null,
            "_model_name": "LayoutModel",
            "justify_items": null,
            "grid_row": null,
            "max_height": null,
            "align_content": null,
            "visibility": null,
            "align_self": null,
            "height": null,
            "min_height": null,
            "padding": null,
            "grid_auto_rows": null,
            "grid_gap": null,
            "max_width": null,
            "order": null,
            "_view_module_version": "1.2.0",
            "grid_template_areas": null,
            "object_position": null,
            "object_fit": null,
            "grid_auto_columns": null,
            "margin": null,
            "display": null,
            "left": null
          }
        },
        "fe0dc101c0254294b963bee7926e3d04": {
          "model_module": "@jupyter-widgets/controls",
          "model_name": "HTMLModel",
          "model_module_version": "1.5.0",
          "state": {
            "_view_name": "HTMLView",
            "style": "IPY_MODEL_f8a802c949fa4de2aa8b611444891b02",
            "_dom_classes": [],
            "description": "",
            "_model_name": "HTMLModel",
            "placeholder": "​",
            "_view_module": "@jupyter-widgets/controls",
            "_model_module_version": "1.5.0",
            "value": "Downloading: 100%",
            "_view_count": null,
            "_view_module_version": "1.5.0",
            "description_tooltip": null,
            "_model_module": "@jupyter-widgets/controls",
            "layout": "IPY_MODEL_d9a9ed1826694fa2a23bac4b698ad505"
          }
        },
        "7279fb8574d749c2a0d88036aa9e88ca": {
          "model_module": "@jupyter-widgets/controls",
          "model_name": "FloatProgressModel",
          "model_module_version": "1.5.0",
          "state": {
            "_view_name": "ProgressView",
            "style": "IPY_MODEL_fabd85e846fe4bb589f71cfa71ba547d",
            "_dom_classes": [],
            "description": "",
            "_model_name": "FloatProgressModel",
            "bar_style": "success",
            "max": 483,
            "_view_module": "@jupyter-widgets/controls",
            "_model_module_version": "1.5.0",
            "value": 483,
            "_view_count": null,
            "_view_module_version": "1.5.0",
            "orientation": "horizontal",
            "min": 0,
            "description_tooltip": null,
            "_model_module": "@jupyter-widgets/controls",
            "layout": "IPY_MODEL_cb972fce5c6d4f1699f596fe6d89e65e"
          }
        },
        "88ea4f05ade841fe8938bf0a0ac46b46": {
          "model_module": "@jupyter-widgets/controls",
          "model_name": "HTMLModel",
          "model_module_version": "1.5.0",
          "state": {
            "_view_name": "HTMLView",
            "style": "IPY_MODEL_eed6f7af6c334aed96e19f2f36dcb0d6",
            "_dom_classes": [],
            "description": "",
            "_model_name": "HTMLModel",
            "placeholder": "​",
            "_view_module": "@jupyter-widgets/controls",
            "_model_module_version": "1.5.0",
            "value": " 483/483 [00:00&lt;00:00, 9.22kB/s]",
            "_view_count": null,
            "_view_module_version": "1.5.0",
            "description_tooltip": null,
            "_model_module": "@jupyter-widgets/controls",
            "layout": "IPY_MODEL_ffd8d37a7ff6430bb7d03882bad6a726"
          }
        },
        "f8a802c949fa4de2aa8b611444891b02": {
          "model_module": "@jupyter-widgets/controls",
          "model_name": "DescriptionStyleModel",
          "model_module_version": "1.5.0",
          "state": {
            "_view_name": "StyleView",
            "_model_name": "DescriptionStyleModel",
            "description_width": "",
            "_view_module": "@jupyter-widgets/base",
            "_model_module_version": "1.5.0",
            "_view_count": null,
            "_view_module_version": "1.2.0",
            "_model_module": "@jupyter-widgets/controls"
          }
        },
        "d9a9ed1826694fa2a23bac4b698ad505": {
          "model_module": "@jupyter-widgets/base",
          "model_name": "LayoutModel",
          "model_module_version": "1.2.0",
          "state": {
            "_view_name": "LayoutView",
            "grid_template_rows": null,
            "right": null,
            "justify_content": null,
            "_view_module": "@jupyter-widgets/base",
            "overflow": null,
            "_model_module_version": "1.2.0",
            "_view_count": null,
            "flex_flow": null,
            "width": null,
            "min_width": null,
            "border": null,
            "align_items": null,
            "bottom": null,
            "_model_module": "@jupyter-widgets/base",
            "top": null,
            "grid_column": null,
            "overflow_y": null,
            "overflow_x": null,
            "grid_auto_flow": null,
            "grid_area": null,
            "grid_template_columns": null,
            "flex": null,
            "_model_name": "LayoutModel",
            "justify_items": null,
            "grid_row": null,
            "max_height": null,
            "align_content": null,
            "visibility": null,
            "align_self": null,
            "height": null,
            "min_height": null,
            "padding": null,
            "grid_auto_rows": null,
            "grid_gap": null,
            "max_width": null,
            "order": null,
            "_view_module_version": "1.2.0",
            "grid_template_areas": null,
            "object_position": null,
            "object_fit": null,
            "grid_auto_columns": null,
            "margin": null,
            "display": null,
            "left": null
          }
        },
        "fabd85e846fe4bb589f71cfa71ba547d": {
          "model_module": "@jupyter-widgets/controls",
          "model_name": "ProgressStyleModel",
          "model_module_version": "1.5.0",
          "state": {
            "_view_name": "StyleView",
            "_model_name": "ProgressStyleModel",
            "description_width": "",
            "_view_module": "@jupyter-widgets/base",
            "_model_module_version": "1.5.0",
            "_view_count": null,
            "_view_module_version": "1.2.0",
            "bar_color": null,
            "_model_module": "@jupyter-widgets/controls"
          }
        },
        "cb972fce5c6d4f1699f596fe6d89e65e": {
          "model_module": "@jupyter-widgets/base",
          "model_name": "LayoutModel",
          "model_module_version": "1.2.0",
          "state": {
            "_view_name": "LayoutView",
            "grid_template_rows": null,
            "right": null,
            "justify_content": null,
            "_view_module": "@jupyter-widgets/base",
            "overflow": null,
            "_model_module_version": "1.2.0",
            "_view_count": null,
            "flex_flow": null,
            "width": null,
            "min_width": null,
            "border": null,
            "align_items": null,
            "bottom": null,
            "_model_module": "@jupyter-widgets/base",
            "top": null,
            "grid_column": null,
            "overflow_y": null,
            "overflow_x": null,
            "grid_auto_flow": null,
            "grid_area": null,
            "grid_template_columns": null,
            "flex": null,
            "_model_name": "LayoutModel",
            "justify_items": null,
            "grid_row": null,
            "max_height": null,
            "align_content": null,
            "visibility": null,
            "align_self": null,
            "height": null,
            "min_height": null,
            "padding": null,
            "grid_auto_rows": null,
            "grid_gap": null,
            "max_width": null,
            "order": null,
            "_view_module_version": "1.2.0",
            "grid_template_areas": null,
            "object_position": null,
            "object_fit": null,
            "grid_auto_columns": null,
            "margin": null,
            "display": null,
            "left": null
          }
        },
        "eed6f7af6c334aed96e19f2f36dcb0d6": {
          "model_module": "@jupyter-widgets/controls",
          "model_name": "DescriptionStyleModel",
          "model_module_version": "1.5.0",
          "state": {
            "_view_name": "StyleView",
            "_model_name": "DescriptionStyleModel",
            "description_width": "",
            "_view_module": "@jupyter-widgets/base",
            "_model_module_version": "1.5.0",
            "_view_count": null,
            "_view_module_version": "1.2.0",
            "_model_module": "@jupyter-widgets/controls"
          }
        },
        "ffd8d37a7ff6430bb7d03882bad6a726": {
          "model_module": "@jupyter-widgets/base",
          "model_name": "LayoutModel",
          "model_module_version": "1.2.0",
          "state": {
            "_view_name": "LayoutView",
            "grid_template_rows": null,
            "right": null,
            "justify_content": null,
            "_view_module": "@jupyter-widgets/base",
            "overflow": null,
            "_model_module_version": "1.2.0",
            "_view_count": null,
            "flex_flow": null,
            "width": null,
            "min_width": null,
            "border": null,
            "align_items": null,
            "bottom": null,
            "_model_module": "@jupyter-widgets/base",
            "top": null,
            "grid_column": null,
            "overflow_y": null,
            "overflow_x": null,
            "grid_auto_flow": null,
            "grid_area": null,
            "grid_template_columns": null,
            "flex": null,
            "_model_name": "LayoutModel",
            "justify_items": null,
            "grid_row": null,
            "max_height": null,
            "align_content": null,
            "visibility": null,
            "align_self": null,
            "height": null,
            "min_height": null,
            "padding": null,
            "grid_auto_rows": null,
            "grid_gap": null,
            "max_width": null,
            "order": null,
            "_view_module_version": "1.2.0",
            "grid_template_areas": null,
            "object_position": null,
            "object_fit": null,
            "grid_auto_columns": null,
            "margin": null,
            "display": null,
            "left": null
          }
        }
      }
    }
  },
  "cells": [
    {
      "cell_type": "markdown",
      "metadata": {
        "id": "c9zKDLIGLi8I"
      },
      "source": [
        "# DA-231 Project\n",
        "\n",
        "## Comprehensive Stock Market Analyser\n",
        "\n",
        "### Team members\n",
        "+ Kumar Gaurav (kumarg@iisc.ac.in)\n",
        "+ Vidya Venkappa (vidyav@iisc.ac.in)\n",
        "+ Vansh Jain (vanshjain@iisc.ac.in)\n",
        "+ Kumar Shubham (kumarshubham@iisc.ac.in)"
      ]
    },
    {
      "cell_type": "markdown",
      "metadata": {
        "id": "4IdOMGVdL4PG"
      },
      "source": [
        "### Initial PySpark Setup"
      ]
    },
    {
      "cell_type": "code",
      "metadata": {
        "colab": {
          "base_uri": "https://localhost:8080/"
        },
        "id": "DEYpXKs94irF",
        "outputId": "e58e29f3-76b9-498f-bcba-bd1e13a17583"
      },
      "source": [
        "from google.colab import drive\n",
        "drive.mount('/content/drive')\n",
        "!apt-get install openjdk-8-jdk-headless -qq > /dev/null\n",
        "#!wget -q https://mirrors.estointernet.in/apache/spark/spark-3.0.3/spark-3.0.3-bin-hadoop2.7.tgz -P /content/drive/MyDrive # link wrong in blog\n",
        "!tar xf /content/drive/Shareddrives/DA231-2021-Aug-Public/spark-3.0.3-bin-hadoop2.7.tgz\n",
        "!pip install -q findspark\n",
        "!pip install flair\n",
        "import os\n",
        "os.environ[\"JAVA_HOME\"] = \"/usr/lib/jvm/java-8-openjdk-amd64\"\n",
        "os.environ[\"SPARK_HOME\"] = \"/content/spark-3.0.3-bin-hadoop2.7\"\n"
      ],
      "execution_count": 1,
      "outputs": [
        {
          "output_type": "stream",
          "name": "stdout",
          "text": [
            "Mounted at /content/drive\n",
            "Collecting flair\n",
            "  Downloading flair-0.10-py3-none-any.whl (322 kB)\n",
            "\u001b[K     |████████████████████████████████| 322 kB 4.2 MB/s \n",
            "\u001b[?25hCollecting sqlitedict>=1.6.0\n",
            "  Downloading sqlitedict-1.7.0.tar.gz (28 kB)\n",
            "Requirement already satisfied: matplotlib>=2.2.3 in /usr/local/lib/python3.7/dist-packages (from flair) (3.2.2)\n",
            "Collecting conllu>=4.0\n",
            "  Downloading conllu-4.4.1-py2.py3-none-any.whl (15 kB)\n",
            "Collecting transformers>=4.0.0\n",
            "  Downloading transformers-4.13.0-py3-none-any.whl (3.3 MB)\n",
            "\u001b[K     |████████████████████████████████| 3.3 MB 42.7 MB/s \n",
            "\u001b[?25hRequirement already satisfied: python-dateutil>=2.6.1 in /usr/local/lib/python3.7/dist-packages (from flair) (2.8.2)\n",
            "Collecting huggingface-hub\n",
            "  Downloading huggingface_hub-0.2.1-py3-none-any.whl (61 kB)\n",
            "\u001b[K     |████████████████████████████████| 61 kB 421 kB/s \n",
            "\u001b[?25hCollecting more-itertools~=8.8.0\n",
            "  Downloading more_itertools-8.8.0-py3-none-any.whl (48 kB)\n",
            "\u001b[K     |████████████████████████████████| 48 kB 4.0 MB/s \n",
            "\u001b[?25hCollecting sentencepiece==0.1.95\n",
            "  Downloading sentencepiece-0.1.95-cp37-cp37m-manylinux2014_x86_64.whl (1.2 MB)\n",
            "\u001b[K     |████████████████████████████████| 1.2 MB 59.2 MB/s \n",
            "\u001b[?25hRequirement already satisfied: gensim>=3.4.0 in /usr/local/lib/python3.7/dist-packages (from flair) (3.6.0)\n",
            "Requirement already satisfied: torch!=1.8,>=1.5.0 in /usr/local/lib/python3.7/dist-packages (from flair) (1.10.0+cu111)\n",
            "Requirement already satisfied: tabulate in /usr/local/lib/python3.7/dist-packages (from flair) (0.8.9)\n",
            "Requirement already satisfied: regex in /usr/local/lib/python3.7/dist-packages (from flair) (2019.12.20)\n",
            "Collecting deprecated>=1.2.4\n",
            "  Downloading Deprecated-1.2.13-py2.py3-none-any.whl (9.6 kB)\n",
            "Requirement already satisfied: lxml in /usr/local/lib/python3.7/dist-packages (from flair) (4.2.6)\n",
            "Collecting ftfy\n",
            "  Downloading ftfy-6.0.3.tar.gz (64 kB)\n",
            "\u001b[K     |████████████████████████████████| 64 kB 2.3 MB/s \n",
            "\u001b[?25hCollecting segtok>=1.5.7\n",
            "  Downloading segtok-1.5.10.tar.gz (25 kB)\n",
            "Collecting wikipedia-api\n",
            "  Downloading Wikipedia-API-0.5.4.tar.gz (18 kB)\n",
            "Collecting janome\n",
            "  Downloading Janome-0.4.1-py2.py3-none-any.whl (19.7 MB)\n",
            "\u001b[K     |████████████████████████████████| 19.7 MB 1.1 MB/s \n",
            "\u001b[?25hRequirement already satisfied: tqdm>=4.26.0 in /usr/local/lib/python3.7/dist-packages (from flair) (4.62.3)\n",
            "Requirement already satisfied: scikit-learn>=0.21.3 in /usr/local/lib/python3.7/dist-packages (from flair) (1.0.1)\n",
            "Collecting konoha<5.0.0,>=4.0.0\n",
            "  Downloading konoha-4.6.5-py3-none-any.whl (20 kB)\n",
            "Collecting langdetect\n",
            "  Downloading langdetect-1.0.9.tar.gz (981 kB)\n",
            "\u001b[K     |████████████████████████████████| 981 kB 61.7 MB/s \n",
            "\u001b[?25hCollecting mpld3==0.3\n",
            "  Downloading mpld3-0.3.tar.gz (788 kB)\n",
            "\u001b[K     |████████████████████████████████| 788 kB 58.5 MB/s \n",
            "\u001b[?25hCollecting gdown==3.12.2\n",
            "  Downloading gdown-3.12.2.tar.gz (8.2 kB)\n",
            "  Installing build dependencies ... \u001b[?25l\u001b[?25hdone\n",
            "  Getting requirements to build wheel ... \u001b[?25l\u001b[?25hdone\n",
            "    Preparing wheel metadata ... \u001b[?25l\u001b[?25hdone\n",
            "Collecting bpemb>=0.3.2\n",
            "  Downloading bpemb-0.3.3-py3-none-any.whl (19 kB)\n",
            "Requirement already satisfied: filelock in /usr/local/lib/python3.7/dist-packages (from gdown==3.12.2->flair) (3.4.0)\n",
            "Requirement already satisfied: six in /usr/local/lib/python3.7/dist-packages (from gdown==3.12.2->flair) (1.15.0)\n",
            "Requirement already satisfied: requests[socks] in /usr/local/lib/python3.7/dist-packages (from gdown==3.12.2->flair) (2.23.0)\n",
            "Requirement already satisfied: numpy in /usr/local/lib/python3.7/dist-packages (from bpemb>=0.3.2->flair) (1.19.5)\n",
            "Requirement already satisfied: wrapt<2,>=1.10 in /usr/local/lib/python3.7/dist-packages (from deprecated>=1.2.4->flair) (1.13.3)\n",
            "Requirement already satisfied: smart-open>=1.2.1 in /usr/local/lib/python3.7/dist-packages (from gensim>=3.4.0->flair) (5.2.1)\n",
            "Requirement already satisfied: scipy>=0.18.1 in /usr/local/lib/python3.7/dist-packages (from gensim>=3.4.0->flair) (1.4.1)\n",
            "Collecting importlib-metadata<4.0.0,>=3.7.0\n",
            "  Downloading importlib_metadata-3.10.1-py3-none-any.whl (14 kB)\n",
            "Collecting overrides<4.0.0,>=3.0.0\n",
            "  Downloading overrides-3.1.0.tar.gz (11 kB)\n",
            "Collecting requests\n",
            "  Downloading requests-2.26.0-py2.py3-none-any.whl (62 kB)\n",
            "\u001b[K     |████████████████████████████████| 62 kB 767 kB/s \n",
            "\u001b[?25hRequirement already satisfied: typing-extensions>=3.6.4 in /usr/local/lib/python3.7/dist-packages (from importlib-metadata<4.0.0,>=3.7.0->konoha<5.0.0,>=4.0.0->flair) (3.10.0.2)\n",
            "Requirement already satisfied: zipp>=0.5 in /usr/local/lib/python3.7/dist-packages (from importlib-metadata<4.0.0,>=3.7.0->konoha<5.0.0,>=4.0.0->flair) (3.6.0)\n",
            "Requirement already satisfied: pyparsing!=2.0.4,!=2.1.2,!=2.1.6,>=2.0.1 in /usr/local/lib/python3.7/dist-packages (from matplotlib>=2.2.3->flair) (3.0.6)\n",
            "Requirement already satisfied: kiwisolver>=1.0.1 in /usr/local/lib/python3.7/dist-packages (from matplotlib>=2.2.3->flair) (1.3.2)\n",
            "Requirement already satisfied: cycler>=0.10 in /usr/local/lib/python3.7/dist-packages (from matplotlib>=2.2.3->flair) (0.11.0)\n",
            "Requirement already satisfied: charset-normalizer~=2.0.0 in /usr/local/lib/python3.7/dist-packages (from requests->bpemb>=0.3.2->flair) (2.0.8)\n",
            "Requirement already satisfied: idna<4,>=2.5 in /usr/local/lib/python3.7/dist-packages (from requests->bpemb>=0.3.2->flair) (2.10)\n",
            "Requirement already satisfied: urllib3<1.27,>=1.21.1 in /usr/local/lib/python3.7/dist-packages (from requests->bpemb>=0.3.2->flair) (1.24.3)\n",
            "Requirement already satisfied: certifi>=2017.4.17 in /usr/local/lib/python3.7/dist-packages (from requests->bpemb>=0.3.2->flair) (2021.10.8)\n",
            "Requirement already satisfied: threadpoolctl>=2.0.0 in /usr/local/lib/python3.7/dist-packages (from scikit-learn>=0.21.3->flair) (3.0.0)\n",
            "Requirement already satisfied: joblib>=0.11 in /usr/local/lib/python3.7/dist-packages (from scikit-learn>=0.21.3->flair) (1.1.0)\n",
            "Collecting pyyaml>=5.1\n",
            "  Downloading PyYAML-6.0-cp37-cp37m-manylinux_2_5_x86_64.manylinux1_x86_64.manylinux_2_12_x86_64.manylinux2010_x86_64.whl (596 kB)\n",
            "\u001b[K     |████████████████████████████████| 596 kB 42.9 MB/s \n",
            "\u001b[?25hCollecting tokenizers<0.11,>=0.10.1\n",
            "  Downloading tokenizers-0.10.3-cp37-cp37m-manylinux_2_5_x86_64.manylinux1_x86_64.manylinux_2_12_x86_64.manylinux2010_x86_64.whl (3.3 MB)\n",
            "\u001b[K     |████████████████████████████████| 3.3 MB 42.2 MB/s \n",
            "\u001b[?25hCollecting sacremoses\n",
            "  Downloading sacremoses-0.0.46-py3-none-any.whl (895 kB)\n",
            "\u001b[K     |████████████████████████████████| 895 kB 61.6 MB/s \n",
            "\u001b[?25hRequirement already satisfied: packaging>=20.0 in /usr/local/lib/python3.7/dist-packages (from transformers>=4.0.0->flair) (21.3)\n",
            "Requirement already satisfied: wcwidth in /usr/local/lib/python3.7/dist-packages (from ftfy->flair) (0.2.5)\n",
            "Requirement already satisfied: PySocks!=1.5.7,>=1.5.6 in /usr/local/lib/python3.7/dist-packages (from requests->bpemb>=0.3.2->flair) (1.7.1)\n",
            "Requirement already satisfied: click in /usr/local/lib/python3.7/dist-packages (from sacremoses->transformers>=4.0.0->flair) (7.1.2)\n",
            "Building wheels for collected packages: gdown, mpld3, overrides, segtok, sqlitedict, ftfy, langdetect, wikipedia-api\n",
            "  Building wheel for gdown (PEP 517) ... \u001b[?25l\u001b[?25hdone\n",
            "  Created wheel for gdown: filename=gdown-3.12.2-py3-none-any.whl size=9704 sha256=614ce0a4be034243c91c58a79f2239d2ace141fdc79fe7e2707664549ce5f79c\n",
            "  Stored in directory: /root/.cache/pip/wheels/ba/e0/7e/726e872a53f7358b4b96a9975b04e98113b005cd8609a63abc\n",
            "  Building wheel for mpld3 (setup.py) ... \u001b[?25l\u001b[?25hdone\n",
            "  Created wheel for mpld3: filename=mpld3-0.3-py3-none-any.whl size=116702 sha256=6b6883adf3c79839e2141cb143d4b3bf9a184ea1bc4ccf10a2183f0765fd95da\n",
            "  Stored in directory: /root/.cache/pip/wheels/26/70/6a/1c79e59951a41b4045497da187b2724f5659ca64033cf4548e\n",
            "  Building wheel for overrides (setup.py) ... \u001b[?25l\u001b[?25hdone\n",
            "  Created wheel for overrides: filename=overrides-3.1.0-py3-none-any.whl size=10186 sha256=bb8990fd92937cad7140c18e4ff59a9b50fe9b2fe10c9874043004bb88fb3c77\n",
            "  Stored in directory: /root/.cache/pip/wheels/3a/0d/38/01a9bc6e20dcfaf0a6a7b552d03137558ba1c38aea47644682\n",
            "  Building wheel for segtok (setup.py) ... \u001b[?25l\u001b[?25hdone\n",
            "  Created wheel for segtok: filename=segtok-1.5.10-py3-none-any.whl size=25030 sha256=d8f6099890a1c8bcf66122f7ac066f7c4184b080692cd5e4dda6b7ca17bf364a\n",
            "  Stored in directory: /root/.cache/pip/wheels/67/b7/d0/a121106e61339eee5ed083bc230b1c8dc422c49a5a28c2addd\n",
            "  Building wheel for sqlitedict (setup.py) ... \u001b[?25l\u001b[?25hdone\n",
            "  Created wheel for sqlitedict: filename=sqlitedict-1.7.0-py3-none-any.whl size=14392 sha256=cbe4592c3a5dc5058911993f953a8c9e422926a3cabbef031cb3a8a58bee40c3\n",
            "  Stored in directory: /root/.cache/pip/wheels/af/94/06/18c0e83e9e227da8f3582810b51f319bbfd181e508676a56c8\n",
            "  Building wheel for ftfy (setup.py) ... \u001b[?25l\u001b[?25hdone\n",
            "  Created wheel for ftfy: filename=ftfy-6.0.3-py3-none-any.whl size=41933 sha256=cca746e781015c744a2cc059ad898508e96b2ef17545051ba0efe5bdba46c6c3\n",
            "  Stored in directory: /root/.cache/pip/wheels/19/f5/38/273eb3b5e76dfd850619312f693716ac4518b498f5ffb6f56d\n",
            "  Building wheel for langdetect (setup.py) ... \u001b[?25l\u001b[?25hdone\n",
            "  Created wheel for langdetect: filename=langdetect-1.0.9-py3-none-any.whl size=993242 sha256=60e641651296b7088373ad174011c1428c5beb5fd60f4d433e3d6dd3d607115f\n",
            "  Stored in directory: /root/.cache/pip/wheels/c5/96/8a/f90c59ed25d75e50a8c10a1b1c2d4c402e4dacfa87f3aff36a\n",
            "  Building wheel for wikipedia-api (setup.py) ... \u001b[?25l\u001b[?25hdone\n",
            "  Created wheel for wikipedia-api: filename=Wikipedia_API-0.5.4-py3-none-any.whl size=13475 sha256=e73390846751824542a53d74dbafe04424f14d208a6f9e3275acf43e0a2b365f\n",
            "  Stored in directory: /root/.cache/pip/wheels/d3/24/56/58ba93cf78be162451144e7a9889603f437976ef1ae7013d04\n",
            "Successfully built gdown mpld3 overrides segtok sqlitedict ftfy langdetect wikipedia-api\n",
            "Installing collected packages: requests, pyyaml, importlib-metadata, tokenizers, sentencepiece, sacremoses, overrides, huggingface-hub, wikipedia-api, transformers, sqlitedict, segtok, mpld3, more-itertools, langdetect, konoha, janome, gdown, ftfy, deprecated, conllu, bpemb, flair\n",
            "  Attempting uninstall: requests\n",
            "    Found existing installation: requests 2.23.0\n",
            "    Uninstalling requests-2.23.0:\n",
            "      Successfully uninstalled requests-2.23.0\n",
            "  Attempting uninstall: pyyaml\n",
            "    Found existing installation: PyYAML 3.13\n",
            "    Uninstalling PyYAML-3.13:\n",
            "      Successfully uninstalled PyYAML-3.13\n",
            "  Attempting uninstall: importlib-metadata\n",
            "    Found existing installation: importlib-metadata 4.8.2\n",
            "    Uninstalling importlib-metadata-4.8.2:\n",
            "      Successfully uninstalled importlib-metadata-4.8.2\n",
            "  Attempting uninstall: more-itertools\n",
            "    Found existing installation: more-itertools 8.12.0\n",
            "    Uninstalling more-itertools-8.12.0:\n",
            "      Successfully uninstalled more-itertools-8.12.0\n",
            "  Attempting uninstall: gdown\n",
            "    Found existing installation: gdown 3.6.4\n",
            "    Uninstalling gdown-3.6.4:\n",
            "      Successfully uninstalled gdown-3.6.4\n",
            "\u001b[31mERROR: pip's dependency resolver does not currently take into account all the packages that are installed. This behaviour is the source of the following dependency conflicts.\n",
            "markdown 3.3.6 requires importlib-metadata>=4.4; python_version < \"3.10\", but you have importlib-metadata 3.10.1 which is incompatible.\n",
            "google-colab 1.0.0 requires requests~=2.23.0, but you have requests 2.26.0 which is incompatible.\n",
            "datascience 0.10.6 requires folium==0.2.1, but you have folium 0.8.3 which is incompatible.\u001b[0m\n",
            "Successfully installed bpemb-0.3.3 conllu-4.4.1 deprecated-1.2.13 flair-0.10 ftfy-6.0.3 gdown-3.12.2 huggingface-hub-0.2.1 importlib-metadata-3.10.1 janome-0.4.1 konoha-4.6.5 langdetect-1.0.9 more-itertools-8.8.0 mpld3-0.3 overrides-3.1.0 pyyaml-6.0 requests-2.26.0 sacremoses-0.0.46 segtok-1.5.10 sentencepiece-0.1.95 sqlitedict-1.7.0 tokenizers-0.10.3 transformers-4.13.0 wikipedia-api-0.5.4\n"
          ]
        }
      ]
    },
    {
      "cell_type": "code",
      "metadata": {
        "colab": {
          "base_uri": "https://localhost:8080/",
          "height": 219
        },
        "id": "SIhcaIblDcnV",
        "outputId": "12e5644a-9594-4313-9e76-bc7576aeac9d"
      },
      "source": [
        "import findspark\n",
        "findspark.init()\n",
        "findspark.find()\n",
        "from pyspark.sql import SparkSession\n",
        "spark = SparkSession.builder\\\n",
        "         .master(\"local\")\\\n",
        "         .appName(\"Colab\")\\\n",
        "         .config('spark.ui.port', '4050')\\\n",
        "         .getOrCreate()\n",
        "spark"
      ],
      "execution_count": 2,
      "outputs": [
        {
          "output_type": "execute_result",
          "data": {
            "text/html": [
              "\n",
              "            <div>\n",
              "                <p><b>SparkSession - in-memory</b></p>\n",
              "                \n",
              "        <div>\n",
              "            <p><b>SparkContext</b></p>\n",
              "\n",
              "            <p><a href=\"http://2497f4ed77c8:4050\">Spark UI</a></p>\n",
              "\n",
              "            <dl>\n",
              "              <dt>Version</dt>\n",
              "                <dd><code>v3.0.3</code></dd>\n",
              "              <dt>Master</dt>\n",
              "                <dd><code>local</code></dd>\n",
              "              <dt>AppName</dt>\n",
              "                <dd><code>Colab</code></dd>\n",
              "            </dl>\n",
              "        </div>\n",
              "        \n",
              "            </div>\n",
              "        "
            ],
            "text/plain": [
              "<pyspark.sql.session.SparkSession at 0x7fadbb390490>"
            ]
          },
          "metadata": {},
          "execution_count": 2
        }
      ]
    },
    {
      "cell_type": "markdown",
      "metadata": {
        "id": "jcYLFPNHL8CH"
      },
      "source": [
        "### Define dataset related constants here"
      ]
    },
    {
      "cell_type": "code",
      "metadata": {
        "id": "eKEqUfwAKId_"
      },
      "source": [
        "NIFTY_50_dataset =\"/content/drive/Shareddrives/da-231-project/dataset/SCRIP/NIFTY50_all.csv\"\n",
        "NIFTY_50_metadata=\"/content/drive/Shareddrives/da-231-project/dataset/SCRIP/stock_metadata.csv\"\n",
        "\n",
        "NIFTY_50_datasetq12 =\"/content/drive/Shareddrives/da-231-project/NIFTY50_all.csv\"\n",
        "NIFTY_50_metadata1q12=\"/content/drive/Shareddrives/da-231-project/dataset/SCRIP/stock_metadata.csv\"\n",
        "\n",
        "__SCRIPS_DATASET__ = \"/content/drive/Shareddrives/da-231-project/dataset/SCRIP/*.csv\"\n",
        "\n",
        "Nifty50_df = spark.read.option(\"header\",True).option(\"inferSchema\",True).csv(NIFTY_50_dataset)\n",
        "meta_df = spark.read.option(\"header\",True).option(\"inferSchema\",True).csv(NIFTY_50_metadata)\n",
        "\n",
        "Nifty50_df_q12 = spark.read.option(\"header\",True).option(\"inferSchema\",True).csv(NIFTY_50_datasetq12)\n",
        "meta_df_q12 = spark.read.option(\"header\",True).option(\"inferSchema\",True).csv(NIFTY_50_metadata1q12)\n",
        "\n",
        "__STOCKS_DF__ = spark.read.csv(__SCRIPS_DATASET__, header=True, inferSchema=True)\n",
        "stock_df = spark.read.option(\"header\",True).option(\"inferSchema\",True).csv(__SCRIPS_DATASET__)"
      ],
      "execution_count": 3,
      "outputs": []
    },
    {
      "cell_type": "code",
      "source": [
        "Nifty50_Master_Df=Nifty50_df_q12.join(meta_df_q12,Nifty50_df_q12[\"Symbol\"]==meta_df_q12[\"Symbol\"])\\\n",
        ".select(Nifty50_df_q12[\"Date\"],Nifty50_df_q12[\"Symbol\"],Nifty50_df_q12[\"Prev Close\"],Nifty50_df_q12[\"Open\"],Nifty50_df_q12[\"High\"],\\\n",
        "        Nifty50_df_q12[\"Low\"],Nifty50_df_q12[\"Close\"],meta_df_q12[\"Company Name\"],meta_df_q12[\"Industry\"])\n",
        "#Nifty50_df_q12.filter(Nifty50_df_q12[\"Symbol\"]==\"ULTRACEMCO\").show()\n",
        "#meta_df_q12.show()\n",
        "Nifty50_Master_Df.show()"
      ],
      "metadata": {
        "colab": {
          "base_uri": "https://localhost:8080/"
        },
        "id": "feFHD-JbEUHl",
        "outputId": "72f4b00a-9c0b-45de-8ef0-739b2999eaf0"
      },
      "execution_count": 4,
      "outputs": [
        {
          "output_type": "stream",
          "name": "stdout",
          "text": [
            "+----------+----------+----------+------+------+------+------+--------------------+--------+\n",
            "|      Date|    Symbol|Prev Close|  Open|  High|   Low| Close|        Company Name|Industry|\n",
            "+----------+----------+----------+------+------+------+------+--------------------+--------+\n",
            "|2012-01-17|ADANIPORTS|     135.5| 137.1| 141.0| 135.0| 140.0|Adani Ports and S...|SERVICES|\n",
            "|2012-01-18|ADANIPORTS|     140.0| 142.0| 143.8| 138.7| 141.7|Adani Ports and S...|SERVICES|\n",
            "|2012-01-19|ADANIPORTS|     141.7| 144.0|150.55|143.15| 149.4|Adani Ports and S...|SERVICES|\n",
            "|2012-01-20|ADANIPORTS|     149.4| 151.9| 157.6|150.25| 155.4|Adani Ports and S...|SERVICES|\n",
            "|2012-01-23|ADANIPORTS|     155.4| 155.4| 155.4| 145.1|146.75|Adani Ports and S...|SERVICES|\n",
            "|2012-01-24|ADANIPORTS|    146.75|147.05| 152.9| 145.6|150.05|Adani Ports and S...|SERVICES|\n",
            "|2012-01-25|ADANIPORTS|    150.05|150.95|150.95|142.25| 143.2|Adani Ports and S...|SERVICES|\n",
            "|2012-01-27|ADANIPORTS|     143.2| 145.8|149.65| 144.8| 147.1|Adani Ports and S...|SERVICES|\n",
            "|2012-01-30|ADANIPORTS|     147.1| 147.1| 147.4|137.35| 138.4|Adani Ports and S...|SERVICES|\n",
            "|2012-01-31|ADANIPORTS|     138.4|138.95| 148.5| 137.0|146.25|Adani Ports and S...|SERVICES|\n",
            "|2012-02-01|ADANIPORTS|    146.25|146.55|147.75|142.15| 143.9|Adani Ports and S...|SERVICES|\n",
            "|2012-02-02|ADANIPORTS|     143.9| 144.5| 151.8| 144.5| 151.0|Adani Ports and S...|SERVICES|\n",
            "|2012-02-03|ADANIPORTS|     151.0| 151.0| 152.7|148.25|150.25|Adani Ports and S...|SERVICES|\n",
            "|2012-02-06|ADANIPORTS|    150.25|152.85|152.85| 146.3| 148.1|Adani Ports and S...|SERVICES|\n",
            "|2012-02-07|ADANIPORTS|     148.1|149.15|149.45|137.85|139.15|Adani Ports and S...|SERVICES|\n",
            "|2012-02-08|ADANIPORTS|    139.15| 139.0| 143.3| 136.6| 140.3|Adani Ports and S...|SERVICES|\n",
            "|2012-02-09|ADANIPORTS|     140.3|139.65| 141.8| 135.2|137.95|Adani Ports and S...|SERVICES|\n",
            "|2012-02-10|ADANIPORTS|    137.95|138.15|144.15| 137.2| 142.9|Adani Ports and S...|SERVICES|\n",
            "|2012-02-13|ADANIPORTS|     142.9|143.95| 144.3| 141.0|143.05|Adani Ports and S...|SERVICES|\n",
            "|2012-02-14|ADANIPORTS|    143.05| 143.3|145.55| 142.0|144.15|Adani Ports and S...|SERVICES|\n",
            "+----------+----------+----------+------+------+------+------+--------------------+--------+\n",
            "only showing top 20 rows\n",
            "\n"
          ]
        }
      ]
    },
    {
      "cell_type": "markdown",
      "metadata": {
        "id": "Zb4K9TqTL_rU"
      },
      "source": [
        ""
      ]
    },
    {
      "cell_type": "code",
      "metadata": {
        "id": "D-WuZsi8SMQt"
      },
      "source": [
        "from pyspark.sql.functions import col\n",
        "import pyspark.sql.functions as F\n",
        "from pyspark.sql.functions import when,weekofyear,year,month\n",
        "from pyspark.sql import Window\n",
        "import matplotlib.pyplot as plt\n",
        "from matplotlib.pyplot import figure\n",
        "import numpy as np\n",
        "import pandas as pd \n",
        "from pyspark.sql.functions import dayofweek, year, lit,max, avg, count, col, when, ceil, substring, sum, length, split, abs, mean, unix_timestamp, to_date, desc, udf, to_date, date_format\n",
        "from pyspark.sql.types import IntegerType\n",
        "import matplotlib.dates as mdates\n",
        "from matplotlib.dates import MonthLocator, DateFormatter,YearLocator\n",
        "from pyspark.sql.functions import to_timestamp,date_format,concat\n",
        "from datetime import datetime\n",
        "from pyspark.sql.functions import abs\n",
        "from pyspark.sql.functions import min as sparkMin\n",
        "from pyspark.sql.functions import max as sparkMax\n",
        "from pyspark.sql.functions import rank\n",
        "from pyspark.sql.functions import isnan, trim\n",
        "import pandas as pd\n",
        "import plotly.express as px"
      ],
      "execution_count": 5,
      "outputs": []
    },
    {
      "cell_type": "code",
      "source": [
        "#Twitter Sentiment Imports\n",
        "from pyspark.sql.types import *\n",
        "from pyspark.sql import Row\n",
        "import flair, re\n",
        "from datetime import datetime, timedelta\n",
        "import time\n",
        "\n",
        "sentiment_model = flair.models.TextClassifier.load('en-sentiment')\n",
        "import requests\n",
        "\n",
        "import bs4\n",
        "from bs4 import BeautifulSoup\n",
        "from urllib.request import urlopen, Request\n",
        "from pyspark.sql import SQLContext"
      ],
      "metadata": {
        "colab": {
          "base_uri": "https://localhost:8080/",
          "height": 252,
          "referenced_widgets": [
            "4a387f14adc345f9ac3481b6e46fedb1",
            "1ecc2c757a4a42308f1b446b331b6437",
            "6c0e93e843384469b385ccfa8787f056",
            "7373f3617f64483793b97714438f660f",
            "5d44ed32782241bbbb564b50d87bbf96",
            "c1dacb1a903f4425a6ba1ac386a99e5c",
            "901dd13cca3b4b239e115b0f629f2569",
            "ba86ddfa712a47eebdfe300be84cee60",
            "f1bc81bc98144ded8e0edf2d961e6a81",
            "812fba1400bd454597ec5cb7e9d4b4fc",
            "f57e30cf11814b159be9ee2f60010a0a",
            "bedee7ba920b427a88d54da2536abc01",
            "09d6e1df07614bd29d7e3bdfb766e215",
            "0c89b2c8d7ca461696f45b6204f410cc",
            "8f6e058400084657a111607ebd69a235",
            "76a5fe0bce7b4f30ac549aeaa234321d",
            "6fcb67d585164d65a6593f762eb09154",
            "6bae74591ab14fc7b372402f81c7d95e",
            "adc6629c90204d07a8074476868c96e2",
            "f662bc47fa094d8baf418e8153a08451",
            "9edf8956d356459b9b5fe1fb360f1f79",
            "719162a35ac34b35b96538c671e55693",
            "61eff8273eee485e9099eda12033ded7",
            "05c0287798064e129b2223319e60ba33",
            "4063e83f98bb44a19784b0a2faab93e5",
            "fec23ef87c16438c95f19f383651e747",
            "6cfde36739ca4b95b9cc9be9fea94d4b",
            "a4259d3251ea4135bc4df697cfd56022",
            "4f167c385b904305a878ef04e92b23c7",
            "921efdb2d8de4e0095c141e2c9bdd7f2",
            "7b7afc043489491a8ae6efd8482b6112",
            "3e5a095f6a6341c99bf444d408b3030c",
            "4782fa2b57ae4c85840dd3acc742b9e8",
            "b8d2b17082354aaf8228d5e336f0d75a",
            "abe9a19dd5144b4b991ad28e58a591dc",
            "fe0dc101c0254294b963bee7926e3d04",
            "7279fb8574d749c2a0d88036aa9e88ca",
            "88ea4f05ade841fe8938bf0a0ac46b46",
            "f8a802c949fa4de2aa8b611444891b02",
            "d9a9ed1826694fa2a23bac4b698ad505",
            "fabd85e846fe4bb589f71cfa71ba547d",
            "cb972fce5c6d4f1699f596fe6d89e65e",
            "eed6f7af6c334aed96e19f2f36dcb0d6",
            "ffd8d37a7ff6430bb7d03882bad6a726"
          ]
        },
        "id": "w267XvEzvlru",
        "outputId": "cc40efbf-f0c8-4ecc-a36e-eb50b9af18ff"
      },
      "execution_count": 6,
      "outputs": [
        {
          "output_type": "stream",
          "name": "stdout",
          "text": [
            "2021-12-11 04:10:12,297 https://nlp.informatik.hu-berlin.de/resources/models/sentiment-curated-distilbert/sentiment-en-mix-distillbert_4.pt not found in cache, downloading to /tmp/tmpenmpt0qc\n"
          ]
        },
        {
          "output_type": "stream",
          "name": "stderr",
          "text": [
            "100%|██████████| 265512723/265512723 [00:26<00:00, 9888849.53B/s] "
          ]
        },
        {
          "output_type": "stream",
          "name": "stdout",
          "text": [
            "2021-12-11 04:10:40,001 copying /tmp/tmpenmpt0qc to cache at /root/.flair/models/sentiment-en-mix-distillbert_4.pt\n"
          ]
        },
        {
          "output_type": "stream",
          "name": "stderr",
          "text": [
            "\n"
          ]
        },
        {
          "output_type": "stream",
          "name": "stdout",
          "text": [
            "2021-12-11 04:10:40,547 removing temp file /tmp/tmpenmpt0qc\n",
            "2021-12-11 04:10:40,589 loading file /root/.flair/models/sentiment-en-mix-distillbert_4.pt\n"
          ]
        },
        {
          "output_type": "display_data",
          "data": {
            "application/vnd.jupyter.widget-view+json": {
              "model_id": "4a387f14adc345f9ac3481b6e46fedb1",
              "version_minor": 0,
              "version_major": 2
            },
            "text/plain": [
              "Downloading:   0%|          | 0.00/28.0 [00:00<?, ?B/s]"
            ]
          },
          "metadata": {}
        },
        {
          "output_type": "display_data",
          "data": {
            "application/vnd.jupyter.widget-view+json": {
              "model_id": "bedee7ba920b427a88d54da2536abc01",
              "version_minor": 0,
              "version_major": 2
            },
            "text/plain": [
              "Downloading:   0%|          | 0.00/226k [00:00<?, ?B/s]"
            ]
          },
          "metadata": {}
        },
        {
          "output_type": "display_data",
          "data": {
            "application/vnd.jupyter.widget-view+json": {
              "model_id": "61eff8273eee485e9099eda12033ded7",
              "version_minor": 0,
              "version_major": 2
            },
            "text/plain": [
              "Downloading:   0%|          | 0.00/455k [00:00<?, ?B/s]"
            ]
          },
          "metadata": {}
        },
        {
          "output_type": "display_data",
          "data": {
            "application/vnd.jupyter.widget-view+json": {
              "model_id": "b8d2b17082354aaf8228d5e336f0d75a",
              "version_minor": 0,
              "version_major": 2
            },
            "text/plain": [
              "Downloading:   0%|          | 0.00/483 [00:00<?, ?B/s]"
            ]
          },
          "metadata": {}
        }
      ]
    },
    {
      "cell_type": "code",
      "source": [
        "#Twitter Sentiment User Defined Functions \n",
        "def getData(tweet):\n",
        "  data = {\n",
        "    'id': tweet['id'],\n",
        "    'created_at': tweet['created_at'],\n",
        "    'text': tweet['text']\n",
        "  }\n",
        "  return data\n",
        "\n",
        "#Function is used to clean the text of tweets\n",
        "def clean(tweet):\n",
        "  tweet = whitespace.sub(' ', tweet)\n",
        "  tweet = web_address.sub('', tweet)\n",
        "  tweet = reliance.sub('Reliance', tweet)\n",
        "  tweet = user.sub('', tweet)\n",
        "  return tweet\n",
        "\n",
        "tweetUDF = udf(lambda z:clean(z),StringType())\n",
        "\n",
        "#This function substracts 1 hour for date time\n",
        "def time_travel(endTime, mins):\n",
        "    endTime = datetime.strptime(endTime, dtformat)\n",
        "    back_in_time = endTime - timedelta(minutes=mins)\n",
        "    return back_in_time.strftime(dtformat)\n"
      ],
      "metadata": {
        "id": "L8xkAWSgvynd"
      },
      "execution_count": 7,
      "outputs": []
    },
    {
      "cell_type": "code",
      "metadata": {
        "id": "s-Nv0zGFCob7"
      },
      "source": [
        "#Festive season Data\n",
        "seasonRange = {\"Diwali\":[\"10-25\", \"11-10\"],\n",
        "               \"Holi\": [\"02-25\",\"03-10\"]}\n"
      ],
      "execution_count": 8,
      "outputs": []
    },
    {
      "cell_type": "markdown",
      "source": [
        "##Problem 1. For a particular sector (example: Banking) show the stock (ex: HDFC) performance within a particular time frame\n",
        "\n",
        "This is also known as the Beta value for a stock (a measure of volatility relative to a benchmark)"
      ],
      "metadata": {
        "id": "F6I_XLzlHXvB"
      }
    },
    {
      "cell_type": "code",
      "source": [
        "'''\n",
        "sector (str) -> The sector relative to which we want to see the performance\n",
        "stock_scrip (str) -> The stock market symbol for the company whose performance is to be measured\n",
        "start_time (str) -> date in the given format - dd/mm/yyyy\n",
        "end_time (str) -> date in the given format - dd/mm/yyyy\n",
        "'''\n",
        "def problemOne(sector, stock_scrip, start_time, end_time):\n",
        "  # Write the code for your function here\n",
        "  start_time = datetime.strptime(start_time,'%d/%m/%Y')\n",
        "  end_time = datetime.strptime(end_time,'%d/%m/%Y')\n",
        "  figure(figsize=(80, 15), dpi=80)\n",
        "  Nifty50_Master_Df1=Nifty50_Master_Df.withColumn(\"Date\",Nifty50_Master_Df.Date.cast('Date'))\n",
        "  \n",
        "  \n",
        "  \n",
        "  sector_df=(Nifty50_Master_Df1\n",
        "    .where( (Nifty50_Master_Df1[\"Industry\"]==sector) & (Nifty50_Master_Df1[\"Date\"].between(start_time,end_time)) )\n",
        "    .groupBy(\"Date\")\n",
        "    .agg(mean(\"close\")))\n",
        "\n",
        "  sector_pd_df=sector_df.toPandas()\n",
        "  sector_data=sector_pd_df.set_index('Date')\n",
        "  plt.figure(figsize=(16,8))\n",
        "  plt.scatter(sector_data.index, sector_data[\"avg(close)\"],color=\"orange\",s=20,label=sector+\" Performance\")\n",
        "  \n",
        "  #Nifty50_Master_Df1.filter(Nifty50_Master_Df1[\"Symbol\"]==\"INFRATEL\").show()\n",
        "  stock_df=(Nifty50_Master_Df1\n",
        "    .where( (Nifty50_Master_Df1[\"Symbol\"]==stock_scrip) & (Nifty50_Master_Df1[\"Date\"].between(start_time,end_time)) )\n",
        "    .groupBy(\"Date\")\n",
        "    .agg(mean(\"close\")))\n",
        "  \n",
        "  #stock_df.show()\n",
        "  #print(Nifty50_Master_Df.select('Symbol').distinct().collect())\n",
        "  stock_pd_df=stock_df.toPandas()\n",
        "  stock_data=stock_pd_df.set_index('Date')\n",
        "  plt.scatter(stock_data.index, stock_data[\"avg(close)\"],color=\"green\",s=10,label= stock_scrip+\" Performance\")\n",
        "  plt.xlabel(\"Dates\")\n",
        "  plt.ylabel(\"Avg Price\")\n",
        "  plt.title(\"SectoRvsStocK\")\n",
        "\n",
        " \n",
        "\n",
        "   \n",
        "  # sector_df.toPandas().to_excel('SectorOutput.xls', sheet_name = 'Sheet1', index = False)\n",
        "  \n",
        "  plt.legend()\n",
        "  plt.show()\n",
        "  \n",
        " \n",
        "\n",
        "\n",
        "\n",
        "problemOne(\"AUTOMOBILE\",\"MARUTI\",\"03/01/2000\",\"30/04/2021\")\n"
      ],
      "metadata": {
        "colab": {
          "base_uri": "https://localhost:8080/",
          "height": 530
        },
        "id": "E1qw0zZrHc05",
        "outputId": "86cd2a17-7eb7-41ac-c6dc-e0fc744d3bb9"
      },
      "execution_count": 9,
      "outputs": [
        {
          "output_type": "display_data",
          "data": {
            "text/plain": [
              "<Figure size 6400x1200 with 0 Axes>"
            ]
          },
          "metadata": {}
        },
        {
          "output_type": "display_data",
          "data": {
            "image/png": "[encoded data removed]",
            "text/plain": [
              "<Figure size 1152x576 with 1 Axes>"
            ]
          },
          "metadata": {
            "needs_background": "light"
          }
        }
      ]
    },
    {
      "cell_type": "markdown",
      "source": [
        "## Problem 2. For a particular sector, find out the most correlated other sector in the available list of sectors[link text](https://)\n",
        "**Example**: Take \"FINANCIAL SERVICES\" sector as an input and show the sector having the maximum co-relation with it (E.g., CONSUMER GOODS_SECTOR)"
      ],
      "metadata": {
        "id": "bHinFif8H83N"
      }
    },
    {
      "cell_type": "code",
      "source": [
        "\"\"\"\n",
        "sector (str) -> The sector for which we have to find out the most correlated sector\n",
        "\"\"\"\n",
        "def problemTwo(sector):\n",
        "  Nifty50_Master_Df1=Nifty50_Master_Df.withColumn(\"Date\",Nifty50_Master_Df.Date.cast('Date'))\n",
        "  sector_input=sector\n",
        "  sector_input_df=(Nifty50_Master_Df1\n",
        "    .where( Nifty50_Master_Df1[\"Industry\"]==sector )\n",
        "    .groupBy(\"Date\")\n",
        "    .agg(mean(\"close\")))\n",
        "  # sector_input_df.show()\n",
        "  sector_input_df=sector_input_df.withColumn(\"Daily_Avg_Close\",sector_input_df[\"avg(close)\"])\n",
        "  sector_input_df=sector_input_df.drop(\"avg(close)\")\n",
        "  sector_input_df=sector_input_df.withColumn(\"Sector_Name\",lit(sector))\n",
        "  sector_input_df_min=sector_input_df.agg({'Daily_Avg_Close': 'min'})\n",
        "  sector_input_df_Min_Daily_Avg_Close_value=sector_input_df_min.collect()[0][0]\n",
        "  sector_input_df=sector_input_df.withColumn(\"Min_Daily_Avg_Close\",lit(sector_input_df_Min_Daily_Avg_Close_value))\n",
        "  sector_input_df_max=sector_input_df.agg({'Daily_Avg_Close': 'max'})\n",
        "  sector_input_df_Max_Daily_Avg_Close_value=sector_input_df_max.collect()[0][0]\n",
        "  sector_input_df=sector_input_df.withColumn(\"Max_Daily_Avg_Close\",lit(sector_input_df_Max_Daily_Avg_Close_value))\n",
        "  sector_input_df=sector_input_df.withColumn(\"Normalized_Dly_Avg_Close\",\\\n",
        "                                       (sector_input_df[\"Daily_Avg_Close\"]-sector_input_df[\"Min_Daily_Avg_Close\"])*100 /(sector_input_df[\"Max_Daily_Avg_Close\"]-sector_input_df[\"Min_Daily_Avg_Close\"]))\n",
        "  sector_input_pd_df=sector_input_df.toPandas()\n",
        "  sector_input_data=sector_input_pd_df.set_index('Date')\n",
        "  plt.figure(figsize=(16,8))\n",
        "  plt.scatter(sector_input_data.index, sector_input_data[\"Daily_Avg_Close\"],color=\"orange\",s=20,label=sector_input+\" Performance\")\n",
        "  \n",
        "  \n",
        "\n",
        "  sector_li=Nifty50_Master_Df1.select(\"Industry\").where(Nifty50_Master_Df1[\"Industry\"]!=sector).distinct()#.collect()\n",
        "  AVG_RELATIVE_DIVERGENCE_DICT={}\n",
        "  sector_list = [(row.Industry) for row in sector_li.collect()]\n",
        "  for sector in sector_list:\n",
        "      sector_itr=sector+\"_SECTOR_DF\"\n",
        "      sector_itr_name=sector_itr\n",
        "      #print(sector_itr)\n",
        "      sector_itr=(Nifty50_Master_Df1\n",
        "    .where( Nifty50_Master_Df1[\"Industry\"]==sector )\n",
        "    .groupBy(\"Date\")\n",
        "    .agg(mean(\"close\")))\n",
        "      sector_itr=sector_itr.withColumn(\"Sector_Name\",lit(sector_itr_name))\n",
        "      sector_itr=sector_itr.withColumn(\"Daily_Avg_Close\",sector_itr[\"avg(close)\"])\n",
        "      sector_itr=sector_itr.drop(\"avg(close)\")\n",
        "      sector_itr_min=sector_itr.agg({'Daily_Avg_Close': 'min'})\n",
        "      sector_itr_Min_Daily_Avg_Close_value=sector_itr_min.collect()[0][0]\n",
        "      sector_itr=sector_itr.withColumn(\"Min_Daily_Avg_Close\",lit(sector_itr_Min_Daily_Avg_Close_value)).cache()\n",
        "      sector_itr_max=sector_itr.agg({'Daily_Avg_Close': 'max'})\n",
        "      sector_itr_Max_Daily_Avg_Close_value=sector_itr_max.collect()[0][0]\n",
        "      sector_itr=sector_itr.withColumn(\"Max_Daily_Avg_Close\",lit(sector_itr_Max_Daily_Avg_Close_value))\n",
        "      sector_itr=sector_itr.withColumn(\"Normalized_Dly_Avg_Close\",\\\n",
        "                                       (sector_itr[\"Daily_Avg_Close\"]-sector_itr[\"Min_Daily_Avg_Close\"])*100 /(sector_itr[\"Max_Daily_Avg_Close\"]-sector_itr[\"Min_Daily_Avg_Close\"]))\n",
        "\n",
        "      sector_itr_joined_input=sector_itr.join(sector_input_df,(sector_input_df[\"Date\"]==sector_itr[\"Date\"])).\\\n",
        "      select(sector_itr[\"Date\"],sector_itr[\"Sector_Name\"],sector_input_df[\"Sector_Name\"],\\\n",
        "             sector_input_df[\"Normalized_Dly_Avg_Close\"]-sector_itr[\"Normalized_Dly_Avg_Close\"]).cache()\n",
        "      sector_itr_joined_input=sector_itr_joined_input.withColumn(\"DAILY_DIVERGENCE\",sector_itr_joined_input[\"(Normalized_Dly_Avg_Close - Normalized_Dly_Avg_Close)\"])\n",
        "      sector_itr_joined_input=sector_itr_joined_input.drop(\"(Normalized_Dly_Avg_Close - Normalized_Dly_Avg_Close)\")\n",
        "      sector_itr_joined_input=sector_itr_joined_input.withColumn(\"ABSOLUTE_DAILY_RELATIVE_DIVERGENCE_WITH_GIVEN_SECTOR\",abs(sector_itr_joined_input[\"DAILY_DIVERGENCE\"]))\n",
        "      sector_itr_joined_input=sector_itr_joined_input.drop(\"DAILY_DIVERGENCE\")\n",
        "      sector_input_df_daily_divergence=sector_itr_joined_input.agg({'ABSOLUTE_DAILY_RELATIVE_DIVERGENCE_WITH_GIVEN_SECTOR': 'mean'})\n",
        "      sector_input_df_daily_divergence_avg=sector_input_df_daily_divergence.collect()[0][0]\n",
        "      \n",
        "      AVG_RELATIVE_DIVERGENCE_DICT.update({sector_itr_name : sector_input_df_daily_divergence_avg})\n",
        "      \n",
        "      \n",
        "      #sector_itr_joined_input.show(2) \n",
        "      #sector_itr.show(2)\n",
        "  # sector_input_df.show()\n",
        "  \n",
        "  print(AVG_RELATIVE_DIVERGENCE_DICT)\n",
        "  \n",
        "  min_avg_divergence = min(AVG_RELATIVE_DIVERGENCE_DICT.values())\n",
        "  \n",
        "  cor_sector = [key for key in AVG_RELATIVE_DIVERGENCE_DICT if AVG_RELATIVE_DIVERGENCE_DICT[key] == min_avg_divergence]\n",
        "  print(\"The Sector which is having maximum co-relation w.r.t. \"+sector_input+\" is :-\"+str(cor_sector[0]))\n",
        "\n",
        "  cor_sector_df=(Nifty50_Master_Df1\n",
        "  .where( Nifty50_Master_Df1[\"Industry\"]==str(cor_sector[0])[:-10] )\n",
        "  .groupBy(\"Date\")\n",
        "  .agg(mean(\"close\")))\n",
        "  #cor_sector_df.show()\n",
        "\n",
        "  cor_sector_pd_df=cor_sector_df.toPandas()\n",
        "  cor_sector_data=cor_sector_pd_df.set_index('Date')\n",
        "  plt.scatter(cor_sector_data.index, cor_sector_data[\"avg(close)\"],color=\"green\",s=20,label=str(cor_sector[0][:-10])+\" Performance\")\n",
        "  plt.legend()\n",
        "  plt.show()\n",
        "\n",
        "\n",
        "problemTwo(\"FINANCIAL SERVICES\")"
      ],
      "metadata": {
        "colab": {
          "base_uri": "https://localhost:8080/",
          "height": 538
        },
        "id": "wX-7fmIVYsBS",
        "outputId": "403eabe2-d773-4e5b-9a28-59c6cd5b6af2"
      },
      "execution_count": 11,
      "outputs": [
        {
          "output_type": "stream",
          "name": "stdout",
          "text": [
            "{'CEMENT & CEMENT PRODUCTS_SECTOR_DF': 10.5773164129195, 'METALS_SECTOR_DF': 23.893345947192234, 'TELECOM_SECTOR_DF': 31.069054263348548, 'SERVICES_SECTOR_DF': 23.892192099197036, 'MEDIA & ENTERTAINMENT_SECTOR_DF': 18.73335505343661, 'CONSTRUCTION_SECTOR_DF': 21.493880878391025, 'ENERGY_SECTOR_DF': 19.26190214491328, 'AUTOMOBILE_SECTOR_DF': 15.165924870851322, 'FERTILISERS & PESTICIDES_SECTOR_DF': 19.968007760971144, 'IT_SECTOR_DF': 23.446154203911547, 'PHARMA_SECTOR_DF': 15.508515567263087, 'CONSUMER GOODS_SECTOR_DF': 8.850377849262589}\n",
            "The Sector which is having maximum co-relation w.r.t. FINANCIAL SERVICES is :-CONSUMER GOODS_SECTOR_DF\n"
          ]
        },
        {
          "output_type": "display_data",
          "data": {
            "image/png": "[encoded data removed]",
            "text/plain": [
              "<Figure size 1152x576 with 1 Axes>"
            ]
          },
          "metadata": {
            "needs_background": "light"
          }
        }
      ]
    },
    {
      "cell_type": "markdown",
      "metadata": {
        "id": "jXatkRt_O5oQ"
      },
      "source": [
        "## Problem 3. Define a list of festive seasons against which a user can visualize the list of top 5 performing stocks\n",
        "\n",
        "Declare a list of festival with their defined time range.\n",
        "**Example**: Diwali 25-Oct to 10-Nov"
      ]
    },
    {
      "cell_type": "code",
      "metadata": {
        "colab": {
          "base_uri": "https://localhost:8080/",
          "height": 297
        },
        "id": "KBiII8JiPFkF",
        "outputId": "50a06008-d203-4dec-d67c-b9376b942e8f"
      },
      "source": [
        "\"\"\"\n",
        "festive_seastons (List<Tuple[3]>) -> A list of tuples wherein each tuple will be (festival_name (str), start_date(dd/mm/yyyy), end_date(dd/mm/yyyy))\n",
        "Return a list of top 5 stocks corresponding to each season\n",
        "\"\"\"\n",
        "def problemThree(festive_season):\n",
        "  dateList = seasonRange[festive_season]\n",
        "  startDate = dateList[0]\n",
        "  endDate = dateList[1]\n",
        "\n",
        "  nifty50Df = Nifty50_df.withColumn('year', substring('Date', 0,4))\n",
        "  nifty50Df = nifty50Df.withColumn('monthAndDay', substring('Date', 6,5))\n",
        "\n",
        "  startDateData = nifty50Df[nifty50Df[\"monthAndDay\"] == startDate]\n",
        "  endDateData = nifty50Df[nifty50Df[\"monthAndDay\"] == endDate]\n",
        "\n",
        "  festivalData = startDateData.join(endDateData,(startDateData[\"year\"] ==  endDateData[\"year\"]) & (startDateData[\"Symbol\"] ==  endDateData[\"Symbol\"]) ,\"inner\").select(startDateData[\"year\"],startDateData[\"Symbol\"],startDateData[\"Open\"].alias(\"festiveOpen\"), endDateData[\"Close\"].alias(\"festiveClose\"))\n",
        "  festivalData = festivalData.withColumn(\"profit\", ((festivalData[\"festiveClose\"] - festivalData[\"festiveOpen\"])*100)/festivalData[\"festiveOpen\"])\n",
        "\n",
        "  festivalData = festivalData.groupBy(\"Symbol\").agg( avg(\"profit\").alias(\"avgProfit\"))\n",
        "\n",
        "  festivalData = festivalData.sort(desc(\"avgProfit\"))\n",
        "\n",
        "  festivalDataList = festivalData.take(5)\n",
        "\n",
        "  symbol = []\n",
        "  profit = []\n",
        "\n",
        "  for i in range(len(festivalDataList)):\n",
        "    symbol.append(festivalDataList[i][0])\n",
        "    profit.append(festivalDataList[i][1])\n",
        "\n",
        "  indices = np.arange(len(festivalDataList))\n",
        "  plt.bar(indices, profit, color='r')\n",
        "  plt.xticks(indices, symbol, rotation='vertical')\n",
        "  plt.tight_layout()\n",
        "  plt.show()\n",
        "\n",
        "problemThree(\"Diwali\")"
      ],
      "execution_count": 12,
      "outputs": [
        {
          "output_type": "display_data",
          "data": {
            "image/png": "[encoded data removed]",
            "text/plain": [
              "<Figure size 432x288 with 1 Axes>"
            ]
          },
          "metadata": {
            "needs_background": "light"
          }
        }
      ]
    },
    {
      "cell_type": "markdown",
      "source": [
        "##Problem 4. For a particular stock find out the most correlated other stock in the available list of stocks."
      ],
      "metadata": {
        "id": "rBJ17VWNGfk6"
      }
    },
    {
      "cell_type": "code",
      "source": [
        "def problemFour(inputStock):\n",
        "\n",
        "  stockAll = Nifty50_df.select('Symbol').distinct().collect()\n",
        "  allStock = []\n",
        "  for eachStock in stockAll:\n",
        "    if eachStock.Symbol != inputStock:\n",
        "      allStock.append(eachStock.Symbol)\n",
        "  #print(allStock)\n",
        "\n",
        "  AVG_RELATIVE_DIVERGENCE_DICT = {}\n",
        "\n",
        "  inputStockData = Nifty50_df.filter(col(\"Symbol\") == inputStock)\n",
        "  minMaxInputStock = inputStockData.groupBy(\"Symbol\").agg(sparkMin(\"Close\").alias(\"inputRangeMin\"), sparkMax(\"Close\").alias(\"inputRangeMax\"))\n",
        "  inputStockData = inputStockData.join(minMaxInputStock,'Symbol', how=\"inner\")\n",
        "  inputStockData = inputStockData.withColumn(\"inputNormalizedClose\",(inputStockData[\"Close\"] - inputStockData[\"inputRangeMin\"])*100 /(inputStockData[\"inputRangeMax\"] - inputStockData[\"inputRangeMin\"]))\n",
        "  inputStockDataPdf = inputStockData.toPandas()\n",
        "\n",
        "  for eachStock in allStock:\n",
        "    eachStockData = Nifty50_df.filter(col(\"Symbol\") == eachStock)\n",
        "    minMaxEachStock = eachStockData.groupBy(\"Symbol\").agg(sparkMin(\"Close\").alias(\"rangeMin\"), sparkMax(\"Close\").alias(\"rangeMax\"))\n",
        "    eachStockData = eachStockData.join(minMaxEachStock,'Symbol', how=\"inner\")\n",
        "    eachStockData = eachStockData.withColumn(\"normalizedClose\",(eachStockData[\"Close\"] - eachStockData[\"rangeMin\"])*100 /(eachStockData[\"rangeMax\"] - eachStockData[\"rangeMin\"]))\n",
        "    eachStockData = eachStockData.join(inputStockData,eachStockData[\"Date\"] ==  inputStockData[\"Date\"],\"inner\").select(eachStockData[\"*\"],inputStockData[\"inputNormalizedClose\"])\n",
        "    eachStockData = eachStockData.withColumn(\"dailyDivergance\", abs(col(\"normalizedClose\") - col(\"inputNormalizedClose\")))\n",
        "    avgDiverganceDf = eachStockData.groupBy(\"Symbol\").agg(mean(\"dailyDivergance\"))\n",
        "    AVG_RELATIVE_DIVERGENCE_DICT.update({eachStock : avgDiverganceDf.collect()[0][1]})\n",
        "\n",
        "  desiredStockDiv = min(AVG_RELATIVE_DIVERGENCE_DICT.values())\n",
        "  desiredStock = \"\"\n",
        "\n",
        "  for key,value in AVG_RELATIVE_DIVERGENCE_DICT.items():\n",
        "    if value == desiredStockDiv:\n",
        "      desiredStock = key\n",
        "\n",
        "  print(\"The Maximum co-related stock to the given input stock: \" + inputStock + \" is: \" + desiredStock)\n",
        "\n",
        "  desiredStockData = Nifty50_df.filter(col(\"Symbol\") == desiredStock)\n",
        "\n",
        "  desiredStockDataPdf=desiredStockData.toPandas()\n",
        "  desiredStockDataPdf=desiredStockDataPdf.set_index('Date')\n",
        "  inputStockDataPdf=inputStockDataPdf.set_index('Date')\n",
        "\n",
        "  plt.figure(figsize=(16,8))\n",
        "  plt.scatter(inputStockDataPdf.index, inputStockDataPdf[\"Close\"],color=\"orange\",s=20,label=inputStock+\" Performance\")\n",
        "  plt.scatter(desiredStockDataPdf.index, desiredStockDataPdf[\"Close\"],color=\"blue\",s=20,label=desiredStock+\" Performance\")\n",
        "  plt.xlabel(\"Dates\")\n",
        "  plt.ylabel(\"Price\")\n",
        "  plt.title(\"StockVsStocK\")\n",
        "  plt.legend()\n",
        "  plt.show()\n",
        "\n",
        "problemFour(\"SBIN\")"
      ],
      "metadata": {
        "id": "tNFJjy3WGxAE",
        "colab": {
          "base_uri": "https://localhost:8080/",
          "height": 530
        },
        "outputId": "476627b8-6820-4d88-83cf-157ae74d1f5c"
      },
      "execution_count": 13,
      "outputs": [
        {
          "output_type": "stream",
          "name": "stdout",
          "text": [
            "The Maximum co-related stock to the given input stock: SBIN is: ICICIBANK\n"
          ]
        },
        {
          "output_type": "display_data",
          "data": {
            "image/png": "[encoded data removed]",
            "text/plain": [
              "<Figure size 1152x576 with 1 Axes>"
            ]
          },
          "metadata": {
            "needs_background": "light"
          }
        }
      ]
    },
    {
      "cell_type": "markdown",
      "metadata": {
        "id": "NCcy_6npQhW2"
      },
      "source": [
        "## Problem 5. Categorize the risks of investing in a particular stock."
      ]
    },
    {
      "cell_type": "code",
      "metadata": {
        "id": "WsCk-51iQl5Q",
        "colab": {
          "base_uri": "https://localhost:8080/",
          "height": 1000
        },
        "outputId": "1a3eaa1b-5937-4ace-d5e1-90d0cb755283"
      },
      "source": [
        "\"\"\"\n",
        "stock_to_invest (str) -> The symbol of the stock to invest in\n",
        "\"\"\"\n",
        "\n",
        "def problemFive(stock_to_invest,year, symbol):\n",
        "  stock = stock_to_invest.withColumn(\"Open\", col(\"Open\").cast(\"Double\"))\n",
        "  \n",
        "  stockData=stock.where((col(\"Date\")[0:4]==year) & (col(\"Symbol\") ==symbol)).withColumn(\"Date\",col(\"Date\").cast(\"timestamp\"))\n",
        "  \n",
        "  \n",
        "  ValidData = stockData.where((col(\"Open\").isNotNull()) & (col(\"Close\").isNotNull()))\n",
        "  daily_return = ValidData.withColumn(\"daily_Return\",(col(\"Close\") - col(\"Open\"))/col(\"Open\")).cache()\n",
        "  exp_stock = daily_return.groupBy(\"Symbol\").agg(F.avg(daily_return.daily_Return).alias(\"mean\"))\n",
        "  sd_stock = daily_return.groupBy(\"Symbol\").agg(F.stddev(daily_return.daily_Return).alias(\"stddev\"))\n",
        "  exp_sd_stock = exp_stock.join(sd_stock,on=[\"Symbol\"])\n",
        "  \n",
        "  calculate_risk = exp_sd_stock.withColumn(\"Risk\",F.when((col(\"mean\") < 0) & (F.abs(col(\"mean\")-col(\"stddev\")) < 0.20),\"LOSS and RISKY\").when((col(\"mean\") < 0) & (F.abs(col(\"mean\")-col(\"stddev\")) > 0.20), \"HIGHLY RISKY\").when((col(\"mean\") > 0) & (F.abs(col(\"mean\")-col(\"stddev\")) < 0.20),\"CONSITENTLY PROFITABLE\").otherwise(\"HIGHLY VOLATILE\")).where((col(\"mean\")!= 0) & (col(\"stddev\")!=0)).sort(\"mean\",ascending=True).cache()\n",
        "  window = Window.partitionBy(calculate_risk['Risk']).orderBy(calculate_risk['mean'].desc())\n",
        "\n",
        "  groupTop5 = calculate_risk.select('*', rank().over(window).alias('rank')).filter(col('rank') <= 5).sort(\"mean\",ascending=False)\n",
        "  \n",
        "  answerList = calculate_risk.collect()\n",
        "\n",
        "  answer_mean=[]\n",
        "  answer_std=[]\n",
        "  answer_symbol=[]\n",
        "  answer=[]\n",
        "  answer_Risk=[]\n",
        "\n",
        "  for i in answerList:\n",
        "    \n",
        "    answer_mean.append(i[\"mean\"])\n",
        "    answer_std.append(i[\"stddev\"])\n",
        "    answer_symbol.append(i[\"Symbol\"])\n",
        "    answer_Risk.append(i[\"Risk\"])\n",
        "    answer.append([i[\"Symbol\"],i[\"mean\"],i[\"stddev\"]])\n",
        "\n",
        "  return calculate_risk,groupTop5,daily_return,stockData\n",
        "\n",
        "Symbol = \"TCS\"\n",
        "data = problemFive(stock_df,2017,Symbol)\n",
        "dataYear = data[0]\n",
        "dailyreturn = data[2]\n",
        "stock_data_df = data[3]\n",
        "\n",
        "def RiskForStock(stock,stockData):\n",
        "  riskData = stockData.where(col(\"Symbol\")==stock).show(10)\n",
        "  return riskData\n",
        "\n",
        "RiskForStock(Symbol,dataYear)\n",
        "#print(dailyreturn.where(col(\"Symbol\")==Symbol).groupBy(\"Date\").count().collect())\n",
        "\n",
        "df = dailyreturn.collect()\n",
        "df2 = stock_data_df.collect()\n",
        "\n",
        "x=[]\n",
        "y=[]\n",
        "\n",
        "for i in df:\n",
        "    x.append(i['Date'])\n",
        "    y.append(i['daily_Return'])\n",
        "\n",
        "\n",
        "df1 = pd.DataFrame(dict(\n",
        "    {'Date' : x,\n",
        "    'Daily_Return' : y}\n",
        "))\n",
        "\n",
        "fig = px.line(df1, x=\"Date\", y=\"Daily_Return\", title='Daily Return')\n",
        "fig.show()\n",
        "\n",
        "\n",
        "x1=[]\n",
        "y1=[]\n",
        "for i in df2:\n",
        "    x1.append(i['Date'])\n",
        "    y1.append(i['Close'])\n",
        "\n",
        "\n",
        "df3 = pd.DataFrame(dict(\n",
        "    {'Date' : x1,\n",
        "    'Close' : y1}\n",
        "))\n",
        "\n",
        "fig1 = px.line(df3, x=\"Date\", y=\"Close\", title='Stock Trend')\n",
        "fig1.show()\n",
        "\n",
        "\n",
        "\n"
      ],
      "execution_count": 14,
      "outputs": [
        {
          "output_type": "stream",
          "name": "stdout",
          "text": [
            "+------+--------------------+--------------------+--------------------+\n",
            "|Symbol|                mean|              stddev|                Risk|\n",
            "+------+--------------------+--------------------+--------------------+\n",
            "|   TCS|3.627484937510814...|0.012402225729169583|CONSITENTLY PROFI...|\n",
            "+------+--------------------+--------------------+--------------------+\n",
            "\n"
          ]
        },
        {
          "output_type": "display_data",
          "data": {
            "text/html": [
              "<html>\n",
              "<head><meta charset=\"utf-8\" /></head>\n",
              "<body>\n",
              "    <div>\n",
              "            <script src=\"https://cdnjs.cloudflare.com/ajax/libs/mathjax/2.7.5/MathJax.js?config=TeX-AMS-MML_SVG\"></script><script type=\"text/javascript\">if (window.MathJax) {MathJax.Hub.Config({SVG: {font: \"STIX-Web\"}});}</script>\n",
              "                <script type=\"text/javascript\">window.PlotlyConfig = {MathJaxConfig: 'local'};</script>\n",
              "        <script src=\"https://cdn.plot.ly/plotly-latest.min.js\"></script>    \n",
              "            <div id=\"22bebf4b-f00d-4d96-ad95-9cd5189227bd\" class=\"plotly-graph-div\" style=\"height:525px; width:100%;\"></div>\n",
              "            <script type=\"text/javascript\">\n",
              "                \n",
              "                    window.PLOTLYENV=window.PLOTLYENV || {};\n",
              "                    \n",
              "                if (document.getElementById(\"22bebf4b-f00d-4d96-ad95-9cd5189227bd\")) {\n",
              "                    Plotly.newPlot(\n",
              "                        '22bebf4b-f00d-4d96-ad95-9cd5189227bd',\n",
              "                        [{\"hoverlabel\": {\"namelength\": 0}, \"hovertemplate\": \"Date=%{x}<br>Daily_Return=%{y}\", \"legendgroup\": \"\", \"line\": {\"color\": \"#636efa\", \"dash\": \"solid\"}, \"mode\": \"lines\", \"name\": \"\", \"showlegend\": false, \"type\": \"scatter\", \"x\": [\"2017-01-02T00:00:00\", \"2017-01-03T00:00:00\", \"2017-01-04T00:00:00\", \"2017-01-05T00:00:00\", \"2017-01-06T00:00:00\", \"2017-01-09T00:00:00\", \"2017-01-10T00:00:00\", \"2017-01-11T00:00:00\", \"2017-01-12T00:00:00\", \"2017-01-13T00:00:00\", \"2017-01-16T00:00:00\", \"2017-01-17T00:00:00\", \"2017-01-18T00:00:00\", \"2017-01-19T00:00:00\", \"2017-01-20T00:00:00\", \"2017-01-23T00:00:00\", \"2017-01-24T00:00:00\", \"2017-01-25T00:00:00\", \"2017-01-27T00:00:00\", \"2017-01-30T00:00:00\", \"2017-01-31T00:00:00\", \"2017-02-01T00:00:00\", \"2017-02-02T00:00:00\", \"2017-02-03T00:00:00\", \"2017-02-06T00:00:00\", \"2017-02-07T00:00:00\", \"2017-02-08T00:00:00\", \"2017-02-09T00:00:00\", \"2017-02-10T00:00:00\", \"2017-02-13T00:00:00\", \"2017-02-14T00:00:00\", \"2017-02-15T00:00:00\", \"2017-02-16T00:00:00\", \"2017-02-17T00:00:00\", \"2017-02-20T00:00:00\", \"2017-02-21T00:00:00\", \"2017-02-22T00:00:00\", \"2017-02-23T00:00:00\", \"2017-02-27T00:00:00\", \"2017-02-28T00:00:00\", \"2017-03-01T00:00:00\", \"2017-03-02T00:00:00\", \"2017-03-03T00:00:00\", \"2017-03-06T00:00:00\", \"2017-03-07T00:00:00\", \"2017-03-08T00:00:00\", \"2017-03-09T00:00:00\", \"2017-03-10T00:00:00\", \"2017-03-14T00:00:00\", \"2017-03-15T00:00:00\", \"2017-03-16T00:00:00\", \"2017-03-17T00:00:00\", \"2017-03-20T00:00:00\", \"2017-03-21T00:00:00\", \"2017-03-22T00:00:00\", \"2017-03-23T00:00:00\", \"2017-03-24T00:00:00\", \"2017-03-27T00:00:00\", \"2017-03-28T00:00:00\", \"2017-03-29T00:00:00\", \"2017-03-30T00:00:00\", \"2017-03-31T00:00:00\", \"2017-04-03T00:00:00\", \"2017-04-05T00:00:00\", \"2017-04-06T00:00:00\", \"2017-04-07T00:00:00\", \"2017-04-10T00:00:00\", \"2017-04-11T00:00:00\", \"2017-04-12T00:00:00\", \"2017-04-13T00:00:00\", \"2017-04-17T00:00:00\", \"2017-04-18T00:00:00\", \"2017-04-19T00:00:00\", \"2017-04-20T00:00:00\", \"2017-04-21T00:00:00\", \"2017-04-24T00:00:00\", \"2017-04-25T00:00:00\", \"2017-04-26T00:00:00\", \"2017-04-27T00:00:00\", \"2017-04-28T00:00:00\", \"2017-05-02T00:00:00\", \"2017-05-03T00:00:00\", \"2017-05-04T00:00:00\", \"2017-05-05T00:00:00\", \"2017-05-08T00:00:00\", \"2017-05-09T00:00:00\", \"2017-05-10T00:00:00\", \"2017-05-11T00:00:00\", \"2017-05-12T00:00:00\", \"2017-05-15T00:00:00\", \"2017-05-16T00:00:00\", \"2017-05-17T00:00:00\", \"2017-05-18T00:00:00\", \"2017-05-19T00:00:00\", \"2017-05-22T00:00:00\", \"2017-05-23T00:00:00\", \"2017-05-24T00:00:00\", \"2017-05-25T00:00:00\", \"2017-05-26T00:00:00\", \"2017-05-29T00:00:00\", \"2017-05-30T00:00:00\", \"2017-05-31T00:00:00\", \"2017-06-01T00:00:00\", \"2017-06-02T00:00:00\", \"2017-06-05T00:00:00\", \"2017-06-06T00:00:00\", \"2017-06-07T00:00:00\", \"2017-06-08T00:00:00\", \"2017-06-09T00:00:00\", \"2017-06-12T00:00:00\", \"2017-06-13T00:00:00\", \"2017-06-14T00:00:00\", \"2017-06-15T00:00:00\", \"2017-06-16T00:00:00\", \"2017-06-19T00:00:00\", \"2017-06-20T00:00:00\", \"2017-06-21T00:00:00\", \"2017-06-22T00:00:00\", \"2017-06-23T00:00:00\", \"2017-06-27T00:00:00\", \"2017-06-28T00:00:00\", \"2017-06-29T00:00:00\", \"2017-06-30T00:00:00\", \"2017-07-03T00:00:00\", \"2017-07-04T00:00:00\", \"2017-07-05T00:00:00\", \"2017-07-06T00:00:00\", \"2017-07-07T00:00:00\", \"2017-07-10T00:00:00\", \"2017-07-11T00:00:00\", \"2017-07-12T00:00:00\", \"2017-07-13T00:00:00\", \"2017-07-14T00:00:00\", \"2017-07-17T00:00:00\", \"2017-07-18T00:00:00\", \"2017-07-19T00:00:00\", \"2017-07-20T00:00:00\", \"2017-07-21T00:00:00\", \"2017-07-24T00:00:00\", \"2017-07-25T00:00:00\", \"2017-07-26T00:00:00\", \"2017-07-27T00:00:00\", \"2017-07-28T00:00:00\", \"2017-07-31T00:00:00\", \"2017-08-01T00:00:00\", \"2017-08-02T00:00:00\", \"2017-08-03T00:00:00\", \"2017-08-04T00:00:00\", \"2017-08-07T00:00:00\", \"2017-08-08T00:00:00\", \"2017-08-09T00:00:00\", \"2017-08-10T00:00:00\", \"2017-08-11T00:00:00\", \"2017-08-14T00:00:00\", \"2017-08-16T00:00:00\", \"2017-08-17T00:00:00\", \"2017-08-18T00:00:00\", \"2017-08-21T00:00:00\", \"2017-08-22T00:00:00\", \"2017-08-23T00:00:00\", \"2017-08-24T00:00:00\", \"2017-08-28T00:00:00\", \"2017-08-29T00:00:00\", \"2017-08-30T00:00:00\", \"2017-08-31T00:00:00\", \"2017-09-01T00:00:00\", \"2017-09-04T00:00:00\", \"2017-09-05T00:00:00\", \"2017-09-06T00:00:00\", \"2017-09-07T00:00:00\", \"2017-09-08T00:00:00\", \"2017-09-11T00:00:00\", \"2017-09-12T00:00:00\", \"2017-09-13T00:00:00\", \"2017-09-14T00:00:00\", \"2017-09-15T00:00:00\", \"2017-09-18T00:00:00\", \"2017-09-19T00:00:00\", \"2017-09-20T00:00:00\", \"2017-09-21T00:00:00\", \"2017-09-22T00:00:00\", \"2017-09-25T00:00:00\", \"2017-09-26T00:00:00\", \"2017-09-27T00:00:00\", \"2017-09-28T00:00:00\", \"2017-09-29T00:00:00\", \"2017-10-03T00:00:00\", \"2017-10-04T00:00:00\", \"2017-10-05T00:00:00\", \"2017-10-06T00:00:00\", \"2017-10-09T00:00:00\", \"2017-10-10T00:00:00\", \"2017-10-11T00:00:00\", \"2017-10-12T00:00:00\", \"2017-10-13T00:00:00\", \"2017-10-16T00:00:00\", \"2017-10-17T00:00:00\", \"2017-10-18T00:00:00\", \"2017-10-19T00:00:00\", \"2017-10-23T00:00:00\", \"2017-10-24T00:00:00\", \"2017-10-25T00:00:00\", \"2017-10-26T00:00:00\", \"2017-10-27T00:00:00\", \"2017-10-30T00:00:00\", \"2017-10-31T00:00:00\", \"2017-11-01T00:00:00\", \"2017-11-02T00:00:00\", \"2017-11-03T00:00:00\", \"2017-11-06T00:00:00\", \"2017-11-07T00:00:00\", \"2017-11-08T00:00:00\", \"2017-11-09T00:00:00\", \"2017-11-10T00:00:00\", \"2017-11-13T00:00:00\", \"2017-11-14T00:00:00\", \"2017-11-15T00:00:00\", \"2017-11-16T00:00:00\", \"2017-11-17T00:00:00\", \"2017-11-20T00:00:00\", \"2017-11-21T00:00:00\", \"2017-11-22T00:00:00\", \"2017-11-23T00:00:00\", \"2017-11-24T00:00:00\", \"2017-11-27T00:00:00\", \"2017-11-28T00:00:00\", \"2017-11-29T00:00:00\", \"2017-11-30T00:00:00\", \"2017-12-01T00:00:00\", \"2017-12-04T00:00:00\", \"2017-12-05T00:00:00\", \"2017-12-06T00:00:00\", \"2017-12-07T00:00:00\", \"2017-12-08T00:00:00\", \"2017-12-11T00:00:00\", \"2017-12-12T00:00:00\", \"2017-12-13T00:00:00\", \"2017-12-14T00:00:00\", \"2017-12-15T00:00:00\", \"2017-12-18T00:00:00\", \"2017-12-19T00:00:00\", \"2017-12-20T00:00:00\", \"2017-12-21T00:00:00\", \"2017-12-22T00:00:00\", \"2017-12-26T00:00:00\", \"2017-12-27T00:00:00\", \"2017-12-28T00:00:00\", \"2017-12-29T00:00:00\"], \"xaxis\": \"x\", \"y\": [-0.0022183723485168596, 0.002964531498147168, 0.004135544583702655, -0.02080536912751674, -0.017061611374407544, 0.012615384615384535, 0.004926215277777739, 0.00406047516198708, 0.008582860092927129, -0.04203577512776824, 0.0038000000000000807, 0.010576965719100585, 0.007506584723441576, -0.0017429193899782135, -0.0007214691735898955, 0.018410596026489985, 0.006228298611111072, 0.013088779815723798, 0.005436984286049338, -0.0034600598035027376, -0.03887931034482751, -0.023468468468468427, 0.017326789705306284, 0.010340770240304279, -0.007639503985828166, 0.0002673796791443445, 0.011604080359926824, 0.018593406593406674, 0.037624405019472014, 0.00761686143572621, -0.005537991031760829, 0.006967042136003261, -0.004979674796747968, -0.025930420711974073, 0.03183505154639168, -0.01935163086714403, -0.02206091082363441, 0.02766045548654252, 0.004336251058852003, -0.009339224743924483, -0.00014113472317428487, 0.005931555877267061, 0.0008226324237560923, -0.0030241935483870967, 0.006806556848846144, 0.004076738609112637, 0.002227392955869741, 0.008989522146372476, 0.004184918648310316, -0.028654743390357628, 0.005945730247406261, -0.007953652788688138, -0.018191175597299956, 0.001893634165995092, -0.000483841703122905, -0.008722804190169254, -0.017248360191108737, -0.0061393930653699655, 0.00827800829875511, 0.0035303776683086653, -0.0015951572661458918, -0.0027066929133857894, -0.009568788501026769, -0.007706930038431378, 2.0833333333409125e-05, 0.014259468036243722, -0.004009046052631579, 0.0008273693790592809, -0.012074303405572756, -0.02972916666666663, -0.006672674219018272, -0.009098712446351853, 0.015749944775789747, 0.008762417038997014, -0.007857112189257536, 0.012217391304347786, -0.007087628865979381, -0.01267094017094021, -0.0014743826022853323, -0.009088927637314694, -0.0017872711421098122, 0.01843137254901969, -0.00844698823379217, 0.005415944540727903, 0.009241706161137363, 0.0036690202436060345, -0.00957537154989392, 0.0009159459804880655, 0.007404088251610937, -0.004210349037935245, 0.02065126050420172, 0.00897883706595435, 0.03518367346938768, -0.011454143994952972, 0.008505976095617493, -0.004539712616453498, 0.009606280574404255, 0.01847109041521145, -0.01780952380952381, -0.002384645211322253, -0.0034765625000000356, 0.005369127516778488, 0.009328063241106684, 0.003383863080684632, 0.015185185185185114, 0.024705435195743062, -0.030311457174638488, -0.029407236335642836, -0.005158730158730159, -0.003924709651581971, -0.005456389452332584, 0.006191446028513164, -0.023410287565816194, -0.006314830534793681, 0.006123546692043414, 0.005758946935417524, -0.013811475409835992, -0.005873806558738103, -0.015712261398683116, -0.0032970305453926658, 6.38325035108264e-05, -0.010915642221280204, 0.01632679401135769, 0.006871977602443293, -0.0027177347996461773, -0.002033209081667308, -0.004853751589656557, -0.007680851063829865, 0.040132422041862376, 0.02052761747732901, -0.01734138972809675, 0.0005725971370143521, 0.006063785144775417, -0.0009383992993285233, 0.00509150094943965, 0.014117160008279821, -0.0018577115443503857, 0.023122099470204, 0.019621273166800894, 0.01811343165396417, -0.0015625, -0.023798284950043273, 0.0013301088270859258, 0.008417644678267982, 0.0006600000000000364, -0.010479999999999927, 0.0038104838709676686, 0.012847277982977356, -0.005185773892310821, -0.003562898089171902, 0.0048, 0.0009764846552410594, -0.001540061602464062, -0.01342389133040348, 0.0033615136876006075, -0.0060183148718357775, 0.016087308003233703, 0.00929954100977856, -0.010087197780420063, -0.006207584830339394, -0.00044040517275890185, -0.006907290585322897, -0.004492344883158779, 0.0014308746473197026, 0.00456740442655932, -0.009495967741935557, 0.00126370714606005, 0.0098983739837398, -0.006057168324453649, 0.0008543531326281159, 0.006867040244523651, -0.006778083522175462, 0.00588140183515895, -0.004320000000000073, 0.0019943593875905792, 0.002821128451380625, -0.00235533643386081, -0.002694610778443114, -0.008134447096260867, 0.013588647357539955, -0.006468510655184802, 0.005687849231940004, -0.014083665338645381, 0.002008032128514056, -0.0073155088788231055, -0.01736587333602266, 0.003463114754098286, -0.0029800783801435856, -0.004670217124129492, 0.006851851851851889, 0.005346060097089255, 0.0017311608961303462, 0.016402439024390206, 0.014007162753680788, 0.004081312298877675, 0.011487055047846386, 0.0036943907156673818, -0.0032369942196532144, -0.003124999999999965, 0.0015092879256966296, -0.015877862595419814, -0.007213496218731786, 0.0014792315884974952, 0.018242710795902357, 0.011678267594740842, 0.008726406027755283, -0.008060213414634181, 0.006766340808894035, -0.0046725421668440134, 0.017385496183206176, 0.015000000000000069, 0.0044069041498347415, -0.0049454545454545125, -0.0049408566600543016, 0.021058085527654792, -0.01521829823511283, -0.0002586844050258012, 0.013523985239852432, -0.014846621301990368, -0.004254143646408907, -0.010385042576823466, 0.002861952861952896, 9.324878776575905e-05, 0.0022557792692021556, -0.0007998511904762243, -0.00026061057334319365, -0.007226890756302487, -0.006274376801763642, -0.0019165085388994998, 0.003947368421052597, 0.0017293804637020837, -0.001024279210925576, -0.0057174334232421, -0.0063025210084033615, 0.02022351294879905, -0.018357760240511053, 0.00650991805161982, -0.028191489361702057, -0.00707947342759633, 0.01714623571147024, -0.000271739130434712, 0.0026917118512780084, 0.003362968689601785, 0.016417050691244238, -0.013607594936708928, -0.011153258223404756, 0.006957221711131415, 0.029773931607639782], \"yaxis\": \"y\"}],\n",
              "                        {\"legend\": {\"tracegroupgap\": 0}, \"template\": {\"data\": {\"bar\": [{\"error_x\": {\"color\": \"#2a3f5f\"}, \"error_y\": {\"color\": \"#2a3f5f\"}, \"marker\": {\"line\": {\"color\": \"#E5ECF6\", \"width\": 0.5}}, \"type\": \"bar\"}], \"barpolar\": [{\"marker\": {\"line\": {\"color\": \"#E5ECF6\", \"width\": 0.5}}, \"type\": \"barpolar\"}], \"carpet\": [{\"aaxis\": {\"endlinecolor\": \"#2a3f5f\", \"gridcolor\": \"white\", \"linecolor\": \"white\", \"minorgridcolor\": \"white\", \"startlinecolor\": \"#2a3f5f\"}, \"baxis\": {\"endlinecolor\": \"#2a3f5f\", \"gridcolor\": \"white\", \"linecolor\": \"white\", \"minorgridcolor\": \"white\", \"startlinecolor\": \"#2a3f5f\"}, \"type\": \"carpet\"}], \"choropleth\": [{\"colorbar\": {\"outlinewidth\": 0, \"ticks\": \"\"}, \"type\": \"choropleth\"}], \"contour\": [{\"colorbar\": {\"outlinewidth\": 0, \"ticks\": \"\"}, \"colorscale\": [[0.0, \"#0d0887\"], [0.1111111111111111, \"#46039f\"], [0.2222222222222222, \"#7201a8\"], [0.3333333333333333, \"#9c179e\"], [0.4444444444444444, \"#bd3786\"], [0.5555555555555556, \"#d8576b\"], [0.6666666666666666, \"#ed7953\"], [0.7777777777777778, \"#fb9f3a\"], [0.8888888888888888, \"#fdca26\"], [1.0, \"#f0f921\"]], \"type\": \"contour\"}], \"contourcarpet\": [{\"colorbar\": {\"outlinewidth\": 0, \"ticks\": \"\"}, \"type\": \"contourcarpet\"}], \"heatmap\": [{\"colorbar\": {\"outlinewidth\": 0, \"ticks\": \"\"}, \"colorscale\": [[0.0, \"#0d0887\"], [0.1111111111111111, \"#46039f\"], [0.2222222222222222, \"#7201a8\"], [0.3333333333333333, \"#9c179e\"], [0.4444444444444444, \"#bd3786\"], [0.5555555555555556, \"#d8576b\"], [0.6666666666666666, \"#ed7953\"], [0.7777777777777778, \"#fb9f3a\"], [0.8888888888888888, \"#fdca26\"], [1.0, \"#f0f921\"]], \"type\": \"heatmap\"}], \"heatmapgl\": [{\"colorbar\": {\"outlinewidth\": 0, \"ticks\": \"\"}, \"colorscale\": [[0.0, \"#0d0887\"], [0.1111111111111111, \"#46039f\"], [0.2222222222222222, \"#7201a8\"], [0.3333333333333333, \"#9c179e\"], [0.4444444444444444, \"#bd3786\"], [0.5555555555555556, \"#d8576b\"], [0.6666666666666666, \"#ed7953\"], [0.7777777777777778, \"#fb9f3a\"], [0.8888888888888888, \"#fdca26\"], [1.0, \"#f0f921\"]], \"type\": \"heatmapgl\"}], \"histogram\": [{\"marker\": {\"colorbar\": {\"outlinewidth\": 0, \"ticks\": \"\"}}, \"type\": \"histogram\"}], \"histogram2d\": [{\"colorbar\": {\"outlinewidth\": 0, \"ticks\": \"\"}, \"colorscale\": [[0.0, \"#0d0887\"], [0.1111111111111111, \"#46039f\"], [0.2222222222222222, \"#7201a8\"], [0.3333333333333333, \"#9c179e\"], [0.4444444444444444, \"#bd3786\"], [0.5555555555555556, \"#d8576b\"], [0.6666666666666666, \"#ed7953\"], [0.7777777777777778, \"#fb9f3a\"], [0.8888888888888888, \"#fdca26\"], [1.0, \"#f0f921\"]], \"type\": \"histogram2d\"}], \"histogram2dcontour\": [{\"colorbar\": {\"outlinewidth\": 0, \"ticks\": \"\"}, \"colorscale\": [[0.0, \"#0d0887\"], [0.1111111111111111, \"#46039f\"], [0.2222222222222222, \"#7201a8\"], [0.3333333333333333, \"#9c179e\"], [0.4444444444444444, \"#bd3786\"], [0.5555555555555556, \"#d8576b\"], [0.6666666666666666, \"#ed7953\"], [0.7777777777777778, \"#fb9f3a\"], [0.8888888888888888, \"#fdca26\"], [1.0, \"#f0f921\"]], \"type\": \"histogram2dcontour\"}], \"mesh3d\": [{\"colorbar\": {\"outlinewidth\": 0, \"ticks\": \"\"}, \"type\": \"mesh3d\"}], \"parcoords\": [{\"line\": {\"colorbar\": {\"outlinewidth\": 0, \"ticks\": \"\"}}, \"type\": \"parcoords\"}], \"pie\": [{\"automargin\": true, \"type\": \"pie\"}], \"scatter\": [{\"marker\": {\"colorbar\": {\"outlinewidth\": 0, \"ticks\": \"\"}}, \"type\": \"scatter\"}], \"scatter3d\": [{\"line\": {\"colorbar\": {\"outlinewidth\": 0, \"ticks\": \"\"}}, \"marker\": {\"colorbar\": {\"outlinewidth\": 0, \"ticks\": \"\"}}, \"type\": \"scatter3d\"}], \"scattercarpet\": [{\"marker\": {\"colorbar\": {\"outlinewidth\": 0, \"ticks\": \"\"}}, \"type\": \"scattercarpet\"}], \"scattergeo\": [{\"marker\": {\"colorbar\": {\"outlinewidth\": 0, \"ticks\": \"\"}}, \"type\": \"scattergeo\"}], \"scattergl\": [{\"marker\": {\"colorbar\": {\"outlinewidth\": 0, \"ticks\": \"\"}}, \"type\": \"scattergl\"}], \"scattermapbox\": [{\"marker\": {\"colorbar\": {\"outlinewidth\": 0, \"ticks\": \"\"}}, \"type\": \"scattermapbox\"}], \"scatterpolar\": [{\"marker\": {\"colorbar\": {\"outlinewidth\": 0, \"ticks\": \"\"}}, \"type\": \"scatterpolar\"}], \"scatterpolargl\": [{\"marker\": {\"colorbar\": {\"outlinewidth\": 0, \"ticks\": \"\"}}, \"type\": \"scatterpolargl\"}], \"scatterternary\": [{\"marker\": {\"colorbar\": {\"outlinewidth\": 0, \"ticks\": \"\"}}, \"type\": \"scatterternary\"}], \"surface\": [{\"colorbar\": {\"outlinewidth\": 0, \"ticks\": \"\"}, \"colorscale\": [[0.0, \"#0d0887\"], [0.1111111111111111, \"#46039f\"], [0.2222222222222222, \"#7201a8\"], [0.3333333333333333, \"#9c179e\"], [0.4444444444444444, \"#bd3786\"], [0.5555555555555556, \"#d8576b\"], [0.6666666666666666, \"#ed7953\"], [0.7777777777777778, \"#fb9f3a\"], [0.8888888888888888, \"#fdca26\"], [1.0, \"#f0f921\"]], \"type\": \"surface\"}], \"table\": [{\"cells\": {\"fill\": {\"color\": \"#EBF0F8\"}, \"line\": {\"color\": \"white\"}}, \"header\": {\"fill\": {\"color\": \"#C8D4E3\"}, \"line\": {\"color\": \"white\"}}, \"type\": \"table\"}]}, \"layout\": {\"annotationdefaults\": {\"arrowcolor\": \"#2a3f5f\", \"arrowhead\": 0, \"arrowwidth\": 1}, \"coloraxis\": {\"colorbar\": {\"outlinewidth\": 0, \"ticks\": \"\"}}, \"colorscale\": {\"diverging\": [[0, \"#8e0152\"], [0.1, \"#c51b7d\"], [0.2, \"#de77ae\"], [0.3, \"#f1b6da\"], [0.4, \"#fde0ef\"], [0.5, \"#f7f7f7\"], [0.6, \"#e6f5d0\"], [0.7, \"#b8e186\"], [0.8, \"#7fbc41\"], [0.9, \"#4d9221\"], [1, \"#276419\"]], \"sequential\": [[0.0, \"#0d0887\"], [0.1111111111111111, \"#46039f\"], [0.2222222222222222, \"#7201a8\"], [0.3333333333333333, \"#9c179e\"], [0.4444444444444444, \"#bd3786\"], [0.5555555555555556, \"#d8576b\"], [0.6666666666666666, \"#ed7953\"], [0.7777777777777778, \"#fb9f3a\"], [0.8888888888888888, \"#fdca26\"], [1.0, \"#f0f921\"]], \"sequentialminus\": [[0.0, \"#0d0887\"], [0.1111111111111111, \"#46039f\"], [0.2222222222222222, \"#7201a8\"], [0.3333333333333333, \"#9c179e\"], [0.4444444444444444, \"#bd3786\"], [0.5555555555555556, \"#d8576b\"], [0.6666666666666666, \"#ed7953\"], [0.7777777777777778, \"#fb9f3a\"], [0.8888888888888888, \"#fdca26\"], [1.0, \"#f0f921\"]]}, \"colorway\": [\"#636efa\", \"#EF553B\", \"#00cc96\", \"#ab63fa\", \"#FFA15A\", \"#19d3f3\", \"#FF6692\", \"#B6E880\", \"#FF97FF\", \"#FECB52\"], \"font\": {\"color\": \"#2a3f5f\"}, \"geo\": {\"bgcolor\": \"white\", \"lakecolor\": \"white\", \"landcolor\": \"#E5ECF6\", \"showlakes\": true, \"showland\": true, \"subunitcolor\": \"white\"}, \"hoverlabel\": {\"align\": \"left\"}, \"hovermode\": \"closest\", \"mapbox\": {\"style\": \"light\"}, \"paper_bgcolor\": \"white\", \"plot_bgcolor\": \"#E5ECF6\", \"polar\": {\"angularaxis\": {\"gridcolor\": \"white\", \"linecolor\": \"white\", \"ticks\": \"\"}, \"bgcolor\": \"#E5ECF6\", \"radialaxis\": {\"gridcolor\": \"white\", \"linecolor\": \"white\", \"ticks\": \"\"}}, \"scene\": {\"xaxis\": {\"backgroundcolor\": \"#E5ECF6\", \"gridcolor\": \"white\", \"gridwidth\": 2, \"linecolor\": \"white\", \"showbackground\": true, \"ticks\": \"\", \"zerolinecolor\": \"white\"}, \"yaxis\": {\"backgroundcolor\": \"#E5ECF6\", \"gridcolor\": \"white\", \"gridwidth\": 2, \"linecolor\": \"white\", \"showbackground\": true, \"ticks\": \"\", \"zerolinecolor\": \"white\"}, \"zaxis\": {\"backgroundcolor\": \"#E5ECF6\", \"gridcolor\": \"white\", \"gridwidth\": 2, \"linecolor\": \"white\", \"showbackground\": true, \"ticks\": \"\", \"zerolinecolor\": \"white\"}}, \"shapedefaults\": {\"line\": {\"color\": \"#2a3f5f\"}}, \"ternary\": {\"aaxis\": {\"gridcolor\": \"white\", \"linecolor\": \"white\", \"ticks\": \"\"}, \"baxis\": {\"gridcolor\": \"white\", \"linecolor\": \"white\", \"ticks\": \"\"}, \"bgcolor\": \"#E5ECF6\", \"caxis\": {\"gridcolor\": \"white\", \"linecolor\": \"white\", \"ticks\": \"\"}}, \"title\": {\"x\": 0.05}, \"xaxis\": {\"automargin\": true, \"gridcolor\": \"white\", \"linecolor\": \"white\", \"ticks\": \"\", \"title\": {\"standoff\": 15}, \"zerolinecolor\": \"white\", \"zerolinewidth\": 2}, \"yaxis\": {\"automargin\": true, \"gridcolor\": \"white\", \"linecolor\": \"white\", \"ticks\": \"\", \"title\": {\"standoff\": 15}, \"zerolinecolor\": \"white\", \"zerolinewidth\": 2}}}, \"title\": {\"text\": \"Daily Return\"}, \"xaxis\": {\"anchor\": \"y\", \"domain\": [0.0, 1.0], \"title\": {\"text\": \"Date\"}}, \"yaxis\": {\"anchor\": \"x\", \"domain\": [0.0, 1.0], \"title\": {\"text\": \"Daily_Return\"}}},\n",
              "                        {\"responsive\": true}\n",
              "                    ).then(function(){\n",
              "                            \n",
              "var gd = document.getElementById('22bebf4b-f00d-4d96-ad95-9cd5189227bd');\n",
              "var x = new MutationObserver(function (mutations, observer) {{\n",
              "        var display = window.getComputedStyle(gd).display;\n",
              "        if (!display || display === 'none') {{\n",
              "            console.log([gd, 'removed!']);\n",
              "            Plotly.purge(gd);\n",
              "            observer.disconnect();\n",
              "        }}\n",
              "}});\n",
              "\n",
              "// Listen for the removal of the full notebook cells\n",
              "var notebookContainer = gd.closest('#notebook-container');\n",
              "if (notebookContainer) {{\n",
              "    x.observe(notebookContainer, {childList: true});\n",
              "}}\n",
              "\n",
              "// Listen for the clearing of the current output cell\n",
              "var outputEl = gd.closest('.output');\n",
              "if (outputEl) {{\n",
              "    x.observe(outputEl, {childList: true});\n",
              "}}\n",
              "\n",
              "                        })\n",
              "                };\n",
              "                \n",
              "            </script>\n",
              "        </div>\n",
              "</body>\n",
              "</html>"
            ]
          },
          "metadata": {}
        },
        {
          "output_type": "display_data",
          "data": {
            "text/html": [
              "<html>\n",
              "<head><meta charset=\"utf-8\" /></head>\n",
              "<body>\n",
              "    <div>\n",
              "            <script src=\"https://cdnjs.cloudflare.com/ajax/libs/mathjax/2.7.5/MathJax.js?config=TeX-AMS-MML_SVG\"></script><script type=\"text/javascript\">if (window.MathJax) {MathJax.Hub.Config({SVG: {font: \"STIX-Web\"}});}</script>\n",
              "                <script type=\"text/javascript\">window.PlotlyConfig = {MathJaxConfig: 'local'};</script>\n",
              "        <script src=\"https://cdn.plot.ly/plotly-latest.min.js\"></script>    \n",
              "            <div id=\"ece94794-63e0-4b24-b3b2-886279b0d6ed\" class=\"plotly-graph-div\" style=\"height:525px; width:100%;\"></div>\n",
              "            <script type=\"text/javascript\">\n",
              "                \n",
              "                    window.PLOTLYENV=window.PLOTLYENV || {};\n",
              "                    \n",
              "                if (document.getElementById(\"ece94794-63e0-4b24-b3b2-886279b0d6ed\")) {\n",
              "                    Plotly.newPlot(\n",
              "                        'ece94794-63e0-4b24-b3b2-886279b0d6ed',\n",
              "                        [{\"hoverlabel\": {\"namelength\": 0}, \"hovertemplate\": \"Date=%{x}<br>Close=%{y}\", \"legendgroup\": \"\", \"line\": {\"color\": \"#636efa\", \"dash\": \"solid\"}, \"mode\": \"lines\", \"name\": \"\", \"showlegend\": false, \"type\": \"scatter\", \"x\": [\"2017-01-02T00:00:00\", \"2017-01-03T00:00:00\", \"2017-01-04T00:00:00\", \"2017-01-05T00:00:00\", \"2017-01-06T00:00:00\", \"2017-01-09T00:00:00\", \"2017-01-10T00:00:00\", \"2017-01-11T00:00:00\", \"2017-01-12T00:00:00\", \"2017-01-13T00:00:00\", \"2017-01-16T00:00:00\", \"2017-01-17T00:00:00\", \"2017-01-18T00:00:00\", \"2017-01-19T00:00:00\", \"2017-01-20T00:00:00\", \"2017-01-23T00:00:00\", \"2017-01-24T00:00:00\", \"2017-01-25T00:00:00\", \"2017-01-27T00:00:00\", \"2017-01-30T00:00:00\", \"2017-01-31T00:00:00\", \"2017-02-01T00:00:00\", \"2017-02-02T00:00:00\", \"2017-02-03T00:00:00\", \"2017-02-06T00:00:00\", \"2017-02-07T00:00:00\", \"2017-02-08T00:00:00\", \"2017-02-09T00:00:00\", \"2017-02-10T00:00:00\", \"2017-02-13T00:00:00\", \"2017-02-14T00:00:00\", \"2017-02-15T00:00:00\", \"2017-02-16T00:00:00\", \"2017-02-17T00:00:00\", \"2017-02-20T00:00:00\", \"2017-02-21T00:00:00\", \"2017-02-22T00:00:00\", \"2017-02-23T00:00:00\", \"2017-02-27T00:00:00\", \"2017-02-28T00:00:00\", \"2017-03-01T00:00:00\", \"2017-03-02T00:00:00\", \"2017-03-03T00:00:00\", \"2017-03-06T00:00:00\", \"2017-03-07T00:00:00\", \"2017-03-08T00:00:00\", \"2017-03-09T00:00:00\", \"2017-03-10T00:00:00\", \"2017-03-14T00:00:00\", \"2017-03-15T00:00:00\", \"2017-03-16T00:00:00\", \"2017-03-17T00:00:00\", \"2017-03-20T00:00:00\", \"2017-03-21T00:00:00\", \"2017-03-22T00:00:00\", \"2017-03-23T00:00:00\", \"2017-03-24T00:00:00\", \"2017-03-27T00:00:00\", \"2017-03-28T00:00:00\", \"2017-03-29T00:00:00\", \"2017-03-30T00:00:00\", \"2017-03-31T00:00:00\", \"2017-04-03T00:00:00\", \"2017-04-05T00:00:00\", \"2017-04-06T00:00:00\", \"2017-04-07T00:00:00\", \"2017-04-10T00:00:00\", \"2017-04-11T00:00:00\", \"2017-04-12T00:00:00\", \"2017-04-13T00:00:00\", \"2017-04-17T00:00:00\", \"2017-04-18T00:00:00\", \"2017-04-19T00:00:00\", \"2017-04-20T00:00:00\", \"2017-04-21T00:00:00\", \"2017-04-24T00:00:00\", \"2017-04-25T00:00:00\", \"2017-04-26T00:00:00\", \"2017-04-27T00:00:00\", \"2017-04-28T00:00:00\", \"2017-05-02T00:00:00\", \"2017-05-03T00:00:00\", \"2017-05-04T00:00:00\", \"2017-05-05T00:00:00\", \"2017-05-08T00:00:00\", \"2017-05-09T00:00:00\", \"2017-05-10T00:00:00\", \"2017-05-11T00:00:00\", \"2017-05-12T00:00:00\", \"2017-05-15T00:00:00\", \"2017-05-16T00:00:00\", \"2017-05-17T00:00:00\", \"2017-05-18T00:00:00\", \"2017-05-19T00:00:00\", \"2017-05-22T00:00:00\", \"2017-05-23T00:00:00\", \"2017-05-24T00:00:00\", \"2017-05-25T00:00:00\", \"2017-05-26T00:00:00\", \"2017-05-29T00:00:00\", \"2017-05-30T00:00:00\", \"2017-05-31T00:00:00\", \"2017-06-01T00:00:00\", \"2017-06-02T00:00:00\", \"2017-06-05T00:00:00\", \"2017-06-06T00:00:00\", \"2017-06-07T00:00:00\", \"2017-06-08T00:00:00\", \"2017-06-09T00:00:00\", \"2017-06-12T00:00:00\", \"2017-06-13T00:00:00\", \"2017-06-14T00:00:00\", \"2017-06-15T00:00:00\", \"2017-06-16T00:00:00\", \"2017-06-19T00:00:00\", \"2017-06-20T00:00:00\", \"2017-06-21T00:00:00\", \"2017-06-22T00:00:00\", \"2017-06-23T00:00:00\", \"2017-06-27T00:00:00\", \"2017-06-28T00:00:00\", \"2017-06-29T00:00:00\", \"2017-06-30T00:00:00\", \"2017-07-03T00:00:00\", \"2017-07-04T00:00:00\", \"2017-07-05T00:00:00\", \"2017-07-06T00:00:00\", \"2017-07-07T00:00:00\", \"2017-07-10T00:00:00\", \"2017-07-11T00:00:00\", \"2017-07-12T00:00:00\", \"2017-07-13T00:00:00\", \"2017-07-14T00:00:00\", \"2017-07-17T00:00:00\", \"2017-07-18T00:00:00\", \"2017-07-19T00:00:00\", \"2017-07-20T00:00:00\", \"2017-07-21T00:00:00\", \"2017-07-24T00:00:00\", \"2017-07-25T00:00:00\", \"2017-07-26T00:00:00\", \"2017-07-27T00:00:00\", \"2017-07-28T00:00:00\", \"2017-07-31T00:00:00\", \"2017-08-01T00:00:00\", \"2017-08-02T00:00:00\", \"2017-08-03T00:00:00\", \"2017-08-04T00:00:00\", \"2017-08-07T00:00:00\", \"2017-08-08T00:00:00\", \"2017-08-09T00:00:00\", \"2017-08-10T00:00:00\", \"2017-08-11T00:00:00\", \"2017-08-14T00:00:00\", \"2017-08-16T00:00:00\", \"2017-08-17T00:00:00\", \"2017-08-18T00:00:00\", \"2017-08-21T00:00:00\", \"2017-08-22T00:00:00\", \"2017-08-23T00:00:00\", \"2017-08-24T00:00:00\", \"2017-08-28T00:00:00\", \"2017-08-29T00:00:00\", \"2017-08-30T00:00:00\", \"2017-08-31T00:00:00\", \"2017-09-01T00:00:00\", \"2017-09-04T00:00:00\", \"2017-09-05T00:00:00\", \"2017-09-06T00:00:00\", \"2017-09-07T00:00:00\", \"2017-09-08T00:00:00\", \"2017-09-11T00:00:00\", \"2017-09-12T00:00:00\", \"2017-09-13T00:00:00\", \"2017-09-14T00:00:00\", \"2017-09-15T00:00:00\", \"2017-09-18T00:00:00\", \"2017-09-19T00:00:00\", \"2017-09-20T00:00:00\", \"2017-09-21T00:00:00\", \"2017-09-22T00:00:00\", \"2017-09-25T00:00:00\", \"2017-09-26T00:00:00\", \"2017-09-27T00:00:00\", \"2017-09-28T00:00:00\", \"2017-09-29T00:00:00\", \"2017-10-03T00:00:00\", \"2017-10-04T00:00:00\", \"2017-10-05T00:00:00\", \"2017-10-06T00:00:00\", \"2017-10-09T00:00:00\", \"2017-10-10T00:00:00\", \"2017-10-11T00:00:00\", \"2017-10-12T00:00:00\", \"2017-10-13T00:00:00\", \"2017-10-16T00:00:00\", \"2017-10-17T00:00:00\", \"2017-10-18T00:00:00\", \"2017-10-19T00:00:00\", \"2017-10-23T00:00:00\", \"2017-10-24T00:00:00\", \"2017-10-25T00:00:00\", \"2017-10-26T00:00:00\", \"2017-10-27T00:00:00\", \"2017-10-30T00:00:00\", \"2017-10-31T00:00:00\", \"2017-11-01T00:00:00\", \"2017-11-02T00:00:00\", \"2017-11-03T00:00:00\", \"2017-11-06T00:00:00\", \"2017-11-07T00:00:00\", \"2017-11-08T00:00:00\", \"2017-11-09T00:00:00\", \"2017-11-10T00:00:00\", \"2017-11-13T00:00:00\", \"2017-11-14T00:00:00\", \"2017-11-15T00:00:00\", \"2017-11-16T00:00:00\", \"2017-11-17T00:00:00\", \"2017-11-20T00:00:00\", \"2017-11-21T00:00:00\", \"2017-11-22T00:00:00\", \"2017-11-23T00:00:00\", \"2017-11-24T00:00:00\", \"2017-11-27T00:00:00\", \"2017-11-28T00:00:00\", \"2017-11-29T00:00:00\", \"2017-11-30T00:00:00\", \"2017-12-01T00:00:00\", \"2017-12-04T00:00:00\", \"2017-12-05T00:00:00\", \"2017-12-06T00:00:00\", \"2017-12-07T00:00:00\", \"2017-12-08T00:00:00\", \"2017-12-11T00:00:00\", \"2017-12-12T00:00:00\", \"2017-12-13T00:00:00\", \"2017-12-14T00:00:00\", \"2017-12-15T00:00:00\", \"2017-12-18T00:00:00\", \"2017-12-19T00:00:00\", \"2017-12-20T00:00:00\", \"2017-12-21T00:00:00\", \"2017-12-22T00:00:00\", \"2017-12-26T00:00:00\", \"2017-12-27T00:00:00\", \"2017-12-28T00:00:00\", \"2017-12-29T00:00:00\"], \"xaxis\": \"x\", \"y\": [2361.35, 2368.25, 2379.5, 2334.4, 2281.4, 2303.7, 2315.35, 2324.4, 2344.35, 2249.3, 2258.55, 2278.75, 2295.1, 2291.0, 2285.35, 2306.7, 2318.35, 2353.0, 2357.8, 2332.9, 2229.8, 2167.9, 2207.65, 2232.55, 2240.75, 2244.6, 2270.95, 2317.3, 2397.95, 2414.25, 2406.25, 2413.7, 2447.75, 2407.9, 2502.2, 2465.35, 2411.5, 2481.8, 2489.85, 2466.25, 2479.55, 2501.45, 2494.05, 2472.5, 2499.8, 2512.2, 2519.75, 2542.25, 2567.5, 2498.3, 2520.9, 2525.75, 2480.0, 2486.7, 2478.95, 2460.35, 2427.2, 2412.05, 2429.95, 2444.6, 2441.0, 2431.8, 2411.7, 2401.25, 2400.05, 2429.05, 2422.25, 2419.3, 2393.25, 2328.65, 2314.85, 2308.8, 2299.15, 2325.5, 2310.8, 2328.1, 2311.5, 2310.35, 2302.65, 2273.15, 2289.9, 2337.3, 2330.1, 2320.5, 2342.45, 2352.55, 2332.45, 2349.45, 2360.65, 2365.1, 2429.15, 2455.35, 2536.2, 2507.15, 2531.35, 2521.7, 2559.15, 2624.6, 2578.25, 2572.85, 2551.1, 2546.6, 2553.6, 2564.9, 2603.95, 2696.0, 2615.25, 2521.6, 2507.0, 2487.2, 2451.55, 2470.2, 2411.2, 2399.7, 2431.7, 2445.0, 2406.3, 2394.85, 2361.7, 2342.85, 2350.05, 2333.25, 2362.35, 2373.6, 2366.85, 2356.0, 2347.55, 2331.95, 2434.95, 2475.8, 2439.45, 2446.4, 2397.45, 2395.45, 2408.35, 2449.6, 2444.7, 2491.2, 2530.7, 2571.5, 2556.0, 2481.7, 2484.3, 2491.8, 2501.65, 2473.8, 2489.45, 2522.8, 2503.45, 2503.05, 2512.0, 2511.45, 2496.05, 2469.4, 2492.35, 2485.65, 2513.8, 2528.8, 2497.55, 2489.45, 2496.6, 2487.3, 2470.85, 2484.55, 2496.35, 2456.45, 2456.2, 2484.35, 2453.2, 2460.1, 2470.6, 2454.45, 2488.45, 2489.2, 2486.95, 2506.05, 2499.05, 2498.25, 2493.55, 2524.9, 2503.6, 2510.75, 2474.65, 2495.0, 2476.45, 2435.95, 2448.45, 2442.3, 2429.6, 2446.65, 2454.1, 2459.25, 2500.35, 2548.2, 2558.6, 2584.4, 2594.55, 2586.6, 2583.9, 2587.9, 2578.4, 2559.9, 2538.85, 2584.3, 2616.2, 2624.0, 2602.85, 2626.15, 2620.1, 2665.55, 2710.05, 2735.0, 2736.4, 2708.75, 2758.95, 2714.6, 2705.3, 2746.65, 2707.3, 2703.45, 2672.95, 2680.65, 2681.25, 2688.05, 2685.85, 2685.3, 2658.15, 2637.0, 2629.95, 2632.35, 2635.55, 2633.3, 2617.25, 2601.5, 2661.1, 2612.15, 2628.4, 2557.8, 2545.6, 2580.5, 2575.3, 2588.95, 2595.7, 2646.75, 2649.45, 2619.9, 2626.95, 2701.2], \"yaxis\": \"y\"}],\n",
              "                        {\"legend\": {\"tracegroupgap\": 0}, \"template\": {\"data\": {\"bar\": [{\"error_x\": {\"color\": \"#2a3f5f\"}, \"error_y\": {\"color\": \"#2a3f5f\"}, \"marker\": {\"line\": {\"color\": \"#E5ECF6\", \"width\": 0.5}}, \"type\": \"bar\"}], \"barpolar\": [{\"marker\": {\"line\": {\"color\": \"#E5ECF6\", \"width\": 0.5}}, \"type\": \"barpolar\"}], \"carpet\": [{\"aaxis\": {\"endlinecolor\": \"#2a3f5f\", \"gridcolor\": \"white\", \"linecolor\": \"white\", \"minorgridcolor\": \"white\", \"startlinecolor\": \"#2a3f5f\"}, \"baxis\": {\"endlinecolor\": \"#2a3f5f\", \"gridcolor\": \"white\", \"linecolor\": \"white\", \"minorgridcolor\": \"white\", \"startlinecolor\": \"#2a3f5f\"}, \"type\": \"carpet\"}], \"choropleth\": [{\"colorbar\": {\"outlinewidth\": 0, \"ticks\": \"\"}, \"type\": \"choropleth\"}], \"contour\": [{\"colorbar\": {\"outlinewidth\": 0, \"ticks\": \"\"}, \"colorscale\": [[0.0, \"#0d0887\"], [0.1111111111111111, \"#46039f\"], [0.2222222222222222, \"#7201a8\"], [0.3333333333333333, \"#9c179e\"], [0.4444444444444444, \"#bd3786\"], [0.5555555555555556, \"#d8576b\"], [0.6666666666666666, \"#ed7953\"], [0.7777777777777778, \"#fb9f3a\"], [0.8888888888888888, \"#fdca26\"], [1.0, \"#f0f921\"]], \"type\": \"contour\"}], \"contourcarpet\": [{\"colorbar\": {\"outlinewidth\": 0, \"ticks\": \"\"}, \"type\": \"contourcarpet\"}], \"heatmap\": [{\"colorbar\": {\"outlinewidth\": 0, \"ticks\": \"\"}, \"colorscale\": [[0.0, \"#0d0887\"], [0.1111111111111111, \"#46039f\"], [0.2222222222222222, \"#7201a8\"], [0.3333333333333333, \"#9c179e\"], [0.4444444444444444, \"#bd3786\"], [0.5555555555555556, \"#d8576b\"], [0.6666666666666666, \"#ed7953\"], [0.7777777777777778, \"#fb9f3a\"], [0.8888888888888888, \"#fdca26\"], [1.0, \"#f0f921\"]], \"type\": \"heatmap\"}], \"heatmapgl\": [{\"colorbar\": {\"outlinewidth\": 0, \"ticks\": \"\"}, \"colorscale\": [[0.0, \"#0d0887\"], [0.1111111111111111, \"#46039f\"], [0.2222222222222222, \"#7201a8\"], [0.3333333333333333, \"#9c179e\"], [0.4444444444444444, \"#bd3786\"], [0.5555555555555556, \"#d8576b\"], [0.6666666666666666, \"#ed7953\"], [0.7777777777777778, \"#fb9f3a\"], [0.8888888888888888, \"#fdca26\"], [1.0, \"#f0f921\"]], \"type\": \"heatmapgl\"}], \"histogram\": [{\"marker\": {\"colorbar\": {\"outlinewidth\": 0, \"ticks\": \"\"}}, \"type\": \"histogram\"}], \"histogram2d\": [{\"colorbar\": {\"outlinewidth\": 0, \"ticks\": \"\"}, \"colorscale\": [[0.0, \"#0d0887\"], [0.1111111111111111, \"#46039f\"], [0.2222222222222222, \"#7201a8\"], [0.3333333333333333, \"#9c179e\"], [0.4444444444444444, \"#bd3786\"], [0.5555555555555556, \"#d8576b\"], [0.6666666666666666, \"#ed7953\"], [0.7777777777777778, \"#fb9f3a\"], [0.8888888888888888, \"#fdca26\"], [1.0, \"#f0f921\"]], \"type\": \"histogram2d\"}], \"histogram2dcontour\": [{\"colorbar\": {\"outlinewidth\": 0, \"ticks\": \"\"}, \"colorscale\": [[0.0, \"#0d0887\"], [0.1111111111111111, \"#46039f\"], [0.2222222222222222, \"#7201a8\"], [0.3333333333333333, \"#9c179e\"], [0.4444444444444444, \"#bd3786\"], [0.5555555555555556, \"#d8576b\"], [0.6666666666666666, \"#ed7953\"], [0.7777777777777778, \"#fb9f3a\"], [0.8888888888888888, \"#fdca26\"], [1.0, \"#f0f921\"]], \"type\": \"histogram2dcontour\"}], \"mesh3d\": [{\"colorbar\": {\"outlinewidth\": 0, \"ticks\": \"\"}, \"type\": \"mesh3d\"}], \"parcoords\": [{\"line\": {\"colorbar\": {\"outlinewidth\": 0, \"ticks\": \"\"}}, \"type\": \"parcoords\"}], \"pie\": [{\"automargin\": true, \"type\": \"pie\"}], \"scatter\": [{\"marker\": {\"colorbar\": {\"outlinewidth\": 0, \"ticks\": \"\"}}, \"type\": \"scatter\"}], \"scatter3d\": [{\"line\": {\"colorbar\": {\"outlinewidth\": 0, \"ticks\": \"\"}}, \"marker\": {\"colorbar\": {\"outlinewidth\": 0, \"ticks\": \"\"}}, \"type\": \"scatter3d\"}], \"scattercarpet\": [{\"marker\": {\"colorbar\": {\"outlinewidth\": 0, \"ticks\": \"\"}}, \"type\": \"scattercarpet\"}], \"scattergeo\": [{\"marker\": {\"colorbar\": {\"outlinewidth\": 0, \"ticks\": \"\"}}, \"type\": \"scattergeo\"}], \"scattergl\": [{\"marker\": {\"colorbar\": {\"outlinewidth\": 0, \"ticks\": \"\"}}, \"type\": \"scattergl\"}], \"scattermapbox\": [{\"marker\": {\"colorbar\": {\"outlinewidth\": 0, \"ticks\": \"\"}}, \"type\": \"scattermapbox\"}], \"scatterpolar\": [{\"marker\": {\"colorbar\": {\"outlinewidth\": 0, \"ticks\": \"\"}}, \"type\": \"scatterpolar\"}], \"scatterpolargl\": [{\"marker\": {\"colorbar\": {\"outlinewidth\": 0, \"ticks\": \"\"}}, \"type\": \"scatterpolargl\"}], \"scatterternary\": [{\"marker\": {\"colorbar\": {\"outlinewidth\": 0, \"ticks\": \"\"}}, \"type\": \"scatterternary\"}], \"surface\": [{\"colorbar\": {\"outlinewidth\": 0, \"ticks\": \"\"}, \"colorscale\": [[0.0, \"#0d0887\"], [0.1111111111111111, \"#46039f\"], [0.2222222222222222, \"#7201a8\"], [0.3333333333333333, \"#9c179e\"], [0.4444444444444444, \"#bd3786\"], [0.5555555555555556, \"#d8576b\"], [0.6666666666666666, \"#ed7953\"], [0.7777777777777778, \"#fb9f3a\"], [0.8888888888888888, \"#fdca26\"], [1.0, \"#f0f921\"]], \"type\": \"surface\"}], \"table\": [{\"cells\": {\"fill\": {\"color\": \"#EBF0F8\"}, \"line\": {\"color\": \"white\"}}, \"header\": {\"fill\": {\"color\": \"#C8D4E3\"}, \"line\": {\"color\": \"white\"}}, \"type\": \"table\"}]}, \"layout\": {\"annotationdefaults\": {\"arrowcolor\": \"#2a3f5f\", \"arrowhead\": 0, \"arrowwidth\": 1}, \"coloraxis\": {\"colorbar\": {\"outlinewidth\": 0, \"ticks\": \"\"}}, \"colorscale\": {\"diverging\": [[0, \"#8e0152\"], [0.1, \"#c51b7d\"], [0.2, \"#de77ae\"], [0.3, \"#f1b6da\"], [0.4, \"#fde0ef\"], [0.5, \"#f7f7f7\"], [0.6, \"#e6f5d0\"], [0.7, \"#b8e186\"], [0.8, \"#7fbc41\"], [0.9, \"#4d9221\"], [1, \"#276419\"]], \"sequential\": [[0.0, \"#0d0887\"], [0.1111111111111111, \"#46039f\"], [0.2222222222222222, \"#7201a8\"], [0.3333333333333333, \"#9c179e\"], [0.4444444444444444, \"#bd3786\"], [0.5555555555555556, \"#d8576b\"], [0.6666666666666666, \"#ed7953\"], [0.7777777777777778, \"#fb9f3a\"], [0.8888888888888888, \"#fdca26\"], [1.0, \"#f0f921\"]], \"sequentialminus\": [[0.0, \"#0d0887\"], [0.1111111111111111, \"#46039f\"], [0.2222222222222222, \"#7201a8\"], [0.3333333333333333, \"#9c179e\"], [0.4444444444444444, \"#bd3786\"], [0.5555555555555556, \"#d8576b\"], [0.6666666666666666, \"#ed7953\"], [0.7777777777777778, \"#fb9f3a\"], [0.8888888888888888, \"#fdca26\"], [1.0, \"#f0f921\"]]}, \"colorway\": [\"#636efa\", \"#EF553B\", \"#00cc96\", \"#ab63fa\", \"#FFA15A\", \"#19d3f3\", \"#FF6692\", \"#B6E880\", \"#FF97FF\", \"#FECB52\"], \"font\": {\"color\": \"#2a3f5f\"}, \"geo\": {\"bgcolor\": \"white\", \"lakecolor\": \"white\", \"landcolor\": \"#E5ECF6\", \"showlakes\": true, \"showland\": true, \"subunitcolor\": \"white\"}, \"hoverlabel\": {\"align\": \"left\"}, \"hovermode\": \"closest\", \"mapbox\": {\"style\": \"light\"}, \"paper_bgcolor\": \"white\", \"plot_bgcolor\": \"#E5ECF6\", \"polar\": {\"angularaxis\": {\"gridcolor\": \"white\", \"linecolor\": \"white\", \"ticks\": \"\"}, \"bgcolor\": \"#E5ECF6\", \"radialaxis\": {\"gridcolor\": \"white\", \"linecolor\": \"white\", \"ticks\": \"\"}}, \"scene\": {\"xaxis\": {\"backgroundcolor\": \"#E5ECF6\", \"gridcolor\": \"white\", \"gridwidth\": 2, \"linecolor\": \"white\", \"showbackground\": true, \"ticks\": \"\", \"zerolinecolor\": \"white\"}, \"yaxis\": {\"backgroundcolor\": \"#E5ECF6\", \"gridcolor\": \"white\", \"gridwidth\": 2, \"linecolor\": \"white\", \"showbackground\": true, \"ticks\": \"\", \"zerolinecolor\": \"white\"}, \"zaxis\": {\"backgroundcolor\": \"#E5ECF6\", \"gridcolor\": \"white\", \"gridwidth\": 2, \"linecolor\": \"white\", \"showbackground\": true, \"ticks\": \"\", \"zerolinecolor\": \"white\"}}, \"shapedefaults\": {\"line\": {\"color\": \"#2a3f5f\"}}, \"ternary\": {\"aaxis\": {\"gridcolor\": \"white\", \"linecolor\": \"white\", \"ticks\": \"\"}, \"baxis\": {\"gridcolor\": \"white\", \"linecolor\": \"white\", \"ticks\": \"\"}, \"bgcolor\": \"#E5ECF6\", \"caxis\": {\"gridcolor\": \"white\", \"linecolor\": \"white\", \"ticks\": \"\"}}, \"title\": {\"x\": 0.05}, \"xaxis\": {\"automargin\": true, \"gridcolor\": \"white\", \"linecolor\": \"white\", \"ticks\": \"\", \"title\": {\"standoff\": 15}, \"zerolinecolor\": \"white\", \"zerolinewidth\": 2}, \"yaxis\": {\"automargin\": true, \"gridcolor\": \"white\", \"linecolor\": \"white\", \"ticks\": \"\", \"title\": {\"standoff\": 15}, \"zerolinecolor\": \"white\", \"zerolinewidth\": 2}}}, \"title\": {\"text\": \"Stock Trend\"}, \"xaxis\": {\"anchor\": \"y\", \"domain\": [0.0, 1.0], \"title\": {\"text\": \"Date\"}}, \"yaxis\": {\"anchor\": \"x\", \"domain\": [0.0, 1.0], \"title\": {\"text\": \"Close\"}}},\n",
              "                        {\"responsive\": true}\n",
              "                    ).then(function(){\n",
              "                            \n",
              "var gd = document.getElementById('ece94794-63e0-4b24-b3b2-886279b0d6ed');\n",
              "var x = new MutationObserver(function (mutations, observer) {{\n",
              "        var display = window.getComputedStyle(gd).display;\n",
              "        if (!display || display === 'none') {{\n",
              "            console.log([gd, 'removed!']);\n",
              "            Plotly.purge(gd);\n",
              "            observer.disconnect();\n",
              "        }}\n",
              "}});\n",
              "\n",
              "// Listen for the removal of the full notebook cells\n",
              "var notebookContainer = gd.closest('#notebook-container');\n",
              "if (notebookContainer) {{\n",
              "    x.observe(notebookContainer, {childList: true});\n",
              "}}\n",
              "\n",
              "// Listen for the clearing of the current output cell\n",
              "var outputEl = gd.closest('.output');\n",
              "if (outputEl) {{\n",
              "    x.observe(outputEl, {childList: true});\n",
              "}}\n",
              "\n",
              "                        })\n",
              "                };\n",
              "                \n",
              "            </script>\n",
              "        </div>\n",
              "</body>\n",
              "</html>"
            ]
          },
          "metadata": {}
        }
      ]
    },
    {
      "cell_type": "code",
      "source": [
        "Symbol = \"TCS\"\n",
        "data = problemFive(stock_df,2019,Symbol)\n",
        "dataYear = data[0]\n",
        "dailyreturn = data[2]\n",
        "stock_data_df = data[3]\n",
        "def RiskForStock(stock,stockData):\n",
        "  riskData = stockData.where(col(\"Symbol\")==stock).show(10)\n",
        "  return riskData\n",
        "\n",
        "RiskForStock(Symbol,dataYear)\n",
        "#print(dailyreturn.where(col(\"Symbol\")==Symbol).groupBy(\"Date\").count().collect())\n",
        "\n",
        "df = dailyreturn.collect()\n",
        "df2 = stock_data_df.collect()\n",
        "\n",
        "x=[]\n",
        "y=[]\n",
        "\n",
        "for i in df:\n",
        "    x.append(i['Date'])\n",
        "    y.append(i['daily_Return'])\n",
        "\n",
        "\n",
        "df1 = pd.DataFrame(dict(\n",
        "    {'Date' : x,\n",
        "    'Daily_Return' : y}\n",
        "))\n",
        "\n",
        "fig = px.line(df1, x=\"Date\", y=\"Daily_Return\", title='Daily Return')\n",
        "fig.show()\n",
        "\n",
        "\n",
        "x1=[]\n",
        "y1=[]\n",
        "for i in df2:\n",
        "    x1.append(i['Date'])\n",
        "    y1.append(i['Close'])\n",
        "\n",
        "\n",
        "df3 = pd.DataFrame(dict(\n",
        "    {'Date' : x1,\n",
        "    'Close' : y1}\n",
        "))\n",
        "\n",
        "fig1 = px.line(df3, x=\"Date\", y=\"Close\", title='Stock Trend')\n",
        "fig1.show()"
      ],
      "metadata": {
        "id": "ZP278flkOHSp",
        "colab": {
          "base_uri": "https://localhost:8080/",
          "height": 1000
        },
        "outputId": "63a67bd9-3d88-4820-a2d5-6f8ce81fb0cc"
      },
      "execution_count": 15,
      "outputs": [
        {
          "output_type": "stream",
          "name": "stdout",
          "text": [
            "+------+--------------------+--------------------+--------------+\n",
            "|Symbol|                mean|              stddev|          Risk|\n",
            "+------+--------------------+--------------------+--------------+\n",
            "|   TCS|-9.39882374124136...|0.013726841352564934|LOSS and RISKY|\n",
            "+------+--------------------+--------------------+--------------+\n",
            "\n"
          ]
        },
        {
          "output_type": "display_data",
          "data": {
            "text/html": [
              "<html>\n",
              "<head><meta charset=\"utf-8\" /></head>\n",
              "<body>\n",
              "    <div>\n",
              "            <script src=\"https://cdnjs.cloudflare.com/ajax/libs/mathjax/2.7.5/MathJax.js?config=TeX-AMS-MML_SVG\"></script><script type=\"text/javascript\">if (window.MathJax) {MathJax.Hub.Config({SVG: {font: \"STIX-Web\"}});}</script>\n",
              "                <script type=\"text/javascript\">window.PlotlyConfig = {MathJaxConfig: 'local'};</script>\n",
              "        <script src=\"https://cdn.plot.ly/plotly-latest.min.js\"></script>    \n",
              "            <div id=\"e67e9070-10c8-4b52-af30-c52780a38ef7\" class=\"plotly-graph-div\" style=\"height:525px; width:100%;\"></div>\n",
              "            <script type=\"text/javascript\">\n",
              "                \n",
              "                    window.PLOTLYENV=window.PLOTLYENV || {};\n",
              "                    \n",
              "                if (document.getElementById(\"e67e9070-10c8-4b52-af30-c52780a38ef7\")) {\n",
              "                    Plotly.newPlot(\n",
              "                        'e67e9070-10c8-4b52-af30-c52780a38ef7',\n",
              "                        [{\"hoverlabel\": {\"namelength\": 0}, \"hovertemplate\": \"Date=%{x}<br>Daily_Return=%{y}\", \"legendgroup\": \"\", \"line\": {\"color\": \"#636efa\", \"dash\": \"solid\"}, \"mode\": \"lines\", \"name\": \"\", \"showlegend\": false, \"type\": \"scatter\", \"x\": [\"2019-01-01T00:00:00\", \"2019-01-02T00:00:00\", \"2019-01-03T00:00:00\", \"2019-01-04T00:00:00\", \"2019-01-07T00:00:00\", \"2019-01-08T00:00:00\", \"2019-01-09T00:00:00\", \"2019-01-10T00:00:00\", \"2019-01-11T00:00:00\", \"2019-01-14T00:00:00\", \"2019-01-15T00:00:00\", \"2019-01-16T00:00:00\", \"2019-01-17T00:00:00\", \"2019-01-18T00:00:00\", \"2019-01-21T00:00:00\", \"2019-01-22T00:00:00\", \"2019-01-23T00:00:00\", \"2019-01-24T00:00:00\", \"2019-01-25T00:00:00\", \"2019-01-28T00:00:00\", \"2019-01-29T00:00:00\", \"2019-01-30T00:00:00\", \"2019-01-31T00:00:00\", \"2019-02-01T00:00:00\", \"2019-02-04T00:00:00\", \"2019-02-05T00:00:00\", \"2019-02-06T00:00:00\", \"2019-02-07T00:00:00\", \"2019-02-08T00:00:00\", \"2019-02-11T00:00:00\", \"2019-02-12T00:00:00\", \"2019-02-13T00:00:00\", \"2019-02-14T00:00:00\", \"2019-02-15T00:00:00\", \"2019-02-18T00:00:00\", \"2019-02-19T00:00:00\", \"2019-02-20T00:00:00\", \"2019-02-21T00:00:00\", \"2019-02-22T00:00:00\", \"2019-02-25T00:00:00\", \"2019-02-26T00:00:00\", \"2019-02-27T00:00:00\", \"2019-02-28T00:00:00\", \"2019-03-01T00:00:00\", \"2019-03-05T00:00:00\", \"2019-03-06T00:00:00\", \"2019-03-07T00:00:00\", \"2019-03-08T00:00:00\", \"2019-03-11T00:00:00\", \"2019-03-12T00:00:00\", \"2019-03-13T00:00:00\", \"2019-03-14T00:00:00\", \"2019-03-15T00:00:00\", \"2019-03-18T00:00:00\", \"2019-03-19T00:00:00\", \"2019-03-20T00:00:00\", \"2019-03-22T00:00:00\", \"2019-03-25T00:00:00\", \"2019-03-26T00:00:00\", \"2019-03-27T00:00:00\", \"2019-03-28T00:00:00\", \"2019-03-29T00:00:00\", \"2019-04-01T00:00:00\", \"2019-04-02T00:00:00\", \"2019-04-03T00:00:00\", \"2019-04-04T00:00:00\", \"2019-04-05T00:00:00\", \"2019-04-08T00:00:00\", \"2019-04-09T00:00:00\", \"2019-04-10T00:00:00\", \"2019-04-11T00:00:00\", \"2019-04-12T00:00:00\", \"2019-04-15T00:00:00\", \"2019-04-16T00:00:00\", \"2019-04-18T00:00:00\", \"2019-04-22T00:00:00\", \"2019-04-23T00:00:00\", \"2019-04-24T00:00:00\", \"2019-04-25T00:00:00\", \"2019-04-26T00:00:00\", \"2019-04-30T00:00:00\", \"2019-05-02T00:00:00\", \"2019-05-03T00:00:00\", \"2019-05-06T00:00:00\", \"2019-05-07T00:00:00\", \"2019-05-08T00:00:00\", \"2019-05-09T00:00:00\", \"2019-05-10T00:00:00\", \"2019-05-13T00:00:00\", \"2019-05-14T00:00:00\", \"2019-05-15T00:00:00\", \"2019-05-16T00:00:00\", \"2019-05-17T00:00:00\", \"2019-05-20T00:00:00\", \"2019-05-21T00:00:00\", \"2019-05-22T00:00:00\", \"2019-05-23T00:00:00\", \"2019-05-24T00:00:00\", \"2019-05-27T00:00:00\", \"2019-05-28T00:00:00\", \"2019-05-29T00:00:00\", \"2019-05-30T00:00:00\", \"2019-05-31T00:00:00\", \"2019-06-03T00:00:00\", \"2019-06-04T00:00:00\", \"2019-06-06T00:00:00\", \"2019-06-07T00:00:00\", \"2019-06-10T00:00:00\", \"2019-06-11T00:00:00\", \"2019-06-12T00:00:00\", \"2019-06-13T00:00:00\", \"2019-06-14T00:00:00\", \"2019-06-17T00:00:00\", \"2019-06-18T00:00:00\", \"2019-06-19T00:00:00\", \"2019-06-20T00:00:00\", \"2019-06-21T00:00:00\", \"2019-06-24T00:00:00\", \"2019-06-25T00:00:00\", \"2019-06-26T00:00:00\", \"2019-06-27T00:00:00\", \"2019-06-28T00:00:00\", \"2019-07-01T00:00:00\", \"2019-07-02T00:00:00\", \"2019-07-03T00:00:00\", \"2019-07-04T00:00:00\", \"2019-07-05T00:00:00\", \"2019-07-08T00:00:00\", \"2019-07-09T00:00:00\", \"2019-07-10T00:00:00\", \"2019-07-11T00:00:00\", \"2019-07-12T00:00:00\", \"2019-07-15T00:00:00\", \"2019-07-16T00:00:00\", \"2019-07-17T00:00:00\", \"2019-07-18T00:00:00\", \"2019-07-19T00:00:00\", \"2019-07-22T00:00:00\", \"2019-07-23T00:00:00\", \"2019-07-24T00:00:00\", \"2019-07-25T00:00:00\", \"2019-07-26T00:00:00\", \"2019-07-29T00:00:00\", \"2019-07-30T00:00:00\", \"2019-07-31T00:00:00\", \"2019-08-01T00:00:00\", \"2019-08-02T00:00:00\", \"2019-08-05T00:00:00\", \"2019-08-06T00:00:00\", \"2019-08-07T00:00:00\", \"2019-08-08T00:00:00\", \"2019-08-09T00:00:00\", \"2019-08-13T00:00:00\", \"2019-08-14T00:00:00\", \"2019-08-16T00:00:00\", \"2019-08-19T00:00:00\", \"2019-08-20T00:00:00\", \"2019-08-21T00:00:00\", \"2019-08-22T00:00:00\", \"2019-08-23T00:00:00\", \"2019-08-26T00:00:00\", \"2019-08-27T00:00:00\", \"2019-08-28T00:00:00\", \"2019-08-29T00:00:00\", \"2019-08-30T00:00:00\", \"2019-09-03T00:00:00\", \"2019-09-04T00:00:00\", \"2019-09-05T00:00:00\", \"2019-09-06T00:00:00\", \"2019-09-09T00:00:00\", \"2019-09-11T00:00:00\", \"2019-09-12T00:00:00\", \"2019-09-13T00:00:00\", \"2019-09-16T00:00:00\", \"2019-09-17T00:00:00\", \"2019-09-18T00:00:00\", \"2019-09-19T00:00:00\", \"2019-09-20T00:00:00\", \"2019-09-23T00:00:00\", \"2019-09-24T00:00:00\", \"2019-09-25T00:00:00\", \"2019-09-26T00:00:00\", \"2019-09-27T00:00:00\", \"2019-09-30T00:00:00\", \"2019-10-01T00:00:00\", \"2019-10-03T00:00:00\", \"2019-10-04T00:00:00\", \"2019-10-07T00:00:00\", \"2019-10-09T00:00:00\", \"2019-10-10T00:00:00\", \"2019-10-11T00:00:00\", \"2019-10-14T00:00:00\", \"2019-10-15T00:00:00\", \"2019-10-16T00:00:00\", \"2019-10-17T00:00:00\", \"2019-10-18T00:00:00\", \"2019-10-22T00:00:00\", \"2019-10-23T00:00:00\", \"2019-10-24T00:00:00\", \"2019-10-25T00:00:00\", \"2019-10-27T00:00:00\", \"2019-10-29T00:00:00\", \"2019-10-30T00:00:00\", \"2019-10-31T00:00:00\", \"2019-11-01T00:00:00\", \"2019-11-04T00:00:00\", \"2019-11-05T00:00:00\", \"2019-11-06T00:00:00\", \"2019-11-07T00:00:00\", \"2019-11-08T00:00:00\", \"2019-11-11T00:00:00\", \"2019-11-13T00:00:00\", \"2019-11-14T00:00:00\", \"2019-11-15T00:00:00\", \"2019-11-18T00:00:00\", \"2019-11-19T00:00:00\", \"2019-11-20T00:00:00\", \"2019-11-21T00:00:00\", \"2019-11-22T00:00:00\", \"2019-11-25T00:00:00\", \"2019-11-26T00:00:00\", \"2019-11-27T00:00:00\", \"2019-11-28T00:00:00\", \"2019-11-29T00:00:00\", \"2019-12-02T00:00:00\", \"2019-12-03T00:00:00\", \"2019-12-04T00:00:00\", \"2019-12-05T00:00:00\", \"2019-12-06T00:00:00\", \"2019-12-09T00:00:00\", \"2019-12-10T00:00:00\", \"2019-12-11T00:00:00\", \"2019-12-12T00:00:00\", \"2019-12-13T00:00:00\", \"2019-12-16T00:00:00\", \"2019-12-17T00:00:00\", \"2019-12-18T00:00:00\", \"2019-12-19T00:00:00\", \"2019-12-20T00:00:00\", \"2019-12-23T00:00:00\", \"2019-12-24T00:00:00\", \"2019-12-26T00:00:00\", \"2019-12-27T00:00:00\", \"2019-12-30T00:00:00\", \"2019-12-31T00:00:00\"], \"xaxis\": \"x\", \"y\": [0.0035864978902953345, 0.009606299212598401, -0.009927045336112534, -0.012184210526315837, 0.0032244423300561036, -0.006219166579196041, -0.010721400859809188, -0.0007671957671957913, -0.014679144385026762, -0.019864864864864863, 0.03193370165745854, 8.021390374336415e-05, 0.008679446219382297, 0.010446570972886812, 0.003522607781282884, -0.0027266530334014044, -0.013361388742767013, 0.00888688455008489, 0.009884332281808598, 0.011381272633212623, 0.010575942915392456, 0.0009092746009295727, 0.013638651233014549, 0.010176660860910697, 0.010000246311485482, -0.002658536585365876, 0.012146933996780374, 0.003928184118568546, -0.006554216867469835, 0.002864077669902957, -0.008888888888888932, 0.0016488845780795785, -0.007499817965583491, -0.009419228892142487, -0.033029053788771086, -0.03309644670050764, -0.00013054830287206266, -0.0002872437655046113, 0.0044074692259545405, 0.027244501940491637, 0.027570564516129055, 0.008872549019607798, -0.03716019417475726, 0.00017543419964418758, -0.00842892768079805, 0.0051777006987382265, 0.0041396508728179324, -0.00113580246913578, -0.006949578589383477, -0.0007944192050842378, -0.006209637357178341, -0.008753335494650717, 0.020536294962229203, -0.009887420460107706, -0.0035467980295566725, -0.006385601577909293, -0.004640198511166208, -0.011729255901982247, -0.0006804435483870509, -0.013089267803410186, 0.01025252525252523, -0.00859336305101531, 0.01077114427860701, 0.02071572333218805, -0.0027338129496402006, -0.03062820296898688, 0.009686244546866186, 0.005706653715395823, 0.01038647342995169, -0.020523283725396062, -0.012469437652811735, -0.011530912659470068, 0.020917874396135353, 0.005566037735849142, 6.977068700874037e-05, 0.006261638733705688, -0.0036754507628293195, 0.011793327154772854, 0.009195402298850575, 0.01613708579210176, 0.009738446762413047, -0.017560975609756058, -0.02425629290617849, 0.022677725118483368, -0.003749913196453954, 0.0008600650860064663, 0.01284382284382293, -0.01802298850574704, -0.0019924988279418658, -0.01997658079625297, -0.00076299475441102, 0.006083015267175572, -0.008117958913187584, 0.008917647058823443, -0.01783012499709047, -0.013388625592417061, -0.020948522402287808, -0.010628019323671498, 0.0001703328791122781, 0.006674757281553398, 0.013245192307692395, 0.01097503532736702, 0.016921296296296382, 0.018764198091776547, -0.018390287769784214, -0.014961346066393856, 0.003564857405703772, 0.01584194473528483, 0.007063030844881619, 0.007082405345211621, -0.004372791519434669, -0.0012182965998449441, -0.0030141843971632012, 0.0030525846702316884, 0.0021729490022173352, 0.021502242152466287, -0.015382932166302009, 0.009471419382028662, -0.0009691629955946335, -0.004768211920529882, -0.0010864745011085668, -0.014513274336283266, 0.0020357941834452716, 0.003207269811572817, -0.006460349880117098, 0.0038719785138764955, -0.03733867378727196, 0.012284783620288548, -0.018698252069917244, 0.01355769230769222, -0.011959586466165328, 0.0026164311878597592, 0.009741176470588149, -0.00940733772342427, 0.004388045540796964, -0.02374539268500142, -2.4073182474810735e-05, 0.015840154068367883, -0.007260679543211745, -0.006255924170616028, 0.009009436198966285, -0.009742698844961968, 0.009096077316657104, 0.023075117370892063, 0.015632554391619577, -0.009068181818181736, 0.014864242982052545, 0.022137369880449027, -0.008016839842350453, -0.007421524663677212, 0.013100632599039803, -0.006084070796460177, -0.02028953229398672, 0.010682683049837322, -0.0340412242348533, -0.007798165137614679, 0.00679097605893186, 0.0005720954712922493, 0.013260173754000914, 0.014785886814600782, 0.013039608366711251, -0.014757709251101321, -0.0003348214285714286, 0.005062550625506255, 0.008299866131191392, -0.008105726872246736, -0.008653421633554044, -0.011997145660511835, -0.008348375451263539, -0.007795454545454587, -0.01463860933211345, -0.009930394431554567, 0.003255269320843006, -0.004606588115465552, -0.014988746838673626, 0.0057138826185102005, -0.015480093676815073, -0.01874198299206626, -0.039637922820390685, 0.014739454094292826, 0.011355932203389742, -0.0049096715763383295, -0.013836930455635449, 0.018163299949074993, -0.01717598225148501, -0.004710144927536232, 0.00909929146850432, -0.015528846153846133, -0.019368932038834996, -0.011612426035502936, 0.028922837907819736, 0.013032581453634085, 0.0026082677165354105, 0.004121687929342538, 0.008416087388282048, 0.009742331288343514, -0.013749999999999957, 0.004902912621359179, -0.0009596928982725527, 0.014780324737344707, -0.0062470643494599255, 0.03457459344803201, 0.012494382022471991, 0.008733333333333374, -0.02787102473498229, -0.00591300407793393, 0.0022075557578515744, -0.005227272727272727, -0.008686777046949463, -0.027242418706613123, -0.015948477751756524, 0.028611898016997123, 0.004251428571428654, -0.009813296903460922, -0.01184355490268095, -0.02052949372967943, -0.006314946158014863, 0.0028882575757575328, -0.012064854554125027, 0.003350124123303761, -0.02067134004832874, 0.0011208576998051568, 0.0049829467114969285, -0.015227817745803358, -0.018907766990291286, 0.01149085170390095, 0.012420847540185095, 0.0183869419107058, -0.00018832391713751928, -0.03172067012852746, -0.02288834951456315, 0.008146538955268096, -0.014723806737847896, 0.02385071675729115, 0.014670801526717557, 0.018081354338114187, -0.002874885004599816, 0.0225938159464171, 0.0013063063063063472, 0.009819004524886795, -0.01045109423849937, -0.006519581303014019, -0.004302536231884058, -0.010783869506116983, -0.012471448149840192], \"yaxis\": \"y\"}],\n",
              "                        {\"legend\": {\"tracegroupgap\": 0}, \"template\": {\"data\": {\"bar\": [{\"error_x\": {\"color\": \"#2a3f5f\"}, \"error_y\": {\"color\": \"#2a3f5f\"}, \"marker\": {\"line\": {\"color\": \"#E5ECF6\", \"width\": 0.5}}, \"type\": \"bar\"}], \"barpolar\": [{\"marker\": {\"line\": {\"color\": \"#E5ECF6\", \"width\": 0.5}}, \"type\": \"barpolar\"}], \"carpet\": [{\"aaxis\": {\"endlinecolor\": \"#2a3f5f\", \"gridcolor\": \"white\", \"linecolor\": \"white\", \"minorgridcolor\": \"white\", \"startlinecolor\": \"#2a3f5f\"}, \"baxis\": {\"endlinecolor\": \"#2a3f5f\", \"gridcolor\": \"white\", \"linecolor\": \"white\", \"minorgridcolor\": \"white\", \"startlinecolor\": \"#2a3f5f\"}, \"type\": \"carpet\"}], \"choropleth\": [{\"colorbar\": {\"outlinewidth\": 0, \"ticks\": \"\"}, \"type\": \"choropleth\"}], \"contour\": [{\"colorbar\": {\"outlinewidth\": 0, \"ticks\": \"\"}, \"colorscale\": [[0.0, \"#0d0887\"], [0.1111111111111111, \"#46039f\"], [0.2222222222222222, \"#7201a8\"], [0.3333333333333333, \"#9c179e\"], [0.4444444444444444, \"#bd3786\"], [0.5555555555555556, \"#d8576b\"], [0.6666666666666666, \"#ed7953\"], [0.7777777777777778, \"#fb9f3a\"], [0.8888888888888888, \"#fdca26\"], [1.0, \"#f0f921\"]], \"type\": \"contour\"}], \"contourcarpet\": [{\"colorbar\": {\"outlinewidth\": 0, \"ticks\": \"\"}, \"type\": \"contourcarpet\"}], \"heatmap\": [{\"colorbar\": {\"outlinewidth\": 0, \"ticks\": \"\"}, \"colorscale\": [[0.0, \"#0d0887\"], [0.1111111111111111, \"#46039f\"], [0.2222222222222222, \"#7201a8\"], [0.3333333333333333, \"#9c179e\"], [0.4444444444444444, \"#bd3786\"], [0.5555555555555556, \"#d8576b\"], [0.6666666666666666, \"#ed7953\"], [0.7777777777777778, \"#fb9f3a\"], [0.8888888888888888, \"#fdca26\"], [1.0, \"#f0f921\"]], \"type\": \"heatmap\"}], \"heatmapgl\": [{\"colorbar\": {\"outlinewidth\": 0, \"ticks\": \"\"}, \"colorscale\": [[0.0, \"#0d0887\"], [0.1111111111111111, \"#46039f\"], [0.2222222222222222, \"#7201a8\"], [0.3333333333333333, \"#9c179e\"], [0.4444444444444444, \"#bd3786\"], [0.5555555555555556, \"#d8576b\"], [0.6666666666666666, \"#ed7953\"], [0.7777777777777778, \"#fb9f3a\"], [0.8888888888888888, \"#fdca26\"], [1.0, \"#f0f921\"]], \"type\": \"heatmapgl\"}], \"histogram\": [{\"marker\": {\"colorbar\": {\"outlinewidth\": 0, \"ticks\": \"\"}}, \"type\": \"histogram\"}], \"histogram2d\": [{\"colorbar\": {\"outlinewidth\": 0, \"ticks\": \"\"}, \"colorscale\": [[0.0, \"#0d0887\"], [0.1111111111111111, \"#46039f\"], [0.2222222222222222, \"#7201a8\"], [0.3333333333333333, \"#9c179e\"], [0.4444444444444444, \"#bd3786\"], [0.5555555555555556, \"#d8576b\"], [0.6666666666666666, \"#ed7953\"], [0.7777777777777778, \"#fb9f3a\"], [0.8888888888888888, \"#fdca26\"], [1.0, \"#f0f921\"]], \"type\": \"histogram2d\"}], \"histogram2dcontour\": [{\"colorbar\": {\"outlinewidth\": 0, \"ticks\": \"\"}, \"colorscale\": [[0.0, \"#0d0887\"], [0.1111111111111111, \"#46039f\"], [0.2222222222222222, \"#7201a8\"], [0.3333333333333333, \"#9c179e\"], [0.4444444444444444, \"#bd3786\"], [0.5555555555555556, \"#d8576b\"], [0.6666666666666666, \"#ed7953\"], [0.7777777777777778, \"#fb9f3a\"], [0.8888888888888888, \"#fdca26\"], [1.0, \"#f0f921\"]], \"type\": \"histogram2dcontour\"}], \"mesh3d\": [{\"colorbar\": {\"outlinewidth\": 0, \"ticks\": \"\"}, \"type\": \"mesh3d\"}], \"parcoords\": [{\"line\": {\"colorbar\": {\"outlinewidth\": 0, \"ticks\": \"\"}}, \"type\": \"parcoords\"}], \"pie\": [{\"automargin\": true, \"type\": \"pie\"}], \"scatter\": [{\"marker\": {\"colorbar\": {\"outlinewidth\": 0, \"ticks\": \"\"}}, \"type\": \"scatter\"}], \"scatter3d\": [{\"line\": {\"colorbar\": {\"outlinewidth\": 0, \"ticks\": \"\"}}, \"marker\": {\"colorbar\": {\"outlinewidth\": 0, \"ticks\": \"\"}}, \"type\": \"scatter3d\"}], \"scattercarpet\": [{\"marker\": {\"colorbar\": {\"outlinewidth\": 0, \"ticks\": \"\"}}, \"type\": \"scattercarpet\"}], \"scattergeo\": [{\"marker\": {\"colorbar\": {\"outlinewidth\": 0, \"ticks\": \"\"}}, \"type\": \"scattergeo\"}], \"scattergl\": [{\"marker\": {\"colorbar\": {\"outlinewidth\": 0, \"ticks\": \"\"}}, \"type\": \"scattergl\"}], \"scattermapbox\": [{\"marker\": {\"colorbar\": {\"outlinewidth\": 0, \"ticks\": \"\"}}, \"type\": \"scattermapbox\"}], \"scatterpolar\": [{\"marker\": {\"colorbar\": {\"outlinewidth\": 0, \"ticks\": \"\"}}, \"type\": \"scatterpolar\"}], \"scatterpolargl\": [{\"marker\": {\"colorbar\": {\"outlinewidth\": 0, \"ticks\": \"\"}}, \"type\": \"scatterpolargl\"}], \"scatterternary\": [{\"marker\": {\"colorbar\": {\"outlinewidth\": 0, \"ticks\": \"\"}}, \"type\": \"scatterternary\"}], \"surface\": [{\"colorbar\": {\"outlinewidth\": 0, \"ticks\": \"\"}, \"colorscale\": [[0.0, \"#0d0887\"], [0.1111111111111111, \"#46039f\"], [0.2222222222222222, \"#7201a8\"], [0.3333333333333333, \"#9c179e\"], [0.4444444444444444, \"#bd3786\"], [0.5555555555555556, \"#d8576b\"], [0.6666666666666666, \"#ed7953\"], [0.7777777777777778, \"#fb9f3a\"], [0.8888888888888888, \"#fdca26\"], [1.0, \"#f0f921\"]], \"type\": \"surface\"}], \"table\": [{\"cells\": {\"fill\": {\"color\": \"#EBF0F8\"}, \"line\": {\"color\": \"white\"}}, \"header\": {\"fill\": {\"color\": \"#C8D4E3\"}, \"line\": {\"color\": \"white\"}}, \"type\": \"table\"}]}, \"layout\": {\"annotationdefaults\": {\"arrowcolor\": \"#2a3f5f\", \"arrowhead\": 0, \"arrowwidth\": 1}, \"coloraxis\": {\"colorbar\": {\"outlinewidth\": 0, \"ticks\": \"\"}}, \"colorscale\": {\"diverging\": [[0, \"#8e0152\"], [0.1, \"#c51b7d\"], [0.2, \"#de77ae\"], [0.3, \"#f1b6da\"], [0.4, \"#fde0ef\"], [0.5, \"#f7f7f7\"], [0.6, \"#e6f5d0\"], [0.7, \"#b8e186\"], [0.8, \"#7fbc41\"], [0.9, \"#4d9221\"], [1, \"#276419\"]], \"sequential\": [[0.0, \"#0d0887\"], [0.1111111111111111, \"#46039f\"], [0.2222222222222222, \"#7201a8\"], [0.3333333333333333, \"#9c179e\"], [0.4444444444444444, \"#bd3786\"], [0.5555555555555556, \"#d8576b\"], [0.6666666666666666, \"#ed7953\"], [0.7777777777777778, \"#fb9f3a\"], [0.8888888888888888, \"#fdca26\"], [1.0, \"#f0f921\"]], \"sequentialminus\": [[0.0, \"#0d0887\"], [0.1111111111111111, \"#46039f\"], [0.2222222222222222, \"#7201a8\"], [0.3333333333333333, \"#9c179e\"], [0.4444444444444444, \"#bd3786\"], [0.5555555555555556, \"#d8576b\"], [0.6666666666666666, \"#ed7953\"], [0.7777777777777778, \"#fb9f3a\"], [0.8888888888888888, \"#fdca26\"], [1.0, \"#f0f921\"]]}, \"colorway\": [\"#636efa\", \"#EF553B\", \"#00cc96\", \"#ab63fa\", \"#FFA15A\", \"#19d3f3\", \"#FF6692\", \"#B6E880\", \"#FF97FF\", \"#FECB52\"], \"font\": {\"color\": \"#2a3f5f\"}, \"geo\": {\"bgcolor\": \"white\", \"lakecolor\": \"white\", \"landcolor\": \"#E5ECF6\", \"showlakes\": true, \"showland\": true, \"subunitcolor\": \"white\"}, \"hoverlabel\": {\"align\": \"left\"}, \"hovermode\": \"closest\", \"mapbox\": {\"style\": \"light\"}, \"paper_bgcolor\": \"white\", \"plot_bgcolor\": \"#E5ECF6\", \"polar\": {\"angularaxis\": {\"gridcolor\": \"white\", \"linecolor\": \"white\", \"ticks\": \"\"}, \"bgcolor\": \"#E5ECF6\", \"radialaxis\": {\"gridcolor\": \"white\", \"linecolor\": \"white\", \"ticks\": \"\"}}, \"scene\": {\"xaxis\": {\"backgroundcolor\": \"#E5ECF6\", \"gridcolor\": \"white\", \"gridwidth\": 2, \"linecolor\": \"white\", \"showbackground\": true, \"ticks\": \"\", \"zerolinecolor\": \"white\"}, \"yaxis\": {\"backgroundcolor\": \"#E5ECF6\", \"gridcolor\": \"white\", \"gridwidth\": 2, \"linecolor\": \"white\", \"showbackground\": true, \"ticks\": \"\", \"zerolinecolor\": \"white\"}, \"zaxis\": {\"backgroundcolor\": \"#E5ECF6\", \"gridcolor\": \"white\", \"gridwidth\": 2, \"linecolor\": \"white\", \"showbackground\": true, \"ticks\": \"\", \"zerolinecolor\": \"white\"}}, \"shapedefaults\": {\"line\": {\"color\": \"#2a3f5f\"}}, \"ternary\": {\"aaxis\": {\"gridcolor\": \"white\", \"linecolor\": \"white\", \"ticks\": \"\"}, \"baxis\": {\"gridcolor\": \"white\", \"linecolor\": \"white\", \"ticks\": \"\"}, \"bgcolor\": \"#E5ECF6\", \"caxis\": {\"gridcolor\": \"white\", \"linecolor\": \"white\", \"ticks\": \"\"}}, \"title\": {\"x\": 0.05}, \"xaxis\": {\"automargin\": true, \"gridcolor\": \"white\", \"linecolor\": \"white\", \"ticks\": \"\", \"title\": {\"standoff\": 15}, \"zerolinecolor\": \"white\", \"zerolinewidth\": 2}, \"yaxis\": {\"automargin\": true, \"gridcolor\": \"white\", \"linecolor\": \"white\", \"ticks\": \"\", \"title\": {\"standoff\": 15}, \"zerolinecolor\": \"white\", \"zerolinewidth\": 2}}}, \"title\": {\"text\": \"Daily Return\"}, \"xaxis\": {\"anchor\": \"y\", \"domain\": [0.0, 1.0], \"title\": {\"text\": \"Date\"}}, \"yaxis\": {\"anchor\": \"x\", \"domain\": [0.0, 1.0], \"title\": {\"text\": \"Daily_Return\"}}},\n",
              "                        {\"responsive\": true}\n",
              "                    ).then(function(){\n",
              "                            \n",
              "var gd = document.getElementById('e67e9070-10c8-4b52-af30-c52780a38ef7');\n",
              "var x = new MutationObserver(function (mutations, observer) {{\n",
              "        var display = window.getComputedStyle(gd).display;\n",
              "        if (!display || display === 'none') {{\n",
              "            console.log([gd, 'removed!']);\n",
              "            Plotly.purge(gd);\n",
              "            observer.disconnect();\n",
              "        }}\n",
              "}});\n",
              "\n",
              "// Listen for the removal of the full notebook cells\n",
              "var notebookContainer = gd.closest('#notebook-container');\n",
              "if (notebookContainer) {{\n",
              "    x.observe(notebookContainer, {childList: true});\n",
              "}}\n",
              "\n",
              "// Listen for the clearing of the current output cell\n",
              "var outputEl = gd.closest('.output');\n",
              "if (outputEl) {{\n",
              "    x.observe(outputEl, {childList: true});\n",
              "}}\n",
              "\n",
              "                        })\n",
              "                };\n",
              "                \n",
              "            </script>\n",
              "        </div>\n",
              "</body>\n",
              "</html>"
            ]
          },
          "metadata": {}
        },
        {
          "output_type": "display_data",
          "data": {
            "text/html": [
              "<html>\n",
              "<head><meta charset=\"utf-8\" /></head>\n",
              "<body>\n",
              "    <div>\n",
              "            <script src=\"https://cdnjs.cloudflare.com/ajax/libs/mathjax/2.7.5/MathJax.js?config=TeX-AMS-MML_SVG\"></script><script type=\"text/javascript\">if (window.MathJax) {MathJax.Hub.Config({SVG: {font: \"STIX-Web\"}});}</script>\n",
              "                <script type=\"text/javascript\">window.PlotlyConfig = {MathJaxConfig: 'local'};</script>\n",
              "        <script src=\"https://cdn.plot.ly/plotly-latest.min.js\"></script>    \n",
              "            <div id=\"d13de449-696d-4510-b540-605f1266d28c\" class=\"plotly-graph-div\" style=\"height:525px; width:100%;\"></div>\n",
              "            <script type=\"text/javascript\">\n",
              "                \n",
              "                    window.PLOTLYENV=window.PLOTLYENV || {};\n",
              "                    \n",
              "                if (document.getElementById(\"d13de449-696d-4510-b540-605f1266d28c\")) {\n",
              "                    Plotly.newPlot(\n",
              "                        'd13de449-696d-4510-b540-605f1266d28c',\n",
              "                        [{\"hoverlabel\": {\"namelength\": 0}, \"hovertemplate\": \"Date=%{x}<br>Close=%{y}\", \"legendgroup\": \"\", \"line\": {\"color\": \"#636efa\", \"dash\": \"solid\"}, \"mode\": \"lines\", \"name\": \"\", \"showlegend\": false, \"type\": \"scatter\", \"x\": [\"2019-01-01T00:00:00\", \"2019-01-02T00:00:00\", \"2019-01-03T00:00:00\", \"2019-01-04T00:00:00\", \"2019-01-07T00:00:00\", \"2019-01-08T00:00:00\", \"2019-01-09T00:00:00\", \"2019-01-10T00:00:00\", \"2019-01-11T00:00:00\", \"2019-01-14T00:00:00\", \"2019-01-15T00:00:00\", \"2019-01-16T00:00:00\", \"2019-01-17T00:00:00\", \"2019-01-18T00:00:00\", \"2019-01-21T00:00:00\", \"2019-01-22T00:00:00\", \"2019-01-23T00:00:00\", \"2019-01-24T00:00:00\", \"2019-01-25T00:00:00\", \"2019-01-28T00:00:00\", \"2019-01-29T00:00:00\", \"2019-01-30T00:00:00\", \"2019-01-31T00:00:00\", \"2019-02-01T00:00:00\", \"2019-02-04T00:00:00\", \"2019-02-05T00:00:00\", \"2019-02-06T00:00:00\", \"2019-02-07T00:00:00\", \"2019-02-08T00:00:00\", \"2019-02-11T00:00:00\", \"2019-02-12T00:00:00\", \"2019-02-13T00:00:00\", \"2019-02-14T00:00:00\", \"2019-02-15T00:00:00\", \"2019-02-18T00:00:00\", \"2019-02-19T00:00:00\", \"2019-02-20T00:00:00\", \"2019-02-21T00:00:00\", \"2019-02-22T00:00:00\", \"2019-02-25T00:00:00\", \"2019-02-26T00:00:00\", \"2019-02-27T00:00:00\", \"2019-02-28T00:00:00\", \"2019-03-01T00:00:00\", \"2019-03-05T00:00:00\", \"2019-03-06T00:00:00\", \"2019-03-07T00:00:00\", \"2019-03-08T00:00:00\", \"2019-03-11T00:00:00\", \"2019-03-12T00:00:00\", \"2019-03-13T00:00:00\", \"2019-03-14T00:00:00\", \"2019-03-15T00:00:00\", \"2019-03-18T00:00:00\", \"2019-03-19T00:00:00\", \"2019-03-20T00:00:00\", \"2019-03-22T00:00:00\", \"2019-03-25T00:00:00\", \"2019-03-26T00:00:00\", \"2019-03-27T00:00:00\", \"2019-03-28T00:00:00\", \"2019-03-29T00:00:00\", \"2019-04-01T00:00:00\", \"2019-04-02T00:00:00\", \"2019-04-03T00:00:00\", \"2019-04-04T00:00:00\", \"2019-04-05T00:00:00\", \"2019-04-08T00:00:00\", \"2019-04-09T00:00:00\", \"2019-04-10T00:00:00\", \"2019-04-11T00:00:00\", \"2019-04-12T00:00:00\", \"2019-04-15T00:00:00\", \"2019-04-16T00:00:00\", \"2019-04-18T00:00:00\", \"2019-04-22T00:00:00\", \"2019-04-23T00:00:00\", \"2019-04-24T00:00:00\", \"2019-04-25T00:00:00\", \"2019-04-26T00:00:00\", \"2019-04-30T00:00:00\", \"2019-05-02T00:00:00\", \"2019-05-03T00:00:00\", \"2019-05-06T00:00:00\", \"2019-05-07T00:00:00\", \"2019-05-08T00:00:00\", \"2019-05-09T00:00:00\", \"2019-05-10T00:00:00\", \"2019-05-13T00:00:00\", \"2019-05-14T00:00:00\", \"2019-05-15T00:00:00\", \"2019-05-16T00:00:00\", \"2019-05-17T00:00:00\", \"2019-05-20T00:00:00\", \"2019-05-21T00:00:00\", \"2019-05-22T00:00:00\", \"2019-05-23T00:00:00\", \"2019-05-24T00:00:00\", \"2019-05-27T00:00:00\", \"2019-05-28T00:00:00\", \"2019-05-29T00:00:00\", \"2019-05-30T00:00:00\", \"2019-05-31T00:00:00\", \"2019-06-03T00:00:00\", \"2019-06-04T00:00:00\", \"2019-06-06T00:00:00\", \"2019-06-07T00:00:00\", \"2019-06-10T00:00:00\", \"2019-06-11T00:00:00\", \"2019-06-12T00:00:00\", \"2019-06-13T00:00:00\", \"2019-06-14T00:00:00\", \"2019-06-17T00:00:00\", \"2019-06-18T00:00:00\", \"2019-06-19T00:00:00\", \"2019-06-20T00:00:00\", \"2019-06-21T00:00:00\", \"2019-06-24T00:00:00\", \"2019-06-25T00:00:00\", \"2019-06-26T00:00:00\", \"2019-06-27T00:00:00\", \"2019-06-28T00:00:00\", \"2019-07-01T00:00:00\", \"2019-07-02T00:00:00\", \"2019-07-03T00:00:00\", \"2019-07-04T00:00:00\", \"2019-07-05T00:00:00\", \"2019-07-08T00:00:00\", \"2019-07-09T00:00:00\", \"2019-07-10T00:00:00\", \"2019-07-11T00:00:00\", \"2019-07-12T00:00:00\", \"2019-07-15T00:00:00\", \"2019-07-16T00:00:00\", \"2019-07-17T00:00:00\", \"2019-07-18T00:00:00\", \"2019-07-19T00:00:00\", \"2019-07-22T00:00:00\", \"2019-07-23T00:00:00\", \"2019-07-24T00:00:00\", \"2019-07-25T00:00:00\", \"2019-07-26T00:00:00\", \"2019-07-29T00:00:00\", \"2019-07-30T00:00:00\", \"2019-07-31T00:00:00\", \"2019-08-01T00:00:00\", \"2019-08-02T00:00:00\", \"2019-08-05T00:00:00\", \"2019-08-06T00:00:00\", \"2019-08-07T00:00:00\", \"2019-08-08T00:00:00\", \"2019-08-09T00:00:00\", \"2019-08-13T00:00:00\", \"2019-08-14T00:00:00\", \"2019-08-16T00:00:00\", \"2019-08-19T00:00:00\", \"2019-08-20T00:00:00\", \"2019-08-21T00:00:00\", \"2019-08-22T00:00:00\", \"2019-08-23T00:00:00\", \"2019-08-26T00:00:00\", \"2019-08-27T00:00:00\", \"2019-08-28T00:00:00\", \"2019-08-29T00:00:00\", \"2019-08-30T00:00:00\", \"2019-09-03T00:00:00\", \"2019-09-04T00:00:00\", \"2019-09-05T00:00:00\", \"2019-09-06T00:00:00\", \"2019-09-09T00:00:00\", \"2019-09-11T00:00:00\", \"2019-09-12T00:00:00\", \"2019-09-13T00:00:00\", \"2019-09-16T00:00:00\", \"2019-09-17T00:00:00\", \"2019-09-18T00:00:00\", \"2019-09-19T00:00:00\", \"2019-09-20T00:00:00\", \"2019-09-23T00:00:00\", \"2019-09-24T00:00:00\", \"2019-09-25T00:00:00\", \"2019-09-26T00:00:00\", \"2019-09-27T00:00:00\", \"2019-09-30T00:00:00\", \"2019-10-01T00:00:00\", \"2019-10-03T00:00:00\", \"2019-10-04T00:00:00\", \"2019-10-07T00:00:00\", \"2019-10-09T00:00:00\", \"2019-10-10T00:00:00\", \"2019-10-11T00:00:00\", \"2019-10-14T00:00:00\", \"2019-10-15T00:00:00\", \"2019-10-16T00:00:00\", \"2019-10-17T00:00:00\", \"2019-10-18T00:00:00\", \"2019-10-22T00:00:00\", \"2019-10-23T00:00:00\", \"2019-10-24T00:00:00\", \"2019-10-25T00:00:00\", \"2019-10-27T00:00:00\", \"2019-10-29T00:00:00\", \"2019-10-30T00:00:00\", \"2019-10-31T00:00:00\", \"2019-11-01T00:00:00\", \"2019-11-04T00:00:00\", \"2019-11-05T00:00:00\", \"2019-11-06T00:00:00\", \"2019-11-07T00:00:00\", \"2019-11-08T00:00:00\", \"2019-11-11T00:00:00\", \"2019-11-13T00:00:00\", \"2019-11-14T00:00:00\", \"2019-11-15T00:00:00\", \"2019-11-18T00:00:00\", \"2019-11-19T00:00:00\", \"2019-11-20T00:00:00\", \"2019-11-21T00:00:00\", \"2019-11-22T00:00:00\", \"2019-11-25T00:00:00\", \"2019-11-26T00:00:00\", \"2019-11-27T00:00:00\", \"2019-11-28T00:00:00\", \"2019-11-29T00:00:00\", \"2019-12-02T00:00:00\", \"2019-12-03T00:00:00\", \"2019-12-04T00:00:00\", \"2019-12-05T00:00:00\", \"2019-12-06T00:00:00\", \"2019-12-09T00:00:00\", \"2019-12-10T00:00:00\", \"2019-12-11T00:00:00\", \"2019-12-12T00:00:00\", \"2019-12-13T00:00:00\", \"2019-12-16T00:00:00\", \"2019-12-17T00:00:00\", \"2019-12-18T00:00:00\", \"2019-12-19T00:00:00\", \"2019-12-20T00:00:00\", \"2019-12-23T00:00:00\", \"2019-12-24T00:00:00\", \"2019-12-26T00:00:00\", \"2019-12-27T00:00:00\", \"2019-12-30T00:00:00\", \"2019-12-31T00:00:00\"], \"xaxis\": \"x\", \"y\": [1902.8, 1923.3, 1899.95, 1876.85, 1897.9, 1893.55, 1886.95, 1888.55, 1842.55, 1813.25, 1867.8, 1870.15, 1894.3, 1900.65, 1908.7, 1901.9, 1875.6, 1901.55, 1920.8, 1955.0, 1982.75, 1981.4, 2014.1, 2029.95, 2050.25, 2044.55, 2074.8, 2082.9, 2061.4, 2065.9, 2051.6, 2065.4, 2044.6, 2029.7, 1970.3, 1904.8, 1914.75, 1914.2, 1925.65, 1985.15, 2038.7, 2058.1, 1983.45, 1995.4, 1988.1, 1999.6, 2013.3, 2022.7, 2014.8, 2012.45, 2000.5, 1987.4, 2039.95, 2022.8, 2022.8, 2015.05, 2005.65, 1984.25, 1982.65, 1967.9, 2000.3, 2001.65, 2031.65, 2079.3, 2079.3, 2014.5, 2048.3, 2070.75, 2091.5, 2040.25, 2019.5, 2014.5, 2113.3, 2131.8, 2150.05, 2161.45, 2155.05, 2183.45, 2195.0, 2238.55, 2260.35, 2215.4, 2132.0, 2157.85, 2151.95, 2152.85, 2172.55, 2135.8, 2128.75, 2092.35, 2095.4, 2108.75, 2095.45, 2143.95, 2109.75, 2081.75, 2054.05, 2048.0, 2055.15, 2073.75, 2107.55, 2146.3, 2196.55, 2242.3, 2183.1, 2166.1, 2181.75, 2231.5, 2252.8, 2260.9, 2254.1, 2254.5, 2249.2, 2250.85, 2259.9, 2277.95, 2249.85, 2275.5, 2267.8, 2254.2, 2252.55, 2227.2, 2239.55, 2252.1, 2237.65, 2242.65, 2163.1, 2175.4, 2133.35, 2108.2, 2102.55, 2107.6, 2145.7, 2106.0, 2117.25, 2065.95, 2076.95, 2109.9, 2112.45, 2096.8, 2127.9, 2109.05, 2130.0, 2179.15, 2205.7, 2180.05, 2205.3, 2248.6, 2214.9, 2213.45, 2258.1, 2246.25, 2199.45, 2204.4, 2165.1, 2163.0, 2186.75, 2186.2, 2216.0, 2247.7, 2276.3, 2236.5, 2239.25, 2233.45, 2259.6, 2251.6, 2245.4, 2215.3, 2197.5, 2182.85, 2154.0, 2133.6, 2141.95, 2150.0, 2122.65, 2138.55, 2101.95, 2065.45, 2015.8, 2044.7, 2088.45, 2087.6, 2056.15, 2099.3, 2059.95, 2060.25, 2079.35, 2047.7, 2020.1, 2004.45, 1986.85, 2021.0, 2037.3, 2046.4, 2030.95, 2057.35, 2051.4, 2070.1, 2082.0, 2124.95, 2115.7, 2194.85, 2252.8, 2269.65, 2200.9, 2193.95, 2201.85, 2188.5, 2185.35, 2129.95, 2100.95, 2178.6, 2196.8, 2174.45, 2152.6, 2108.8, 2108.55, 2118.1, 2071.7, 2081.5, 2046.65, 2054.3, 2077.35, 2053.25, 2021.05, 2051.0, 2078.5, 2121.3, 2123.6, 2060.45, 2012.85, 2041.9, 2020.9, 2071.25, 2126.75, 2164.95, 2167.75, 2229.05, 2222.9, 2231.7, 2215.6, 2201.95, 2198.5, 2183.2, 2161.7], \"yaxis\": \"y\"}],\n",
              "                        {\"legend\": {\"tracegroupgap\": 0}, \"template\": {\"data\": {\"bar\": [{\"error_x\": {\"color\": \"#2a3f5f\"}, \"error_y\": {\"color\": \"#2a3f5f\"}, \"marker\": {\"line\": {\"color\": \"#E5ECF6\", \"width\": 0.5}}, \"type\": \"bar\"}], \"barpolar\": [{\"marker\": {\"line\": {\"color\": \"#E5ECF6\", \"width\": 0.5}}, \"type\": \"barpolar\"}], \"carpet\": [{\"aaxis\": {\"endlinecolor\": \"#2a3f5f\", \"gridcolor\": \"white\", \"linecolor\": \"white\", \"minorgridcolor\": \"white\", \"startlinecolor\": \"#2a3f5f\"}, \"baxis\": {\"endlinecolor\": \"#2a3f5f\", \"gridcolor\": \"white\", \"linecolor\": \"white\", \"minorgridcolor\": \"white\", \"startlinecolor\": \"#2a3f5f\"}, \"type\": \"carpet\"}], \"choropleth\": [{\"colorbar\": {\"outlinewidth\": 0, \"ticks\": \"\"}, \"type\": \"choropleth\"}], \"contour\": [{\"colorbar\": {\"outlinewidth\": 0, \"ticks\": \"\"}, \"colorscale\": [[0.0, \"#0d0887\"], [0.1111111111111111, \"#46039f\"], [0.2222222222222222, \"#7201a8\"], [0.3333333333333333, \"#9c179e\"], [0.4444444444444444, \"#bd3786\"], [0.5555555555555556, \"#d8576b\"], [0.6666666666666666, \"#ed7953\"], [0.7777777777777778, \"#fb9f3a\"], [0.8888888888888888, \"#fdca26\"], [1.0, \"#f0f921\"]], \"type\": \"contour\"}], \"contourcarpet\": [{\"colorbar\": {\"outlinewidth\": 0, \"ticks\": \"\"}, \"type\": \"contourcarpet\"}], \"heatmap\": [{\"colorbar\": {\"outlinewidth\": 0, \"ticks\": \"\"}, \"colorscale\": [[0.0, \"#0d0887\"], [0.1111111111111111, \"#46039f\"], [0.2222222222222222, \"#7201a8\"], [0.3333333333333333, \"#9c179e\"], [0.4444444444444444, \"#bd3786\"], [0.5555555555555556, \"#d8576b\"], [0.6666666666666666, \"#ed7953\"], [0.7777777777777778, \"#fb9f3a\"], [0.8888888888888888, \"#fdca26\"], [1.0, \"#f0f921\"]], \"type\": \"heatmap\"}], \"heatmapgl\": [{\"colorbar\": {\"outlinewidth\": 0, \"ticks\": \"\"}, \"colorscale\": [[0.0, \"#0d0887\"], [0.1111111111111111, \"#46039f\"], [0.2222222222222222, \"#7201a8\"], [0.3333333333333333, \"#9c179e\"], [0.4444444444444444, \"#bd3786\"], [0.5555555555555556, \"#d8576b\"], [0.6666666666666666, \"#ed7953\"], [0.7777777777777778, \"#fb9f3a\"], [0.8888888888888888, \"#fdca26\"], [1.0, \"#f0f921\"]], \"type\": \"heatmapgl\"}], \"histogram\": [{\"marker\": {\"colorbar\": {\"outlinewidth\": 0, \"ticks\": \"\"}}, \"type\": \"histogram\"}], \"histogram2d\": [{\"colorbar\": {\"outlinewidth\": 0, \"ticks\": \"\"}, \"colorscale\": [[0.0, \"#0d0887\"], [0.1111111111111111, \"#46039f\"], [0.2222222222222222, \"#7201a8\"], [0.3333333333333333, \"#9c179e\"], [0.4444444444444444, \"#bd3786\"], [0.5555555555555556, \"#d8576b\"], [0.6666666666666666, \"#ed7953\"], [0.7777777777777778, \"#fb9f3a\"], [0.8888888888888888, \"#fdca26\"], [1.0, \"#f0f921\"]], \"type\": \"histogram2d\"}], \"histogram2dcontour\": [{\"colorbar\": {\"outlinewidth\": 0, \"ticks\": \"\"}, \"colorscale\": [[0.0, \"#0d0887\"], [0.1111111111111111, \"#46039f\"], [0.2222222222222222, \"#7201a8\"], [0.3333333333333333, \"#9c179e\"], [0.4444444444444444, \"#bd3786\"], [0.5555555555555556, \"#d8576b\"], [0.6666666666666666, \"#ed7953\"], [0.7777777777777778, \"#fb9f3a\"], [0.8888888888888888, \"#fdca26\"], [1.0, \"#f0f921\"]], \"type\": \"histogram2dcontour\"}], \"mesh3d\": [{\"colorbar\": {\"outlinewidth\": 0, \"ticks\": \"\"}, \"type\": \"mesh3d\"}], \"parcoords\": [{\"line\": {\"colorbar\": {\"outlinewidth\": 0, \"ticks\": \"\"}}, \"type\": \"parcoords\"}], \"pie\": [{\"automargin\": true, \"type\": \"pie\"}], \"scatter\": [{\"marker\": {\"colorbar\": {\"outlinewidth\": 0, \"ticks\": \"\"}}, \"type\": \"scatter\"}], \"scatter3d\": [{\"line\": {\"colorbar\": {\"outlinewidth\": 0, \"ticks\": \"\"}}, \"marker\": {\"colorbar\": {\"outlinewidth\": 0, \"ticks\": \"\"}}, \"type\": \"scatter3d\"}], \"scattercarpet\": [{\"marker\": {\"colorbar\": {\"outlinewidth\": 0, \"ticks\": \"\"}}, \"type\": \"scattercarpet\"}], \"scattergeo\": [{\"marker\": {\"colorbar\": {\"outlinewidth\": 0, \"ticks\": \"\"}}, \"type\": \"scattergeo\"}], \"scattergl\": [{\"marker\": {\"colorbar\": {\"outlinewidth\": 0, \"ticks\": \"\"}}, \"type\": \"scattergl\"}], \"scattermapbox\": [{\"marker\": {\"colorbar\": {\"outlinewidth\": 0, \"ticks\": \"\"}}, \"type\": \"scattermapbox\"}], \"scatterpolar\": [{\"marker\": {\"colorbar\": {\"outlinewidth\": 0, \"ticks\": \"\"}}, \"type\": \"scatterpolar\"}], \"scatterpolargl\": [{\"marker\": {\"colorbar\": {\"outlinewidth\": 0, \"ticks\": \"\"}}, \"type\": \"scatterpolargl\"}], \"scatterternary\": [{\"marker\": {\"colorbar\": {\"outlinewidth\": 0, \"ticks\": \"\"}}, \"type\": \"scatterternary\"}], \"surface\": [{\"colorbar\": {\"outlinewidth\": 0, \"ticks\": \"\"}, \"colorscale\": [[0.0, \"#0d0887\"], [0.1111111111111111, \"#46039f\"], [0.2222222222222222, \"#7201a8\"], [0.3333333333333333, \"#9c179e\"], [0.4444444444444444, \"#bd3786\"], [0.5555555555555556, \"#d8576b\"], [0.6666666666666666, \"#ed7953\"], [0.7777777777777778, \"#fb9f3a\"], [0.8888888888888888, \"#fdca26\"], [1.0, \"#f0f921\"]], \"type\": \"surface\"}], \"table\": [{\"cells\": {\"fill\": {\"color\": \"#EBF0F8\"}, \"line\": {\"color\": \"white\"}}, \"header\": {\"fill\": {\"color\": \"#C8D4E3\"}, \"line\": {\"color\": \"white\"}}, \"type\": \"table\"}]}, \"layout\": {\"annotationdefaults\": {\"arrowcolor\": \"#2a3f5f\", \"arrowhead\": 0, \"arrowwidth\": 1}, \"coloraxis\": {\"colorbar\": {\"outlinewidth\": 0, \"ticks\": \"\"}}, \"colorscale\": {\"diverging\": [[0, \"#8e0152\"], [0.1, \"#c51b7d\"], [0.2, \"#de77ae\"], [0.3, \"#f1b6da\"], [0.4, \"#fde0ef\"], [0.5, \"#f7f7f7\"], [0.6, \"#e6f5d0\"], [0.7, \"#b8e186\"], [0.8, \"#7fbc41\"], [0.9, \"#4d9221\"], [1, \"#276419\"]], \"sequential\": [[0.0, \"#0d0887\"], [0.1111111111111111, \"#46039f\"], [0.2222222222222222, \"#7201a8\"], [0.3333333333333333, \"#9c179e\"], [0.4444444444444444, \"#bd3786\"], [0.5555555555555556, \"#d8576b\"], [0.6666666666666666, \"#ed7953\"], [0.7777777777777778, \"#fb9f3a\"], [0.8888888888888888, \"#fdca26\"], [1.0, \"#f0f921\"]], \"sequentialminus\": [[0.0, \"#0d0887\"], [0.1111111111111111, \"#46039f\"], [0.2222222222222222, \"#7201a8\"], [0.3333333333333333, \"#9c179e\"], [0.4444444444444444, \"#bd3786\"], [0.5555555555555556, \"#d8576b\"], [0.6666666666666666, \"#ed7953\"], [0.7777777777777778, \"#fb9f3a\"], [0.8888888888888888, \"#fdca26\"], [1.0, \"#f0f921\"]]}, \"colorway\": [\"#636efa\", \"#EF553B\", \"#00cc96\", \"#ab63fa\", \"#FFA15A\", \"#19d3f3\", \"#FF6692\", \"#B6E880\", \"#FF97FF\", \"#FECB52\"], \"font\": {\"color\": \"#2a3f5f\"}, \"geo\": {\"bgcolor\": \"white\", \"lakecolor\": \"white\", \"landcolor\": \"#E5ECF6\", \"showlakes\": true, \"showland\": true, \"subunitcolor\": \"white\"}, \"hoverlabel\": {\"align\": \"left\"}, \"hovermode\": \"closest\", \"mapbox\": {\"style\": \"light\"}, \"paper_bgcolor\": \"white\", \"plot_bgcolor\": \"#E5ECF6\", \"polar\": {\"angularaxis\": {\"gridcolor\": \"white\", \"linecolor\": \"white\", \"ticks\": \"\"}, \"bgcolor\": \"#E5ECF6\", \"radialaxis\": {\"gridcolor\": \"white\", \"linecolor\": \"white\", \"ticks\": \"\"}}, \"scene\": {\"xaxis\": {\"backgroundcolor\": \"#E5ECF6\", \"gridcolor\": \"white\", \"gridwidth\": 2, \"linecolor\": \"white\", \"showbackground\": true, \"ticks\": \"\", \"zerolinecolor\": \"white\"}, \"yaxis\": {\"backgroundcolor\": \"#E5ECF6\", \"gridcolor\": \"white\", \"gridwidth\": 2, \"linecolor\": \"white\", \"showbackground\": true, \"ticks\": \"\", \"zerolinecolor\": \"white\"}, \"zaxis\": {\"backgroundcolor\": \"#E5ECF6\", \"gridcolor\": \"white\", \"gridwidth\": 2, \"linecolor\": \"white\", \"showbackground\": true, \"ticks\": \"\", \"zerolinecolor\": \"white\"}}, \"shapedefaults\": {\"line\": {\"color\": \"#2a3f5f\"}}, \"ternary\": {\"aaxis\": {\"gridcolor\": \"white\", \"linecolor\": \"white\", \"ticks\": \"\"}, \"baxis\": {\"gridcolor\": \"white\", \"linecolor\": \"white\", \"ticks\": \"\"}, \"bgcolor\": \"#E5ECF6\", \"caxis\": {\"gridcolor\": \"white\", \"linecolor\": \"white\", \"ticks\": \"\"}}, \"title\": {\"x\": 0.05}, \"xaxis\": {\"automargin\": true, \"gridcolor\": \"white\", \"linecolor\": \"white\", \"ticks\": \"\", \"title\": {\"standoff\": 15}, \"zerolinecolor\": \"white\", \"zerolinewidth\": 2}, \"yaxis\": {\"automargin\": true, \"gridcolor\": \"white\", \"linecolor\": \"white\", \"ticks\": \"\", \"title\": {\"standoff\": 15}, \"zerolinecolor\": \"white\", \"zerolinewidth\": 2}}}, \"title\": {\"text\": \"Stock Trend\"}, \"xaxis\": {\"anchor\": \"y\", \"domain\": [0.0, 1.0], \"title\": {\"text\": \"Date\"}}, \"yaxis\": {\"anchor\": \"x\", \"domain\": [0.0, 1.0], \"title\": {\"text\": \"Close\"}}},\n",
              "                        {\"responsive\": true}\n",
              "                    ).then(function(){\n",
              "                            \n",
              "var gd = document.getElementById('d13de449-696d-4510-b540-605f1266d28c');\n",
              "var x = new MutationObserver(function (mutations, observer) {{\n",
              "        var display = window.getComputedStyle(gd).display;\n",
              "        if (!display || display === 'none') {{\n",
              "            console.log([gd, 'removed!']);\n",
              "            Plotly.purge(gd);\n",
              "            observer.disconnect();\n",
              "        }}\n",
              "}});\n",
              "\n",
              "// Listen for the removal of the full notebook cells\n",
              "var notebookContainer = gd.closest('#notebook-container');\n",
              "if (notebookContainer) {{\n",
              "    x.observe(notebookContainer, {childList: true});\n",
              "}}\n",
              "\n",
              "// Listen for the clearing of the current output cell\n",
              "var outputEl = gd.closest('.output');\n",
              "if (outputEl) {{\n",
              "    x.observe(outputEl, {childList: true});\n",
              "}}\n",
              "\n",
              "                        })\n",
              "                };\n",
              "                \n",
              "            </script>\n",
              "        </div>\n",
              "</body>\n",
              "</html>"
            ]
          },
          "metadata": {}
        }
      ]
    },
    {
      "cell_type": "markdown",
      "metadata": {
        "id": "YRE7hGSORgO9"
      },
      "source": [
        "## Problem 6. A user wants to know the top 10 stocks to invest for a minimum 10% return on holding a stock for a quarter (Jan-Mar), (Apr-June), (July-Sep), (Oct-Dec)"
      ]
    },
    {
      "cell_type": "code",
      "metadata": {
        "id": "U8d3x2CsRgh7",
        "colab": {
          "base_uri": "https://localhost:8080/",
          "height": 1000
        },
        "outputId": "233a1332-d7e5-4b89-e3d7-c02c008ddb96"
      },
      "source": [
        "\n",
        "\n",
        "def problemEight(stock_data,year):\n",
        "  dataFormatted = stock_data.where(col(\"Date\")[0:4]==year).withColumn(\"Date\", col(\"Date\").cast(\"Date\"))\n",
        "  valid_data = dataFormatted.where(col(\"Open\").isNotNull() & col(\"Close\").isNotNull() & col(\"Date\").isNotNull())\n",
        "  quarter_division = valid_data.withColumn(\"quarter\", when((F.month(col(\"Date\")).cast(\"int\") == 1) | (F.month(col(\"Date\")).cast(\"int\") == 2) | (F.month(col(\"Date\")).cast(\"int\") == 3),1)\n",
        "                                 .when((F.month(col(\"Date\")).cast(\"int\") == 4) | (F.month(col(\"Date\")).cast(\"int\") == 5) | (F.month(col(\"Date\")).cast(\"int\") == 6),2)\n",
        "                                 .when((F.month(col(\"Date\")).cast(\"int\") == 7) | (F.month(col(\"Date\")).cast(\"int\") == 8) | (F.month(col(\"Date\")).cast(\"int\") == 9),3)\n",
        "                                 .when((F.month(col(\"Date\")).cast(\"int\") == 10) | (F.month(col(\"Date\")).cast(\"int\") == 11) | (F.month(col(\"Date\")).cast(\"int\") == 12),4)\n",
        "                                 .otherwise(1)).sort(\"quarter\",\"Date\").withColumn(\"Division\",F.concat(col(\"Symbol\"),col(\"quarter\"))).cache()\n",
        "  w = Window.partitionBy(quarter_division[\"Division\"]).orderBy(quarter_division['Date'].desc())\n",
        "  dfTop = quarter_division.withColumn(\"rn\", F.row_number().over(w)).where(col(\"rn\") == 1).drop(\"rn\").withColumn(\"LastDate\",col(\"Date\")).withColumn(\"LastClose\",col(\"Close\"))\n",
        "\n",
        "  w2 = Window.partitionBy(quarter_division[\"Division\"]).orderBy(quarter_division['Date'])\n",
        "  dfTop2 = quarter_division.withColumn(\"rn\", F.row_number().over(w2)).where(col(\"rn\") == 1).drop(\"rn\").withColumn(\"FirstDate\",col(\"Date\")).withColumn(\"FirstOpen\",col(\"Open\"))\n",
        "\n",
        "  finalJoin = dfTop.join(dfTop2,\"Division\").select(dfTop.Symbol,dfTop.quarter,\"LastDate\",\"FirstDate\",\"FirstOpen\",\"LastClose\").cache()\n",
        "\n",
        "\n",
        "  quarterlyReturn = finalJoin.withColumn(\"return\",(col(\"LastClose\") - col(\"FirstOpen\"))*100/col(\"FirstOpen\"))\n",
        "  filteredData = quarterlyReturn.select(\"Symbol\",\"return\",\"quarter\").groupBy(\"Symbol\",\"quarter\").avg(\"return\")\n",
        "  answerList = filteredData.where(col(\"avg(return)\")>=10).sort(\"quarter\",\"avg(return)\",ascending=False).cache()\n",
        "\n",
        "  window = Window.partitionBy(answerList['quarter']).orderBy(answerList['avg(return)'].desc())\n",
        "\n",
        "  answer = answerList.select('*', rank().over(window).alias('rank')).filter(col('rank') <= 10).sort(\"quarter\",\"avg(return)\",ascending=False)\n",
        "  return answer\n",
        "\n",
        "problemEight(stock_df,2019)\n",
        "\n",
        "def ValuesQuarter(quarter):\n",
        "  data = problemEight(stock_df,2019)\n",
        "  answer = data.where(col(\"quarter\") == quarter).collect()\n",
        "  #answer = data.collect()\n",
        "  return answer\n",
        "data1 = ValuesQuarter(1)\n",
        "data2 = ValuesQuarter(2)\n",
        "data3 = ValuesQuarter(3)\n",
        "data4 = ValuesQuarter(4)\n",
        "\n",
        "\n",
        "import plotly\n",
        "import plotly.express as px\n",
        "import plotly.graph_objects as go\n",
        "\n",
        "\n",
        "\n",
        "x=[]\n",
        "y=[]\n",
        "for d in data1:\n",
        "    x.append(d['Symbol'])\n",
        "    y.append(d['avg(return)'])\n",
        "\n",
        "df1 = pd.DataFrame(dict(\n",
        "    {'Symbol' : x,\n",
        "    'Quarterly_Return' : y}\n",
        "))\n",
        "fig = px.bar(df1, x='Symbol', y='Quarterly_Return', title=\"1st quarter (Jan-Mar)\",width=800, height=600)\n",
        "fig.show()\n",
        "\n",
        "\n",
        "x=[]\n",
        "y=[]\n",
        "for d in data2:\n",
        "    x.append(d['Symbol'])\n",
        "    y.append(d['avg(return)'])\n",
        "df2 = pd.DataFrame(dict(\n",
        "    {'Symbol' : x,\n",
        "    'Quarterly_Return' : y}\n",
        "))\n",
        "fig = px.bar(df2, x='Symbol', y='Quarterly_Return', title=\"2nd quarter (Apr-Jun)\",width=800, height=600)\n",
        "fig.show()\n",
        "\n",
        "x=[]\n",
        "y=[]\n",
        "for d in data3:\n",
        "    x.append(d['Symbol'])\n",
        "    y.append(d['avg(return)'])\n",
        "df3 = pd.DataFrame(dict(\n",
        "    {'Symbol' : x,\n",
        "    'Quarterly_Return' : y}\n",
        "))\n",
        "fig = px.bar(df3, x='Symbol', y='Quarterly_Return', title=\"3rd quarter (Jul-Sept)\",width=800, height=600)\n",
        "fig.show()\n",
        "\n",
        "x=[]\n",
        "y=[]\n",
        "for d in data4:\n",
        "    x.append(d['Symbol'])\n",
        "    y.append(d['avg(return)'])\n",
        "df4 = pd.DataFrame(dict(\n",
        "    {'Symbol' : x,\n",
        "    'Quarterly_Return' : y}\n",
        "))\n",
        "fig = px.bar(df4, x='Symbol', y='Quarterly_Return', title=\"4th quarter (Oct-Dec)\",width=800, height=600)\n",
        "fig.show()"
      ],
      "execution_count": 28,
      "outputs": [
        {
          "output_type": "display_data",
          "data": {
            "text/html": [
              "<html>\n",
              "<head><meta charset=\"utf-8\" /></head>\n",
              "<body>\n",
              "    <div>\n",
              "            <script src=\"https://cdnjs.cloudflare.com/ajax/libs/mathjax/2.7.5/MathJax.js?config=TeX-AMS-MML_SVG\"></script><script type=\"text/javascript\">if (window.MathJax) {MathJax.Hub.Config({SVG: {font: \"STIX-Web\"}});}</script>\n",
              "                <script type=\"text/javascript\">window.PlotlyConfig = {MathJaxConfig: 'local'};</script>\n",
              "        <script src=\"https://cdn.plot.ly/plotly-latest.min.js\"></script>    \n",
              "            <div id=\"72c88439-80e5-4dfd-87cb-f987d222dca2\" class=\"plotly-graph-div\" style=\"height:600px; width:800px;\"></div>\n",
              "            <script type=\"text/javascript\">\n",
              "                \n",
              "                    window.PLOTLYENV=window.PLOTLYENV || {};\n",
              "                    \n",
              "                if (document.getElementById(\"72c88439-80e5-4dfd-87cb-f987d222dca2\")) {\n",
              "                    Plotly.newPlot(\n",
              "                        '72c88439-80e5-4dfd-87cb-f987d222dca2',\n",
              "                        [{\"alignmentgroup\": \"True\", \"hoverlabel\": {\"namelength\": 0}, \"hovertemplate\": \"Symbol=%{x}<br>Quarterly_Return=%{y}\", \"legendgroup\": \"\", \"marker\": {\"color\": \"#636efa\"}, \"name\": \"\", \"offsetgroup\": \"\", \"orientation\": \"v\", \"showlegend\": false, \"textposition\": \"auto\", \"type\": \"bar\", \"x\": [\"CANTABIL\", \"MAHASTEEL\", \"SEAMECLTD\", \"REFEX\", \"BILENERGY\", \"AGCNET\", \"DBL\", \"YESBANK\", \"VAKRANGEE\", \"ZODIACLOTH\"], \"xaxis\": \"x\", \"y\": [129.96404314822212, 118.78707976268953, 116.23737373737372, 89.25000000000001, 70.0, 54.234972677595636, 53.377166766288106, 50.65717415115007, 50.598802395209574, 48.95798875289447], \"yaxis\": \"y\"}],\n",
              "                        {\"barmode\": \"relative\", \"height\": 600, \"legend\": {\"tracegroupgap\": 0}, \"template\": {\"data\": {\"bar\": [{\"error_x\": {\"color\": \"#2a3f5f\"}, \"error_y\": {\"color\": \"#2a3f5f\"}, \"marker\": {\"line\": {\"color\": \"#E5ECF6\", \"width\": 0.5}}, \"type\": \"bar\"}], \"barpolar\": [{\"marker\": {\"line\": {\"color\": \"#E5ECF6\", \"width\": 0.5}}, \"type\": \"barpolar\"}], \"carpet\": [{\"aaxis\": {\"endlinecolor\": \"#2a3f5f\", \"gridcolor\": \"white\", \"linecolor\": \"white\", \"minorgridcolor\": \"white\", \"startlinecolor\": \"#2a3f5f\"}, \"baxis\": {\"endlinecolor\": \"#2a3f5f\", \"gridcolor\": \"white\", \"linecolor\": \"white\", \"minorgridcolor\": \"white\", \"startlinecolor\": \"#2a3f5f\"}, \"type\": \"carpet\"}], \"choropleth\": [{\"colorbar\": {\"outlinewidth\": 0, \"ticks\": \"\"}, \"type\": \"choropleth\"}], \"contour\": [{\"colorbar\": {\"outlinewidth\": 0, \"ticks\": \"\"}, \"colorscale\": [[0.0, \"#0d0887\"], [0.1111111111111111, \"#46039f\"], [0.2222222222222222, \"#7201a8\"], [0.3333333333333333, \"#9c179e\"], [0.4444444444444444, \"#bd3786\"], [0.5555555555555556, \"#d8576b\"], [0.6666666666666666, \"#ed7953\"], [0.7777777777777778, \"#fb9f3a\"], [0.8888888888888888, \"#fdca26\"], [1.0, \"#f0f921\"]], \"type\": \"contour\"}], \"contourcarpet\": [{\"colorbar\": {\"outlinewidth\": 0, \"ticks\": \"\"}, \"type\": \"contourcarpet\"}], \"heatmap\": [{\"colorbar\": {\"outlinewidth\": 0, \"ticks\": \"\"}, \"colorscale\": [[0.0, \"#0d0887\"], [0.1111111111111111, \"#46039f\"], [0.2222222222222222, \"#7201a8\"], [0.3333333333333333, \"#9c179e\"], [0.4444444444444444, \"#bd3786\"], [0.5555555555555556, \"#d8576b\"], [0.6666666666666666, \"#ed7953\"], [0.7777777777777778, \"#fb9f3a\"], [0.8888888888888888, \"#fdca26\"], [1.0, \"#f0f921\"]], \"type\": \"heatmap\"}], \"heatmapgl\": [{\"colorbar\": {\"outlinewidth\": 0, \"ticks\": \"\"}, \"colorscale\": [[0.0, \"#0d0887\"], [0.1111111111111111, \"#46039f\"], [0.2222222222222222, \"#7201a8\"], [0.3333333333333333, \"#9c179e\"], [0.4444444444444444, \"#bd3786\"], [0.5555555555555556, \"#d8576b\"], [0.6666666666666666, \"#ed7953\"], [0.7777777777777778, \"#fb9f3a\"], [0.8888888888888888, \"#fdca26\"], [1.0, \"#f0f921\"]], \"type\": \"heatmapgl\"}], \"histogram\": [{\"marker\": {\"colorbar\": {\"outlinewidth\": 0, \"ticks\": \"\"}}, \"type\": \"histogram\"}], \"histogram2d\": [{\"colorbar\": {\"outlinewidth\": 0, \"ticks\": \"\"}, \"colorscale\": [[0.0, \"#0d0887\"], [0.1111111111111111, \"#46039f\"], [0.2222222222222222, \"#7201a8\"], [0.3333333333333333, \"#9c179e\"], [0.4444444444444444, \"#bd3786\"], [0.5555555555555556, \"#d8576b\"], [0.6666666666666666, \"#ed7953\"], [0.7777777777777778, \"#fb9f3a\"], [0.8888888888888888, \"#fdca26\"], [1.0, \"#f0f921\"]], \"type\": \"histogram2d\"}], \"histogram2dcontour\": [{\"colorbar\": {\"outlinewidth\": 0, \"ticks\": \"\"}, \"colorscale\": [[0.0, \"#0d0887\"], [0.1111111111111111, \"#46039f\"], [0.2222222222222222, \"#7201a8\"], [0.3333333333333333, \"#9c179e\"], [0.4444444444444444, \"#bd3786\"], [0.5555555555555556, \"#d8576b\"], [0.6666666666666666, \"#ed7953\"], [0.7777777777777778, \"#fb9f3a\"], [0.8888888888888888, \"#fdca26\"], [1.0, \"#f0f921\"]], \"type\": \"histogram2dcontour\"}], \"mesh3d\": [{\"colorbar\": {\"outlinewidth\": 0, \"ticks\": \"\"}, \"type\": \"mesh3d\"}], \"parcoords\": [{\"line\": {\"colorbar\": {\"outlinewidth\": 0, \"ticks\": \"\"}}, \"type\": \"parcoords\"}], \"pie\": [{\"automargin\": true, \"type\": \"pie\"}], \"scatter\": [{\"marker\": {\"colorbar\": {\"outlinewidth\": 0, \"ticks\": \"\"}}, \"type\": \"scatter\"}], \"scatter3d\": [{\"line\": {\"colorbar\": {\"outlinewidth\": 0, \"ticks\": \"\"}}, \"marker\": {\"colorbar\": {\"outlinewidth\": 0, \"ticks\": \"\"}}, \"type\": \"scatter3d\"}], \"scattercarpet\": [{\"marker\": {\"colorbar\": {\"outlinewidth\": 0, \"ticks\": \"\"}}, \"type\": \"scattercarpet\"}], \"scattergeo\": [{\"marker\": {\"colorbar\": {\"outlinewidth\": 0, \"ticks\": \"\"}}, \"type\": \"scattergeo\"}], \"scattergl\": [{\"marker\": {\"colorbar\": {\"outlinewidth\": 0, \"ticks\": \"\"}}, \"type\": \"scattergl\"}], \"scattermapbox\": [{\"marker\": {\"colorbar\": {\"outlinewidth\": 0, \"ticks\": \"\"}}, \"type\": \"scattermapbox\"}], \"scatterpolar\": [{\"marker\": {\"colorbar\": {\"outlinewidth\": 0, \"ticks\": \"\"}}, \"type\": \"scatterpolar\"}], \"scatterpolargl\": [{\"marker\": {\"colorbar\": {\"outlinewidth\": 0, \"ticks\": \"\"}}, \"type\": \"scatterpolargl\"}], \"scatterternary\": [{\"marker\": {\"colorbar\": {\"outlinewidth\": 0, \"ticks\": \"\"}}, \"type\": \"scatterternary\"}], \"surface\": [{\"colorbar\": {\"outlinewidth\": 0, \"ticks\": \"\"}, \"colorscale\": [[0.0, \"#0d0887\"], [0.1111111111111111, \"#46039f\"], [0.2222222222222222, \"#7201a8\"], [0.3333333333333333, \"#9c179e\"], [0.4444444444444444, \"#bd3786\"], [0.5555555555555556, \"#d8576b\"], [0.6666666666666666, \"#ed7953\"], [0.7777777777777778, \"#fb9f3a\"], [0.8888888888888888, \"#fdca26\"], [1.0, \"#f0f921\"]], \"type\": \"surface\"}], \"table\": [{\"cells\": {\"fill\": {\"color\": \"#EBF0F8\"}, \"line\": {\"color\": \"white\"}}, \"header\": {\"fill\": {\"color\": \"#C8D4E3\"}, \"line\": {\"color\": \"white\"}}, \"type\": \"table\"}]}, \"layout\": {\"annotationdefaults\": {\"arrowcolor\": \"#2a3f5f\", \"arrowhead\": 0, \"arrowwidth\": 1}, \"coloraxis\": {\"colorbar\": {\"outlinewidth\": 0, \"ticks\": \"\"}}, \"colorscale\": {\"diverging\": [[0, \"#8e0152\"], [0.1, \"#c51b7d\"], [0.2, \"#de77ae\"], [0.3, \"#f1b6da\"], [0.4, \"#fde0ef\"], [0.5, \"#f7f7f7\"], [0.6, \"#e6f5d0\"], [0.7, \"#b8e186\"], [0.8, \"#7fbc41\"], [0.9, \"#4d9221\"], [1, \"#276419\"]], \"sequential\": [[0.0, \"#0d0887\"], [0.1111111111111111, \"#46039f\"], [0.2222222222222222, \"#7201a8\"], [0.3333333333333333, \"#9c179e\"], [0.4444444444444444, \"#bd3786\"], [0.5555555555555556, \"#d8576b\"], [0.6666666666666666, \"#ed7953\"], [0.7777777777777778, \"#fb9f3a\"], [0.8888888888888888, \"#fdca26\"], [1.0, \"#f0f921\"]], \"sequentialminus\": [[0.0, \"#0d0887\"], [0.1111111111111111, \"#46039f\"], [0.2222222222222222, \"#7201a8\"], [0.3333333333333333, \"#9c179e\"], [0.4444444444444444, \"#bd3786\"], [0.5555555555555556, \"#d8576b\"], [0.6666666666666666, \"#ed7953\"], [0.7777777777777778, \"#fb9f3a\"], [0.8888888888888888, \"#fdca26\"], [1.0, \"#f0f921\"]]}, \"colorway\": [\"#636efa\", \"#EF553B\", \"#00cc96\", \"#ab63fa\", \"#FFA15A\", \"#19d3f3\", \"#FF6692\", \"#B6E880\", \"#FF97FF\", \"#FECB52\"], \"font\": {\"color\": \"#2a3f5f\"}, \"geo\": {\"bgcolor\": \"white\", \"lakecolor\": \"white\", \"landcolor\": \"#E5ECF6\", \"showlakes\": true, \"showland\": true, \"subunitcolor\": \"white\"}, \"hoverlabel\": {\"align\": \"left\"}, \"hovermode\": \"closest\", \"mapbox\": {\"style\": \"light\"}, \"paper_bgcolor\": \"white\", \"plot_bgcolor\": \"#E5ECF6\", \"polar\": {\"angularaxis\": {\"gridcolor\": \"white\", \"linecolor\": \"white\", \"ticks\": \"\"}, \"bgcolor\": \"#E5ECF6\", \"radialaxis\": {\"gridcolor\": \"white\", \"linecolor\": \"white\", \"ticks\": \"\"}}, \"scene\": {\"xaxis\": {\"backgroundcolor\": \"#E5ECF6\", \"gridcolor\": \"white\", \"gridwidth\": 2, \"linecolor\": \"white\", \"showbackground\": true, \"ticks\": \"\", \"zerolinecolor\": \"white\"}, \"yaxis\": {\"backgroundcolor\": \"#E5ECF6\", \"gridcolor\": \"white\", \"gridwidth\": 2, \"linecolor\": \"white\", \"showbackground\": true, \"ticks\": \"\", \"zerolinecolor\": \"white\"}, \"zaxis\": {\"backgroundcolor\": \"#E5ECF6\", \"gridcolor\": \"white\", \"gridwidth\": 2, \"linecolor\": \"white\", \"showbackground\": true, \"ticks\": \"\", \"zerolinecolor\": \"white\"}}, \"shapedefaults\": {\"line\": {\"color\": \"#2a3f5f\"}}, \"ternary\": {\"aaxis\": {\"gridcolor\": \"white\", \"linecolor\": \"white\", \"ticks\": \"\"}, \"baxis\": {\"gridcolor\": \"white\", \"linecolor\": \"white\", \"ticks\": \"\"}, \"bgcolor\": \"#E5ECF6\", \"caxis\": {\"gridcolor\": \"white\", \"linecolor\": \"white\", \"ticks\": \"\"}}, \"title\": {\"x\": 0.05}, \"xaxis\": {\"automargin\": true, \"gridcolor\": \"white\", \"linecolor\": \"white\", \"ticks\": \"\", \"title\": {\"standoff\": 15}, \"zerolinecolor\": \"white\", \"zerolinewidth\": 2}, \"yaxis\": {\"automargin\": true, \"gridcolor\": \"white\", \"linecolor\": \"white\", \"ticks\": \"\", \"title\": {\"standoff\": 15}, \"zerolinecolor\": \"white\", \"zerolinewidth\": 2}}}, \"title\": {\"text\": \"1st quarter (Jan-Mar)\"}, \"width\": 800, \"xaxis\": {\"anchor\": \"y\", \"domain\": [0.0, 1.0], \"title\": {\"text\": \"Symbol\"}}, \"yaxis\": {\"anchor\": \"x\", \"domain\": [0.0, 1.0], \"title\": {\"text\": \"Quarterly_Return\"}}},\n",
              "                        {\"responsive\": true}\n",
              "                    ).then(function(){\n",
              "                            \n",
              "var gd = document.getElementById('72c88439-80e5-4dfd-87cb-f987d222dca2');\n",
              "var x = new MutationObserver(function (mutations, observer) {{\n",
              "        var display = window.getComputedStyle(gd).display;\n",
              "        if (!display || display === 'none') {{\n",
              "            console.log([gd, 'removed!']);\n",
              "            Plotly.purge(gd);\n",
              "            observer.disconnect();\n",
              "        }}\n",
              "}});\n",
              "\n",
              "// Listen for the removal of the full notebook cells\n",
              "var notebookContainer = gd.closest('#notebook-container');\n",
              "if (notebookContainer) {{\n",
              "    x.observe(notebookContainer, {childList: true});\n",
              "}}\n",
              "\n",
              "// Listen for the clearing of the current output cell\n",
              "var outputEl = gd.closest('.output');\n",
              "if (outputEl) {{\n",
              "    x.observe(outputEl, {childList: true});\n",
              "}}\n",
              "\n",
              "                        })\n",
              "                };\n",
              "                \n",
              "            </script>\n",
              "        </div>\n",
              "</body>\n",
              "</html>"
            ]
          },
          "metadata": {}
        },
        {
          "output_type": "display_data",
          "data": {
            "text/html": [
              "<html>\n",
              "<head><meta charset=\"utf-8\" /></head>\n",
              "<body>\n",
              "    <div>\n",
              "            <script src=\"https://cdnjs.cloudflare.com/ajax/libs/mathjax/2.7.5/MathJax.js?config=TeX-AMS-MML_SVG\"></script><script type=\"text/javascript\">if (window.MathJax) {MathJax.Hub.Config({SVG: {font: \"STIX-Web\"}});}</script>\n",
              "                <script type=\"text/javascript\">window.PlotlyConfig = {MathJaxConfig: 'local'};</script>\n",
              "        <script src=\"https://cdn.plot.ly/plotly-latest.min.js\"></script>    \n",
              "            <div id=\"53b22d69-84ad-4d47-a65d-f897ea4fe52b\" class=\"plotly-graph-div\" style=\"height:600px; width:800px;\"></div>\n",
              "            <script type=\"text/javascript\">\n",
              "                \n",
              "                    window.PLOTLYENV=window.PLOTLYENV || {};\n",
              "                    \n",
              "                if (document.getElementById(\"53b22d69-84ad-4d47-a65d-f897ea4fe52b\")) {\n",
              "                    Plotly.newPlot(\n",
              "                        '53b22d69-84ad-4d47-a65d-f897ea4fe52b',\n",
              "                        [{\"alignmentgroup\": \"True\", \"hoverlabel\": {\"namelength\": 0}, \"hovertemplate\": \"Symbol=%{x}<br>Quarterly_Return=%{y}\", \"legendgroup\": \"\", \"marker\": {\"color\": \"#636efa\"}, \"name\": \"\", \"offsetgroup\": \"\", \"orientation\": \"v\", \"showlegend\": false, \"textposition\": \"auto\", \"type\": \"bar\", \"x\": [\"COUNCODOS\", \"TANLA\", \"LGBFORGE\", \"JINDALPHOT\", \"SGL\", \"PILITA\", \"GOLDIAM\", \"MIL\", \"ADHUNIKIND\", \"RVNL\"], \"xaxis\": \"x\", \"y\": [109.30232558139535, 100.13477088948787, 72.54901960784316, 72.14285714285714, 70.45454545454547, 67.2268907563025, 66.53333333333335, 65.47619047619047, 46.570397111913366, 46.31578947368422], \"yaxis\": \"y\"}],\n",
              "                        {\"barmode\": \"relative\", \"height\": 600, \"legend\": {\"tracegroupgap\": 0}, \"template\": {\"data\": {\"bar\": [{\"error_x\": {\"color\": \"#2a3f5f\"}, \"error_y\": {\"color\": \"#2a3f5f\"}, \"marker\": {\"line\": {\"color\": \"#E5ECF6\", \"width\": 0.5}}, \"type\": \"bar\"}], \"barpolar\": [{\"marker\": {\"line\": {\"color\": \"#E5ECF6\", \"width\": 0.5}}, \"type\": \"barpolar\"}], \"carpet\": [{\"aaxis\": {\"endlinecolor\": \"#2a3f5f\", \"gridcolor\": \"white\", \"linecolor\": \"white\", \"minorgridcolor\": \"white\", \"startlinecolor\": \"#2a3f5f\"}, \"baxis\": {\"endlinecolor\": \"#2a3f5f\", \"gridcolor\": \"white\", \"linecolor\": \"white\", \"minorgridcolor\": \"white\", \"startlinecolor\": \"#2a3f5f\"}, \"type\": \"carpet\"}], \"choropleth\": [{\"colorbar\": {\"outlinewidth\": 0, \"ticks\": \"\"}, \"type\": \"choropleth\"}], \"contour\": [{\"colorbar\": {\"outlinewidth\": 0, \"ticks\": \"\"}, \"colorscale\": [[0.0, \"#0d0887\"], [0.1111111111111111, \"#46039f\"], [0.2222222222222222, \"#7201a8\"], [0.3333333333333333, \"#9c179e\"], [0.4444444444444444, \"#bd3786\"], [0.5555555555555556, \"#d8576b\"], [0.6666666666666666, \"#ed7953\"], [0.7777777777777778, \"#fb9f3a\"], [0.8888888888888888, \"#fdca26\"], [1.0, \"#f0f921\"]], \"type\": \"contour\"}], \"contourcarpet\": [{\"colorbar\": {\"outlinewidth\": 0, \"ticks\": \"\"}, \"type\": \"contourcarpet\"}], \"heatmap\": [{\"colorbar\": {\"outlinewidth\": 0, \"ticks\": \"\"}, \"colorscale\": [[0.0, \"#0d0887\"], [0.1111111111111111, \"#46039f\"], [0.2222222222222222, \"#7201a8\"], [0.3333333333333333, \"#9c179e\"], [0.4444444444444444, \"#bd3786\"], [0.5555555555555556, \"#d8576b\"], [0.6666666666666666, \"#ed7953\"], [0.7777777777777778, \"#fb9f3a\"], [0.8888888888888888, \"#fdca26\"], [1.0, \"#f0f921\"]], \"type\": \"heatmap\"}], \"heatmapgl\": [{\"colorbar\": {\"outlinewidth\": 0, \"ticks\": \"\"}, \"colorscale\": [[0.0, \"#0d0887\"], [0.1111111111111111, \"#46039f\"], [0.2222222222222222, \"#7201a8\"], [0.3333333333333333, \"#9c179e\"], [0.4444444444444444, \"#bd3786\"], [0.5555555555555556, \"#d8576b\"], [0.6666666666666666, \"#ed7953\"], [0.7777777777777778, \"#fb9f3a\"], [0.8888888888888888, \"#fdca26\"], [1.0, \"#f0f921\"]], \"type\": \"heatmapgl\"}], \"histogram\": [{\"marker\": {\"colorbar\": {\"outlinewidth\": 0, \"ticks\": \"\"}}, \"type\": \"histogram\"}], \"histogram2d\": [{\"colorbar\": {\"outlinewidth\": 0, \"ticks\": \"\"}, \"colorscale\": [[0.0, \"#0d0887\"], [0.1111111111111111, \"#46039f\"], [0.2222222222222222, \"#7201a8\"], [0.3333333333333333, \"#9c179e\"], [0.4444444444444444, \"#bd3786\"], [0.5555555555555556, \"#d8576b\"], [0.6666666666666666, \"#ed7953\"], [0.7777777777777778, \"#fb9f3a\"], [0.8888888888888888, \"#fdca26\"], [1.0, \"#f0f921\"]], \"type\": \"histogram2d\"}], \"histogram2dcontour\": [{\"colorbar\": {\"outlinewidth\": 0, \"ticks\": \"\"}, \"colorscale\": [[0.0, \"#0d0887\"], [0.1111111111111111, \"#46039f\"], [0.2222222222222222, \"#7201a8\"], [0.3333333333333333, \"#9c179e\"], [0.4444444444444444, \"#bd3786\"], [0.5555555555555556, \"#d8576b\"], [0.6666666666666666, \"#ed7953\"], [0.7777777777777778, \"#fb9f3a\"], [0.8888888888888888, \"#fdca26\"], [1.0, \"#f0f921\"]], \"type\": \"histogram2dcontour\"}], \"mesh3d\": [{\"colorbar\": {\"outlinewidth\": 0, \"ticks\": \"\"}, \"type\": \"mesh3d\"}], \"parcoords\": [{\"line\": {\"colorbar\": {\"outlinewidth\": 0, \"ticks\": \"\"}}, \"type\": \"parcoords\"}], \"pie\": [{\"automargin\": true, \"type\": \"pie\"}], \"scatter\": [{\"marker\": {\"colorbar\": {\"outlinewidth\": 0, \"ticks\": \"\"}}, \"type\": \"scatter\"}], \"scatter3d\": [{\"line\": {\"colorbar\": {\"outlinewidth\": 0, \"ticks\": \"\"}}, \"marker\": {\"colorbar\": {\"outlinewidth\": 0, \"ticks\": \"\"}}, \"type\": \"scatter3d\"}], \"scattercarpet\": [{\"marker\": {\"colorbar\": {\"outlinewidth\": 0, \"ticks\": \"\"}}, \"type\": \"scattercarpet\"}], \"scattergeo\": [{\"marker\": {\"colorbar\": {\"outlinewidth\": 0, \"ticks\": \"\"}}, \"type\": \"scattergeo\"}], \"scattergl\": [{\"marker\": {\"colorbar\": {\"outlinewidth\": 0, \"ticks\": \"\"}}, \"type\": \"scattergl\"}], \"scattermapbox\": [{\"marker\": {\"colorbar\": {\"outlinewidth\": 0, \"ticks\": \"\"}}, \"type\": \"scattermapbox\"}], \"scatterpolar\": [{\"marker\": {\"colorbar\": {\"outlinewidth\": 0, \"ticks\": \"\"}}, \"type\": \"scatterpolar\"}], \"scatterpolargl\": [{\"marker\": {\"colorbar\": {\"outlinewidth\": 0, \"ticks\": \"\"}}, \"type\": \"scatterpolargl\"}], \"scatterternary\": [{\"marker\": {\"colorbar\": {\"outlinewidth\": 0, \"ticks\": \"\"}}, \"type\": \"scatterternary\"}], \"surface\": [{\"colorbar\": {\"outlinewidth\": 0, \"ticks\": \"\"}, \"colorscale\": [[0.0, \"#0d0887\"], [0.1111111111111111, \"#46039f\"], [0.2222222222222222, \"#7201a8\"], [0.3333333333333333, \"#9c179e\"], [0.4444444444444444, \"#bd3786\"], [0.5555555555555556, \"#d8576b\"], [0.6666666666666666, \"#ed7953\"], [0.7777777777777778, \"#fb9f3a\"], [0.8888888888888888, \"#fdca26\"], [1.0, \"#f0f921\"]], \"type\": \"surface\"}], \"table\": [{\"cells\": {\"fill\": {\"color\": \"#EBF0F8\"}, \"line\": {\"color\": \"white\"}}, \"header\": {\"fill\": {\"color\": \"#C8D4E3\"}, \"line\": {\"color\": \"white\"}}, \"type\": \"table\"}]}, \"layout\": {\"annotationdefaults\": {\"arrowcolor\": \"#2a3f5f\", \"arrowhead\": 0, \"arrowwidth\": 1}, \"coloraxis\": {\"colorbar\": {\"outlinewidth\": 0, \"ticks\": \"\"}}, \"colorscale\": {\"diverging\": [[0, \"#8e0152\"], [0.1, \"#c51b7d\"], [0.2, \"#de77ae\"], [0.3, \"#f1b6da\"], [0.4, \"#fde0ef\"], [0.5, \"#f7f7f7\"], [0.6, \"#e6f5d0\"], [0.7, \"#b8e186\"], [0.8, \"#7fbc41\"], [0.9, \"#4d9221\"], [1, \"#276419\"]], \"sequential\": [[0.0, \"#0d0887\"], [0.1111111111111111, \"#46039f\"], [0.2222222222222222, \"#7201a8\"], [0.3333333333333333, \"#9c179e\"], [0.4444444444444444, \"#bd3786\"], [0.5555555555555556, \"#d8576b\"], [0.6666666666666666, \"#ed7953\"], [0.7777777777777778, \"#fb9f3a\"], [0.8888888888888888, \"#fdca26\"], [1.0, \"#f0f921\"]], \"sequentialminus\": [[0.0, \"#0d0887\"], [0.1111111111111111, \"#46039f\"], [0.2222222222222222, \"#7201a8\"], [0.3333333333333333, \"#9c179e\"], [0.4444444444444444, \"#bd3786\"], [0.5555555555555556, \"#d8576b\"], [0.6666666666666666, \"#ed7953\"], [0.7777777777777778, \"#fb9f3a\"], [0.8888888888888888, \"#fdca26\"], [1.0, \"#f0f921\"]]}, \"colorway\": [\"#636efa\", \"#EF553B\", \"#00cc96\", \"#ab63fa\", \"#FFA15A\", \"#19d3f3\", \"#FF6692\", \"#B6E880\", \"#FF97FF\", \"#FECB52\"], \"font\": {\"color\": \"#2a3f5f\"}, \"geo\": {\"bgcolor\": \"white\", \"lakecolor\": \"white\", \"landcolor\": \"#E5ECF6\", \"showlakes\": true, \"showland\": true, \"subunitcolor\": \"white\"}, \"hoverlabel\": {\"align\": \"left\"}, \"hovermode\": \"closest\", \"mapbox\": {\"style\": \"light\"}, \"paper_bgcolor\": \"white\", \"plot_bgcolor\": \"#E5ECF6\", \"polar\": {\"angularaxis\": {\"gridcolor\": \"white\", \"linecolor\": \"white\", \"ticks\": \"\"}, \"bgcolor\": \"#E5ECF6\", \"radialaxis\": {\"gridcolor\": \"white\", \"linecolor\": \"white\", \"ticks\": \"\"}}, \"scene\": {\"xaxis\": {\"backgroundcolor\": \"#E5ECF6\", \"gridcolor\": \"white\", \"gridwidth\": 2, \"linecolor\": \"white\", \"showbackground\": true, \"ticks\": \"\", \"zerolinecolor\": \"white\"}, \"yaxis\": {\"backgroundcolor\": \"#E5ECF6\", \"gridcolor\": \"white\", \"gridwidth\": 2, \"linecolor\": \"white\", \"showbackground\": true, \"ticks\": \"\", \"zerolinecolor\": \"white\"}, \"zaxis\": {\"backgroundcolor\": \"#E5ECF6\", \"gridcolor\": \"white\", \"gridwidth\": 2, \"linecolor\": \"white\", \"showbackground\": true, \"ticks\": \"\", \"zerolinecolor\": \"white\"}}, \"shapedefaults\": {\"line\": {\"color\": \"#2a3f5f\"}}, \"ternary\": {\"aaxis\": {\"gridcolor\": \"white\", \"linecolor\": \"white\", \"ticks\": \"\"}, \"baxis\": {\"gridcolor\": \"white\", \"linecolor\": \"white\", \"ticks\": \"\"}, \"bgcolor\": \"#E5ECF6\", \"caxis\": {\"gridcolor\": \"white\", \"linecolor\": \"white\", \"ticks\": \"\"}}, \"title\": {\"x\": 0.05}, \"xaxis\": {\"automargin\": true, \"gridcolor\": \"white\", \"linecolor\": \"white\", \"ticks\": \"\", \"title\": {\"standoff\": 15}, \"zerolinecolor\": \"white\", \"zerolinewidth\": 2}, \"yaxis\": {\"automargin\": true, \"gridcolor\": \"white\", \"linecolor\": \"white\", \"ticks\": \"\", \"title\": {\"standoff\": 15}, \"zerolinecolor\": \"white\", \"zerolinewidth\": 2}}}, \"title\": {\"text\": \"2nd quarter (Apr-Jun)\"}, \"width\": 800, \"xaxis\": {\"anchor\": \"y\", \"domain\": [0.0, 1.0], \"title\": {\"text\": \"Symbol\"}}, \"yaxis\": {\"anchor\": \"x\", \"domain\": [0.0, 1.0], \"title\": {\"text\": \"Quarterly_Return\"}}},\n",
              "                        {\"responsive\": true}\n",
              "                    ).then(function(){\n",
              "                            \n",
              "var gd = document.getElementById('53b22d69-84ad-4d47-a65d-f897ea4fe52b');\n",
              "var x = new MutationObserver(function (mutations, observer) {{\n",
              "        var display = window.getComputedStyle(gd).display;\n",
              "        if (!display || display === 'none') {{\n",
              "            console.log([gd, 'removed!']);\n",
              "            Plotly.purge(gd);\n",
              "            observer.disconnect();\n",
              "        }}\n",
              "}});\n",
              "\n",
              "// Listen for the removal of the full notebook cells\n",
              "var notebookContainer = gd.closest('#notebook-container');\n",
              "if (notebookContainer) {{\n",
              "    x.observe(notebookContainer, {childList: true});\n",
              "}}\n",
              "\n",
              "// Listen for the clearing of the current output cell\n",
              "var outputEl = gd.closest('.output');\n",
              "if (outputEl) {{\n",
              "    x.observe(outputEl, {childList: true});\n",
              "}}\n",
              "\n",
              "                        })\n",
              "                };\n",
              "                \n",
              "            </script>\n",
              "        </div>\n",
              "</body>\n",
              "</html>"
            ]
          },
          "metadata": {}
        },
        {
          "output_type": "display_data",
          "data": {
            "text/html": [
              "<html>\n",
              "<head><meta charset=\"utf-8\" /></head>\n",
              "<body>\n",
              "    <div>\n",
              "            <script src=\"https://cdnjs.cloudflare.com/ajax/libs/mathjax/2.7.5/MathJax.js?config=TeX-AMS-MML_SVG\"></script><script type=\"text/javascript\">if (window.MathJax) {MathJax.Hub.Config({SVG: {font: \"STIX-Web\"}});}</script>\n",
              "                <script type=\"text/javascript\">window.PlotlyConfig = {MathJaxConfig: 'local'};</script>\n",
              "        <script src=\"https://cdn.plot.ly/plotly-latest.min.js\"></script>    \n",
              "            <div id=\"4e625bae-3eae-4ff2-85de-a1f9f383e1a6\" class=\"plotly-graph-div\" style=\"height:600px; width:800px;\"></div>\n",
              "            <script type=\"text/javascript\">\n",
              "                \n",
              "                    window.PLOTLYENV=window.PLOTLYENV || {};\n",
              "                    \n",
              "                if (document.getElementById(\"4e625bae-3eae-4ff2-85de-a1f9f383e1a6\")) {\n",
              "                    Plotly.newPlot(\n",
              "                        '4e625bae-3eae-4ff2-85de-a1f9f383e1a6',\n",
              "                        [{\"alignmentgroup\": \"True\", \"hoverlabel\": {\"namelength\": 0}, \"hovertemplate\": \"Symbol=%{x}<br>Quarterly_Return=%{y}\", \"legendgroup\": \"\", \"marker\": {\"color\": \"#636efa\"}, \"name\": \"\", \"offsetgroup\": \"\", \"orientation\": \"v\", \"showlegend\": false, \"textposition\": \"auto\", \"type\": \"bar\", \"x\": [\"CINEVISTA\", \"MALUPAPER\", \"NOIDATOLL\", \"ASHAPURMIN\", \"VIKASMCORP\", \"TREEHOUSE\", \"VADILALIND\", \"STARPAPER\", \"PDMJEPAPER\", \"RELIGARE\"], \"xaxis\": \"x\", \"y\": [118.75000000000001, 77.04545454545456, 71.64179104477611, 64.0449438202247, 63.043478260869584, 59.55056179775279, 54.58946744392845, 54.39001848428836, 53.96226415094339, 52.30125523012553], \"yaxis\": \"y\"}],\n",
              "                        {\"barmode\": \"relative\", \"height\": 600, \"legend\": {\"tracegroupgap\": 0}, \"template\": {\"data\": {\"bar\": [{\"error_x\": {\"color\": \"#2a3f5f\"}, \"error_y\": {\"color\": \"#2a3f5f\"}, \"marker\": {\"line\": {\"color\": \"#E5ECF6\", \"width\": 0.5}}, \"type\": \"bar\"}], \"barpolar\": [{\"marker\": {\"line\": {\"color\": \"#E5ECF6\", \"width\": 0.5}}, \"type\": \"barpolar\"}], \"carpet\": [{\"aaxis\": {\"endlinecolor\": \"#2a3f5f\", \"gridcolor\": \"white\", \"linecolor\": \"white\", \"minorgridcolor\": \"white\", \"startlinecolor\": \"#2a3f5f\"}, \"baxis\": {\"endlinecolor\": \"#2a3f5f\", \"gridcolor\": \"white\", \"linecolor\": \"white\", \"minorgridcolor\": \"white\", \"startlinecolor\": \"#2a3f5f\"}, \"type\": \"carpet\"}], \"choropleth\": [{\"colorbar\": {\"outlinewidth\": 0, \"ticks\": \"\"}, \"type\": \"choropleth\"}], \"contour\": [{\"colorbar\": {\"outlinewidth\": 0, \"ticks\": \"\"}, \"colorscale\": [[0.0, \"#0d0887\"], [0.1111111111111111, \"#46039f\"], [0.2222222222222222, \"#7201a8\"], [0.3333333333333333, \"#9c179e\"], [0.4444444444444444, \"#bd3786\"], [0.5555555555555556, \"#d8576b\"], [0.6666666666666666, \"#ed7953\"], [0.7777777777777778, \"#fb9f3a\"], [0.8888888888888888, \"#fdca26\"], [1.0, \"#f0f921\"]], \"type\": \"contour\"}], \"contourcarpet\": [{\"colorbar\": {\"outlinewidth\": 0, \"ticks\": \"\"}, \"type\": \"contourcarpet\"}], \"heatmap\": [{\"colorbar\": {\"outlinewidth\": 0, \"ticks\": \"\"}, \"colorscale\": [[0.0, \"#0d0887\"], [0.1111111111111111, \"#46039f\"], [0.2222222222222222, \"#7201a8\"], [0.3333333333333333, \"#9c179e\"], [0.4444444444444444, \"#bd3786\"], [0.5555555555555556, \"#d8576b\"], [0.6666666666666666, \"#ed7953\"], [0.7777777777777778, \"#fb9f3a\"], [0.8888888888888888, \"#fdca26\"], [1.0, \"#f0f921\"]], \"type\": \"heatmap\"}], \"heatmapgl\": [{\"colorbar\": {\"outlinewidth\": 0, \"ticks\": \"\"}, \"colorscale\": [[0.0, \"#0d0887\"], [0.1111111111111111, \"#46039f\"], [0.2222222222222222, \"#7201a8\"], [0.3333333333333333, \"#9c179e\"], [0.4444444444444444, \"#bd3786\"], [0.5555555555555556, \"#d8576b\"], [0.6666666666666666, \"#ed7953\"], [0.7777777777777778, \"#fb9f3a\"], [0.8888888888888888, \"#fdca26\"], [1.0, \"#f0f921\"]], \"type\": \"heatmapgl\"}], \"histogram\": [{\"marker\": {\"colorbar\": {\"outlinewidth\": 0, \"ticks\": \"\"}}, \"type\": \"histogram\"}], \"histogram2d\": [{\"colorbar\": {\"outlinewidth\": 0, \"ticks\": \"\"}, \"colorscale\": [[0.0, \"#0d0887\"], [0.1111111111111111, \"#46039f\"], [0.2222222222222222, \"#7201a8\"], [0.3333333333333333, \"#9c179e\"], [0.4444444444444444, \"#bd3786\"], [0.5555555555555556, \"#d8576b\"], [0.6666666666666666, \"#ed7953\"], [0.7777777777777778, \"#fb9f3a\"], [0.8888888888888888, \"#fdca26\"], [1.0, \"#f0f921\"]], \"type\": \"histogram2d\"}], \"histogram2dcontour\": [{\"colorbar\": {\"outlinewidth\": 0, \"ticks\": \"\"}, \"colorscale\": [[0.0, \"#0d0887\"], [0.1111111111111111, \"#46039f\"], [0.2222222222222222, \"#7201a8\"], [0.3333333333333333, \"#9c179e\"], [0.4444444444444444, \"#bd3786\"], [0.5555555555555556, \"#d8576b\"], [0.6666666666666666, \"#ed7953\"], [0.7777777777777778, \"#fb9f3a\"], [0.8888888888888888, \"#fdca26\"], [1.0, \"#f0f921\"]], \"type\": \"histogram2dcontour\"}], \"mesh3d\": [{\"colorbar\": {\"outlinewidth\": 0, \"ticks\": \"\"}, \"type\": \"mesh3d\"}], \"parcoords\": [{\"line\": {\"colorbar\": {\"outlinewidth\": 0, \"ticks\": \"\"}}, \"type\": \"parcoords\"}], \"pie\": [{\"automargin\": true, \"type\": \"pie\"}], \"scatter\": [{\"marker\": {\"colorbar\": {\"outlinewidth\": 0, \"ticks\": \"\"}}, \"type\": \"scatter\"}], \"scatter3d\": [{\"line\": {\"colorbar\": {\"outlinewidth\": 0, \"ticks\": \"\"}}, \"marker\": {\"colorbar\": {\"outlinewidth\": 0, \"ticks\": \"\"}}, \"type\": \"scatter3d\"}], \"scattercarpet\": [{\"marker\": {\"colorbar\": {\"outlinewidth\": 0, \"ticks\": \"\"}}, \"type\": \"scattercarpet\"}], \"scattergeo\": [{\"marker\": {\"colorbar\": {\"outlinewidth\": 0, \"ticks\": \"\"}}, \"type\": \"scattergeo\"}], \"scattergl\": [{\"marker\": {\"colorbar\": {\"outlinewidth\": 0, \"ticks\": \"\"}}, \"type\": \"scattergl\"}], \"scattermapbox\": [{\"marker\": {\"colorbar\": {\"outlinewidth\": 0, \"ticks\": \"\"}}, \"type\": \"scattermapbox\"}], \"scatterpolar\": [{\"marker\": {\"colorbar\": {\"outlinewidth\": 0, \"ticks\": \"\"}}, \"type\": \"scatterpolar\"}], \"scatterpolargl\": [{\"marker\": {\"colorbar\": {\"outlinewidth\": 0, \"ticks\": \"\"}}, \"type\": \"scatterpolargl\"}], \"scatterternary\": [{\"marker\": {\"colorbar\": {\"outlinewidth\": 0, \"ticks\": \"\"}}, \"type\": \"scatterternary\"}], \"surface\": [{\"colorbar\": {\"outlinewidth\": 0, \"ticks\": \"\"}, \"colorscale\": [[0.0, \"#0d0887\"], [0.1111111111111111, \"#46039f\"], [0.2222222222222222, \"#7201a8\"], [0.3333333333333333, \"#9c179e\"], [0.4444444444444444, \"#bd3786\"], [0.5555555555555556, \"#d8576b\"], [0.6666666666666666, \"#ed7953\"], [0.7777777777777778, \"#fb9f3a\"], [0.8888888888888888, \"#fdca26\"], [1.0, \"#f0f921\"]], \"type\": \"surface\"}], \"table\": [{\"cells\": {\"fill\": {\"color\": \"#EBF0F8\"}, \"line\": {\"color\": \"white\"}}, \"header\": {\"fill\": {\"color\": \"#C8D4E3\"}, \"line\": {\"color\": \"white\"}}, \"type\": \"table\"}]}, \"layout\": {\"annotationdefaults\": {\"arrowcolor\": \"#2a3f5f\", \"arrowhead\": 0, \"arrowwidth\": 1}, \"coloraxis\": {\"colorbar\": {\"outlinewidth\": 0, \"ticks\": \"\"}}, \"colorscale\": {\"diverging\": [[0, \"#8e0152\"], [0.1, \"#c51b7d\"], [0.2, \"#de77ae\"], [0.3, \"#f1b6da\"], [0.4, \"#fde0ef\"], [0.5, \"#f7f7f7\"], [0.6, \"#e6f5d0\"], [0.7, \"#b8e186\"], [0.8, \"#7fbc41\"], [0.9, \"#4d9221\"], [1, \"#276419\"]], \"sequential\": [[0.0, \"#0d0887\"], [0.1111111111111111, \"#46039f\"], [0.2222222222222222, \"#7201a8\"], [0.3333333333333333, \"#9c179e\"], [0.4444444444444444, \"#bd3786\"], [0.5555555555555556, \"#d8576b\"], [0.6666666666666666, \"#ed7953\"], [0.7777777777777778, \"#fb9f3a\"], [0.8888888888888888, \"#fdca26\"], [1.0, \"#f0f921\"]], \"sequentialminus\": [[0.0, \"#0d0887\"], [0.1111111111111111, \"#46039f\"], [0.2222222222222222, \"#7201a8\"], [0.3333333333333333, \"#9c179e\"], [0.4444444444444444, \"#bd3786\"], [0.5555555555555556, \"#d8576b\"], [0.6666666666666666, \"#ed7953\"], [0.7777777777777778, \"#fb9f3a\"], [0.8888888888888888, \"#fdca26\"], [1.0, \"#f0f921\"]]}, \"colorway\": [\"#636efa\", \"#EF553B\", \"#00cc96\", \"#ab63fa\", \"#FFA15A\", \"#19d3f3\", \"#FF6692\", \"#B6E880\", \"#FF97FF\", \"#FECB52\"], \"font\": {\"color\": \"#2a3f5f\"}, \"geo\": {\"bgcolor\": \"white\", \"lakecolor\": \"white\", \"landcolor\": \"#E5ECF6\", \"showlakes\": true, \"showland\": true, \"subunitcolor\": \"white\"}, \"hoverlabel\": {\"align\": \"left\"}, \"hovermode\": \"closest\", \"mapbox\": {\"style\": \"light\"}, \"paper_bgcolor\": \"white\", \"plot_bgcolor\": \"#E5ECF6\", \"polar\": {\"angularaxis\": {\"gridcolor\": \"white\", \"linecolor\": \"white\", \"ticks\": \"\"}, \"bgcolor\": \"#E5ECF6\", \"radialaxis\": {\"gridcolor\": \"white\", \"linecolor\": \"white\", \"ticks\": \"\"}}, \"scene\": {\"xaxis\": {\"backgroundcolor\": \"#E5ECF6\", \"gridcolor\": \"white\", \"gridwidth\": 2, \"linecolor\": \"white\", \"showbackground\": true, \"ticks\": \"\", \"zerolinecolor\": \"white\"}, \"yaxis\": {\"backgroundcolor\": \"#E5ECF6\", \"gridcolor\": \"white\", \"gridwidth\": 2, \"linecolor\": \"white\", \"showbackground\": true, \"ticks\": \"\", \"zerolinecolor\": \"white\"}, \"zaxis\": {\"backgroundcolor\": \"#E5ECF6\", \"gridcolor\": \"white\", \"gridwidth\": 2, \"linecolor\": \"white\", \"showbackground\": true, \"ticks\": \"\", \"zerolinecolor\": \"white\"}}, \"shapedefaults\": {\"line\": {\"color\": \"#2a3f5f\"}}, \"ternary\": {\"aaxis\": {\"gridcolor\": \"white\", \"linecolor\": \"white\", \"ticks\": \"\"}, \"baxis\": {\"gridcolor\": \"white\", \"linecolor\": \"white\", \"ticks\": \"\"}, \"bgcolor\": \"#E5ECF6\", \"caxis\": {\"gridcolor\": \"white\", \"linecolor\": \"white\", \"ticks\": \"\"}}, \"title\": {\"x\": 0.05}, \"xaxis\": {\"automargin\": true, \"gridcolor\": \"white\", \"linecolor\": \"white\", \"ticks\": \"\", \"title\": {\"standoff\": 15}, \"zerolinecolor\": \"white\", \"zerolinewidth\": 2}, \"yaxis\": {\"automargin\": true, \"gridcolor\": \"white\", \"linecolor\": \"white\", \"ticks\": \"\", \"title\": {\"standoff\": 15}, \"zerolinecolor\": \"white\", \"zerolinewidth\": 2}}}, \"title\": {\"text\": \"3rd quarter (Jul-Sept)\"}, \"width\": 800, \"xaxis\": {\"anchor\": \"y\", \"domain\": [0.0, 1.0], \"title\": {\"text\": \"Symbol\"}}, \"yaxis\": {\"anchor\": \"x\", \"domain\": [0.0, 1.0], \"title\": {\"text\": \"Quarterly_Return\"}}},\n",
              "                        {\"responsive\": true}\n",
              "                    ).then(function(){\n",
              "                            \n",
              "var gd = document.getElementById('4e625bae-3eae-4ff2-85de-a1f9f383e1a6');\n",
              "var x = new MutationObserver(function (mutations, observer) {{\n",
              "        var display = window.getComputedStyle(gd).display;\n",
              "        if (!display || display === 'none') {{\n",
              "            console.log([gd, 'removed!']);\n",
              "            Plotly.purge(gd);\n",
              "            observer.disconnect();\n",
              "        }}\n",
              "}});\n",
              "\n",
              "// Listen for the removal of the full notebook cells\n",
              "var notebookContainer = gd.closest('#notebook-container');\n",
              "if (notebookContainer) {{\n",
              "    x.observe(notebookContainer, {childList: true});\n",
              "}}\n",
              "\n",
              "// Listen for the clearing of the current output cell\n",
              "var outputEl = gd.closest('.output');\n",
              "if (outputEl) {{\n",
              "    x.observe(outputEl, {childList: true});\n",
              "}}\n",
              "\n",
              "                        })\n",
              "                };\n",
              "                \n",
              "            </script>\n",
              "        </div>\n",
              "</body>\n",
              "</html>"
            ]
          },
          "metadata": {}
        },
        {
          "output_type": "display_data",
          "data": {
            "text/html": [
              "<html>\n",
              "<head><meta charset=\"utf-8\" /></head>\n",
              "<body>\n",
              "    <div>\n",
              "            <script src=\"https://cdnjs.cloudflare.com/ajax/libs/mathjax/2.7.5/MathJax.js?config=TeX-AMS-MML_SVG\"></script><script type=\"text/javascript\">if (window.MathJax) {MathJax.Hub.Config({SVG: {font: \"STIX-Web\"}});}</script>\n",
              "                <script type=\"text/javascript\">window.PlotlyConfig = {MathJaxConfig: 'local'};</script>\n",
              "        <script src=\"https://cdn.plot.ly/plotly-latest.min.js\"></script>    \n",
              "            <div id=\"bda15cf3-1731-476f-9416-c51720f97839\" class=\"plotly-graph-div\" style=\"height:600px; width:800px;\"></div>\n",
              "            <script type=\"text/javascript\">\n",
              "                \n",
              "                    window.PLOTLYENV=window.PLOTLYENV || {};\n",
              "                    \n",
              "                if (document.getElementById(\"bda15cf3-1731-476f-9416-c51720f97839\")) {\n",
              "                    Plotly.newPlot(\n",
              "                        'bda15cf3-1731-476f-9416-c51720f97839',\n",
              "                        [{\"alignmentgroup\": \"True\", \"hoverlabel\": {\"namelength\": 0}, \"hovertemplate\": \"Symbol=%{x}<br>Quarterly_Return=%{y}\", \"legendgroup\": \"\", \"marker\": {\"color\": \"#636efa\"}, \"name\": \"\", \"offsetgroup\": \"\", \"orientation\": \"v\", \"showlegend\": false, \"textposition\": \"auto\", \"type\": \"bar\", \"x\": [\"ADANIGREEN\", \"GAYAHWS\", \"STEELXIND\", \"VIKASPROP\", \"UVSL\", \"IGARASHI\", \"IBVENTURES\", \"CAPTRUST\", \"UNITECH\", \"SANGAMIND\"], \"xaxis\": \"x\", \"y\": [183.3191489361702, 120.00000000000001, 113.9423076923077, 112.30769230769232, 100.0, 93.55771759137522, 92.24215246636771, 84.46666666666665, 81.8181818181818, 80.10403120936279], \"yaxis\": \"y\"}],\n",
              "                        {\"barmode\": \"relative\", \"height\": 600, \"legend\": {\"tracegroupgap\": 0}, \"template\": {\"data\": {\"bar\": [{\"error_x\": {\"color\": \"#2a3f5f\"}, \"error_y\": {\"color\": \"#2a3f5f\"}, \"marker\": {\"line\": {\"color\": \"#E5ECF6\", \"width\": 0.5}}, \"type\": \"bar\"}], \"barpolar\": [{\"marker\": {\"line\": {\"color\": \"#E5ECF6\", \"width\": 0.5}}, \"type\": \"barpolar\"}], \"carpet\": [{\"aaxis\": {\"endlinecolor\": \"#2a3f5f\", \"gridcolor\": \"white\", \"linecolor\": \"white\", \"minorgridcolor\": \"white\", \"startlinecolor\": \"#2a3f5f\"}, \"baxis\": {\"endlinecolor\": \"#2a3f5f\", \"gridcolor\": \"white\", \"linecolor\": \"white\", \"minorgridcolor\": \"white\", \"startlinecolor\": \"#2a3f5f\"}, \"type\": \"carpet\"}], \"choropleth\": [{\"colorbar\": {\"outlinewidth\": 0, \"ticks\": \"\"}, \"type\": \"choropleth\"}], \"contour\": [{\"colorbar\": {\"outlinewidth\": 0, \"ticks\": \"\"}, \"colorscale\": [[0.0, \"#0d0887\"], [0.1111111111111111, \"#46039f\"], [0.2222222222222222, \"#7201a8\"], [0.3333333333333333, \"#9c179e\"], [0.4444444444444444, \"#bd3786\"], [0.5555555555555556, \"#d8576b\"], [0.6666666666666666, \"#ed7953\"], [0.7777777777777778, \"#fb9f3a\"], [0.8888888888888888, \"#fdca26\"], [1.0, \"#f0f921\"]], \"type\": \"contour\"}], \"contourcarpet\": [{\"colorbar\": {\"outlinewidth\": 0, \"ticks\": \"\"}, \"type\": \"contourcarpet\"}], \"heatmap\": [{\"colorbar\": {\"outlinewidth\": 0, \"ticks\": \"\"}, \"colorscale\": [[0.0, \"#0d0887\"], [0.1111111111111111, \"#46039f\"], [0.2222222222222222, \"#7201a8\"], [0.3333333333333333, \"#9c179e\"], [0.4444444444444444, \"#bd3786\"], [0.5555555555555556, \"#d8576b\"], [0.6666666666666666, \"#ed7953\"], [0.7777777777777778, \"#fb9f3a\"], [0.8888888888888888, \"#fdca26\"], [1.0, \"#f0f921\"]], \"type\": \"heatmap\"}], \"heatmapgl\": [{\"colorbar\": {\"outlinewidth\": 0, \"ticks\": \"\"}, \"colorscale\": [[0.0, \"#0d0887\"], [0.1111111111111111, \"#46039f\"], [0.2222222222222222, \"#7201a8\"], [0.3333333333333333, \"#9c179e\"], [0.4444444444444444, \"#bd3786\"], [0.5555555555555556, \"#d8576b\"], [0.6666666666666666, \"#ed7953\"], [0.7777777777777778, \"#fb9f3a\"], [0.8888888888888888, \"#fdca26\"], [1.0, \"#f0f921\"]], \"type\": \"heatmapgl\"}], \"histogram\": [{\"marker\": {\"colorbar\": {\"outlinewidth\": 0, \"ticks\": \"\"}}, \"type\": \"histogram\"}], \"histogram2d\": [{\"colorbar\": {\"outlinewidth\": 0, \"ticks\": \"\"}, \"colorscale\": [[0.0, \"#0d0887\"], [0.1111111111111111, \"#46039f\"], [0.2222222222222222, \"#7201a8\"], [0.3333333333333333, \"#9c179e\"], [0.4444444444444444, \"#bd3786\"], [0.5555555555555556, \"#d8576b\"], [0.6666666666666666, \"#ed7953\"], [0.7777777777777778, \"#fb9f3a\"], [0.8888888888888888, \"#fdca26\"], [1.0, \"#f0f921\"]], \"type\": \"histogram2d\"}], \"histogram2dcontour\": [{\"colorbar\": {\"outlinewidth\": 0, \"ticks\": \"\"}, \"colorscale\": [[0.0, \"#0d0887\"], [0.1111111111111111, \"#46039f\"], [0.2222222222222222, \"#7201a8\"], [0.3333333333333333, \"#9c179e\"], [0.4444444444444444, \"#bd3786\"], [0.5555555555555556, \"#d8576b\"], [0.6666666666666666, \"#ed7953\"], [0.7777777777777778, \"#fb9f3a\"], [0.8888888888888888, \"#fdca26\"], [1.0, \"#f0f921\"]], \"type\": \"histogram2dcontour\"}], \"mesh3d\": [{\"colorbar\": {\"outlinewidth\": 0, \"ticks\": \"\"}, \"type\": \"mesh3d\"}], \"parcoords\": [{\"line\": {\"colorbar\": {\"outlinewidth\": 0, \"ticks\": \"\"}}, \"type\": \"parcoords\"}], \"pie\": [{\"automargin\": true, \"type\": \"pie\"}], \"scatter\": [{\"marker\": {\"colorbar\": {\"outlinewidth\": 0, \"ticks\": \"\"}}, \"type\": \"scatter\"}], \"scatter3d\": [{\"line\": {\"colorbar\": {\"outlinewidth\": 0, \"ticks\": \"\"}}, \"marker\": {\"colorbar\": {\"outlinewidth\": 0, \"ticks\": \"\"}}, \"type\": \"scatter3d\"}], \"scattercarpet\": [{\"marker\": {\"colorbar\": {\"outlinewidth\": 0, \"ticks\": \"\"}}, \"type\": \"scattercarpet\"}], \"scattergeo\": [{\"marker\": {\"colorbar\": {\"outlinewidth\": 0, \"ticks\": \"\"}}, \"type\": \"scattergeo\"}], \"scattergl\": [{\"marker\": {\"colorbar\": {\"outlinewidth\": 0, \"ticks\": \"\"}}, \"type\": \"scattergl\"}], \"scattermapbox\": [{\"marker\": {\"colorbar\": {\"outlinewidth\": 0, \"ticks\": \"\"}}, \"type\": \"scattermapbox\"}], \"scatterpolar\": [{\"marker\": {\"colorbar\": {\"outlinewidth\": 0, \"ticks\": \"\"}}, \"type\": \"scatterpolar\"}], \"scatterpolargl\": [{\"marker\": {\"colorbar\": {\"outlinewidth\": 0, \"ticks\": \"\"}}, \"type\": \"scatterpolargl\"}], \"scatterternary\": [{\"marker\": {\"colorbar\": {\"outlinewidth\": 0, \"ticks\": \"\"}}, \"type\": \"scatterternary\"}], \"surface\": [{\"colorbar\": {\"outlinewidth\": 0, \"ticks\": \"\"}, \"colorscale\": [[0.0, \"#0d0887\"], [0.1111111111111111, \"#46039f\"], [0.2222222222222222, \"#7201a8\"], [0.3333333333333333, \"#9c179e\"], [0.4444444444444444, \"#bd3786\"], [0.5555555555555556, \"#d8576b\"], [0.6666666666666666, \"#ed7953\"], [0.7777777777777778, \"#fb9f3a\"], [0.8888888888888888, \"#fdca26\"], [1.0, \"#f0f921\"]], \"type\": \"surface\"}], \"table\": [{\"cells\": {\"fill\": {\"color\": \"#EBF0F8\"}, \"line\": {\"color\": \"white\"}}, \"header\": {\"fill\": {\"color\": \"#C8D4E3\"}, \"line\": {\"color\": \"white\"}}, \"type\": \"table\"}]}, \"layout\": {\"annotationdefaults\": {\"arrowcolor\": \"#2a3f5f\", \"arrowhead\": 0, \"arrowwidth\": 1}, \"coloraxis\": {\"colorbar\": {\"outlinewidth\": 0, \"ticks\": \"\"}}, \"colorscale\": {\"diverging\": [[0, \"#8e0152\"], [0.1, \"#c51b7d\"], [0.2, \"#de77ae\"], [0.3, \"#f1b6da\"], [0.4, \"#fde0ef\"], [0.5, \"#f7f7f7\"], [0.6, \"#e6f5d0\"], [0.7, \"#b8e186\"], [0.8, \"#7fbc41\"], [0.9, \"#4d9221\"], [1, \"#276419\"]], \"sequential\": [[0.0, \"#0d0887\"], [0.1111111111111111, \"#46039f\"], [0.2222222222222222, \"#7201a8\"], [0.3333333333333333, \"#9c179e\"], [0.4444444444444444, \"#bd3786\"], [0.5555555555555556, \"#d8576b\"], [0.6666666666666666, \"#ed7953\"], [0.7777777777777778, \"#fb9f3a\"], [0.8888888888888888, \"#fdca26\"], [1.0, \"#f0f921\"]], \"sequentialminus\": [[0.0, \"#0d0887\"], [0.1111111111111111, \"#46039f\"], [0.2222222222222222, \"#7201a8\"], [0.3333333333333333, \"#9c179e\"], [0.4444444444444444, \"#bd3786\"], [0.5555555555555556, \"#d8576b\"], [0.6666666666666666, \"#ed7953\"], [0.7777777777777778, \"#fb9f3a\"], [0.8888888888888888, \"#fdca26\"], [1.0, \"#f0f921\"]]}, \"colorway\": [\"#636efa\", \"#EF553B\", \"#00cc96\", \"#ab63fa\", \"#FFA15A\", \"#19d3f3\", \"#FF6692\", \"#B6E880\", \"#FF97FF\", \"#FECB52\"], \"font\": {\"color\": \"#2a3f5f\"}, \"geo\": {\"bgcolor\": \"white\", \"lakecolor\": \"white\", \"landcolor\": \"#E5ECF6\", \"showlakes\": true, \"showland\": true, \"subunitcolor\": \"white\"}, \"hoverlabel\": {\"align\": \"left\"}, \"hovermode\": \"closest\", \"mapbox\": {\"style\": \"light\"}, \"paper_bgcolor\": \"white\", \"plot_bgcolor\": \"#E5ECF6\", \"polar\": {\"angularaxis\": {\"gridcolor\": \"white\", \"linecolor\": \"white\", \"ticks\": \"\"}, \"bgcolor\": \"#E5ECF6\", \"radialaxis\": {\"gridcolor\": \"white\", \"linecolor\": \"white\", \"ticks\": \"\"}}, \"scene\": {\"xaxis\": {\"backgroundcolor\": \"#E5ECF6\", \"gridcolor\": \"white\", \"gridwidth\": 2, \"linecolor\": \"white\", \"showbackground\": true, \"ticks\": \"\", \"zerolinecolor\": \"white\"}, \"yaxis\": {\"backgroundcolor\": \"#E5ECF6\", \"gridcolor\": \"white\", \"gridwidth\": 2, \"linecolor\": \"white\", \"showbackground\": true, \"ticks\": \"\", \"zerolinecolor\": \"white\"}, \"zaxis\": {\"backgroundcolor\": \"#E5ECF6\", \"gridcolor\": \"white\", \"gridwidth\": 2, \"linecolor\": \"white\", \"showbackground\": true, \"ticks\": \"\", \"zerolinecolor\": \"white\"}}, \"shapedefaults\": {\"line\": {\"color\": \"#2a3f5f\"}}, \"ternary\": {\"aaxis\": {\"gridcolor\": \"white\", \"linecolor\": \"white\", \"ticks\": \"\"}, \"baxis\": {\"gridcolor\": \"white\", \"linecolor\": \"white\", \"ticks\": \"\"}, \"bgcolor\": \"#E5ECF6\", \"caxis\": {\"gridcolor\": \"white\", \"linecolor\": \"white\", \"ticks\": \"\"}}, \"title\": {\"x\": 0.05}, \"xaxis\": {\"automargin\": true, \"gridcolor\": \"white\", \"linecolor\": \"white\", \"ticks\": \"\", \"title\": {\"standoff\": 15}, \"zerolinecolor\": \"white\", \"zerolinewidth\": 2}, \"yaxis\": {\"automargin\": true, \"gridcolor\": \"white\", \"linecolor\": \"white\", \"ticks\": \"\", \"title\": {\"standoff\": 15}, \"zerolinecolor\": \"white\", \"zerolinewidth\": 2}}}, \"title\": {\"text\": \"4th quarter (Oct-Dec)\"}, \"width\": 800, \"xaxis\": {\"anchor\": \"y\", \"domain\": [0.0, 1.0], \"title\": {\"text\": \"Symbol\"}}, \"yaxis\": {\"anchor\": \"x\", \"domain\": [0.0, 1.0], \"title\": {\"text\": \"Quarterly_Return\"}}},\n",
              "                        {\"responsive\": true}\n",
              "                    ).then(function(){\n",
              "                            \n",
              "var gd = document.getElementById('bda15cf3-1731-476f-9416-c51720f97839');\n",
              "var x = new MutationObserver(function (mutations, observer) {{\n",
              "        var display = window.getComputedStyle(gd).display;\n",
              "        if (!display || display === 'none') {{\n",
              "            console.log([gd, 'removed!']);\n",
              "            Plotly.purge(gd);\n",
              "            observer.disconnect();\n",
              "        }}\n",
              "}});\n",
              "\n",
              "// Listen for the removal of the full notebook cells\n",
              "var notebookContainer = gd.closest('#notebook-container');\n",
              "if (notebookContainer) {{\n",
              "    x.observe(notebookContainer, {childList: true});\n",
              "}}\n",
              "\n",
              "// Listen for the clearing of the current output cell\n",
              "var outputEl = gd.closest('.output');\n",
              "if (outputEl) {{\n",
              "    x.observe(outputEl, {childList: true});\n",
              "}}\n",
              "\n",
              "                        })\n",
              "                };\n",
              "                \n",
              "            </script>\n",
              "        </div>\n",
              "</body>\n",
              "</html>"
            ]
          },
          "metadata": {}
        }
      ]
    },
    {
      "cell_type": "markdown",
      "metadata": {
        "id": "ULEL56CfQvHA"
      },
      "source": [
        "## Problem 7. Show the daily return of the stock on average in a particular time frame"
      ]
    },
    {
      "cell_type": "code",
      "metadata": {
        "id": "IbsLSF1URPrH",
        "colab": {
          "base_uri": "https://localhost:8080/",
          "height": 617
        },
        "outputId": "5df5c3cc-515f-4256-da89-9017cb4a76ba"
      },
      "source": [
        "def problemSix(stocks_df, stock_to_invest, start_time, end_time):\n",
        "  #Get the SCRIP from the user\n",
        "  #start_time -> The starting time of the time frame\n",
        "  #end_time -> The end time of the time frame\n",
        "  #plot a graph for daily returns, x axis will be date, and y will be return on that date\n",
        "  filtered_df = stocks_df.filter(stocks_df.Symbol == stock_to_invest).select(to_date(col(\"Date\")).alias(\"Date\"), col(\"Symbol\"), col(\"Open\"), col(\"Close\")).filter(stocks_df.Date >= start_time).filter(stocks_df.Date <= end_time)\n",
        "  daily_returns_df = filtered_df.withColumn(\"Daily_Returns\", filtered_df[\"Close\"] - filtered_df[\"Open\"])\n",
        "  graph_data = daily_returns_df.collect()\n",
        "  #graph plot\n",
        "  dates = []\n",
        "  daily_returns = []\n",
        "  for row in graph_data:\n",
        "    dates.append(row['Date'])\n",
        "    daily_returns.append(row['Daily_Returns'])\n",
        "  #end graph plot\n",
        "  answer = daily_returns_df.select(\"Date\", \"Symbol\", \"Daily_Returns\").groupBy(\"Symbol\").avg(\"Daily_Returns\").withColumnRenamed(\"avg(Daily_Returns)\", \"Avg_Daily_Returns\").collect()\n",
        "  figure(figsize=(5,3), dpi=200)\n",
        "  plt.title(\"Average Daily Returns for \" + stock_to_invest + \" = \" + str(answer[0]['Avg_Daily_Returns']))\n",
        "  plt.plot(dates, daily_returns, label='Daily Return (close - open)')\n",
        "  plt.axhline(y=answer[0]['Avg_Daily_Returns'], color='r', linestyle='-')\n",
        "  return answer[0]['Avg_Daily_Returns']\n",
        "problemSix(__STOCKS_DF__, \"INFY\", \"2012-01-01\", \"2020-01-01\")"
      ],
      "execution_count": 17,
      "outputs": [
        {
          "output_type": "execute_result",
          "data": {
            "text/plain": [
              "0.1616919191919259"
            ]
          },
          "metadata": {},
          "execution_count": 17
        },
        {
          "output_type": "display_data",
          "data": {
            "image/png": "[encoded data removed]",
            "text/plain": [
              "<Figure size 1000x600 with 1 Axes>"
            ]
          },
          "metadata": {
            "needs_background": "light"
          }
        }
      ]
    },
    {
      "cell_type": "markdown",
      "metadata": {
        "id": "rvxn_jfJRY6j"
      },
      "source": [
        "## Problem 8. Show the moving average of the various stocks in a particular time frame."
      ]
    },
    {
      "cell_type": "code",
      "metadata": {
        "id": "ILNfpxxRRYmg",
        "colab": {
          "base_uri": "https://localhost:8080/",
          "height": 891
        },
        "outputId": "a3360c2e-bb0c-450d-f15b-43ef96c79001"
      },
      "source": [
        "STOCK_NAME = \"TATASTEEL\"\n",
        "def problemSeven(stocks_df, stocks, start_time, end_time, window_length):\n",
        "  df = stocks_df.filter(stocks_df.Symbol == stocks).select(to_date(col(\"Date\")).alias(\"Date\"), col(\"Symbol\"), col(\"Close\")).filter(stocks_df.Date >= start_time).filter(stocks_df.Date <= end_time)\n",
        "  w = (Window().orderBy(col(\"Date\").asc()).rowsBetween(-1*window_length, Window.currentRow))\n",
        "  df = df.withColumn('rolling_average', avg(\"Close\").over(w))\n",
        "  return df.collect()\n",
        "\n",
        "data = problemSeven(__STOCKS_DF__, STOCK_NAME, \"2021-01-01\", \"2021-01-25\", 5)\n",
        "dates = []\n",
        "rolling_average = []\n",
        "close_prices = []\n",
        "for row in data:\n",
        "    dates.append(row['Date'])\n",
        "    rolling_average.append(row['rolling_average'])\n",
        "    close_prices.append(row['Close'])\n",
        "figure(figsize=(7,5), dpi=175)\n",
        "plt.plot(dates, close_prices, label='Actual')\n",
        "plt.plot(dates, rolling_average, label='Moving Average')\n",
        "plt.xlabel(\"Dates\")\n",
        "plt.ylabel(\"Closing Price\")\n",
        "plt.legend()\n",
        "# plt.gca().xaxis.set_major_locator(mdates.MonthLocator())\n",
        "# plt.gca().xaxis.set_minor_locator(mdates.MonthLocator())\n",
        "# plt.gca().xaxis.set_major_formatter(mdates.DateFormatter('%Y-%b'))\n",
        "plt.title(\"Moving Average Analysis for \" + STOCK_NAME)\n",
        "for label in plt.gca().get_xticklabels(which='major'):\n",
        "    label.set(rotation=30, horizontalalignment='right')"
      ],
      "execution_count": 18,
      "outputs": [
        {
          "output_type": "display_data",
          "data": {
            "image/png": "[encoded data removed]",
            "text/plain": [
              "<Figure size 1225x875 with 1 Axes>"
            ]
          },
          "metadata": {
            "needs_background": "light"
          }
        }
      ]
    },
    {
      "cell_type": "code",
      "metadata": {
        "id": "GgaBz9PvyfKN",
        "colab": {
          "base_uri": "https://localhost:8080/"
        },
        "outputId": "14abbdaf-3556-4613-a308-7fe0929050f5"
      },
      "source": [
        "#Twitter sentiment analysis Code\n",
        "\n",
        "params = {\n",
        "          'query': '(reliance) (lang:en)',\n",
        "          'max_results': '100',\n",
        "          'tweet.fields': 'created_at,lang'\n",
        "          }\n",
        "\n",
        "BEARER_TOKEN = ''\n",
        "'''response = requests.get(\n",
        "    'https://api.twitter.com/2/tweets/search/recent',\n",
        "    params=params,\n",
        "    headers={\n",
        "        'authorization': 'Bearer '+ BEARER_TOKEN\n",
        "})'''\n",
        "\n",
        "\n",
        "tweetList = []\n",
        "\n",
        "#Regex for cleaning tweet text\n",
        "whitespace = re.compile(r\"\\s+\")\n",
        "web_address = re.compile(r\"(?i)http(s):\\/\\/[a-z0-9.~_\\-\\/]+\")\n",
        "reliance = re.compile(r\"(?i)@Reliance(?=\\b)\")\n",
        "user = re.compile(r\"(?i)@[a-z0-9_]+\")\n",
        "  \n",
        "\n",
        "dtformat = '%Y-%m-%dT%H:%M:%SZ'\n",
        "\n",
        "now = datetime.now() - timedelta(seconds=10)  #Get the current datetime\n",
        "endTime = now\n",
        "\n",
        "startTime = endTime - timedelta(days=8)  #StartTime would be number of days mentioned before the end time\n",
        "endTime = endTime.strftime(dtformat)  #Convert now datetime to format for API\n",
        "\n",
        "iteration = 0\n",
        "while True:\n",
        "    if datetime.strptime(endTime, dtformat) < startTime:\n",
        "        #Break the loop if endTime reaches startTime\n",
        "        break\n",
        "\n",
        "    pre60 = time_travel(endTime, 60)  #Get 1 hour before endTime\n",
        "\n",
        "    #Assign from and to datetime parameters for the API\n",
        "    params['start_time'] = pre60\n",
        "    params['end_time'] = endTime\n",
        "    response = requests.get(\n",
        "      'https://api.twitter.com/2/tweets/search/recent',\n",
        "      params=params,\n",
        "      headers={\n",
        "        'authorization': 'Bearer '+ BEARER_TOKEN\n",
        "      })\n",
        "    iteration = iteration + 1\n",
        "    if iteration % 288 == 0:\n",
        "      time.sleep(15)\n",
        "    endTime = pre60  #Move the window 1 hour earlier\n",
        "\n",
        "    if \"data\" in response.json():\n",
        "      for tweet in response.json()['data']:\n",
        "        row = getData(tweet)\n",
        "        tweetList.append(row)\n",
        "\n",
        "tweetDf = spark.createDataFrame(Row(**x) for x in tweetList)\n",
        "tweetDf = tweetDf.withColumn('text', tweetUDF(col('text')))\n",
        "tweetDf.show(5)\n",
        "tweetDf.cache()\n",
        "\n"
      ],
      "execution_count": 19,
      "outputs": [
        {
          "output_type": "stream",
          "name": "stdout",
          "text": [
            "+-------------------+--------------------+--------------------+\n",
            "|                 id|          created_at|                text|\n",
            "+-------------------+--------------------+--------------------+\n",
            "|1469525249616228356|2021-12-11T04:31:...|GlobalTrustBank,T...|\n",
            "|1469525198386999300|2021-12-11T04:31:...|UK warns over rel...|\n",
            "|1469525023064944641|2021-12-11T04:30:...|RT : China have a...|\n",
            "|1469525015435649024|2021-12-11T04:30:...|RT : #PresidentIs...|\n",
            "|1469524938323333122|2021-12-11T04:30:...|#Recap Traditiona...|\n",
            "+-------------------+--------------------+--------------------+\n",
            "only showing top 5 rows\n",
            "\n"
          ]
        },
        {
          "output_type": "execute_result",
          "data": {
            "text/plain": [
              "DataFrame[id: string, created_at: string, text: string]"
            ]
          },
          "metadata": {},
          "execution_count": 19
        }
      ]
    },
    {
      "cell_type": "code",
      "metadata": {
        "id": "S0IXIKmCcPIV",
        "colab": {
          "base_uri": "https://localhost:8080/"
        },
        "outputId": "faf31b33-0aa2-43ec-c168-f297bb33a56c"
      },
      "source": [
        "#Function to get the Predicted Sentiment Score\n",
        "def predictSentimentScore(tweet):\n",
        "  sentence = flair.data.Sentence(tweet)\n",
        "  sentiment_model.predict(sentence)\n",
        "  return sentence.labels[0].score\n",
        "\n",
        "#Function to get the Predicted Sentiment Value\n",
        "def predictSentimentValue(tweet):\n",
        "  sentence = flair.data.Sentence(tweet)\n",
        "  sentiment_model.predict(sentence)\n",
        "  return sentence.labels[0].value\n",
        "\n",
        "predictScoreUDF = udf(lambda z:predictSentimentScore(z),DoubleType())\n",
        "predictValueUDF = udf(lambda z:predictSentimentValue(z),StringType())\n",
        "\n",
        "tweetDf = tweetDf.withColumn('probability', predictScoreUDF(col('text'))).withColumn('sentiment', predictValueUDF(col('text')))\n",
        "tweetDf = tweetDf.withColumn('date', substring('created_at', 1,10))\n",
        "tweetDf.show(5)\n",
        "tweetDf.cache()"
      ],
      "execution_count": 20,
      "outputs": [
        {
          "output_type": "stream",
          "name": "stdout",
          "text": [
            "+-------------------+--------------------+--------------------+------------------+---------+----------+\n",
            "|                 id|          created_at|                text|       probability|sentiment|      date|\n",
            "+-------------------+--------------------+--------------------+------------------+---------+----------+\n",
            "|1469525249616228356|2021-12-11T04:31:...|GlobalTrustBank,T...|0.9996201992034912| NEGATIVE|2021-12-11|\n",
            "|1469525198386999300|2021-12-11T04:31:...|UK warns over rel...|0.9972895383834839| NEGATIVE|2021-12-11|\n",
            "|1469525023064944641|2021-12-11T04:30:...|RT : China have a...| 0.977648138999939| NEGATIVE|2021-12-11|\n",
            "|1469525015435649024|2021-12-11T04:30:...|RT : #PresidentIs...| 0.511579155921936| POSITIVE|2021-12-11|\n",
            "|1469524938323333122|2021-12-11T04:30:...|#Recap Traditiona...|0.9941219687461853| NEGATIVE|2021-12-11|\n",
            "+-------------------+--------------------+--------------------+------------------+---------+----------+\n",
            "only showing top 5 rows\n",
            "\n"
          ]
        },
        {
          "output_type": "execute_result",
          "data": {
            "text/plain": [
              "DataFrame[id: string, created_at: string, text: string, probability: double, sentiment: string, date: string]"
            ]
          },
          "metadata": {},
          "execution_count": 20
        }
      ]
    },
    {
      "cell_type": "code",
      "metadata": {
        "id": "ay4fRbQMhEHr",
        "colab": {
          "base_uri": "https://localhost:8080/"
        },
        "outputId": "c4fc9426-1ddd-4133-8e2f-8c01056a012d"
      },
      "source": [
        "#Grouping the Data Frame by date and Sentiment value to get average probability and tweet count in a single day based on sentiment\n",
        "avgTweetDf = tweetDf.groupBy(\"date\", \"sentiment\").agg(avg(\"probability\").alias(\"avgProbability\"), count(\"id\").alias(\"tweetCount\"))\n",
        "avgTweetDf = avgTweetDf.select(date_format(col(\"date\"),\"MMM dd, yyyy\").alias(\"Date\"), col(\"avgProbability\"), col(\"tweetCount\"), col(\"sentiment\"))\n",
        "avgTweetDf.show(14)\n",
        "avgTweetDf.cache()"
      ],
      "execution_count": 21,
      "outputs": [
        {
          "output_type": "stream",
          "name": "stdout",
          "text": [
            "+------------+------------------+----------+---------+\n",
            "|        Date|    avgProbability|tweetCount|sentiment|\n",
            "+------------+------------------+----------+---------+\n",
            "|Dec 10, 2021| 0.889733516644512|       726| POSITIVE|\n",
            "|Dec 05, 2021|0.9607471339297226|      1388| NEGATIVE|\n",
            "|Dec 04, 2021|0.9169284602242241|       842| POSITIVE|\n",
            "|Dec 08, 2021|0.9502671325305141|      1454| NEGATIVE|\n",
            "|Dec 06, 2021|0.9034508938284077|       972| POSITIVE|\n",
            "|Dec 08, 2021|0.9175952520304608|       941| POSITIVE|\n",
            "|Dec 09, 2021|0.9328879348508359|      1559| NEGATIVE|\n",
            "|Dec 10, 2021|0.9447483322024346|      1600| NEGATIVE|\n",
            "|Dec 09, 2021|0.9163992999576762|       847| POSITIVE|\n",
            "|Dec 04, 2021| 0.940984135617053|       981| NEGATIVE|\n",
            "|Dec 07, 2021|0.9397852916263099|      1511| NEGATIVE|\n",
            "|Dec 07, 2021|0.8851968744815017|       863| POSITIVE|\n",
            "|Dec 11, 2021|0.9413677008946737|       225| NEGATIVE|\n",
            "|Dec 11, 2021|0.8894260012712635|       122| POSITIVE|\n",
            "+------------+------------------+----------+---------+\n",
            "only showing top 14 rows\n",
            "\n"
          ]
        },
        {
          "output_type": "execute_result",
          "data": {
            "text/plain": [
              "DataFrame[Date: string, avgProbability: double, tweetCount: bigint, sentiment: string]"
            ]
          },
          "metadata": {},
          "execution_count": 21
        }
      ]
    },
    {
      "cell_type": "code",
      "metadata": {
        "id": "3jj9IsLl-YfT"
      },
      "source": [
        "#Dividing the Data Frame w.r.t Positive and Negative sentiment\n",
        "negTweetDf = avgTweetDf.filter(col(\"sentiment\").like(\"%NEGATIVE%\"))\n",
        "negTweetDf = negTweetDf.withColumnRenamed(\"avgProbability\",\"avgNegativeProbability\")\n",
        "negTweetDf = negTweetDf.withColumnRenamed(\"tweetCount\",\"negativeTweetCount\")\n",
        "negTweetDf = negTweetDf.drop(\"sentiment\")\n",
        "\n",
        "posTweetDf = avgTweetDf.filter(col(\"sentiment\").like(\"%POSITIVE%\"))\n",
        "posTweetDf = posTweetDf.withColumnRenamed(\"avgProbability\",\"avgPositiveProbability\")\n",
        "posTweetDf = posTweetDf.withColumnRenamed(\"tweetCount\",\"positiveTweetCount\")\n",
        "posTweetDf = posTweetDf.drop(\"sentiment\")"
      ],
      "execution_count": 22,
      "outputs": []
    },
    {
      "cell_type": "code",
      "metadata": {
        "id": "B-YVQUII1AbD",
        "colab": {
          "base_uri": "https://localhost:8080/"
        },
        "outputId": "b31fbcaa-11ec-4fbe-a09d-7f8642541e3e"
      },
      "source": [
        "#Web Scraping Reliance stock Data\n",
        "\n",
        "headers = {'User-Agent': 'Mozilla/5.0 (Windows NT 6.1) AppleWebKit/537.36 (KHTML, like Gecko) Chrome/41.0.2228.0 Safari/537.3'}\n",
        "\n",
        "url = \"https://in.investing.com/equities/reliance-industries-historical-data\"\n",
        "r = Request(url, headers=headers)\n",
        "try:\n",
        "  page = urlopen(r)\n",
        "except:\n",
        " print(\"Error\")\n",
        "\n",
        "soup = bs4.BeautifulSoup(page,'html.parser')\n",
        "\n",
        "date = soup.find_all('td',{'class': 'col-rowDate'})#.find('span').text\n",
        "allDates = [data.text.replace(\"\\n\", \"\") for data in date]\n",
        "\n",
        "lastClose = soup.find_all('td',{'class': 'col-last_close'})\n",
        "allClose = [data.text.replace(\"\\n\", \"\") for data in lastClose]\n",
        "\n",
        "open = soup.find_all('td',{'class': 'col-last_open'})\n",
        "allOpen = [data.text.replace(\"\\n\", \"\") for data in open]\n",
        "\n",
        "high = soup.find_all('td',{'class': 'col-last_max'})\n",
        "allHigh = [data.text.replace(\"\\n\", \"\") for data in high]\n",
        "\n",
        "low = soup.find_all('td',{'class': 'col-last_min'})\n",
        "allLow = [data.text.replace(\"\\n\", \"\") for data in low]\n",
        "\n",
        "change = soup.find_all('td',{'class': 'col-change_percent'})\n",
        "allChange = [data.text.replace(\"\\n\", \"\")[:-1] for data in change]\n",
        "\n",
        "relianceDf = spark.createDataFrame(zip(allDates, allClose, allOpen, allHigh, allLow, allChange), schema=['Date', 'Price', 'Open', 'High', 'Low', 'ChangePerc'])\n",
        "\n",
        "relianceDf.show()"
      ],
      "execution_count": 23,
      "outputs": [
        {
          "output_type": "stream",
          "name": "stdout",
          "text": [
            "+------------+--------+--------+--------+--------+----------+\n",
            "|        Date|   Price|    Open|    High|     Low|ChangePerc|\n",
            "+------------+--------+--------+--------+--------+----------+\n",
            "|Dec 10, 2021|2,458.95|2,440.25|2,466.00|2,430.35|      0.10|\n",
            "|Dec 09, 2021|2,456.45|2,435.00|2,474.90|2,425.00|      1.59|\n",
            "|Dec 08, 2021|2,418.10|2,424.10|2,431.80|2,406.30|      1.52|\n",
            "|Dec 07, 2021|2,381.85|2,376.15|2,404.00|2,360.00|      0.81|\n",
            "|Dec 06, 2021|2,362.60|2,416.00|2,425.00|2,357.15|     -1.90|\n",
            "|Dec 03, 2021|2,408.25|2,498.40|2,498.50|2,400.00|     -3.00|\n",
            "|Dec 02, 2021|2,482.85|2,469.70|2,496.20|2,461.60|      0.64|\n",
            "|Dec 01, 2021|2,467.00|2,433.00|2,474.00|2,425.10|      2.56|\n",
            "|Nov 30, 2021|2,405.40|2,468.00|2,475.90|2,388.85|     -1.48|\n",
            "|Nov 29, 2021|2,441.50|2,439.10|2,500.00|2,399.10|      1.20|\n",
            "|Nov 26, 2021|2,412.60|2,467.80|2,477.60|2,401.50|     -3.22|\n",
            "|Nov 25, 2021|2,492.95|2,373.00|2,502.00|2,357.15|      6.02|\n",
            "|Nov 24, 2021|2,351.40|2,380.00|2,409.90|2,343.55|     -1.44|\n",
            "|Nov 23, 2021|2,385.85|2,333.05|2,401.25|2,309.00|      0.93|\n",
            "|Nov 22, 2021|2,363.75|2,436.10|2,449.00|2,351.00|     -4.43|\n",
            "|Nov 18, 2021|2,473.30|2,460.00|2,489.00|2,450.05|      0.38|\n",
            "|Nov 17, 2021|2,464.00|2,498.95|2,498.95|2,461.00|     -2.14|\n",
            "|Nov 16, 2021|2,517.90|2,572.05|2,575.00|2,495.00|     -2.32|\n",
            "|Nov 15, 2021|2,577.80|2,600.00|2,602.20|2,570.00|     -0.59|\n",
            "|Nov 12, 2021|2,593.10|2,562.90|2,598.75|2,557.00|      1.51|\n",
            "+------------+--------+--------+--------+--------+----------+\n",
            "\n"
          ]
        }
      ]
    },
    {
      "cell_type": "code",
      "metadata": {
        "id": "w21nKWMi2NHb",
        "colab": {
          "base_uri": "https://localhost:8080/"
        },
        "outputId": "94c9374e-e0a7-4972-eddc-2c7e9e333684"
      },
      "source": [
        "#Joining the web scraped Reliance stock data frame with already created POSITIVE and NEGATIVE data frames \n",
        "fullDf = relianceDf.join(posTweetDf,'Date', how=\"inner\")\n",
        "fullDf = fullDf.join(negTweetDf,'Date', how=\"inner\")\n",
        "fullDf = fullDf.sort(\"Date\")\n",
        "fullDf.show()\n",
        "fullDf.cache()"
      ],
      "execution_count": 24,
      "outputs": [
        {
          "output_type": "stream",
          "name": "stdout",
          "text": [
            "+------------+--------+--------+--------+--------+----------+----------------------+------------------+----------------------+------------------+\n",
            "|        Date|   Price|    Open|    High|     Low|ChangePerc|avgPositiveProbability|positiveTweetCount|avgNegativeProbability|negativeTweetCount|\n",
            "+------------+--------+--------+--------+--------+----------+----------------------+------------------+----------------------+------------------+\n",
            "|Dec 06, 2021|2,362.60|2,416.00|2,425.00|2,357.15|     -1.90|    0.9034508938284077|               972|    0.9401527309260985|              1369|\n",
            "|Dec 07, 2021|2,381.85|2,376.15|2,404.00|2,360.00|      0.81|    0.8851968744815017|               863|    0.9397852916263099|              1511|\n",
            "|Dec 08, 2021|2,418.10|2,424.10|2,431.80|2,406.30|      1.52|    0.9175952520304608|               941|    0.9502671325305141|              1454|\n",
            "|Dec 09, 2021|2,456.45|2,435.00|2,474.90|2,425.00|      1.59|    0.9163992999576762|               847|    0.9328879348508359|              1559|\n",
            "|Dec 10, 2021|2,458.95|2,440.25|2,466.00|2,430.35|      0.10|     0.889733516644512|               726|    0.9447483322024346|              1600|\n",
            "+------------+--------+--------+--------+--------+----------+----------------------+------------------+----------------------+------------------+\n",
            "\n"
          ]
        },
        {
          "output_type": "execute_result",
          "data": {
            "text/plain": [
              "DataFrame[Date: string, Price: string, Open: string, High: string, Low: string, ChangePerc: string, avgPositiveProbability: double, positiveTweetCount: bigint, avgNegativeProbability: double, negativeTweetCount: bigint]"
            ]
          },
          "metadata": {},
          "execution_count": 24
        }
      ]
    },
    {
      "cell_type": "code",
      "metadata": {
        "id": "yH-ULOUrDF2M"
      },
      "source": [
        "dateList = []\n",
        "priceList = []\n",
        "posTweetCountList = []\n",
        "negTweetCountList = []\n",
        "avgPositiveProbabilityList = []\n",
        "avgNegativeProbabilityList = []\n",
        "\n",
        "for row in fullDf.collect():\n",
        "  dateList.append(row.Date)\n",
        "  priceList.append(row.Price)\n",
        "  posTweetCountList.append(row.positiveTweetCount)\n",
        "  negTweetCountList.append(row.negativeTweetCount)\n",
        "  avgPositiveProbabilityList.append(row.avgPositiveProbability)\n",
        "  avgNegativeProbabilityList.append(row.avgNegativeProbability)\n",
        "\n",
        "priceList = [float(s.replace(\",\", \"\")) for s in priceList]"
      ],
      "execution_count": 25,
      "outputs": []
    },
    {
      "cell_type": "code",
      "metadata": {
        "id": "KKjvKgRWGDkQ",
        "colab": {
          "base_uri": "https://localhost:8080/",
          "height": 265
        },
        "outputId": "f3f41717-7493-4cd2-cf96-7009e4a5b066"
      },
      "source": [
        "#Plotting Graph of the observed Data\n",
        "fig = plt.figure()\n",
        "ax = fig.add_subplot(111)\n",
        "X_axis = np.arange(len(dateList))\n",
        "ax.plot(dateList,priceList, color='red', label = 'Share Price')\n",
        "ax.legend(loc='upper right')\n",
        "\n",
        "axB = ax.twinx()\n",
        "axB.plot(dateList,avgPositiveProbabilityList, color='blue', label = 'Net Positive Sentiment')\n",
        "plt.show()\n"
      ],
      "execution_count": 26,
      "outputs": [
        {
          "output_type": "display_data",
          "data": {
            "image/png": "[encoded data removed]",
            "text/plain": [
              "<Figure size 432x288 with 2 Axes>"
            ]
          },
          "metadata": {
            "needs_background": "light"
          }
        }
      ]
    },
    {
      "cell_type": "code",
      "metadata": {
        "id": "E0FfLl99qNnr",
        "colab": {
          "base_uri": "https://localhost:8080/",
          "height": 265
        },
        "outputId": "c61affcb-e82b-4f8a-bcee-ce2ba1b5e6d8"
      },
      "source": [
        "#Plotting Graph of the observed Data\n",
        "fig = plt.figure()\n",
        "ax = fig.add_subplot(111)\n",
        "X_axis = np.arange(len(dateList))\n",
        "ax.plot(dateList,priceList, color='red', label = 'Share Price')\n",
        "ax.legend(loc='upper right')\n",
        "\n",
        "axB = ax.twinx()\n",
        "axB.plot(dateList,avgNegativeProbabilityList, color='blue', label = 'Net Positive Sentiment')\n",
        "plt.show()"
      ],
      "execution_count": 27,
      "outputs": [
        {
          "output_type": "display_data",
          "data": {
            "image/png": "[encoded data removed]",
            "text/plain": [
              "<Figure size 432x288 with 2 Axes>"
            ]
          },
          "metadata": {
            "needs_background": "light"
          }
        }
      ]
    }
  ]
}