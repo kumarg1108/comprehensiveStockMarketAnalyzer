{
  "nbformat": 4,
  "nbformat_minor": 0,
  "metadata": {
    "colab": {
      "name": "Comprehensive_Stock_Analysis__Final.ipynb",
      "provenance": [],
      "collapsed_sections": []
    },
    "kernelspec": {
      "display_name": "Python 3",
      "name": "python3"
    },
    "language_info": {
      "name": "python"
    },
    "widgets": {
      "application/vnd.jupyter.widget-state+json": {
        "7cd977596fca45e8929f9a7f78871e1a": {
          "model_module": "@jupyter-widgets/controls",
          "model_name": "HBoxModel",
          "model_module_version": "1.5.0",
          "state": {
            "_view_name": "HBoxView",
            "_dom_classes": [],
            "_model_name": "HBoxModel",
            "_view_module": "@jupyter-widgets/controls",
            "_model_module_version": "1.5.0",
            "_view_count": null,
            "_view_module_version": "1.5.0",
            "box_style": "",
            "layout": "IPY_MODEL_c39f376d8f74408b9f143ad053e06696",
            "_model_module": "@jupyter-widgets/controls",
            "children": [
              "IPY_MODEL_37a720e7963f469992b9a2e1f39134cf",
              "IPY_MODEL_1f277ee1dc834642bbc1d1c827a41d77",
              "IPY_MODEL_ce303816f7514cd7a1d42f666b57efdc"
            ]
          }
        },
        "c39f376d8f74408b9f143ad053e06696": {
          "model_module": "@jupyter-widgets/base",
          "model_name": "LayoutModel",
          "model_module_version": "1.2.0",
          "state": {
            "_view_name": "LayoutView",
            "grid_template_rows": null,
            "right": null,
            "justify_content": null,
            "_view_module": "@jupyter-widgets/base",
            "overflow": null,
            "_model_module_version": "1.2.0",
            "_view_count": null,
            "flex_flow": null,
            "width": null,
            "min_width": null,
            "border": null,
            "align_items": null,
            "bottom": null,
            "_model_module": "@jupyter-widgets/base",
            "top": null,
            "grid_column": null,
            "overflow_y": null,
            "overflow_x": null,
            "grid_auto_flow": null,
            "grid_area": null,
            "grid_template_columns": null,
            "flex": null,
            "_model_name": "LayoutModel",
            "justify_items": null,
            "grid_row": null,
            "max_height": null,
            "align_content": null,
            "visibility": null,
            "align_self": null,
            "height": null,
            "min_height": null,
            "padding": null,
            "grid_auto_rows": null,
            "grid_gap": null,
            "max_width": null,
            "order": null,
            "_view_module_version": "1.2.0",
            "grid_template_areas": null,
            "object_position": null,
            "object_fit": null,
            "grid_auto_columns": null,
            "margin": null,
            "display": null,
            "left": null
          }
        },
        "37a720e7963f469992b9a2e1f39134cf": {
          "model_module": "@jupyter-widgets/controls",
          "model_name": "HTMLModel",
          "model_module_version": "1.5.0",
          "state": {
            "_view_name": "HTMLView",
            "style": "IPY_MODEL_a9b7b8ebd377402582a048850b5c985b",
            "_dom_classes": [],
            "description": "",
            "_model_name": "HTMLModel",
            "placeholder": "​",
            "_view_module": "@jupyter-widgets/controls",
            "_model_module_version": "1.5.0",
            "value": "Downloading: 100%",
            "_view_count": null,
            "_view_module_version": "1.5.0",
            "description_tooltip": null,
            "_model_module": "@jupyter-widgets/controls",
            "layout": "IPY_MODEL_fef17ca3b3e2413981a6bcc17ac71dd3"
          }
        },
        "1f277ee1dc834642bbc1d1c827a41d77": {
          "model_module": "@jupyter-widgets/controls",
          "model_name": "FloatProgressModel",
          "model_module_version": "1.5.0",
          "state": {
            "_view_name": "ProgressView",
            "style": "IPY_MODEL_9c413501f56d4f63aee4049c933fc05d",
            "_dom_classes": [],
            "description": "",
            "_model_name": "FloatProgressModel",
            "bar_style": "success",
            "max": 28,
            "_view_module": "@jupyter-widgets/controls",
            "_model_module_version": "1.5.0",
            "value": 28,
            "_view_count": null,
            "_view_module_version": "1.5.0",
            "orientation": "horizontal",
            "min": 0,
            "description_tooltip": null,
            "_model_module": "@jupyter-widgets/controls",
            "layout": "IPY_MODEL_429b9cfe9e7a40cd869329bd88500251"
          }
        },
        "ce303816f7514cd7a1d42f666b57efdc": {
          "model_module": "@jupyter-widgets/controls",
          "model_name": "HTMLModel",
          "model_module_version": "1.5.0",
          "state": {
            "_view_name": "HTMLView",
            "style": "IPY_MODEL_ad3939e1c4c64635993841fb8c9058c8",
            "_dom_classes": [],
            "description": "",
            "_model_name": "HTMLModel",
            "placeholder": "​",
            "_view_module": "@jupyter-widgets/controls",
            "_model_module_version": "1.5.0",
            "value": " 28.0/28.0 [00:00&lt;00:00, 517B/s]",
            "_view_count": null,
            "_view_module_version": "1.5.0",
            "description_tooltip": null,
            "_model_module": "@jupyter-widgets/controls",
            "layout": "IPY_MODEL_eb33a10619974cc08b3bc81cfe5ce66e"
          }
        },
        "a9b7b8ebd377402582a048850b5c985b": {
          "model_module": "@jupyter-widgets/controls",
          "model_name": "DescriptionStyleModel",
          "model_module_version": "1.5.0",
          "state": {
            "_view_name": "StyleView",
            "_model_name": "DescriptionStyleModel",
            "description_width": "",
            "_view_module": "@jupyter-widgets/base",
            "_model_module_version": "1.5.0",
            "_view_count": null,
            "_view_module_version": "1.2.0",
            "_model_module": "@jupyter-widgets/controls"
          }
        },
        "fef17ca3b3e2413981a6bcc17ac71dd3": {
          "model_module": "@jupyter-widgets/base",
          "model_name": "LayoutModel",
          "model_module_version": "1.2.0",
          "state": {
            "_view_name": "LayoutView",
            "grid_template_rows": null,
            "right": null,
            "justify_content": null,
            "_view_module": "@jupyter-widgets/base",
            "overflow": null,
            "_model_module_version": "1.2.0",
            "_view_count": null,
            "flex_flow": null,
            "width": null,
            "min_width": null,
            "border": null,
            "align_items": null,
            "bottom": null,
            "_model_module": "@jupyter-widgets/base",
            "top": null,
            "grid_column": null,
            "overflow_y": null,
            "overflow_x": null,
            "grid_auto_flow": null,
            "grid_area": null,
            "grid_template_columns": null,
            "flex": null,
            "_model_name": "LayoutModel",
            "justify_items": null,
            "grid_row": null,
            "max_height": null,
            "align_content": null,
            "visibility": null,
            "align_self": null,
            "height": null,
            "min_height": null,
            "padding": null,
            "grid_auto_rows": null,
            "grid_gap": null,
            "max_width": null,
            "order": null,
            "_view_module_version": "1.2.0",
            "grid_template_areas": null,
            "object_position": null,
            "object_fit": null,
            "grid_auto_columns": null,
            "margin": null,
            "display": null,
            "left": null
          }
        },
        "9c413501f56d4f63aee4049c933fc05d": {
          "model_module": "@jupyter-widgets/controls",
          "model_name": "ProgressStyleModel",
          "model_module_version": "1.5.0",
          "state": {
            "_view_name": "StyleView",
            "_model_name": "ProgressStyleModel",
            "description_width": "",
            "_view_module": "@jupyter-widgets/base",
            "_model_module_version": "1.5.0",
            "_view_count": null,
            "_view_module_version": "1.2.0",
            "bar_color": null,
            "_model_module": "@jupyter-widgets/controls"
          }
        },
        "429b9cfe9e7a40cd869329bd88500251": {
          "model_module": "@jupyter-widgets/base",
          "model_name": "LayoutModel",
          "model_module_version": "1.2.0",
          "state": {
            "_view_name": "LayoutView",
            "grid_template_rows": null,
            "right": null,
            "justify_content": null,
            "_view_module": "@jupyter-widgets/base",
            "overflow": null,
            "_model_module_version": "1.2.0",
            "_view_count": null,
            "flex_flow": null,
            "width": null,
            "min_width": null,
            "border": null,
            "align_items": null,
            "bottom": null,
            "_model_module": "@jupyter-widgets/base",
            "top": null,
            "grid_column": null,
            "overflow_y": null,
            "overflow_x": null,
            "grid_auto_flow": null,
            "grid_area": null,
            "grid_template_columns": null,
            "flex": null,
            "_model_name": "LayoutModel",
            "justify_items": null,
            "grid_row": null,
            "max_height": null,
            "align_content": null,
            "visibility": null,
            "align_self": null,
            "height": null,
            "min_height": null,
            "padding": null,
            "grid_auto_rows": null,
            "grid_gap": null,
            "max_width": null,
            "order": null,
            "_view_module_version": "1.2.0",
            "grid_template_areas": null,
            "object_position": null,
            "object_fit": null,
            "grid_auto_columns": null,
            "margin": null,
            "display": null,
            "left": null
          }
        },
        "ad3939e1c4c64635993841fb8c9058c8": {
          "model_module": "@jupyter-widgets/controls",
          "model_name": "DescriptionStyleModel",
          "model_module_version": "1.5.0",
          "state": {
            "_view_name": "StyleView",
            "_model_name": "DescriptionStyleModel",
            "description_width": "",
            "_view_module": "@jupyter-widgets/base",
            "_model_module_version": "1.5.0",
            "_view_count": null,
            "_view_module_version": "1.2.0",
            "_model_module": "@jupyter-widgets/controls"
          }
        },
        "eb33a10619974cc08b3bc81cfe5ce66e": {
          "model_module": "@jupyter-widgets/base",
          "model_name": "LayoutModel",
          "model_module_version": "1.2.0",
          "state": {
            "_view_name": "LayoutView",
            "grid_template_rows": null,
            "right": null,
            "justify_content": null,
            "_view_module": "@jupyter-widgets/base",
            "overflow": null,
            "_model_module_version": "1.2.0",
            "_view_count": null,
            "flex_flow": null,
            "width": null,
            "min_width": null,
            "border": null,
            "align_items": null,
            "bottom": null,
            "_model_module": "@jupyter-widgets/base",
            "top": null,
            "grid_column": null,
            "overflow_y": null,
            "overflow_x": null,
            "grid_auto_flow": null,
            "grid_area": null,
            "grid_template_columns": null,
            "flex": null,
            "_model_name": "LayoutModel",
            "justify_items": null,
            "grid_row": null,
            "max_height": null,
            "align_content": null,
            "visibility": null,
            "align_self": null,
            "height": null,
            "min_height": null,
            "padding": null,
            "grid_auto_rows": null,
            "grid_gap": null,
            "max_width": null,
            "order": null,
            "_view_module_version": "1.2.0",
            "grid_template_areas": null,
            "object_position": null,
            "object_fit": null,
            "grid_auto_columns": null,
            "margin": null,
            "display": null,
            "left": null
          }
        },
        "a540feb9fe0b41df8f976bf5f6d1a5ed": {
          "model_module": "@jupyter-widgets/controls",
          "model_name": "HBoxModel",
          "model_module_version": "1.5.0",
          "state": {
            "_view_name": "HBoxView",
            "_dom_classes": [],
            "_model_name": "HBoxModel",
            "_view_module": "@jupyter-widgets/controls",
            "_model_module_version": "1.5.0",
            "_view_count": null,
            "_view_module_version": "1.5.0",
            "box_style": "",
            "layout": "IPY_MODEL_2b351e2de2b04c23bbc9bc00e5221001",
            "_model_module": "@jupyter-widgets/controls",
            "children": [
              "IPY_MODEL_c40f1b98015c4fc381b2bccc5a209a1c",
              "IPY_MODEL_2e2d0e067ce942b8b860047228d46407",
              "IPY_MODEL_1340673c51a648a899f1faa18ef303dd"
            ]
          }
        },
        "2b351e2de2b04c23bbc9bc00e5221001": {
          "model_module": "@jupyter-widgets/base",
          "model_name": "LayoutModel",
          "model_module_version": "1.2.0",
          "state": {
            "_view_name": "LayoutView",
            "grid_template_rows": null,
            "right": null,
            "justify_content": null,
            "_view_module": "@jupyter-widgets/base",
            "overflow": null,
            "_model_module_version": "1.2.0",
            "_view_count": null,
            "flex_flow": null,
            "width": null,
            "min_width": null,
            "border": null,
            "align_items": null,
            "bottom": null,
            "_model_module": "@jupyter-widgets/base",
            "top": null,
            "grid_column": null,
            "overflow_y": null,
            "overflow_x": null,
            "grid_auto_flow": null,
            "grid_area": null,
            "grid_template_columns": null,
            "flex": null,
            "_model_name": "LayoutModel",
            "justify_items": null,
            "grid_row": null,
            "max_height": null,
            "align_content": null,
            "visibility": null,
            "align_self": null,
            "height": null,
            "min_height": null,
            "padding": null,
            "grid_auto_rows": null,
            "grid_gap": null,
            "max_width": null,
            "order": null,
            "_view_module_version": "1.2.0",
            "grid_template_areas": null,
            "object_position": null,
            "object_fit": null,
            "grid_auto_columns": null,
            "margin": null,
            "display": null,
            "left": null
          }
        },
        "c40f1b98015c4fc381b2bccc5a209a1c": {
          "model_module": "@jupyter-widgets/controls",
          "model_name": "HTMLModel",
          "model_module_version": "1.5.0",
          "state": {
            "_view_name": "HTMLView",
            "style": "IPY_MODEL_0799fef1d42c47038c312f1052ff2565",
            "_dom_classes": [],
            "description": "",
            "_model_name": "HTMLModel",
            "placeholder": "​",
            "_view_module": "@jupyter-widgets/controls",
            "_model_module_version": "1.5.0",
            "value": "Downloading: 100%",
            "_view_count": null,
            "_view_module_version": "1.5.0",
            "description_tooltip": null,
            "_model_module": "@jupyter-widgets/controls",
            "layout": "IPY_MODEL_7cd04ef80da3444b9f6c7c94c08709ad"
          }
        },
        "2e2d0e067ce942b8b860047228d46407": {
          "model_module": "@jupyter-widgets/controls",
          "model_name": "FloatProgressModel",
          "model_module_version": "1.5.0",
          "state": {
            "_view_name": "ProgressView",
            "style": "IPY_MODEL_3f16cd61846f4f06921a9aa2afaefa24",
            "_dom_classes": [],
            "description": "",
            "_model_name": "FloatProgressModel",
            "bar_style": "success",
            "max": 231508,
            "_view_module": "@jupyter-widgets/controls",
            "_model_module_version": "1.5.0",
            "value": 231508,
            "_view_count": null,
            "_view_module_version": "1.5.0",
            "orientation": "horizontal",
            "min": 0,
            "description_tooltip": null,
            "_model_module": "@jupyter-widgets/controls",
            "layout": "IPY_MODEL_ab92bf2621244adfb8c0557c000f4cd0"
          }
        },
        "1340673c51a648a899f1faa18ef303dd": {
          "model_module": "@jupyter-widgets/controls",
          "model_name": "HTMLModel",
          "model_module_version": "1.5.0",
          "state": {
            "_view_name": "HTMLView",
            "style": "IPY_MODEL_ef05c78a10484c94be58d115bd3f3693",
            "_dom_classes": [],
            "description": "",
            "_model_name": "HTMLModel",
            "placeholder": "​",
            "_view_module": "@jupyter-widgets/controls",
            "_model_module_version": "1.5.0",
            "value": " 226k/226k [00:00&lt;00:00, 1.08MB/s]",
            "_view_count": null,
            "_view_module_version": "1.5.0",
            "description_tooltip": null,
            "_model_module": "@jupyter-widgets/controls",
            "layout": "IPY_MODEL_f6ed184d58af4218ab0401a2060d56fb"
          }
        },
        "0799fef1d42c47038c312f1052ff2565": {
          "model_module": "@jupyter-widgets/controls",
          "model_name": "DescriptionStyleModel",
          "model_module_version": "1.5.0",
          "state": {
            "_view_name": "StyleView",
            "_model_name": "DescriptionStyleModel",
            "description_width": "",
            "_view_module": "@jupyter-widgets/base",
            "_model_module_version": "1.5.0",
            "_view_count": null,
            "_view_module_version": "1.2.0",
            "_model_module": "@jupyter-widgets/controls"
          }
        },
        "7cd04ef80da3444b9f6c7c94c08709ad": {
          "model_module": "@jupyter-widgets/base",
          "model_name": "LayoutModel",
          "model_module_version": "1.2.0",
          "state": {
            "_view_name": "LayoutView",
            "grid_template_rows": null,
            "right": null,
            "justify_content": null,
            "_view_module": "@jupyter-widgets/base",
            "overflow": null,
            "_model_module_version": "1.2.0",
            "_view_count": null,
            "flex_flow": null,
            "width": null,
            "min_width": null,
            "border": null,
            "align_items": null,
            "bottom": null,
            "_model_module": "@jupyter-widgets/base",
            "top": null,
            "grid_column": null,
            "overflow_y": null,
            "overflow_x": null,
            "grid_auto_flow": null,
            "grid_area": null,
            "grid_template_columns": null,
            "flex": null,
            "_model_name": "LayoutModel",
            "justify_items": null,
            "grid_row": null,
            "max_height": null,
            "align_content": null,
            "visibility": null,
            "align_self": null,
            "height": null,
            "min_height": null,
            "padding": null,
            "grid_auto_rows": null,
            "grid_gap": null,
            "max_width": null,
            "order": null,
            "_view_module_version": "1.2.0",
            "grid_template_areas": null,
            "object_position": null,
            "object_fit": null,
            "grid_auto_columns": null,
            "margin": null,
            "display": null,
            "left": null
          }
        },
        "3f16cd61846f4f06921a9aa2afaefa24": {
          "model_module": "@jupyter-widgets/controls",
          "model_name": "ProgressStyleModel",
          "model_module_version": "1.5.0",
          "state": {
            "_view_name": "StyleView",
            "_model_name": "ProgressStyleModel",
            "description_width": "",
            "_view_module": "@jupyter-widgets/base",
            "_model_module_version": "1.5.0",
            "_view_count": null,
            "_view_module_version": "1.2.0",
            "bar_color": null,
            "_model_module": "@jupyter-widgets/controls"
          }
        },
        "ab92bf2621244adfb8c0557c000f4cd0": {
          "model_module": "@jupyter-widgets/base",
          "model_name": "LayoutModel",
          "model_module_version": "1.2.0",
          "state": {
            "_view_name": "LayoutView",
            "grid_template_rows": null,
            "right": null,
            "justify_content": null,
            "_view_module": "@jupyter-widgets/base",
            "overflow": null,
            "_model_module_version": "1.2.0",
            "_view_count": null,
            "flex_flow": null,
            "width": null,
            "min_width": null,
            "border": null,
            "align_items": null,
            "bottom": null,
            "_model_module": "@jupyter-widgets/base",
            "top": null,
            "grid_column": null,
            "overflow_y": null,
            "overflow_x": null,
            "grid_auto_flow": null,
            "grid_area": null,
            "grid_template_columns": null,
            "flex": null,
            "_model_name": "LayoutModel",
            "justify_items": null,
            "grid_row": null,
            "max_height": null,
            "align_content": null,
            "visibility": null,
            "align_self": null,
            "height": null,
            "min_height": null,
            "padding": null,
            "grid_auto_rows": null,
            "grid_gap": null,
            "max_width": null,
            "order": null,
            "_view_module_version": "1.2.0",
            "grid_template_areas": null,
            "object_position": null,
            "object_fit": null,
            "grid_auto_columns": null,
            "margin": null,
            "display": null,
            "left": null
          }
        },
        "ef05c78a10484c94be58d115bd3f3693": {
          "model_module": "@jupyter-widgets/controls",
          "model_name": "DescriptionStyleModel",
          "model_module_version": "1.5.0",
          "state": {
            "_view_name": "StyleView",
            "_model_name": "DescriptionStyleModel",
            "description_width": "",
            "_view_module": "@jupyter-widgets/base",
            "_model_module_version": "1.5.0",
            "_view_count": null,
            "_view_module_version": "1.2.0",
            "_model_module": "@jupyter-widgets/controls"
          }
        },
        "f6ed184d58af4218ab0401a2060d56fb": {
          "model_module": "@jupyter-widgets/base",
          "model_name": "LayoutModel",
          "model_module_version": "1.2.0",
          "state": {
            "_view_name": "LayoutView",
            "grid_template_rows": null,
            "right": null,
            "justify_content": null,
            "_view_module": "@jupyter-widgets/base",
            "overflow": null,
            "_model_module_version": "1.2.0",
            "_view_count": null,
            "flex_flow": null,
            "width": null,
            "min_width": null,
            "border": null,
            "align_items": null,
            "bottom": null,
            "_model_module": "@jupyter-widgets/base",
            "top": null,
            "grid_column": null,
            "overflow_y": null,
            "overflow_x": null,
            "grid_auto_flow": null,
            "grid_area": null,
            "grid_template_columns": null,
            "flex": null,
            "_model_name": "LayoutModel",
            "justify_items": null,
            "grid_row": null,
            "max_height": null,
            "align_content": null,
            "visibility": null,
            "align_self": null,
            "height": null,
            "min_height": null,
            "padding": null,
            "grid_auto_rows": null,
            "grid_gap": null,
            "max_width": null,
            "order": null,
            "_view_module_version": "1.2.0",
            "grid_template_areas": null,
            "object_position": null,
            "object_fit": null,
            "grid_auto_columns": null,
            "margin": null,
            "display": null,
            "left": null
          }
        },
        "5e8a66ee88eb4e56afe74db7a8efdeaa": {
          "model_module": "@jupyter-widgets/controls",
          "model_name": "HBoxModel",
          "model_module_version": "1.5.0",
          "state": {
            "_view_name": "HBoxView",
            "_dom_classes": [],
            "_model_name": "HBoxModel",
            "_view_module": "@jupyter-widgets/controls",
            "_model_module_version": "1.5.0",
            "_view_count": null,
            "_view_module_version": "1.5.0",
            "box_style": "",
            "layout": "IPY_MODEL_91d7e1365a484716a7eec03f2cb00150",
            "_model_module": "@jupyter-widgets/controls",
            "children": [
              "IPY_MODEL_2af495855e9741589d73a4e9f4a1cfef",
              "IPY_MODEL_84613381a187420a96c57f4a0b84c4b6",
              "IPY_MODEL_32c751ea43924a0faa46bb7615277926"
            ]
          }
        },
        "91d7e1365a484716a7eec03f2cb00150": {
          "model_module": "@jupyter-widgets/base",
          "model_name": "LayoutModel",
          "model_module_version": "1.2.0",
          "state": {
            "_view_name": "LayoutView",
            "grid_template_rows": null,
            "right": null,
            "justify_content": null,
            "_view_module": "@jupyter-widgets/base",
            "overflow": null,
            "_model_module_version": "1.2.0",
            "_view_count": null,
            "flex_flow": null,
            "width": null,
            "min_width": null,
            "border": null,
            "align_items": null,
            "bottom": null,
            "_model_module": "@jupyter-widgets/base",
            "top": null,
            "grid_column": null,
            "overflow_y": null,
            "overflow_x": null,
            "grid_auto_flow": null,
            "grid_area": null,
            "grid_template_columns": null,
            "flex": null,
            "_model_name": "LayoutModel",
            "justify_items": null,
            "grid_row": null,
            "max_height": null,
            "align_content": null,
            "visibility": null,
            "align_self": null,
            "height": null,
            "min_height": null,
            "padding": null,
            "grid_auto_rows": null,
            "grid_gap": null,
            "max_width": null,
            "order": null,
            "_view_module_version": "1.2.0",
            "grid_template_areas": null,
            "object_position": null,
            "object_fit": null,
            "grid_auto_columns": null,
            "margin": null,
            "display": null,
            "left": null
          }
        },
        "2af495855e9741589d73a4e9f4a1cfef": {
          "model_module": "@jupyter-widgets/controls",
          "model_name": "HTMLModel",
          "model_module_version": "1.5.0",
          "state": {
            "_view_name": "HTMLView",
            "style": "IPY_MODEL_c7e8b2f87c734fe188957485e465f719",
            "_dom_classes": [],
            "description": "",
            "_model_name": "HTMLModel",
            "placeholder": "​",
            "_view_module": "@jupyter-widgets/controls",
            "_model_module_version": "1.5.0",
            "value": "Downloading: 100%",
            "_view_count": null,
            "_view_module_version": "1.5.0",
            "description_tooltip": null,
            "_model_module": "@jupyter-widgets/controls",
            "layout": "IPY_MODEL_0098937c1ff64e89bdc773ddfa681ae3"
          }
        },
        "84613381a187420a96c57f4a0b84c4b6": {
          "model_module": "@jupyter-widgets/controls",
          "model_name": "FloatProgressModel",
          "model_module_version": "1.5.0",
          "state": {
            "_view_name": "ProgressView",
            "style": "IPY_MODEL_1331d8fd219c43bd847986d927c91069",
            "_dom_classes": [],
            "description": "",
            "_model_name": "FloatProgressModel",
            "bar_style": "success",
            "max": 466062,
            "_view_module": "@jupyter-widgets/controls",
            "_model_module_version": "1.5.0",
            "value": 466062,
            "_view_count": null,
            "_view_module_version": "1.5.0",
            "orientation": "horizontal",
            "min": 0,
            "description_tooltip": null,
            "_model_module": "@jupyter-widgets/controls",
            "layout": "IPY_MODEL_926f4de2b9954e59a48bea3135ad6bf4"
          }
        },
        "32c751ea43924a0faa46bb7615277926": {
          "model_module": "@jupyter-widgets/controls",
          "model_name": "HTMLModel",
          "model_module_version": "1.5.0",
          "state": {
            "_view_name": "HTMLView",
            "style": "IPY_MODEL_d1566e5b6cef40f2afa9f944ee52c5e7",
            "_dom_classes": [],
            "description": "",
            "_model_name": "HTMLModel",
            "placeholder": "​",
            "_view_module": "@jupyter-widgets/controls",
            "_model_module_version": "1.5.0",
            "value": " 455k/455k [00:00&lt;00:00, 1.54MB/s]",
            "_view_count": null,
            "_view_module_version": "1.5.0",
            "description_tooltip": null,
            "_model_module": "@jupyter-widgets/controls",
            "layout": "IPY_MODEL_05f624c6810f413a931338cfd2c3235e"
          }
        },
        "c7e8b2f87c734fe188957485e465f719": {
          "model_module": "@jupyter-widgets/controls",
          "model_name": "DescriptionStyleModel",
          "model_module_version": "1.5.0",
          "state": {
            "_view_name": "StyleView",
            "_model_name": "DescriptionStyleModel",
            "description_width": "",
            "_view_module": "@jupyter-widgets/base",
            "_model_module_version": "1.5.0",
            "_view_count": null,
            "_view_module_version": "1.2.0",
            "_model_module": "@jupyter-widgets/controls"
          }
        },
        "0098937c1ff64e89bdc773ddfa681ae3": {
          "model_module": "@jupyter-widgets/base",
          "model_name": "LayoutModel",
          "model_module_version": "1.2.0",
          "state": {
            "_view_name": "LayoutView",
            "grid_template_rows": null,
            "right": null,
            "justify_content": null,
            "_view_module": "@jupyter-widgets/base",
            "overflow": null,
            "_model_module_version": "1.2.0",
            "_view_count": null,
            "flex_flow": null,
            "width": null,
            "min_width": null,
            "border": null,
            "align_items": null,
            "bottom": null,
            "_model_module": "@jupyter-widgets/base",
            "top": null,
            "grid_column": null,
            "overflow_y": null,
            "overflow_x": null,
            "grid_auto_flow": null,
            "grid_area": null,
            "grid_template_columns": null,
            "flex": null,
            "_model_name": "LayoutModel",
            "justify_items": null,
            "grid_row": null,
            "max_height": null,
            "align_content": null,
            "visibility": null,
            "align_self": null,
            "height": null,
            "min_height": null,
            "padding": null,
            "grid_auto_rows": null,
            "grid_gap": null,
            "max_width": null,
            "order": null,
            "_view_module_version": "1.2.0",
            "grid_template_areas": null,
            "object_position": null,
            "object_fit": null,
            "grid_auto_columns": null,
            "margin": null,
            "display": null,
            "left": null
          }
        },
        "1331d8fd219c43bd847986d927c91069": {
          "model_module": "@jupyter-widgets/controls",
          "model_name": "ProgressStyleModel",
          "model_module_version": "1.5.0",
          "state": {
            "_view_name": "StyleView",
            "_model_name": "ProgressStyleModel",
            "description_width": "",
            "_view_module": "@jupyter-widgets/base",
            "_model_module_version": "1.5.0",
            "_view_count": null,
            "_view_module_version": "1.2.0",
            "bar_color": null,
            "_model_module": "@jupyter-widgets/controls"
          }
        },
        "926f4de2b9954e59a48bea3135ad6bf4": {
          "model_module": "@jupyter-widgets/base",
          "model_name": "LayoutModel",
          "model_module_version": "1.2.0",
          "state": {
            "_view_name": "LayoutView",
            "grid_template_rows": null,
            "right": null,
            "justify_content": null,
            "_view_module": "@jupyter-widgets/base",
            "overflow": null,
            "_model_module_version": "1.2.0",
            "_view_count": null,
            "flex_flow": null,
            "width": null,
            "min_width": null,
            "border": null,
            "align_items": null,
            "bottom": null,
            "_model_module": "@jupyter-widgets/base",
            "top": null,
            "grid_column": null,
            "overflow_y": null,
            "overflow_x": null,
            "grid_auto_flow": null,
            "grid_area": null,
            "grid_template_columns": null,
            "flex": null,
            "_model_name": "LayoutModel",
            "justify_items": null,
            "grid_row": null,
            "max_height": null,
            "align_content": null,
            "visibility": null,
            "align_self": null,
            "height": null,
            "min_height": null,
            "padding": null,
            "grid_auto_rows": null,
            "grid_gap": null,
            "max_width": null,
            "order": null,
            "_view_module_version": "1.2.0",
            "grid_template_areas": null,
            "object_position": null,
            "object_fit": null,
            "grid_auto_columns": null,
            "margin": null,
            "display": null,
            "left": null
          }
        },
        "d1566e5b6cef40f2afa9f944ee52c5e7": {
          "model_module": "@jupyter-widgets/controls",
          "model_name": "DescriptionStyleModel",
          "model_module_version": "1.5.0",
          "state": {
            "_view_name": "StyleView",
            "_model_name": "DescriptionStyleModel",
            "description_width": "",
            "_view_module": "@jupyter-widgets/base",
            "_model_module_version": "1.5.0",
            "_view_count": null,
            "_view_module_version": "1.2.0",
            "_model_module": "@jupyter-widgets/controls"
          }
        },
        "05f624c6810f413a931338cfd2c3235e": {
          "model_module": "@jupyter-widgets/base",
          "model_name": "LayoutModel",
          "model_module_version": "1.2.0",
          "state": {
            "_view_name": "LayoutView",
            "grid_template_rows": null,
            "right": null,
            "justify_content": null,
            "_view_module": "@jupyter-widgets/base",
            "overflow": null,
            "_model_module_version": "1.2.0",
            "_view_count": null,
            "flex_flow": null,
            "width": null,
            "min_width": null,
            "border": null,
            "align_items": null,
            "bottom": null,
            "_model_module": "@jupyter-widgets/base",
            "top": null,
            "grid_column": null,
            "overflow_y": null,
            "overflow_x": null,
            "grid_auto_flow": null,
            "grid_area": null,
            "grid_template_columns": null,
            "flex": null,
            "_model_name": "LayoutModel",
            "justify_items": null,
            "grid_row": null,
            "max_height": null,
            "align_content": null,
            "visibility": null,
            "align_self": null,
            "height": null,
            "min_height": null,
            "padding": null,
            "grid_auto_rows": null,
            "grid_gap": null,
            "max_width": null,
            "order": null,
            "_view_module_version": "1.2.0",
            "grid_template_areas": null,
            "object_position": null,
            "object_fit": null,
            "grid_auto_columns": null,
            "margin": null,
            "display": null,
            "left": null
          }
        },
        "f52c110a2f6b455196a6836ac4d9da61": {
          "model_module": "@jupyter-widgets/controls",
          "model_name": "HBoxModel",
          "model_module_version": "1.5.0",
          "state": {
            "_view_name": "HBoxView",
            "_dom_classes": [],
            "_model_name": "HBoxModel",
            "_view_module": "@jupyter-widgets/controls",
            "_model_module_version": "1.5.0",
            "_view_count": null,
            "_view_module_version": "1.5.0",
            "box_style": "",
            "layout": "IPY_MODEL_c5325586c1a04509881811c68ae02fe8",
            "_model_module": "@jupyter-widgets/controls",
            "children": [
              "IPY_MODEL_fe24413eca4e4b8a9b4e98ced5b04dd3",
              "IPY_MODEL_483014cd4868428ebb035756a6318163",
              "IPY_MODEL_c9cacd3ad40243eb894be0afc3061396"
            ]
          }
        },
        "c5325586c1a04509881811c68ae02fe8": {
          "model_module": "@jupyter-widgets/base",
          "model_name": "LayoutModel",
          "model_module_version": "1.2.0",
          "state": {
            "_view_name": "LayoutView",
            "grid_template_rows": null,
            "right": null,
            "justify_content": null,
            "_view_module": "@jupyter-widgets/base",
            "overflow": null,
            "_model_module_version": "1.2.0",
            "_view_count": null,
            "flex_flow": null,
            "width": null,
            "min_width": null,
            "border": null,
            "align_items": null,
            "bottom": null,
            "_model_module": "@jupyter-widgets/base",
            "top": null,
            "grid_column": null,
            "overflow_y": null,
            "overflow_x": null,
            "grid_auto_flow": null,
            "grid_area": null,
            "grid_template_columns": null,
            "flex": null,
            "_model_name": "LayoutModel",
            "justify_items": null,
            "grid_row": null,
            "max_height": null,
            "align_content": null,
            "visibility": null,
            "align_self": null,
            "height": null,
            "min_height": null,
            "padding": null,
            "grid_auto_rows": null,
            "grid_gap": null,
            "max_width": null,
            "order": null,
            "_view_module_version": "1.2.0",
            "grid_template_areas": null,
            "object_position": null,
            "object_fit": null,
            "grid_auto_columns": null,
            "margin": null,
            "display": null,
            "left": null
          }
        },
        "fe24413eca4e4b8a9b4e98ced5b04dd3": {
          "model_module": "@jupyter-widgets/controls",
          "model_name": "HTMLModel",
          "model_module_version": "1.5.0",
          "state": {
            "_view_name": "HTMLView",
            "style": "IPY_MODEL_66ad158147d34d76b98725a9efb3de5a",
            "_dom_classes": [],
            "description": "",
            "_model_name": "HTMLModel",
            "placeholder": "​",
            "_view_module": "@jupyter-widgets/controls",
            "_model_module_version": "1.5.0",
            "value": "Downloading: 100%",
            "_view_count": null,
            "_view_module_version": "1.5.0",
            "description_tooltip": null,
            "_model_module": "@jupyter-widgets/controls",
            "layout": "IPY_MODEL_abd11fbd822645e1a8e8f15b41fa04ac"
          }
        },
        "483014cd4868428ebb035756a6318163": {
          "model_module": "@jupyter-widgets/controls",
          "model_name": "FloatProgressModel",
          "model_module_version": "1.5.0",
          "state": {
            "_view_name": "ProgressView",
            "style": "IPY_MODEL_0e0489e879ad452991b8a9baa69d1423",
            "_dom_classes": [],
            "description": "",
            "_model_name": "FloatProgressModel",
            "bar_style": "success",
            "max": 483,
            "_view_module": "@jupyter-widgets/controls",
            "_model_module_version": "1.5.0",
            "value": 483,
            "_view_count": null,
            "_view_module_version": "1.5.0",
            "orientation": "horizontal",
            "min": 0,
            "description_tooltip": null,
            "_model_module": "@jupyter-widgets/controls",
            "layout": "IPY_MODEL_ce361899bbb14794bb45d5d37cee1aec"
          }
        },
        "c9cacd3ad40243eb894be0afc3061396": {
          "model_module": "@jupyter-widgets/controls",
          "model_name": "HTMLModel",
          "model_module_version": "1.5.0",
          "state": {
            "_view_name": "HTMLView",
            "style": "IPY_MODEL_0c8e18c42fee42848a16d05e9a705775",
            "_dom_classes": [],
            "description": "",
            "_model_name": "HTMLModel",
            "placeholder": "​",
            "_view_module": "@jupyter-widgets/controls",
            "_model_module_version": "1.5.0",
            "value": " 483/483 [00:00&lt;00:00, 10.5kB/s]",
            "_view_count": null,
            "_view_module_version": "1.5.0",
            "description_tooltip": null,
            "_model_module": "@jupyter-widgets/controls",
            "layout": "IPY_MODEL_41eccb8f15ac4440bd2d0cc43a010bdc"
          }
        },
        "66ad158147d34d76b98725a9efb3de5a": {
          "model_module": "@jupyter-widgets/controls",
          "model_name": "DescriptionStyleModel",
          "model_module_version": "1.5.0",
          "state": {
            "_view_name": "StyleView",
            "_model_name": "DescriptionStyleModel",
            "description_width": "",
            "_view_module": "@jupyter-widgets/base",
            "_model_module_version": "1.5.0",
            "_view_count": null,
            "_view_module_version": "1.2.0",
            "_model_module": "@jupyter-widgets/controls"
          }
        },
        "abd11fbd822645e1a8e8f15b41fa04ac": {
          "model_module": "@jupyter-widgets/base",
          "model_name": "LayoutModel",
          "model_module_version": "1.2.0",
          "state": {
            "_view_name": "LayoutView",
            "grid_template_rows": null,
            "right": null,
            "justify_content": null,
            "_view_module": "@jupyter-widgets/base",
            "overflow": null,
            "_model_module_version": "1.2.0",
            "_view_count": null,
            "flex_flow": null,
            "width": null,
            "min_width": null,
            "border": null,
            "align_items": null,
            "bottom": null,
            "_model_module": "@jupyter-widgets/base",
            "top": null,
            "grid_column": null,
            "overflow_y": null,
            "overflow_x": null,
            "grid_auto_flow": null,
            "grid_area": null,
            "grid_template_columns": null,
            "flex": null,
            "_model_name": "LayoutModel",
            "justify_items": null,
            "grid_row": null,
            "max_height": null,
            "align_content": null,
            "visibility": null,
            "align_self": null,
            "height": null,
            "min_height": null,
            "padding": null,
            "grid_auto_rows": null,
            "grid_gap": null,
            "max_width": null,
            "order": null,
            "_view_module_version": "1.2.0",
            "grid_template_areas": null,
            "object_position": null,
            "object_fit": null,
            "grid_auto_columns": null,
            "margin": null,
            "display": null,
            "left": null
          }
        },
        "0e0489e879ad452991b8a9baa69d1423": {
          "model_module": "@jupyter-widgets/controls",
          "model_name": "ProgressStyleModel",
          "model_module_version": "1.5.0",
          "state": {
            "_view_name": "StyleView",
            "_model_name": "ProgressStyleModel",
            "description_width": "",
            "_view_module": "@jupyter-widgets/base",
            "_model_module_version": "1.5.0",
            "_view_count": null,
            "_view_module_version": "1.2.0",
            "bar_color": null,
            "_model_module": "@jupyter-widgets/controls"
          }
        },
        "ce361899bbb14794bb45d5d37cee1aec": {
          "model_module": "@jupyter-widgets/base",
          "model_name": "LayoutModel",
          "model_module_version": "1.2.0",
          "state": {
            "_view_name": "LayoutView",
            "grid_template_rows": null,
            "right": null,
            "justify_content": null,
            "_view_module": "@jupyter-widgets/base",
            "overflow": null,
            "_model_module_version": "1.2.0",
            "_view_count": null,
            "flex_flow": null,
            "width": null,
            "min_width": null,
            "border": null,
            "align_items": null,
            "bottom": null,
            "_model_module": "@jupyter-widgets/base",
            "top": null,
            "grid_column": null,
            "overflow_y": null,
            "overflow_x": null,
            "grid_auto_flow": null,
            "grid_area": null,
            "grid_template_columns": null,
            "flex": null,
            "_model_name": "LayoutModel",
            "justify_items": null,
            "grid_row": null,
            "max_height": null,
            "align_content": null,
            "visibility": null,
            "align_self": null,
            "height": null,
            "min_height": null,
            "padding": null,
            "grid_auto_rows": null,
            "grid_gap": null,
            "max_width": null,
            "order": null,
            "_view_module_version": "1.2.0",
            "grid_template_areas": null,
            "object_position": null,
            "object_fit": null,
            "grid_auto_columns": null,
            "margin": null,
            "display": null,
            "left": null
          }
        },
        "0c8e18c42fee42848a16d05e9a705775": {
          "model_module": "@jupyter-widgets/controls",
          "model_name": "DescriptionStyleModel",
          "model_module_version": "1.5.0",
          "state": {
            "_view_name": "StyleView",
            "_model_name": "DescriptionStyleModel",
            "description_width": "",
            "_view_module": "@jupyter-widgets/base",
            "_model_module_version": "1.5.0",
            "_view_count": null,
            "_view_module_version": "1.2.0",
            "_model_module": "@jupyter-widgets/controls"
          }
        },
        "41eccb8f15ac4440bd2d0cc43a010bdc": {
          "model_module": "@jupyter-widgets/base",
          "model_name": "LayoutModel",
          "model_module_version": "1.2.0",
          "state": {
            "_view_name": "LayoutView",
            "grid_template_rows": null,
            "right": null,
            "justify_content": null,
            "_view_module": "@jupyter-widgets/base",
            "overflow": null,
            "_model_module_version": "1.2.0",
            "_view_count": null,
            "flex_flow": null,
            "width": null,
            "min_width": null,
            "border": null,
            "align_items": null,
            "bottom": null,
            "_model_module": "@jupyter-widgets/base",
            "top": null,
            "grid_column": null,
            "overflow_y": null,
            "overflow_x": null,
            "grid_auto_flow": null,
            "grid_area": null,
            "grid_template_columns": null,
            "flex": null,
            "_model_name": "LayoutModel",
            "justify_items": null,
            "grid_row": null,
            "max_height": null,
            "align_content": null,
            "visibility": null,
            "align_self": null,
            "height": null,
            "min_height": null,
            "padding": null,
            "grid_auto_rows": null,
            "grid_gap": null,
            "max_width": null,
            "order": null,
            "_view_module_version": "1.2.0",
            "grid_template_areas": null,
            "object_position": null,
            "object_fit": null,
            "grid_auto_columns": null,
            "margin": null,
            "display": null,
            "left": null
          }
        }
      }
    }
  },
  "cells": [
    {
      "cell_type": "markdown",
      "metadata": {
        "id": "c9zKDLIGLi8I"
      },
      "source": [
        "# DA-231 Project\n",
        "\n",
        "## Comprehensive Stock Market Analyser\n",
        "\n",
        "### Team members\n",
        "+ Kumar Gaurav (kumarg@iisc.ac.in)\n",
        "+ Vidya Venkappa (vidyav@iisc.ac.in)\n",
        "+ Vansh Jain (vanshjain@iisc.ac.in)\n",
        "+ Kumar Shubham (kumarshubham@iisc.ac.in)"
      ]
    },
    {
      "cell_type": "markdown",
      "metadata": {
        "id": "4IdOMGVdL4PG"
      },
      "source": [
        "### Initial PySpark Setup"
      ]
    },
    {
      "cell_type": "code",
      "metadata": {
        "colab": {
          "base_uri": "https://localhost:8080/"
        },
        "id": "DEYpXKs94irF",
        "outputId": "77da9bba-948e-4b2d-ad11-2e00f3c879a4"
      },
      "source": [
        "from google.colab import drive\n",
        "drive.mount('/content/drive')\n",
        "!apt-get install openjdk-8-jdk-headless -qq > /dev/null\n",
        "#!wget -q https://mirrors.estointernet.in/apache/spark/spark-3.0.3/spark-3.0.3-bin-hadoop2.7.tgz -P /content/drive/MyDrive # link wrong in blog\n",
        "!tar xf /content/drive/Shareddrives/DA231-2021-Aug-Public/spark-3.0.3-bin-hadoop2.7.tgz\n",
        "!pip install -q findspark\n",
        "!pip install flair\n",
        "import os\n",
        "os.environ[\"JAVA_HOME\"] = \"/usr/lib/jvm/java-8-openjdk-amd64\"\n",
        "os.environ[\"SPARK_HOME\"] = \"/content/spark-3.0.3-bin-hadoop2.7\"\n"
      ],
      "execution_count": 1,
      "outputs": [
        {
          "output_type": "stream",
          "name": "stdout",
          "text": [
            "Mounted at /content/drive\n",
            "Collecting flair\n",
            "  Downloading flair-0.10-py3-none-any.whl (322 kB)\n",
            "\u001b[K     |████████████████████████████████| 322 kB 5.2 MB/s \n",
            "\u001b[?25hRequirement already satisfied: tqdm>=4.26.0 in /usr/local/lib/python3.7/dist-packages (from flair) (4.62.3)\n",
            "Requirement already satisfied: lxml in /usr/local/lib/python3.7/dist-packages (from flair) (4.2.6)\n",
            "Requirement already satisfied: torch!=1.8,>=1.5.0 in /usr/local/lib/python3.7/dist-packages (from flair) (1.10.0+cu111)\n",
            "Collecting ftfy\n",
            "  Downloading ftfy-6.0.3.tar.gz (64 kB)\n",
            "\u001b[K     |████████████████████████████████| 64 kB 2.5 MB/s \n",
            "\u001b[?25hCollecting sentencepiece==0.1.95\n",
            "  Downloading sentencepiece-0.1.95-cp37-cp37m-manylinux2014_x86_64.whl (1.2 MB)\n",
            "\u001b[K     |████████████████████████████████| 1.2 MB 43.1 MB/s \n",
            "\u001b[?25hCollecting mpld3==0.3\n",
            "  Downloading mpld3-0.3.tar.gz (788 kB)\n",
            "\u001b[K     |████████████████████████████████| 788 kB 36.3 MB/s \n",
            "\u001b[?25hCollecting janome\n",
            "  Downloading Janome-0.4.1-py2.py3-none-any.whl (19.7 MB)\n",
            "\u001b[K     |████████████████████████████████| 19.7 MB 1.2 MB/s \n",
            "\u001b[?25hCollecting huggingface-hub\n",
            "  Downloading huggingface_hub-0.2.1-py3-none-any.whl (61 kB)\n",
            "\u001b[K     |████████████████████████████████| 61 kB 462 kB/s \n",
            "\u001b[?25hCollecting konoha<5.0.0,>=4.0.0\n",
            "  Downloading konoha-4.6.5-py3-none-any.whl (20 kB)\n",
            "Requirement already satisfied: regex in /usr/local/lib/python3.7/dist-packages (from flair) (2019.12.20)\n",
            "Collecting segtok>=1.5.7\n",
            "  Downloading segtok-1.5.10.tar.gz (25 kB)\n",
            "Collecting langdetect\n",
            "  Downloading langdetect-1.0.9.tar.gz (981 kB)\n",
            "\u001b[K     |████████████████████████████████| 981 kB 38.9 MB/s \n",
            "\u001b[?25hRequirement already satisfied: gensim>=3.4.0 in /usr/local/lib/python3.7/dist-packages (from flair) (3.6.0)\n",
            "Requirement already satisfied: python-dateutil>=2.6.1 in /usr/local/lib/python3.7/dist-packages (from flair) (2.8.2)\n",
            "Collecting transformers>=4.0.0\n",
            "  Downloading transformers-4.13.0-py3-none-any.whl (3.3 MB)\n",
            "\u001b[K     |████████████████████████████████| 3.3 MB 43.7 MB/s \n",
            "\u001b[?25hRequirement already satisfied: tabulate in /usr/local/lib/python3.7/dist-packages (from flair) (0.8.9)\n",
            "Collecting conllu>=4.0\n",
            "  Downloading conllu-4.4.1-py2.py3-none-any.whl (15 kB)\n",
            "Collecting sqlitedict>=1.6.0\n",
            "  Downloading sqlitedict-1.7.0.tar.gz (28 kB)\n",
            "Collecting more-itertools~=8.8.0\n",
            "  Downloading more_itertools-8.8.0-py3-none-any.whl (48 kB)\n",
            "\u001b[K     |████████████████████████████████| 48 kB 4.6 MB/s \n",
            "\u001b[?25hRequirement already satisfied: matplotlib>=2.2.3 in /usr/local/lib/python3.7/dist-packages (from flair) (3.2.2)\n",
            "Requirement already satisfied: scikit-learn>=0.21.3 in /usr/local/lib/python3.7/dist-packages (from flair) (1.0.1)\n",
            "Collecting wikipedia-api\n",
            "  Downloading Wikipedia-API-0.5.4.tar.gz (18 kB)\n",
            "Collecting gdown==3.12.2\n",
            "  Downloading gdown-3.12.2.tar.gz (8.2 kB)\n",
            "  Installing build dependencies ... \u001b[?25l\u001b[?25hdone\n",
            "  Getting requirements to build wheel ... \u001b[?25l\u001b[?25hdone\n",
            "    Preparing wheel metadata ... \u001b[?25l\u001b[?25hdone\n",
            "Collecting deprecated>=1.2.4\n",
            "  Downloading Deprecated-1.2.13-py2.py3-none-any.whl (9.6 kB)\n",
            "Collecting bpemb>=0.3.2\n",
            "  Downloading bpemb-0.3.3-py3-none-any.whl (19 kB)\n",
            "Requirement already satisfied: six in /usr/local/lib/python3.7/dist-packages (from gdown==3.12.2->flair) (1.15.0)\n",
            "Requirement already satisfied: requests[socks] in /usr/local/lib/python3.7/dist-packages (from gdown==3.12.2->flair) (2.23.0)\n",
            "Requirement already satisfied: filelock in /usr/local/lib/python3.7/dist-packages (from gdown==3.12.2->flair) (3.4.0)\n",
            "Requirement already satisfied: numpy in /usr/local/lib/python3.7/dist-packages (from bpemb>=0.3.2->flair) (1.19.5)\n",
            "Requirement already satisfied: wrapt<2,>=1.10 in /usr/local/lib/python3.7/dist-packages (from deprecated>=1.2.4->flair) (1.13.3)\n",
            "Requirement already satisfied: smart-open>=1.2.1 in /usr/local/lib/python3.7/dist-packages (from gensim>=3.4.0->flair) (5.2.1)\n",
            "Requirement already satisfied: scipy>=0.18.1 in /usr/local/lib/python3.7/dist-packages (from gensim>=3.4.0->flair) (1.4.1)\n",
            "Collecting requests\n",
            "  Downloading requests-2.26.0-py2.py3-none-any.whl (62 kB)\n",
            "\u001b[K     |████████████████████████████████| 62 kB 831 kB/s \n",
            "\u001b[?25hCollecting overrides<4.0.0,>=3.0.0\n",
            "  Downloading overrides-3.1.0.tar.gz (11 kB)\n",
            "Collecting importlib-metadata<4.0.0,>=3.7.0\n",
            "  Downloading importlib_metadata-3.10.1-py3-none-any.whl (14 kB)\n",
            "Requirement already satisfied: zipp>=0.5 in /usr/local/lib/python3.7/dist-packages (from importlib-metadata<4.0.0,>=3.7.0->konoha<5.0.0,>=4.0.0->flair) (3.6.0)\n",
            "Requirement already satisfied: typing-extensions>=3.6.4 in /usr/local/lib/python3.7/dist-packages (from importlib-metadata<4.0.0,>=3.7.0->konoha<5.0.0,>=4.0.0->flair) (3.10.0.2)\n",
            "Requirement already satisfied: pyparsing!=2.0.4,!=2.1.2,!=2.1.6,>=2.0.1 in /usr/local/lib/python3.7/dist-packages (from matplotlib>=2.2.3->flair) (3.0.6)\n",
            "Requirement already satisfied: kiwisolver>=1.0.1 in /usr/local/lib/python3.7/dist-packages (from matplotlib>=2.2.3->flair) (1.3.2)\n",
            "Requirement already satisfied: cycler>=0.10 in /usr/local/lib/python3.7/dist-packages (from matplotlib>=2.2.3->flair) (0.11.0)\n",
            "Requirement already satisfied: urllib3<1.27,>=1.21.1 in /usr/local/lib/python3.7/dist-packages (from requests->bpemb>=0.3.2->flair) (1.24.3)\n",
            "Requirement already satisfied: idna<4,>=2.5 in /usr/local/lib/python3.7/dist-packages (from requests->bpemb>=0.3.2->flair) (2.10)\n",
            "Requirement already satisfied: certifi>=2017.4.17 in /usr/local/lib/python3.7/dist-packages (from requests->bpemb>=0.3.2->flair) (2021.10.8)\n",
            "Requirement already satisfied: charset-normalizer~=2.0.0 in /usr/local/lib/python3.7/dist-packages (from requests->bpemb>=0.3.2->flair) (2.0.8)\n",
            "Requirement already satisfied: threadpoolctl>=2.0.0 in /usr/local/lib/python3.7/dist-packages (from scikit-learn>=0.21.3->flair) (3.0.0)\n",
            "Requirement already satisfied: joblib>=0.11 in /usr/local/lib/python3.7/dist-packages (from scikit-learn>=0.21.3->flair) (1.1.0)\n",
            "Collecting sacremoses\n",
            "  Downloading sacremoses-0.0.46-py3-none-any.whl (895 kB)\n",
            "\u001b[K     |████████████████████████████████| 895 kB 40.9 MB/s \n",
            "\u001b[?25hCollecting tokenizers<0.11,>=0.10.1\n",
            "  Downloading tokenizers-0.10.3-cp37-cp37m-manylinux_2_5_x86_64.manylinux1_x86_64.manylinux_2_12_x86_64.manylinux2010_x86_64.whl (3.3 MB)\n",
            "\u001b[K     |████████████████████████████████| 3.3 MB 40.9 MB/s \n",
            "\u001b[?25hCollecting pyyaml>=5.1\n",
            "  Downloading PyYAML-6.0-cp37-cp37m-manylinux_2_5_x86_64.manylinux1_x86_64.manylinux_2_12_x86_64.manylinux2010_x86_64.whl (596 kB)\n",
            "\u001b[K     |████████████████████████████████| 596 kB 33.0 MB/s \n",
            "\u001b[?25hRequirement already satisfied: packaging>=20.0 in /usr/local/lib/python3.7/dist-packages (from transformers>=4.0.0->flair) (21.3)\n",
            "Requirement already satisfied: wcwidth in /usr/local/lib/python3.7/dist-packages (from ftfy->flair) (0.2.5)\n",
            "Requirement already satisfied: PySocks!=1.5.7,>=1.5.6 in /usr/local/lib/python3.7/dist-packages (from requests->bpemb>=0.3.2->flair) (1.7.1)\n",
            "Requirement already satisfied: click in /usr/local/lib/python3.7/dist-packages (from sacremoses->transformers>=4.0.0->flair) (7.1.2)\n",
            "Building wheels for collected packages: gdown, mpld3, overrides, segtok, sqlitedict, ftfy, langdetect, wikipedia-api\n",
            "  Building wheel for gdown (PEP 517) ... \u001b[?25l\u001b[?25hdone\n",
            "  Created wheel for gdown: filename=gdown-3.12.2-py3-none-any.whl size=9704 sha256=d9d280fb531f3f1acf2b1405eed6e234be4290a5404358f78606454b169f385d\n",
            "  Stored in directory: /root/.cache/pip/wheels/ba/e0/7e/726e872a53f7358b4b96a9975b04e98113b005cd8609a63abc\n",
            "  Building wheel for mpld3 (setup.py) ... \u001b[?25l\u001b[?25hdone\n",
            "  Created wheel for mpld3: filename=mpld3-0.3-py3-none-any.whl size=116702 sha256=d8a0256f7e9fa51a8dfbcee7e7e237583821427ff0b868d164b66fb82d212777\n",
            "  Stored in directory: /root/.cache/pip/wheels/26/70/6a/1c79e59951a41b4045497da187b2724f5659ca64033cf4548e\n",
            "  Building wheel for overrides (setup.py) ... \u001b[?25l\u001b[?25hdone\n",
            "  Created wheel for overrides: filename=overrides-3.1.0-py3-none-any.whl size=10186 sha256=afc9ede964b29593072b1d5e908499f2cd0aedb46177d70430545392ae766ed7\n",
            "  Stored in directory: /root/.cache/pip/wheels/3a/0d/38/01a9bc6e20dcfaf0a6a7b552d03137558ba1c38aea47644682\n",
            "  Building wheel for segtok (setup.py) ... \u001b[?25l\u001b[?25hdone\n",
            "  Created wheel for segtok: filename=segtok-1.5.10-py3-none-any.whl size=25030 sha256=5a4d51deda6149a935e7ed36434ef13e533c82ceb10c18b3f05a54a8e130a06a\n",
            "  Stored in directory: /root/.cache/pip/wheels/67/b7/d0/a121106e61339eee5ed083bc230b1c8dc422c49a5a28c2addd\n",
            "  Building wheel for sqlitedict (setup.py) ... \u001b[?25l\u001b[?25hdone\n",
            "  Created wheel for sqlitedict: filename=sqlitedict-1.7.0-py3-none-any.whl size=14392 sha256=ea8510fc57d1971e260279e8a2f75a8f5da616bd6dee218503b120e07903b461\n",
            "  Stored in directory: /root/.cache/pip/wheels/af/94/06/18c0e83e9e227da8f3582810b51f319bbfd181e508676a56c8\n",
            "  Building wheel for ftfy (setup.py) ... \u001b[?25l\u001b[?25hdone\n",
            "  Created wheel for ftfy: filename=ftfy-6.0.3-py3-none-any.whl size=41933 sha256=d6de0906aa74c31951f5a40cfd207386bebe091d5c5f5ec4b37de91f4f122f7c\n",
            "  Stored in directory: /root/.cache/pip/wheels/19/f5/38/273eb3b5e76dfd850619312f693716ac4518b498f5ffb6f56d\n",
            "  Building wheel for langdetect (setup.py) ... \u001b[?25l\u001b[?25hdone\n",
            "  Created wheel for langdetect: filename=langdetect-1.0.9-py3-none-any.whl size=993242 sha256=d5797e11f9767d39f1171e23e72a88db7eea02f10d95e0bc2b83afbceb895bb0\n",
            "  Stored in directory: /root/.cache/pip/wheels/c5/96/8a/f90c59ed25d75e50a8c10a1b1c2d4c402e4dacfa87f3aff36a\n",
            "  Building wheel for wikipedia-api (setup.py) ... \u001b[?25l\u001b[?25hdone\n",
            "  Created wheel for wikipedia-api: filename=Wikipedia_API-0.5.4-py3-none-any.whl size=13475 sha256=660eedd0e37b02f2a7883477a4f824679666442094edbc6bdac6b5fa3be12b52\n",
            "  Stored in directory: /root/.cache/pip/wheels/d3/24/56/58ba93cf78be162451144e7a9889603f437976ef1ae7013d04\n",
            "Successfully built gdown mpld3 overrides segtok sqlitedict ftfy langdetect wikipedia-api\n",
            "Installing collected packages: requests, pyyaml, importlib-metadata, tokenizers, sentencepiece, sacremoses, overrides, huggingface-hub, wikipedia-api, transformers, sqlitedict, segtok, mpld3, more-itertools, langdetect, konoha, janome, gdown, ftfy, deprecated, conllu, bpemb, flair\n",
            "  Attempting uninstall: requests\n",
            "    Found existing installation: requests 2.23.0\n",
            "    Uninstalling requests-2.23.0:\n",
            "      Successfully uninstalled requests-2.23.0\n",
            "  Attempting uninstall: pyyaml\n",
            "    Found existing installation: PyYAML 3.13\n",
            "    Uninstalling PyYAML-3.13:\n",
            "      Successfully uninstalled PyYAML-3.13\n",
            "  Attempting uninstall: importlib-metadata\n",
            "    Found existing installation: importlib-metadata 4.8.2\n",
            "    Uninstalling importlib-metadata-4.8.2:\n",
            "      Successfully uninstalled importlib-metadata-4.8.2\n",
            "  Attempting uninstall: more-itertools\n",
            "    Found existing installation: more-itertools 8.12.0\n",
            "    Uninstalling more-itertools-8.12.0:\n",
            "      Successfully uninstalled more-itertools-8.12.0\n",
            "  Attempting uninstall: gdown\n",
            "    Found existing installation: gdown 3.6.4\n",
            "    Uninstalling gdown-3.6.4:\n",
            "      Successfully uninstalled gdown-3.6.4\n",
            "\u001b[31mERROR: pip's dependency resolver does not currently take into account all the packages that are installed. This behaviour is the source of the following dependency conflicts.\n",
            "markdown 3.3.6 requires importlib-metadata>=4.4; python_version < \"3.10\", but you have importlib-metadata 3.10.1 which is incompatible.\n",
            "google-colab 1.0.0 requires requests~=2.23.0, but you have requests 2.26.0 which is incompatible.\n",
            "datascience 0.10.6 requires folium==0.2.1, but you have folium 0.8.3 which is incompatible.\u001b[0m\n",
            "Successfully installed bpemb-0.3.3 conllu-4.4.1 deprecated-1.2.13 flair-0.10 ftfy-6.0.3 gdown-3.12.2 huggingface-hub-0.2.1 importlib-metadata-3.10.1 janome-0.4.1 konoha-4.6.5 langdetect-1.0.9 more-itertools-8.8.0 mpld3-0.3 overrides-3.1.0 pyyaml-6.0 requests-2.26.0 sacremoses-0.0.46 segtok-1.5.10 sentencepiece-0.1.95 sqlitedict-1.7.0 tokenizers-0.10.3 transformers-4.13.0 wikipedia-api-0.5.4\n"
          ]
        }
      ]
    },
    {
      "cell_type": "code",
      "metadata": {
        "colab": {
          "base_uri": "https://localhost:8080/",
          "height": 219
        },
        "id": "SIhcaIblDcnV",
        "outputId": "145b9f32-9ebe-41c7-a22b-e6582cf95ffc"
      },
      "source": [
        "import findspark\n",
        "findspark.init()\n",
        "findspark.find()\n",
        "from pyspark.sql import SparkSession\n",
        "spark = SparkSession.builder\\\n",
        "         .master(\"local\")\\\n",
        "         .appName(\"Colab\")\\\n",
        "         .config('spark.ui.port', '4050')\\\n",
        "         .getOrCreate()\n",
        "spark"
      ],
      "execution_count": 2,
      "outputs": [
        {
          "output_type": "execute_result",
          "data": {
            "text/html": [
              "\n",
              "            <div>\n",
              "                <p><b>SparkSession - in-memory</b></p>\n",
              "                \n",
              "        <div>\n",
              "            <p><b>SparkContext</b></p>\n",
              "\n",
              "            <p><a href=\"http://08810971ae59:4050\">Spark UI</a></p>\n",
              "\n",
              "            <dl>\n",
              "              <dt>Version</dt>\n",
              "                <dd><code>v3.0.3</code></dd>\n",
              "              <dt>Master</dt>\n",
              "                <dd><code>local</code></dd>\n",
              "              <dt>AppName</dt>\n",
              "                <dd><code>Colab</code></dd>\n",
              "            </dl>\n",
              "        </div>\n",
              "        \n",
              "            </div>\n",
              "        "
            ],
            "text/plain": [
              "<pyspark.sql.session.SparkSession at 0x7f4cf025ea10>"
            ]
          },
          "metadata": {},
          "execution_count": 2
        }
      ]
    },
    {
      "cell_type": "markdown",
      "metadata": {
        "id": "jcYLFPNHL8CH"
      },
      "source": [
        "### Define dataset related constants here"
      ]
    },
    {
      "cell_type": "code",
      "metadata": {
        "id": "eKEqUfwAKId_"
      },
      "source": [
        "NIFTY_50_dataset =\"/content/drive/Shareddrives/da-231-project/dataset/SCRIP/NIFTY50_all.csv\"\n",
        "NIFTY_50_metadata=\"/content/drive/Shareddrives/da-231-project/dataset/SCRIP/stock_metadata.csv\"\n",
        "\n",
        "NIFTY_50_datasetq12 =\"/content/drive/Shareddrives/da-231-project/NIFTY50_all.csv\"\n",
        "NIFTY_50_metadata1q12=\"/content/drive/Shareddrives/da-231-project/dataset/SCRIP/stock_metadata.csv\"\n",
        "\n",
        "__SCRIPS_DATASET__ = \"/content/drive/Shareddrives/da-231-project/dataset/SCRIP/*.csv\"\n",
        "\n",
        "Nifty50_df = spark.read.option(\"header\",True).option(\"inferSchema\",True).csv(NIFTY_50_dataset)\n",
        "meta_df = spark.read.option(\"header\",True).option(\"inferSchema\",True).csv(NIFTY_50_metadata)\n",
        "\n",
        "Nifty50_df_q12 = spark.read.option(\"header\",True).option(\"inferSchema\",True).csv(NIFTY_50_datasetq12)\n",
        "meta_df_q12 = spark.read.option(\"header\",True).option(\"inferSchema\",True).csv(NIFTY_50_metadata1q12)\n",
        "\n",
        "__STOCKS_DF__ = spark.read.csv(__SCRIPS_DATASET__, header=True, inferSchema=True)\n",
        "stock_df = spark.read.option(\"header\",True).option(\"inferSchema\",True).csv(__SCRIPS_DATASET__)"
      ],
      "execution_count": 14,
      "outputs": []
    },
    {
      "cell_type": "code",
      "source": [
        "Nifty50_Master_Df=Nifty50_df_q12.join(meta_df_q12,Nifty50_df_q12[\"Symbol\"]==meta_df_q12[\"Symbol\"])\\\n",
        ".select(Nifty50_df_q12[\"Date\"],Nifty50_df_q12[\"Symbol\"],Nifty50_df_q12[\"Prev Close\"],Nifty50_df_q12[\"Open\"],Nifty50_df_q12[\"High\"],\\\n",
        "        Nifty50_df_q12[\"Low\"],Nifty50_df_q12[\"Close\"],meta_df_q12[\"Company Name\"],meta_df_q12[\"Industry\"])\n",
        "#Nifty50_df_q12.filter(Nifty50_df_q12[\"Symbol\"]==\"ULTRACEMCO\").show()\n",
        "#meta_df_q12.show()\n",
        "Nifty50_Master_Df.show()"
      ],
      "metadata": {
        "colab": {
          "base_uri": "https://localhost:8080/"
        },
        "id": "feFHD-JbEUHl",
        "outputId": "9a0e3e69-8f7d-4ba6-fd59-e76cd69d860a"
      },
      "execution_count": 5,
      "outputs": [
        {
          "output_type": "stream",
          "name": "stdout",
          "text": [
            "+----------+----------+----------+------+------+------+------+--------------------+--------+\n",
            "|      Date|    Symbol|Prev Close|  Open|  High|   Low| Close|        Company Name|Industry|\n",
            "+----------+----------+----------+------+------+------+------+--------------------+--------+\n",
            "|2012-01-17|ADANIPORTS|     135.5| 137.1| 141.0| 135.0| 140.0|Adani Ports and S...|SERVICES|\n",
            "|2012-01-18|ADANIPORTS|     140.0| 142.0| 143.8| 138.7| 141.7|Adani Ports and S...|SERVICES|\n",
            "|2012-01-19|ADANIPORTS|     141.7| 144.0|150.55|143.15| 149.4|Adani Ports and S...|SERVICES|\n",
            "|2012-01-20|ADANIPORTS|     149.4| 151.9| 157.6|150.25| 155.4|Adani Ports and S...|SERVICES|\n",
            "|2012-01-23|ADANIPORTS|     155.4| 155.4| 155.4| 145.1|146.75|Adani Ports and S...|SERVICES|\n",
            "|2012-01-24|ADANIPORTS|    146.75|147.05| 152.9| 145.6|150.05|Adani Ports and S...|SERVICES|\n",
            "|2012-01-25|ADANIPORTS|    150.05|150.95|150.95|142.25| 143.2|Adani Ports and S...|SERVICES|\n",
            "|2012-01-27|ADANIPORTS|     143.2| 145.8|149.65| 144.8| 147.1|Adani Ports and S...|SERVICES|\n",
            "|2012-01-30|ADANIPORTS|     147.1| 147.1| 147.4|137.35| 138.4|Adani Ports and S...|SERVICES|\n",
            "|2012-01-31|ADANIPORTS|     138.4|138.95| 148.5| 137.0|146.25|Adani Ports and S...|SERVICES|\n",
            "|2012-02-01|ADANIPORTS|    146.25|146.55|147.75|142.15| 143.9|Adani Ports and S...|SERVICES|\n",
            "|2012-02-02|ADANIPORTS|     143.9| 144.5| 151.8| 144.5| 151.0|Adani Ports and S...|SERVICES|\n",
            "|2012-02-03|ADANIPORTS|     151.0| 151.0| 152.7|148.25|150.25|Adani Ports and S...|SERVICES|\n",
            "|2012-02-06|ADANIPORTS|    150.25|152.85|152.85| 146.3| 148.1|Adani Ports and S...|SERVICES|\n",
            "|2012-02-07|ADANIPORTS|     148.1|149.15|149.45|137.85|139.15|Adani Ports and S...|SERVICES|\n",
            "|2012-02-08|ADANIPORTS|    139.15| 139.0| 143.3| 136.6| 140.3|Adani Ports and S...|SERVICES|\n",
            "|2012-02-09|ADANIPORTS|     140.3|139.65| 141.8| 135.2|137.95|Adani Ports and S...|SERVICES|\n",
            "|2012-02-10|ADANIPORTS|    137.95|138.15|144.15| 137.2| 142.9|Adani Ports and S...|SERVICES|\n",
            "|2012-02-13|ADANIPORTS|     142.9|143.95| 144.3| 141.0|143.05|Adani Ports and S...|SERVICES|\n",
            "|2012-02-14|ADANIPORTS|    143.05| 143.3|145.55| 142.0|144.15|Adani Ports and S...|SERVICES|\n",
            "+----------+----------+----------+------+------+------+------+--------------------+--------+\n",
            "only showing top 20 rows\n",
            "\n"
          ]
        }
      ]
    },
    {
      "cell_type": "markdown",
      "metadata": {
        "id": "Zb4K9TqTL_rU"
      },
      "source": [
        ""
      ]
    },
    {
      "cell_type": "code",
      "metadata": {
        "id": "D-WuZsi8SMQt"
      },
      "source": [
        "from pyspark.sql.functions import col\n",
        "import pyspark.sql.functions as F\n",
        "from pyspark.sql.functions import when,weekofyear,year,month\n",
        "from pyspark.sql import Window\n",
        "import matplotlib.pyplot as plt\n",
        "from matplotlib.pyplot import figure\n",
        "import numpy as np\n",
        "import pandas as pd \n",
        "from pyspark.sql.functions import dayofweek, year, lit,max, avg, count, col, when, ceil, substring, sum, length, split, abs, mean, unix_timestamp, to_date, desc, udf, to_date, date_format\n",
        "from pyspark.sql.types import IntegerType\n",
        "import matplotlib.dates as mdates\n",
        "from matplotlib.pyplot import figure\n",
        "from matplotlib.dates import MonthLocator, DateFormatter,YearLocator\n",
        "from pyspark.sql.functions import to_timestamp,date_format,concat\n",
        "from datetime import datetime\n",
        "from pyspark.sql.functions import abs\n",
        "from pyspark.sql.functions import min as sparkMin\n",
        "from pyspark.sql.functions import max as sparkMax"
      ],
      "execution_count": 6,
      "outputs": []
    },
    {
      "cell_type": "code",
      "source": [
        "#Twitter Sentiment Imports\n",
        "from pyspark.sql.types import *\n",
        "from pyspark.sql import Row\n",
        "import flair, re\n",
        "from datetime import datetime, timedelta\n",
        "import time\n",
        "\n",
        "sentiment_model = flair.models.TextClassifier.load('en-sentiment')\n",
        "import requests\n",
        "\n",
        "import bs4\n",
        "from bs4 import BeautifulSoup\n",
        "from urllib.request import urlopen, Request\n",
        "from pyspark.sql import SQLContext"
      ],
      "metadata": {
        "colab": {
          "base_uri": "https://localhost:8080/",
          "height": 252,
          "referenced_widgets": [
            "7cd977596fca45e8929f9a7f78871e1a",
            "c39f376d8f74408b9f143ad053e06696",
            "37a720e7963f469992b9a2e1f39134cf",
            "1f277ee1dc834642bbc1d1c827a41d77",
            "ce303816f7514cd7a1d42f666b57efdc",
            "a9b7b8ebd377402582a048850b5c985b",
            "fef17ca3b3e2413981a6bcc17ac71dd3",
            "9c413501f56d4f63aee4049c933fc05d",
            "429b9cfe9e7a40cd869329bd88500251",
            "ad3939e1c4c64635993841fb8c9058c8",
            "eb33a10619974cc08b3bc81cfe5ce66e",
            "a540feb9fe0b41df8f976bf5f6d1a5ed",
            "2b351e2de2b04c23bbc9bc00e5221001",
            "c40f1b98015c4fc381b2bccc5a209a1c",
            "2e2d0e067ce942b8b860047228d46407",
            "1340673c51a648a899f1faa18ef303dd",
            "0799fef1d42c47038c312f1052ff2565",
            "7cd04ef80da3444b9f6c7c94c08709ad",
            "3f16cd61846f4f06921a9aa2afaefa24",
            "ab92bf2621244adfb8c0557c000f4cd0",
            "ef05c78a10484c94be58d115bd3f3693",
            "f6ed184d58af4218ab0401a2060d56fb",
            "5e8a66ee88eb4e56afe74db7a8efdeaa",
            "91d7e1365a484716a7eec03f2cb00150",
            "2af495855e9741589d73a4e9f4a1cfef",
            "84613381a187420a96c57f4a0b84c4b6",
            "32c751ea43924a0faa46bb7615277926",
            "c7e8b2f87c734fe188957485e465f719",
            "0098937c1ff64e89bdc773ddfa681ae3",
            "1331d8fd219c43bd847986d927c91069",
            "926f4de2b9954e59a48bea3135ad6bf4",
            "d1566e5b6cef40f2afa9f944ee52c5e7",
            "05f624c6810f413a931338cfd2c3235e",
            "f52c110a2f6b455196a6836ac4d9da61",
            "c5325586c1a04509881811c68ae02fe8",
            "fe24413eca4e4b8a9b4e98ced5b04dd3",
            "483014cd4868428ebb035756a6318163",
            "c9cacd3ad40243eb894be0afc3061396",
            "66ad158147d34d76b98725a9efb3de5a",
            "abd11fbd822645e1a8e8f15b41fa04ac",
            "0e0489e879ad452991b8a9baa69d1423",
            "ce361899bbb14794bb45d5d37cee1aec",
            "0c8e18c42fee42848a16d05e9a705775",
            "41eccb8f15ac4440bd2d0cc43a010bdc"
          ]
        },
        "id": "w267XvEzvlru",
        "outputId": "b9798d90-b859-4e35-b635-ca135b1b1dab"
      },
      "execution_count": 7,
      "outputs": [
        {
          "output_type": "stream",
          "name": "stdout",
          "text": [
            "2021-12-10 16:40:02,574 https://nlp.informatik.hu-berlin.de/resources/models/sentiment-curated-distilbert/sentiment-en-mix-distillbert_4.pt not found in cache, downloading to /tmp/tmpex9kpkok\n"
          ]
        },
        {
          "output_type": "stream",
          "name": "stderr",
          "text": [
            "100%|██████████| 265512723/265512723 [00:10<00:00, 24790658.47B/s]"
          ]
        },
        {
          "output_type": "stream",
          "name": "stdout",
          "text": [
            "2021-12-10 16:40:13,642 copying /tmp/tmpex9kpkok to cache at /root/.flair/models/sentiment-en-mix-distillbert_4.pt\n"
          ]
        },
        {
          "output_type": "stream",
          "name": "stderr",
          "text": [
            "\n"
          ]
        },
        {
          "output_type": "stream",
          "name": "stdout",
          "text": [
            "2021-12-10 16:40:14,315 removing temp file /tmp/tmpex9kpkok\n",
            "2021-12-10 16:40:14,361 loading file /root/.flair/models/sentiment-en-mix-distillbert_4.pt\n"
          ]
        },
        {
          "output_type": "display_data",
          "data": {
            "application/vnd.jupyter.widget-view+json": {
              "model_id": "7cd977596fca45e8929f9a7f78871e1a",
              "version_minor": 0,
              "version_major": 2
            },
            "text/plain": [
              "Downloading:   0%|          | 0.00/28.0 [00:00<?, ?B/s]"
            ]
          },
          "metadata": {}
        },
        {
          "output_type": "display_data",
          "data": {
            "application/vnd.jupyter.widget-view+json": {
              "model_id": "a540feb9fe0b41df8f976bf5f6d1a5ed",
              "version_minor": 0,
              "version_major": 2
            },
            "text/plain": [
              "Downloading:   0%|          | 0.00/226k [00:00<?, ?B/s]"
            ]
          },
          "metadata": {}
        },
        {
          "output_type": "display_data",
          "data": {
            "application/vnd.jupyter.widget-view+json": {
              "model_id": "5e8a66ee88eb4e56afe74db7a8efdeaa",
              "version_minor": 0,
              "version_major": 2
            },
            "text/plain": [
              "Downloading:   0%|          | 0.00/455k [00:00<?, ?B/s]"
            ]
          },
          "metadata": {}
        },
        {
          "output_type": "display_data",
          "data": {
            "application/vnd.jupyter.widget-view+json": {
              "model_id": "f52c110a2f6b455196a6836ac4d9da61",
              "version_minor": 0,
              "version_major": 2
            },
            "text/plain": [
              "Downloading:   0%|          | 0.00/483 [00:00<?, ?B/s]"
            ]
          },
          "metadata": {}
        }
      ]
    },
    {
      "cell_type": "code",
      "source": [
        "#Twitter Sentiment User Defined Functions \n",
        "def getData(tweet):\n",
        "  data = {\n",
        "    'id': tweet['id'],\n",
        "    'created_at': tweet['created_at'],\n",
        "    'text': tweet['text']\n",
        "  }\n",
        "  return data\n",
        "\n",
        "#Function is used to clean the text of tweets\n",
        "def clean(tweet):\n",
        "  tweet = whitespace.sub(' ', tweet)\n",
        "  tweet = web_address.sub('', tweet)\n",
        "  tweet = reliance.sub('Reliance', tweet)\n",
        "  tweet = user.sub('', tweet)\n",
        "  return tweet\n",
        "\n",
        "tweetUDF = udf(lambda z:clean(z),StringType())\n",
        "\n",
        "#This function substracts 1 hour for date time\n",
        "def time_travel(endTime, mins):\n",
        "    endTime = datetime.strptime(endTime, dtformat)\n",
        "    back_in_time = endTime - timedelta(minutes=mins)\n",
        "    return back_in_time.strftime(dtformat)\n"
      ],
      "metadata": {
        "id": "L8xkAWSgvynd"
      },
      "execution_count": 8,
      "outputs": []
    },
    {
      "cell_type": "code",
      "metadata": {
        "id": "s-Nv0zGFCob7"
      },
      "source": [
        "#Festive season Data\n",
        "seasonRange = {\"Diwali\":[\"10-25\", \"11-10\"],\n",
        "               \"Holi\": [\"02-25\",\"03-10\"]}\n"
      ],
      "execution_count": 9,
      "outputs": []
    },
    {
      "cell_type": "markdown",
      "source": [
        "##Problem 1. For a particular sector (example: Banking) show the stock (ex: HDFC) performance within a particular time frame\n",
        "\n",
        "This is also known as the Beta value for a stock (a measure of volatility relative to a benchmark)"
      ],
      "metadata": {
        "id": "F6I_XLzlHXvB"
      }
    },
    {
      "cell_type": "code",
      "source": [
        "'''\n",
        "sector (str) -> The sector relative to which we want to see the performance\n",
        "stock_scrip (str) -> The stock market symbol for the company whose performance is to be measured\n",
        "start_time (str) -> date in the given format - dd/mm/yyyy\n",
        "end_time (str) -> date in the given format - dd/mm/yyyy\n",
        "'''\n",
        "def problemOne(sector, stock_scrip, start_time, end_time):\n",
        "  # Write the code for your function here\n",
        "  start_time = datetime.strptime(start_time,'%d/%m/%Y')\n",
        "  end_time = datetime.strptime(end_time,'%d/%m/%Y')\n",
        "  figure(figsize=(80, 15), dpi=80)\n",
        "  Nifty50_Master_Df1=Nifty50_Master_Df.withColumn(\"Date\",Nifty50_Master_Df.Date.cast('Date'))\n",
        "  \n",
        "  \n",
        "  \n",
        "  sector_df=(Nifty50_Master_Df1\n",
        "    .where( (Nifty50_Master_Df1[\"Industry\"]==sector) & (Nifty50_Master_Df1[\"Date\"].between(start_time,end_time)) )\n",
        "    .groupBy(\"Date\")\n",
        "    .agg(mean(\"close\")))\n",
        "\n",
        "  sector_pd_df=sector_df.toPandas()\n",
        "  sector_data=sector_pd_df.set_index('Date')\n",
        "  plt.figure(figsize=(16,8))\n",
        "  plt.scatter(sector_data.index, sector_data[\"avg(close)\"],color=\"orange\",s=20,label=sector+\" Performance\")\n",
        "  \n",
        "  #Nifty50_Master_Df1.filter(Nifty50_Master_Df1[\"Symbol\"]==\"INFRATEL\").show()\n",
        "  stock_df=(Nifty50_Master_Df1\n",
        "    .where( (Nifty50_Master_Df1[\"Symbol\"]==stock_scrip) & (Nifty50_Master_Df1[\"Date\"].between(start_time,end_time)) )\n",
        "    .groupBy(\"Date\")\n",
        "    .agg(mean(\"close\")))\n",
        "  \n",
        "  #stock_df.show()\n",
        "  #print(Nifty50_Master_Df.select('Symbol').distinct().collect())\n",
        "  stock_pd_df=stock_df.toPandas()\n",
        "  stock_data=stock_pd_df.set_index('Date')\n",
        "  plt.scatter(stock_data.index, stock_data[\"avg(close)\"],color=\"green\",s=10,label= stock_scrip+\" Performance\")\n",
        "  plt.xlabel(\"Dates\")\n",
        "  plt.ylabel(\"Avg Price\")\n",
        "  plt.title(\"SectoRvsStocK\")\n",
        "\n",
        " \n",
        "\n",
        "   \n",
        "  # sector_df.toPandas().to_excel('SectorOutput.xls', sheet_name = 'Sheet1', index = False)\n",
        "  \n",
        "  plt.legend()\n",
        "  plt.show()\n",
        "  \n",
        " \n",
        "\n",
        "\n",
        "\n",
        "problemOne(\"AUTOMOBILE\",\"MARUTI\",\"03/01/2000\",\"30/04/2021\")\n"
      ],
      "metadata": {
        "colab": {
          "base_uri": "https://localhost:8080/",
          "height": 530
        },
        "id": "E1qw0zZrHc05",
        "outputId": "8d083f0c-958a-41ea-facb-92195fee8b32"
      },
      "execution_count": 10,
      "outputs": [
        {
          "output_type": "display_data",
          "data": {
            "text/plain": [
              "<Figure size 6400x1200 with 0 Axes>"
            ]
          },
          "metadata": {}
        },
        {
          "output_type": "display_data",
          "data": {
            "image/png": "[encoded data removed]",
            "text/plain": [
              "<Figure size 1152x576 with 1 Axes>"
            ]
          },
          "metadata": {
            "needs_background": "light"
          }
        }
      ]
    },
    {
      "cell_type": "markdown",
      "source": [
        "## Problem 2. For a particular sector, find out the most correlated other sector in the available list of sectors[link text](https://)\n",
        "**Example**: Take \"FINANCIAL SERVICES\" sector as an input and show the sector having the maximum co-relation with it (E.g., CONSUMER GOODS_SECTOR)"
      ],
      "metadata": {
        "id": "bHinFif8H83N"
      }
    },
    {
      "cell_type": "code",
      "source": [
        "\"\"\"\n",
        "sector (str) -> The sector for which we have to find out the most correlated sector\n",
        "\"\"\"\n",
        "def problemTwo(sector):\n",
        "  Nifty50_Master_Df1=Nifty50_Master_Df.withColumn(\"Date\",Nifty50_Master_Df.Date.cast('Date'))\n",
        "  sector_input=sector\n",
        "  sector_input_df=(Nifty50_Master_Df1\n",
        "    .where( Nifty50_Master_Df1[\"Industry\"]==sector )\n",
        "    .groupBy(\"Date\")\n",
        "    .agg(mean(\"close\")))\n",
        "  # sector_input_df.show()\n",
        "  sector_input_df=sector_input_df.withColumn(\"Daily_Avg_Close\",sector_input_df[\"avg(close)\"])\n",
        "  sector_input_df=sector_input_df.drop(\"avg(close)\")\n",
        "  sector_input_df=sector_input_df.withColumn(\"Sector_Name\",lit(sector))\n",
        "  sector_input_df_min=sector_input_df.agg({'Daily_Avg_Close': 'min'})\n",
        "  sector_input_df_Min_Daily_Avg_Close_value=sector_input_df_min.collect()[0][0]\n",
        "  sector_input_df=sector_input_df.withColumn(\"Min_Daily_Avg_Close\",lit(sector_input_df_Min_Daily_Avg_Close_value))\n",
        "  sector_input_df_max=sector_input_df.agg({'Daily_Avg_Close': 'max'})\n",
        "  sector_input_df_Max_Daily_Avg_Close_value=sector_input_df_max.collect()[0][0]\n",
        "  sector_input_df=sector_input_df.withColumn(\"Max_Daily_Avg_Close\",lit(sector_input_df_Max_Daily_Avg_Close_value))\n",
        "  sector_input_df=sector_input_df.withColumn(\"Normalized_Dly_Avg_Close\",\\\n",
        "                                       (sector_input_df[\"Daily_Avg_Close\"]-sector_input_df[\"Min_Daily_Avg_Close\"])*100 /(sector_input_df[\"Max_Daily_Avg_Close\"]-sector_input_df[\"Min_Daily_Avg_Close\"]))\n",
        "  sector_input_pd_df=sector_input_df.toPandas()\n",
        "  sector_input_data=sector_input_pd_df.set_index('Date')\n",
        "  plt.figure(figsize=(16,8))\n",
        "  plt.scatter(sector_input_data.index, sector_input_data[\"Daily_Avg_Close\"],color=\"orange\",s=20,label=sector_input+\" Performance\")\n",
        "  \n",
        "  \n",
        "\n",
        "  sector_li=Nifty50_Master_Df1.select(\"Industry\").where(Nifty50_Master_Df1[\"Industry\"]!=sector).distinct()#.collect()\n",
        "  AVG_RELATIVE_DIVERGENCE_DICT={}\n",
        "  sector_list = [(row.Industry) for row in sector_li.collect()]\n",
        "  for sector in sector_list:\n",
        "      sector_itr=sector+\"_SECTOR_DF\"\n",
        "      sector_itr_name=sector_itr\n",
        "      #print(sector_itr)\n",
        "      sector_itr=(Nifty50_Master_Df1\n",
        "    .where( Nifty50_Master_Df1[\"Industry\"]==sector )\n",
        "    .groupBy(\"Date\")\n",
        "    .agg(mean(\"close\")))\n",
        "      sector_itr=sector_itr.withColumn(\"Sector_Name\",lit(sector_itr_name))\n",
        "      sector_itr=sector_itr.withColumn(\"Daily_Avg_Close\",sector_itr[\"avg(close)\"])\n",
        "      sector_itr=sector_itr.drop(\"avg(close)\")\n",
        "      sector_itr_min=sector_itr.agg({'Daily_Avg_Close': 'min'})\n",
        "      sector_itr_Min_Daily_Avg_Close_value=sector_itr_min.collect()[0][0]\n",
        "      sector_itr=sector_itr.withColumn(\"Min_Daily_Avg_Close\",lit(sector_itr_Min_Daily_Avg_Close_value))\n",
        "      sector_itr_max=sector_itr.agg({'Daily_Avg_Close': 'max'})\n",
        "      sector_itr_Max_Daily_Avg_Close_value=sector_itr_max.collect()[0][0]\n",
        "      sector_itr=sector_itr.withColumn(\"Max_Daily_Avg_Close\",lit(sector_itr_Max_Daily_Avg_Close_value))\n",
        "      sector_itr=sector_itr.withColumn(\"Normalized_Dly_Avg_Close\",\\\n",
        "                                       (sector_itr[\"Daily_Avg_Close\"]-sector_itr[\"Min_Daily_Avg_Close\"])*100 /(sector_itr[\"Max_Daily_Avg_Close\"]-sector_itr[\"Min_Daily_Avg_Close\"]))\n",
        "\n",
        "      sector_itr_joined_input=sector_itr.join(sector_input_df,(sector_input_df[\"Date\"]==sector_itr[\"Date\"])).\\\n",
        "      select(sector_itr[\"Date\"],sector_itr[\"Sector_Name\"],sector_input_df[\"Sector_Name\"],\\\n",
        "             sector_input_df[\"Normalized_Dly_Avg_Close\"]-sector_itr[\"Normalized_Dly_Avg_Close\"])\n",
        "      sector_itr_joined_input=sector_itr_joined_input.withColumn(\"DAILY_DIVERGENCE\",sector_itr_joined_input[\"(Normalized_Dly_Avg_Close - Normalized_Dly_Avg_Close)\"])\n",
        "      sector_itr_joined_input=sector_itr_joined_input.drop(\"(Normalized_Dly_Avg_Close - Normalized_Dly_Avg_Close)\")\n",
        "      sector_itr_joined_input=sector_itr_joined_input.withColumn(\"ABSOLUTE_DAILY_RELATIVE_DIVERGENCE_WITH_GIVEN_SECTOR\",abs(sector_itr_joined_input[\"DAILY_DIVERGENCE\"]))\n",
        "      sector_itr_joined_input=sector_itr_joined_input.drop(\"DAILY_DIVERGENCE\")\n",
        "      sector_input_df_daily_divergence=sector_itr_joined_input.agg({'ABSOLUTE_DAILY_RELATIVE_DIVERGENCE_WITH_GIVEN_SECTOR': 'mean'})\n",
        "      sector_input_df_daily_divergence_avg=sector_input_df_daily_divergence.collect()[0][0]\n",
        "      \n",
        "      AVG_RELATIVE_DIVERGENCE_DICT.update({sector_itr_name : sector_input_df_daily_divergence_avg})\n",
        "      \n",
        "      \n",
        "      #sector_itr_joined_input.show(2) \n",
        "      #sector_itr.show(2)\n",
        "  # sector_input_df.show()\n",
        "  \n",
        "  print(AVG_RELATIVE_DIVERGENCE_DICT)\n",
        "  \n",
        "  min_avg_divergence = min(AVG_RELATIVE_DIVERGENCE_DICT.values())\n",
        "  \n",
        "  cor_sector = [key for key in AVG_RELATIVE_DIVERGENCE_DICT if AVG_RELATIVE_DIVERGENCE_DICT[key] == min_avg_divergence]\n",
        "  print(\"The Sector which is having maximum co-relation w.r.t. \"+sector_input+\" is :-\"+str(cor_sector[0]))\n",
        "\n",
        "  cor_sector_df=(Nifty50_Master_Df1\n",
        "  .where( Nifty50_Master_Df1[\"Industry\"]==str(cor_sector[0])[:-10] )\n",
        "  .groupBy(\"Date\")\n",
        "  .agg(mean(\"close\")))\n",
        "  #cor_sector_df.show()\n",
        "\n",
        "  cor_sector_pd_df=cor_sector_df.toPandas()\n",
        "  cor_sector_data=cor_sector_pd_df.set_index('Date')\n",
        "  plt.scatter(cor_sector_data.index, cor_sector_data[\"avg(close)\"],color=\"green\",s=20,label=str(cor_sector[0][:-10])+\" Performance\")\n",
        "  plt.legend()\n",
        "  plt.show()\n",
        "\n",
        "\n",
        "problemTwo(\"FINANCIAL SERVICES\")"
      ],
      "metadata": {
        "colab": {
          "base_uri": "https://localhost:8080/",
          "height": 538
        },
        "id": "wX-7fmIVYsBS",
        "outputId": "9a685410-739c-4fc7-ede2-30e7a8e2985d"
      },
      "execution_count": 11,
      "outputs": [
        {
          "output_type": "stream",
          "name": "stdout",
          "text": [
            "{'CEMENT & CEMENT PRODUCTS_SECTOR_DF': 10.5773164129195, 'METALS_SECTOR_DF': 23.893345947192234, 'TELECOM_SECTOR_DF': 31.069054263348548, 'SERVICES_SECTOR_DF': 23.892192099197036, 'MEDIA & ENTERTAINMENT_SECTOR_DF': 18.73335505343661, 'CONSTRUCTION_SECTOR_DF': 21.493880878391025, 'ENERGY_SECTOR_DF': 19.26190214491328, 'AUTOMOBILE_SECTOR_DF': 15.165924870851322, 'FERTILISERS & PESTICIDES_SECTOR_DF': 19.968007760971144, 'IT_SECTOR_DF': 23.446154203911547, 'PHARMA_SECTOR_DF': 15.508515567263087, 'CONSUMER GOODS_SECTOR_DF': 8.850377849262589}\n",
            "The Sector which is having maximum co-relation w.r.t. FINANCIAL SERVICES is :-CONSUMER GOODS_SECTOR_DF\n"
          ]
        },
        {
          "output_type": "display_data",
          "data": {
            "image/png": "[encoded data removed]",
            "text/plain": [
              "<Figure size 1152x576 with 1 Axes>"
            ]
          },
          "metadata": {
            "needs_background": "light"
          }
        }
      ]
    },
    {
      "cell_type": "markdown",
      "metadata": {
        "id": "jXatkRt_O5oQ"
      },
      "source": [
        "## Problem 3. Define a list of festive seasons against which a user can visualize the list of top 5 performing stocks\n",
        "\n",
        "Declare a list of festival with their defined time range.\n",
        "**Example**: Diwali 25-Oct to 10-Nov"
      ]
    },
    {
      "cell_type": "code",
      "metadata": {
        "colab": {
          "base_uri": "https://localhost:8080/",
          "height": 297
        },
        "id": "KBiII8JiPFkF",
        "outputId": "667b9724-eb35-4b29-ad17-94504b131d7b"
      },
      "source": [
        "\"\"\"\n",
        "festive_seastons (List<Tuple[3]>) -> A list of tuples wherein each tuple will be (festival_name (str), start_date(dd/mm/yyyy), end_date(dd/mm/yyyy))\n",
        "Return a list of top 5 stocks corresponding to each season\n",
        "\"\"\"\n",
        "def problemThree(festive_season):\n",
        "  dateList = seasonRange[festive_season]\n",
        "  startDate = dateList[0]\n",
        "  endDate = dateList[1]\n",
        "\n",
        "  nifty50Df = Nifty50_df.withColumn('year', substring('Date', 0,4))\n",
        "  nifty50Df = nifty50Df.withColumn('monthAndDay', substring('Date', 6,5))\n",
        "\n",
        "  startDateData = nifty50Df[nifty50Df[\"monthAndDay\"] == startDate]\n",
        "  endDateData = nifty50Df[nifty50Df[\"monthAndDay\"] == endDate]\n",
        "\n",
        "  festivalData = startDateData.join(endDateData,(startDateData[\"year\"] ==  endDateData[\"year\"]) & (startDateData[\"Symbol\"] ==  endDateData[\"Symbol\"]) ,\"inner\").select(startDateData[\"year\"],startDateData[\"Symbol\"],startDateData[\"Open\"].alias(\"festiveOpen\"), endDateData[\"Close\"].alias(\"festiveClose\"))\n",
        "  festivalData = festivalData.withColumn(\"profit\", ((festivalData[\"festiveClose\"] - festivalData[\"festiveOpen\"])*100)/festivalData[\"festiveOpen\"])\n",
        "\n",
        "  festivalData = festivalData.groupBy(\"Symbol\").agg( avg(\"profit\").alias(\"avgProfit\"))\n",
        "\n",
        "  festivalData = festivalData.sort(desc(\"avgProfit\"))\n",
        "\n",
        "  festivalDataList = festivalData.take(5)\n",
        "\n",
        "  symbol = []\n",
        "  profit = []\n",
        "\n",
        "  for i in range(len(festivalDataList)):\n",
        "    symbol.append(festivalDataList[i][0])\n",
        "    profit.append(festivalDataList[i][1])\n",
        "\n",
        "  indices = np.arange(len(festivalDataList))\n",
        "  plt.bar(indices, profit, color='r')\n",
        "  plt.xticks(indices, symbol, rotation='vertical')\n",
        "  plt.tight_layout()\n",
        "  plt.show()\n",
        "\n",
        "problemThree(\"Diwali\")"
      ],
      "execution_count": 12,
      "outputs": [
        {
          "output_type": "display_data",
          "data": {
            "image/png": "[encoded data removed]",
            "text/plain": [
              "<Figure size 432x288 with 1 Axes>"
            ]
          },
          "metadata": {
            "needs_background": "light"
          }
        }
      ]
    },
    {
      "cell_type": "markdown",
      "source": [
        "##Problem 4. For a particular stock find out the most correlated other stock in the available list of stocks."
      ],
      "metadata": {
        "id": "rBJ17VWNGfk6"
      }
    },
    {
      "cell_type": "code",
      "source": [
        "def problemFour(inputStock):\n",
        "\n",
        "  stockAll = Nifty50_df.select('Symbol').distinct().collect()\n",
        "  allStock = []\n",
        "  for eachStock in stockAll:\n",
        "    if eachStock.Symbol != inputStock:\n",
        "      allStock.append(eachStock.Symbol)\n",
        "  #print(allStock)\n",
        "\n",
        "  AVG_RELATIVE_DIVERGENCE_DICT = {}\n",
        "\n",
        "  inputStockData = Nifty50_df.filter(col(\"Symbol\") == inputStock)\n",
        "  minMaxInputStock = inputStockData.groupBy(\"Symbol\").agg(sparkMin(\"Close\").alias(\"inputRangeMin\"), sparkMax(\"Close\").alias(\"inputRangeMax\"))\n",
        "  inputStockData = inputStockData.join(minMaxInputStock,'Symbol', how=\"inner\")\n",
        "  inputStockData = inputStockData.withColumn(\"inputNormalizedClose\",(inputStockData[\"Close\"] - inputStockData[\"inputRangeMin\"])*100 /(inputStockData[\"inputRangeMax\"] - inputStockData[\"inputRangeMin\"]))\n",
        "  inputStockDataPdf = inputStockData.toPandas()\n",
        "\n",
        "  for eachStock in allStock:\n",
        "    eachStockData = Nifty50_df.filter(col(\"Symbol\") == eachStock)\n",
        "    minMaxEachStock = eachStockData.groupBy(\"Symbol\").agg(sparkMin(\"Close\").alias(\"rangeMin\"), sparkMax(\"Close\").alias(\"rangeMax\"))\n",
        "    eachStockData = eachStockData.join(minMaxEachStock,'Symbol', how=\"inner\")\n",
        "    eachStockData = eachStockData.withColumn(\"normalizedClose\",(eachStockData[\"Close\"] - eachStockData[\"rangeMin\"])*100 /(eachStockData[\"rangeMax\"] - eachStockData[\"rangeMin\"]))\n",
        "    eachStockData = eachStockData.join(inputStockData,eachStockData[\"Date\"] ==  inputStockData[\"Date\"],\"inner\").select(eachStockData[\"*\"],inputStockData[\"inputNormalizedClose\"])\n",
        "    eachStockData = eachStockData.withColumn(\"dailyDivergance\", abs(col(\"normalizedClose\") - col(\"inputNormalizedClose\")))\n",
        "    avgDiverganceDf = eachStockData.groupBy(\"Symbol\").agg(mean(\"dailyDivergance\"))\n",
        "    AVG_RELATIVE_DIVERGENCE_DICT.update({eachStock : avgDiverganceDf.collect()[0][1]})\n",
        "\n",
        "  desiredStockDiv = min(AVG_RELATIVE_DIVERGENCE_DICT.values())\n",
        "  desiredStock = \"\"\n",
        "\n",
        "  for key,value in AVG_RELATIVE_DIVERGENCE_DICT.items():\n",
        "    if value == desiredStockDiv:\n",
        "      desiredStock = key\n",
        "\n",
        "  print(\"The Maximum co-related stock to the given input stock: \" + inputStock + \" is: \" + desiredStock)\n",
        "\n",
        "  desiredStockData = Nifty50_df.filter(col(\"Symbol\") == desiredStock)\n",
        "\n",
        "  desiredStockDataPdf=desiredStockData.toPandas()\n",
        "  desiredStockDataPdf=desiredStockDataPdf.set_index('Date')\n",
        "  inputStockDataPdf=inputStockDataPdf.set_index('Date')\n",
        "\n",
        "  plt.figure(figsize=(16,8))\n",
        "  plt.scatter(inputStockDataPdf.index, inputStockDataPdf[\"Close\"],color=\"orange\",s=20,label=inputStock+\" Performance\")\n",
        "  plt.scatter(desiredStockDataPdf.index, desiredStockDataPdf[\"Close\"],color=\"blue\",s=20,label=desiredStock+\" Performance\")\n",
        "  plt.xlabel(\"Dates\")\n",
        "  plt.ylabel(\"Price\")\n",
        "  plt.title(\"StockVsStocK\")\n",
        "  plt.legend()\n",
        "  plt.show()\n",
        "\n",
        "problemFour(\"SBIN\")"
      ],
      "metadata": {
        "id": "tNFJjy3WGxAE",
        "colab": {
          "base_uri": "https://localhost:8080/",
          "height": 530
        },
        "outputId": "9a7fcb39-8aec-4887-90a3-3c00a9f276cf"
      },
      "execution_count": 13,
      "outputs": [
        {
          "output_type": "stream",
          "name": "stdout",
          "text": [
            "The Maximum co-related stock to the given input stock: SBIN is: ICICIBANK\n"
          ]
        },
        {
          "output_type": "display_data",
          "data": {
            "image/png": "[encoded data removed]",
            "text/plain": [
              "<Figure size 1152x576 with 1 Axes>"
            ]
          },
          "metadata": {
            "needs_background": "light"
          }
        }
      ]
    },
    {
      "cell_type": "markdown",
      "metadata": {
        "id": "NCcy_6npQhW2"
      },
      "source": [
        "## Problem 5. How much value do we put at risk by investing in a particular stock."
      ]
    },
    {
      "cell_type": "code",
      "metadata": {
        "colab": {
          "base_uri": "https://localhost:8080/",
          "height": 646
        },
        "id": "WsCk-51iQl5Q",
        "outputId": "cca8ebdd-52a2-4eeb-9176-937964d79cd2"
      },
      "source": [
        "\"\"\"\n",
        "stock_to_invest (str) -> The symbol of the stock to invest in\n",
        "\"\"\"\n",
        "\n",
        "from pyspark.sql.functions import rank, col\n",
        "from pyspark.sql.functions import col, isnan, when, trim\n",
        "import pandas as pd\n",
        "\n",
        "\n",
        "\n",
        "def problemFive(stock_to_invest,startDate , endDate):\n",
        "  #.withColumn(\"Date\", F.year(col(\"Date\").cast(\"timestamp\")))\n",
        "  stock = stock_to_invest.withColumn(\"Open\", col(\"Open\").cast(\"Double\"))\n",
        "  #stockData = stock.where( stock[\"Date\"].between(startDate,endDate)).cache()\n",
        "  #stock = stock_to_invest.withColumn(\"Date\", F.year(col(\"Date\").cast(\"timestamp\"))).withColumn(\"Open\", col(\"Open\").cast(\"Double\"))\n",
        "  stockData=stock\n",
        "  \n",
        "  #stock.printSchema()\n",
        "  ValidData = stockData.where((col(\"Open\").isNotNull()) & (col(\"Close\").isNotNull()))\n",
        "  #daily_return = ValidData.withColumn(\"daily_Return\",((col(\"Close\") - col(\"Prev Close\"))*100)/col(\"Prev Close\"))\n",
        "  daily_return = ValidData.withColumn(\"daily_Return\",(col(\"Close\") - col(\"Open\"))/col(\"Open\")).cache()\n",
        "  exp_stock = daily_return.groupBy(\"Symbol\").agg(F.avg(daily_return.daily_Return).alias(\"mean\"))\n",
        "  sd_stock = daily_return.groupBy(\"Symbol\").agg(F.stddev(daily_return.daily_Return).alias(\"stddev\"))\n",
        "  exp_sd_stock = exp_stock.join(sd_stock,on=[\"Symbol\"])\n",
        "  \n",
        "  calculate_risk = exp_sd_stock.withColumn(\"Risk\",F.when((col(\"mean\") < 0) & (F.abs(col(\"mean\")-col(\"stddev\")) < 20),\"LOSS and RISKY\").when((col(\"mean\") < 0) & (F.abs(col(\"mean\")-col(\"stddev\")) > 20), \"HIGHLY RISKY\").when((col(\"mean\") > 0) & (F.abs(col(\"mean\")-col(\"stddev\")) < 20),\"CONSITENTLY PROFITABLE\").otherwise(\"HIGHLY VOLATILE\")).where((col(\"mean\")!= 0) & (col(\"stddev\")!=0)).sort(\"mean\",ascending=True).cache()\n",
        "  window = Window.partitionBy(calculate_risk['Risk']).orderBy(calculate_risk['mean'].desc())\n",
        "\n",
        "  groupTop5 = calculate_risk.select('*', rank().over(window).alias('rank')).filter(col('rank') <= 5).sort(\"mean\",ascending=False)\n",
        "  \n",
        "  answerList = calculate_risk.collect()\n",
        "\n",
        "  answer_mean=[]\n",
        "  answer_std=[]\n",
        "  answer_symbol=[]\n",
        "  answer=[]\n",
        "  answer_Risk=[]\n",
        "\n",
        "  for i in answerList:\n",
        "    \n",
        "    answer_mean.append(i[\"mean\"])\n",
        "    answer_std.append(i[\"stddev\"])\n",
        "    answer_symbol.append(i[\"Symbol\"])\n",
        "    answer_Risk.append(i[\"Risk\"])\n",
        "    answer.append([i[\"Symbol\"],i[\"mean\"],i[\"stddev\"]])\n",
        "  #plotGraph(answer_Risk,answer_mean,answer_std,answer_symbol)\n",
        "\n",
        "  return calculate_risk,groupTop5,daily_return\n",
        "\n",
        "\n",
        "def RiskForStock(stock,stockData):\n",
        "  riskData = stockData.where(col(\"Symbol\")==stock).show(10)\n",
        "  return riskData\n",
        "\n",
        "dataYear = problemFive(stock_df,'2010/01/01','2020/04/30')[0]\n",
        "dailyreturn = problemFive(stock_df,'2010/01/01','2020/04/30')[2]\n",
        "Symbol = \"MRF\"\n",
        "RiskForStock(Symbol,dataYear)\n",
        "\n",
        "import plotly.express as px\n",
        "import pandas as pd\n",
        "\n",
        "df = dailyreturn.where(col(\"Symbol\")==Symbol).collect()\n",
        "\n",
        "k=1\n",
        "x=[]\n",
        "y=[]\n",
        "\n",
        "for i in df:\n",
        "    if (k%30==0):\n",
        "      x.append(i['Date'])\n",
        "      y.append(i['daily_Return'])\n",
        "    k=k+1\n",
        "\n",
        "df1 = pd.DataFrame(dict(\n",
        "    {'Date' : x,\n",
        "    'Daily_Return' : y}\n",
        "))\n",
        "fig = px.line(df1, x=\"Date\", y=\"Daily_Return\", title='Daily Return')\n",
        "fig.show()"
      ],
      "execution_count": 16,
      "outputs": [
        {
          "output_type": "stream",
          "name": "stdout",
          "text": [
            "+------+--------------------+--------------------+--------------+\n",
            "|Symbol|                mean|              stddev|          Risk|\n",
            "+------+--------------------+--------------------+--------------+\n",
            "|   MRF|-0.00144788846723...|0.024481907525539887|LOSS and RISKY|\n",
            "+------+--------------------+--------------------+--------------+\n",
            "\n"
          ]
        },
        {
          "output_type": "display_data",
          "data": {
            "text/html": [
              "<html>\n",
              "<head><meta charset=\"utf-8\" /></head>\n",
              "<body>\n",
              "    <div>\n",
              "            <script src=\"https://cdnjs.cloudflare.com/ajax/libs/mathjax/2.7.5/MathJax.js?config=TeX-AMS-MML_SVG\"></script><script type=\"text/javascript\">if (window.MathJax) {MathJax.Hub.Config({SVG: {font: \"STIX-Web\"}});}</script>\n",
              "                <script type=\"text/javascript\">window.PlotlyConfig = {MathJaxConfig: 'local'};</script>\n",
              "        <script src=\"https://cdn.plot.ly/plotly-latest.min.js\"></script>    \n",
              "            <div id=\"9cb6606a-ab6d-43a1-aabb-cf9a48c1204d\" class=\"plotly-graph-div\" style=\"height:525px; width:100%;\"></div>\n",
              "            <script type=\"text/javascript\">\n",
              "                \n",
              "                    window.PLOTLYENV=window.PLOTLYENV || {};\n",
              "                    \n",
              "                if (document.getElementById(\"9cb6606a-ab6d-43a1-aabb-cf9a48c1204d\")) {\n",
              "                    Plotly.newPlot(\n",
              "                        '9cb6606a-ab6d-43a1-aabb-cf9a48c1204d',\n",
              "                        [{\"hoverlabel\": {\"namelength\": 0}, \"hovertemplate\": \"Date=%{x}<br>Daily_Return=%{y}\", \"legendgroup\": \"\", \"line\": {\"color\": \"#636efa\", \"dash\": \"solid\"}, \"mode\": \"lines\", \"name\": \"\", \"showlegend\": false, \"type\": \"scatter\", \"x\": [\"1996-02-23\", \"1996-04-10\", \"1996-05-23\", \"1996-07-04\", \"1996-08-27\", \"1996-10-09\", \"1996-11-26\", \"1997-01-16\", \"1997-03-01\", \"1997-04-28\", \"1997-06-11\", \"1997-07-31\", \"1997-09-15\", \"1997-11-25\", \"1998-01-09\", \"1998-02-25\", \"1998-04-15\", \"1998-06-16\", \"1998-07-31\", \"1998-09-25\", \"1998-11-12\", \"1998-12-30\", \"1999-02-15\", \"1999-03-26\", \"1999-05-12\", \"1999-06-23\", \"1999-08-04\", \"1999-09-16\", \"1999-10-28\", \"1999-12-10\", \"2000-01-24\", \"2000-03-07\", \"2000-04-24\", \"2000-06-06\", \"2000-07-18\", \"2000-08-30\", \"2000-10-13\", \"2000-11-24\", \"2001-01-08\", \"2001-02-20\", \"2001-04-04\", \"2001-05-21\", \"2001-07-02\", \"2001-08-13\", \"2001-09-26\", \"2001-11-09\", \"2001-12-27\", \"2002-02-07\", \"2002-03-21\", \"2002-05-07\", \"2002-06-18\", \"2002-07-30\", \"2002-09-12\", \"2002-10-28\", \"2002-12-11\", \"2003-01-23\", \"2003-03-07\", \"2003-04-23\", \"2003-06-05\", \"2003-07-17\", \"2003-08-29\", \"2003-10-13\", \"2003-11-20\", \"2004-01-05\", \"2004-02-18\", \"2004-04-01\", \"2004-05-17\", \"2004-06-28\", \"2004-08-09\", \"2004-09-20\", \"2004-11-02\", \"2004-12-16\", \"2005-01-31\", \"2005-03-14\", \"2005-04-27\", \"2005-06-07\", \"2005-07-19\", \"2005-09-01\", \"2005-10-17\", \"2005-11-30\", \"2006-01-12\", \"2006-02-27\", \"2006-04-13\", \"2006-05-26\", \"2006-07-06\", \"2006-08-18\", \"2006-09-29\", \"2006-11-14\", \"2006-12-27\", \"2007-02-12\", \"2007-03-28\", \"2007-05-14\", \"2007-06-25\", \"2007-08-06\", \"2007-09-18\", \"2007-10-31\", \"2007-12-12\", \"2008-01-25\", \"2008-03-10\", \"2008-04-25\", \"2008-06-10\", \"2008-07-22\", \"2008-09-04\", \"2008-10-20\", \"2008-12-04\", \"2009-01-20\", \"2009-03-05\", \"2009-04-24\", \"2009-06-09\", \"2009-07-21\", \"2009-09-01\", \"2009-10-17\", \"2009-12-01\", \"2010-01-15\", \"2010-03-02\", \"2010-04-16\", \"2010-05-28\", \"2010-07-09\", \"2010-08-20\", \"2010-10-04\", \"2010-11-15\", \"2010-12-29\", \"2011-02-10\", \"2011-03-25\", \"2011-05-10\", \"2011-06-21\", \"2011-08-02\", \"2011-09-15\", \"2011-10-28\", \"2011-12-14\", \"2012-01-24\", \"2012-03-07\", \"2012-04-23\", \"2012-06-04\", \"2012-07-16\", \"2012-08-29\", \"2012-10-11\", \"2012-11-26\", \"2013-01-09\", \"2013-02-20\", \"2013-04-05\", \"2013-05-21\", \"2013-07-02\", \"2013-08-14\", \"2013-09-27\", \"2013-11-12\", \"2013-12-26\", \"2014-02-06\", \"2014-03-22\", \"2014-05-09\", \"2014-06-20\", \"2014-08-04\", \"2014-09-17\", \"2014-11-07\", \"2014-12-19\", \"2015-02-03\", \"2015-03-18\", \"2015-05-05\", \"2015-06-16\", \"2015-07-28\", \"2015-09-08\", \"2015-10-26\", \"2015-12-09\", \"2016-01-21\", \"2016-03-04\", \"2016-04-25\", \"2016-06-06\", \"2016-07-19\", \"2016-08-31\", \"2016-10-18\", \"2016-11-30\", \"2017-01-11\", \"2017-02-23\", \"2017-04-11\", \"2017-05-25\", \"2017-07-07\", \"2017-08-21\", \"2017-10-04\", \"2017-11-16\", \"2017-12-29\", \"2018-02-12\", \"2018-03-28\", \"2018-05-14\", \"2018-06-25\", \"2018-08-06\", \"2018-09-21\", \"2018-11-06\", \"2018-12-20\", \"2019-02-01\", \"2019-03-18\", \"2019-05-06\", \"2019-06-18\", \"2019-07-30\", \"2019-09-16\", \"2019-10-31\", \"2019-12-13\", \"2020-01-27\", \"2020-03-09\", \"2020-04-27\", \"2020-06-10\", \"2020-07-22\", \"2020-09-02\", \"2020-10-15\", \"2020-11-26\", \"2021-01-11\", \"2021-02-23\", \"2021-04-09\", \"2021-05-26\"], \"xaxis\": \"x\", \"y\": [-0.003979920401592077, 0.005914972273567467, 0.002671999999999971, 0.01818181818181818, -0.026031250000000058, 0.047058823529411764, 0.014035087719298246, 0.0, -0.009375, 0.008333333333333333, 0.0, -0.0029517874713020664, 0.0, 0.005739514348785872, 0.013333333333333334, 0.0032371117472377296, -0.0002, -0.007894736842105263, 0.0070105820105820105, 0.0, -0.003401360544217687, 0.0, -0.010669908157752567, -0.0455, -0.04111111111111111, 0.024324324324324326, 0.012349397590361445, -0.00825634379833619, -0.06629811796268441, -0.015729847494553337, -0.02714587737843544, -0.05250793650793654, -0.0215853658536585, 0.0070714285714286364, -0.03579277864992143, -0.005, 0.006404230317273849, 0.0028504672897195836, 0.003025210084033537, -0.008899999999999977, -0.0165625, 0.0014814814814814814, 0.04728260869565221, -0.015462868769074309, 0.011552194917034237, -0.06756548536209557, -0.0006955177743431924, -0.005185185185185241, -0.1100510204081633, 0.008514285714285766, -0.010011376564277537, -0.024918211559432957, 0.01772222222222227, -0.014645335842842071, -0.021028571428571403, 0.007588628383735469, 0.0017582417582417832, -0.011727134704989197, -0.02170731707317077, -0.012569637883008324, -0.012551724137931066, 0.09137313432835818, 0.0050277777777777526, -0.025692434890450637, 0.021824488714378497, 0.058114478114478084, -0.09006557377049175, 0.004407713498622589, 0.11691419953444147, -0.012085743755325474, -0.0032089552238806197, 0.0033407988055243814, 0.015147058823529487, -0.027475409836065633, -0.008521897810218945, -0.004682632591916399, -0.009605809128630743, -0.03779032258064519, -0.03457547169811315, -0.007195121951219544, -0.025509090909090943, -0.0007189542483659536, -0.036449934980494175, 0.03436842105263151, -0.02408867192189181, 0.011293078894901764, 0.0009302445768034119, -0.014347826086956521, -0.008239355581127775, -0.016482762920017432, -0.006165413533834587, 0.004162303664921489, -0.004321148825065322, -0.04859309519058076, -0.004487019224442998, -0.0011700205213023593, 0.014918367346938726, 0.052531249999999925, 0.009620098039215687, 0.04718181818181826, 0.012056462056462103, 0.04096874999999997, 0.006883852691218182, -0.04763265306122442, 0.010289855072463768, 0.009381758939355661, -0.047714638665843113, -0.014808171836038282, 0.01827536231884063, 0.009432835820895494, -0.023497204100652463, 0.013875, 0.00858921161825726, -0.014249003646883139, 0.013580257667749687, -0.0058840169731259355, -0.002777402351669169, -0.009015309495956416, 0.0204116638078902, -0.012228186298723355, -0.020150334075723912, 0.0026047486033519045, 0.003078307830783144, 0.007414131089770399, 0.002481460353679355, -0.014580209895052473, -0.011440559440559467, 0.011561400605768392, 0.01589030803906837, -0.0041142857142857404, 0.0020027816411682386, 0.006039517048888961, 0.001404957940465465, 0.01034602059725398, -0.0013474183464482052, -0.04330999424515627, 0.007049624880112702, -0.0064232488822652395, 0.028839552238806025, 0.0035945761049664252, 0.0072578902545981155, 0.013125583878286448, -0.011220077220077163, -0.0018345070422534698, 0.04803967327887976, -0.005072419853342266, -0.028063076950516377, -0.02302243508948835, 0.006318496980541266, 0.005969910897553426, -0.0035464041611142157, 0.017802758579215757, 0.019938100667861215, -0.007784596501994499, 0.007238224420862296, 0.005604376562616072, -0.0034377687676619105, 0.0018194800729908474, 0.00625, -0.0025617589560007477, 0.03496315789473681, -0.010838407494145268, -0.004065807932661688, -0.021331651247547, -0.0018460192475941357, -0.0026788732394365787, -0.007092537313432792, 0.006662042255556519, -0.014666106854756297, 0.026597733147743063, -0.0019980000000000293, 0.03167656753384607, 0.03204509018036078, 0.014455940763987667, 0.01851260772422598, -0.014016612595460196, -0.005931201820740933, -0.011281745596009304, 0.017967883211678876, -0.01553694608089902, 0.023280627329990918, 0.007110987656464298, -0.00016923076923069136, -0.012001314060446818, -0.020293049627317285, -0.021271354204853814, -0.015699395770392793, 0.004359272727272685, -0.003472154459644946, -0.009728783751163834, 0.013310826967722202, 0.0011877921363761875, -0.003917392109649935, -0.005643907088747304, 0.007266104294478527, 0.017935509554140104, 0.00027528809218958344, -0.0233761398176292, -0.008265494137353386, -0.003026254102203492, -0.01802485134929105, 0.0030260229412771788, -0.009243220338983026, -0.015324025974025936, 0.0224027261462205, 0.0030345867280074847, -0.012305153823469066, -0.013311366463872267], \"yaxis\": \"y\"}],\n",
              "                        {\"legend\": {\"tracegroupgap\": 0}, \"template\": {\"data\": {\"bar\": [{\"error_x\": {\"color\": \"#2a3f5f\"}, \"error_y\": {\"color\": \"#2a3f5f\"}, \"marker\": {\"line\": {\"color\": \"#E5ECF6\", \"width\": 0.5}}, \"type\": \"bar\"}], \"barpolar\": [{\"marker\": {\"line\": {\"color\": \"#E5ECF6\", \"width\": 0.5}}, \"type\": \"barpolar\"}], \"carpet\": [{\"aaxis\": {\"endlinecolor\": \"#2a3f5f\", \"gridcolor\": \"white\", \"linecolor\": \"white\", \"minorgridcolor\": \"white\", \"startlinecolor\": \"#2a3f5f\"}, \"baxis\": {\"endlinecolor\": \"#2a3f5f\", \"gridcolor\": \"white\", \"linecolor\": \"white\", \"minorgridcolor\": \"white\", \"startlinecolor\": \"#2a3f5f\"}, \"type\": \"carpet\"}], \"choropleth\": [{\"colorbar\": {\"outlinewidth\": 0, \"ticks\": \"\"}, \"type\": \"choropleth\"}], \"contour\": [{\"colorbar\": {\"outlinewidth\": 0, \"ticks\": \"\"}, \"colorscale\": [[0.0, \"#0d0887\"], [0.1111111111111111, \"#46039f\"], [0.2222222222222222, \"#7201a8\"], [0.3333333333333333, \"#9c179e\"], [0.4444444444444444, \"#bd3786\"], [0.5555555555555556, \"#d8576b\"], [0.6666666666666666, \"#ed7953\"], [0.7777777777777778, \"#fb9f3a\"], [0.8888888888888888, \"#fdca26\"], [1.0, \"#f0f921\"]], \"type\": \"contour\"}], \"contourcarpet\": [{\"colorbar\": {\"outlinewidth\": 0, \"ticks\": \"\"}, \"type\": \"contourcarpet\"}], \"heatmap\": [{\"colorbar\": {\"outlinewidth\": 0, \"ticks\": \"\"}, \"colorscale\": [[0.0, \"#0d0887\"], [0.1111111111111111, \"#46039f\"], [0.2222222222222222, \"#7201a8\"], [0.3333333333333333, \"#9c179e\"], [0.4444444444444444, \"#bd3786\"], [0.5555555555555556, \"#d8576b\"], [0.6666666666666666, \"#ed7953\"], [0.7777777777777778, \"#fb9f3a\"], [0.8888888888888888, \"#fdca26\"], [1.0, \"#f0f921\"]], \"type\": \"heatmap\"}], \"heatmapgl\": [{\"colorbar\": {\"outlinewidth\": 0, \"ticks\": \"\"}, \"colorscale\": [[0.0, \"#0d0887\"], [0.1111111111111111, \"#46039f\"], [0.2222222222222222, \"#7201a8\"], [0.3333333333333333, \"#9c179e\"], [0.4444444444444444, \"#bd3786\"], [0.5555555555555556, \"#d8576b\"], [0.6666666666666666, \"#ed7953\"], [0.7777777777777778, \"#fb9f3a\"], [0.8888888888888888, \"#fdca26\"], [1.0, \"#f0f921\"]], \"type\": \"heatmapgl\"}], \"histogram\": [{\"marker\": {\"colorbar\": {\"outlinewidth\": 0, \"ticks\": \"\"}}, \"type\": \"histogram\"}], \"histogram2d\": [{\"colorbar\": {\"outlinewidth\": 0, \"ticks\": \"\"}, \"colorscale\": [[0.0, \"#0d0887\"], [0.1111111111111111, \"#46039f\"], [0.2222222222222222, \"#7201a8\"], [0.3333333333333333, \"#9c179e\"], [0.4444444444444444, \"#bd3786\"], [0.5555555555555556, \"#d8576b\"], [0.6666666666666666, \"#ed7953\"], [0.7777777777777778, \"#fb9f3a\"], [0.8888888888888888, \"#fdca26\"], [1.0, \"#f0f921\"]], \"type\": \"histogram2d\"}], \"histogram2dcontour\": [{\"colorbar\": {\"outlinewidth\": 0, \"ticks\": \"\"}, \"colorscale\": [[0.0, \"#0d0887\"], [0.1111111111111111, \"#46039f\"], [0.2222222222222222, \"#7201a8\"], [0.3333333333333333, \"#9c179e\"], [0.4444444444444444, \"#bd3786\"], [0.5555555555555556, \"#d8576b\"], [0.6666666666666666, \"#ed7953\"], [0.7777777777777778, \"#fb9f3a\"], [0.8888888888888888, \"#fdca26\"], [1.0, \"#f0f921\"]], \"type\": \"histogram2dcontour\"}], \"mesh3d\": [{\"colorbar\": {\"outlinewidth\": 0, \"ticks\": \"\"}, \"type\": \"mesh3d\"}], \"parcoords\": [{\"line\": {\"colorbar\": {\"outlinewidth\": 0, \"ticks\": \"\"}}, \"type\": \"parcoords\"}], \"pie\": [{\"automargin\": true, \"type\": \"pie\"}], \"scatter\": [{\"marker\": {\"colorbar\": {\"outlinewidth\": 0, \"ticks\": \"\"}}, \"type\": \"scatter\"}], \"scatter3d\": [{\"line\": {\"colorbar\": {\"outlinewidth\": 0, \"ticks\": \"\"}}, \"marker\": {\"colorbar\": {\"outlinewidth\": 0, \"ticks\": \"\"}}, \"type\": \"scatter3d\"}], \"scattercarpet\": [{\"marker\": {\"colorbar\": {\"outlinewidth\": 0, \"ticks\": \"\"}}, \"type\": \"scattercarpet\"}], \"scattergeo\": [{\"marker\": {\"colorbar\": {\"outlinewidth\": 0, \"ticks\": \"\"}}, \"type\": \"scattergeo\"}], \"scattergl\": [{\"marker\": {\"colorbar\": {\"outlinewidth\": 0, \"ticks\": \"\"}}, \"type\": \"scattergl\"}], \"scattermapbox\": [{\"marker\": {\"colorbar\": {\"outlinewidth\": 0, \"ticks\": \"\"}}, \"type\": \"scattermapbox\"}], \"scatterpolar\": [{\"marker\": {\"colorbar\": {\"outlinewidth\": 0, \"ticks\": \"\"}}, \"type\": \"scatterpolar\"}], \"scatterpolargl\": [{\"marker\": {\"colorbar\": {\"outlinewidth\": 0, \"ticks\": \"\"}}, \"type\": \"scatterpolargl\"}], \"scatterternary\": [{\"marker\": {\"colorbar\": {\"outlinewidth\": 0, \"ticks\": \"\"}}, \"type\": \"scatterternary\"}], \"surface\": [{\"colorbar\": {\"outlinewidth\": 0, \"ticks\": \"\"}, \"colorscale\": [[0.0, \"#0d0887\"], [0.1111111111111111, \"#46039f\"], [0.2222222222222222, \"#7201a8\"], [0.3333333333333333, \"#9c179e\"], [0.4444444444444444, \"#bd3786\"], [0.5555555555555556, \"#d8576b\"], [0.6666666666666666, \"#ed7953\"], [0.7777777777777778, \"#fb9f3a\"], [0.8888888888888888, \"#fdca26\"], [1.0, \"#f0f921\"]], \"type\": \"surface\"}], \"table\": [{\"cells\": {\"fill\": {\"color\": \"#EBF0F8\"}, \"line\": {\"color\": \"white\"}}, \"header\": {\"fill\": {\"color\": \"#C8D4E3\"}, \"line\": {\"color\": \"white\"}}, \"type\": \"table\"}]}, \"layout\": {\"annotationdefaults\": {\"arrowcolor\": \"#2a3f5f\", \"arrowhead\": 0, \"arrowwidth\": 1}, \"coloraxis\": {\"colorbar\": {\"outlinewidth\": 0, \"ticks\": \"\"}}, \"colorscale\": {\"diverging\": [[0, \"#8e0152\"], [0.1, \"#c51b7d\"], [0.2, \"#de77ae\"], [0.3, \"#f1b6da\"], [0.4, \"#fde0ef\"], [0.5, \"#f7f7f7\"], [0.6, \"#e6f5d0\"], [0.7, \"#b8e186\"], [0.8, \"#7fbc41\"], [0.9, \"#4d9221\"], [1, \"#276419\"]], \"sequential\": [[0.0, \"#0d0887\"], [0.1111111111111111, \"#46039f\"], [0.2222222222222222, \"#7201a8\"], [0.3333333333333333, \"#9c179e\"], [0.4444444444444444, \"#bd3786\"], [0.5555555555555556, \"#d8576b\"], [0.6666666666666666, \"#ed7953\"], [0.7777777777777778, \"#fb9f3a\"], [0.8888888888888888, \"#fdca26\"], [1.0, \"#f0f921\"]], \"sequentialminus\": [[0.0, \"#0d0887\"], [0.1111111111111111, \"#46039f\"], [0.2222222222222222, \"#7201a8\"], [0.3333333333333333, \"#9c179e\"], [0.4444444444444444, \"#bd3786\"], [0.5555555555555556, \"#d8576b\"], [0.6666666666666666, \"#ed7953\"], [0.7777777777777778, \"#fb9f3a\"], [0.8888888888888888, \"#fdca26\"], [1.0, \"#f0f921\"]]}, \"colorway\": [\"#636efa\", \"#EF553B\", \"#00cc96\", \"#ab63fa\", \"#FFA15A\", \"#19d3f3\", \"#FF6692\", \"#B6E880\", \"#FF97FF\", \"#FECB52\"], \"font\": {\"color\": \"#2a3f5f\"}, \"geo\": {\"bgcolor\": \"white\", \"lakecolor\": \"white\", \"landcolor\": \"#E5ECF6\", \"showlakes\": true, \"showland\": true, \"subunitcolor\": \"white\"}, \"hoverlabel\": {\"align\": \"left\"}, \"hovermode\": \"closest\", \"mapbox\": {\"style\": \"light\"}, \"paper_bgcolor\": \"white\", \"plot_bgcolor\": \"#E5ECF6\", \"polar\": {\"angularaxis\": {\"gridcolor\": \"white\", \"linecolor\": \"white\", \"ticks\": \"\"}, \"bgcolor\": \"#E5ECF6\", \"radialaxis\": {\"gridcolor\": \"white\", \"linecolor\": \"white\", \"ticks\": \"\"}}, \"scene\": {\"xaxis\": {\"backgroundcolor\": \"#E5ECF6\", \"gridcolor\": \"white\", \"gridwidth\": 2, \"linecolor\": \"white\", \"showbackground\": true, \"ticks\": \"\", \"zerolinecolor\": \"white\"}, \"yaxis\": {\"backgroundcolor\": \"#E5ECF6\", \"gridcolor\": \"white\", \"gridwidth\": 2, \"linecolor\": \"white\", \"showbackground\": true, \"ticks\": \"\", \"zerolinecolor\": \"white\"}, \"zaxis\": {\"backgroundcolor\": \"#E5ECF6\", \"gridcolor\": \"white\", \"gridwidth\": 2, \"linecolor\": \"white\", \"showbackground\": true, \"ticks\": \"\", \"zerolinecolor\": \"white\"}}, \"shapedefaults\": {\"line\": {\"color\": \"#2a3f5f\"}}, \"ternary\": {\"aaxis\": {\"gridcolor\": \"white\", \"linecolor\": \"white\", \"ticks\": \"\"}, \"baxis\": {\"gridcolor\": \"white\", \"linecolor\": \"white\", \"ticks\": \"\"}, \"bgcolor\": \"#E5ECF6\", \"caxis\": {\"gridcolor\": \"white\", \"linecolor\": \"white\", \"ticks\": \"\"}}, \"title\": {\"x\": 0.05}, \"xaxis\": {\"automargin\": true, \"gridcolor\": \"white\", \"linecolor\": \"white\", \"ticks\": \"\", \"title\": {\"standoff\": 15}, \"zerolinecolor\": \"white\", \"zerolinewidth\": 2}, \"yaxis\": {\"automargin\": true, \"gridcolor\": \"white\", \"linecolor\": \"white\", \"ticks\": \"\", \"title\": {\"standoff\": 15}, \"zerolinecolor\": \"white\", \"zerolinewidth\": 2}}}, \"title\": {\"text\": \"Daily Return\"}, \"xaxis\": {\"anchor\": \"y\", \"domain\": [0.0, 1.0], \"title\": {\"text\": \"Date\"}}, \"yaxis\": {\"anchor\": \"x\", \"domain\": [0.0, 1.0], \"title\": {\"text\": \"Daily_Return\"}}},\n",
              "                        {\"responsive\": true}\n",
              "                    ).then(function(){\n",
              "                            \n",
              "var gd = document.getElementById('9cb6606a-ab6d-43a1-aabb-cf9a48c1204d');\n",
              "var x = new MutationObserver(function (mutations, observer) {{\n",
              "        var display = window.getComputedStyle(gd).display;\n",
              "        if (!display || display === 'none') {{\n",
              "            console.log([gd, 'removed!']);\n",
              "            Plotly.purge(gd);\n",
              "            observer.disconnect();\n",
              "        }}\n",
              "}});\n",
              "\n",
              "// Listen for the removal of the full notebook cells\n",
              "var notebookContainer = gd.closest('#notebook-container');\n",
              "if (notebookContainer) {{\n",
              "    x.observe(notebookContainer, {childList: true});\n",
              "}}\n",
              "\n",
              "// Listen for the clearing of the current output cell\n",
              "var outputEl = gd.closest('.output');\n",
              "if (outputEl) {{\n",
              "    x.observe(outputEl, {childList: true});\n",
              "}}\n",
              "\n",
              "                        })\n",
              "                };\n",
              "                \n",
              "            </script>\n",
              "        </div>\n",
              "</body>\n",
              "</html>"
            ]
          },
          "metadata": {}
        }
      ]
    },
    {
      "cell_type": "markdown",
      "metadata": {
        "id": "YRE7hGSORgO9"
      },
      "source": [
        "## Problem 6. A user wants to know the top 5 stocks to invest for a minimum 10% return on holding a stock for a quarter (Jan-Mar), (Apr-June), (July-Sep), (Oct-Dec)"
      ]
    },
    {
      "cell_type": "code",
      "metadata": {
        "colab": {
          "base_uri": "https://localhost:8080/",
          "height": 1000
        },
        "id": "U8d3x2CsRgh7",
        "outputId": "9ec60cc0-28d6-40c5-9628-3f049e512498"
      },
      "source": [
        "\n",
        "\n",
        "def problemEight(stock_data,year):\n",
        "  dataFormatted = stock_data.where(col(\"Date\")[0:4]==year).withColumn(\"Date\", col(\"Date\").cast(\"Date\"))\n",
        "  valid_data = dataFormatted.where(col(\"Open\").isNotNull() & col(\"Close\").isNotNull() & col(\"Date\").isNotNull())\n",
        "  quarter_division = valid_data.withColumn(\"quarter\", when((F.month(col(\"Date\")).cast(\"int\") == 1) | (F.month(col(\"Date\")).cast(\"int\") == 2) | (F.month(col(\"Date\")).cast(\"int\") == 3),1)\n",
        "                                 .when((F.month(col(\"Date\")).cast(\"int\") == 4) | (F.month(col(\"Date\")).cast(\"int\") == 5) | (F.month(col(\"Date\")).cast(\"int\") == 6),2)\n",
        "                                 .when((F.month(col(\"Date\")).cast(\"int\") == 7) | (F.month(col(\"Date\")).cast(\"int\") == 8) | (F.month(col(\"Date\")).cast(\"int\") == 9),3)\n",
        "                                 .when((F.month(col(\"Date\")).cast(\"int\") == 10) | (F.month(col(\"Date\")).cast(\"int\") == 11) | (F.month(col(\"Date\")).cast(\"int\") == 12),4)\n",
        "                                 .otherwise(1)).sort(\"quarter\",\"Date\").withColumn(\"Division\",F.concat(col(\"Symbol\"),col(\"quarter\"))).cache()\n",
        "  w = Window.partitionBy(quarter_division[\"Division\"]).orderBy(quarter_division['Date'].desc())\n",
        "  dfTop = quarter_division.withColumn(\"rn\", F.row_number().over(w)).where(col(\"rn\") == 1).drop(\"rn\").withColumn(\"LastDate\",col(\"Date\")).withColumn(\"LastClose\",col(\"Close\"))\n",
        "\n",
        "  w2 = Window.partitionBy(quarter_division[\"Division\"]).orderBy(quarter_division['Date'])\n",
        "  dfTop2 = quarter_division.withColumn(\"rn\", F.row_number().over(w2)).where(col(\"rn\") == 1).drop(\"rn\").withColumn(\"FirstDate\",col(\"Date\")).withColumn(\"FirstOpen\",col(\"Open\"))\n",
        "\n",
        "  finalJoin = dfTop.join(dfTop2,\"Division\").select(dfTop.Symbol,dfTop.quarter,\"LastDate\",\"FirstDate\",\"FirstOpen\",\"LastClose\").cache()\n",
        "\n",
        "\n",
        "  quarterlyReturn = finalJoin.withColumn(\"return\",(col(\"LastClose\") - col(\"FirstOpen\"))*100/col(\"FirstOpen\"))\n",
        "  filteredData = quarterlyReturn.select(\"Symbol\",\"return\",\"quarter\").groupBy(\"Symbol\",\"quarter\").avg(\"return\")\n",
        "  answerList = filteredData.where(col(\"avg(return)\")>=10).sort(\"quarter\",\"avg(return)\",ascending=False).cache()\n",
        "\n",
        "  window = Window.partitionBy(answerList['quarter']).orderBy(answerList['avg(return)'].desc())\n",
        "\n",
        "  answer = answerList.select('*', rank().over(window).alias('rank')).filter(col('rank') <= 10).sort(\"quarter\",\"avg(return)\",ascending=False)\n",
        "  return answer\n",
        "\n",
        "problemEight(stock_df,2012)\n",
        "\n",
        "def ValuesQuarter(quarter):\n",
        "  data = problemEight(stock_df,2012)\n",
        "  answer = data.where(col(\"quarter\") == quarter).collect()\n",
        "  #answer = data.collect()\n",
        "  return answer\n",
        "data1 = ValuesQuarter(1)\n",
        "data2 = ValuesQuarter(2)\n",
        "data3 = ValuesQuarter(3)\n",
        "data4 = ValuesQuarter(4)\n",
        "\n",
        "\n",
        "import plotly\n",
        "import plotly.express as px\n",
        "import plotly.graph_objects as go\n",
        "\n",
        "\n",
        "\n",
        "x=[]\n",
        "y=[]\n",
        "for d in data1:\n",
        "    x.append(d['Symbol'])\n",
        "    y.append(d['avg(return)'])\n",
        "\n",
        "df1 = pd.DataFrame(dict(\n",
        "    {'Symbol' : x,\n",
        "    'Quarterly_Return' : y}\n",
        "))\n",
        "fig = px.bar(df1, x='Symbol', y='Quarterly_Return', title=\"1st quarter (Jan-Mar)\",width=800, height=600)\n",
        "fig.show()\n",
        "\n",
        "\n",
        "x=[]\n",
        "y=[]\n",
        "for d in data2:\n",
        "    x.append(d['Symbol'])\n",
        "    y.append(d['avg(return)'])\n",
        "df2 = pd.DataFrame(dict(\n",
        "    {'Symbol' : x,\n",
        "    'Quarterly_Return' : y}\n",
        "))\n",
        "fig = px.bar(df2, x='Symbol', y='Quarterly_Return', title=\"2nd quarter (Apr-Jun)\",width=800, height=600)\n",
        "fig.show()\n",
        "\n",
        "x=[]\n",
        "y=[]\n",
        "for d in data3:\n",
        "    x.append(d['Symbol'])\n",
        "    y.append(d['avg(return)'])\n",
        "df3 = pd.DataFrame(dict(\n",
        "    {'Symbol' : x,\n",
        "    'Quarterly_Return' : y}\n",
        "))\n",
        "fig = px.bar(df3, x='Symbol', y='Quarterly_Return', title=\"3rd quarter (Jul-Sept)\",width=800, height=600)\n",
        "fig.show()\n",
        "\n",
        "x=[]\n",
        "y=[]\n",
        "for d in data4:\n",
        "    x.append(d['Symbol'])\n",
        "    y.append(d['avg(return)'])\n",
        "df4 = pd.DataFrame(dict(\n",
        "    {'Symbol' : x,\n",
        "    'Quarterly_Return' : y}\n",
        "))\n",
        "fig = px.bar(df4, x='Symbol', y='Quarterly_Return', title=\"4th quarter (Oct-Dec)\",width=800, height=600)\n",
        "fig.show()"
      ],
      "execution_count": 17,
      "outputs": [
        {
          "output_type": "display_data",
          "data": {
            "text/html": [
              "<html>\n",
              "<head><meta charset=\"utf-8\" /></head>\n",
              "<body>\n",
              "    <div>\n",
              "            <script src=\"https://cdnjs.cloudflare.com/ajax/libs/mathjax/2.7.5/MathJax.js?config=TeX-AMS-MML_SVG\"></script><script type=\"text/javascript\">if (window.MathJax) {MathJax.Hub.Config({SVG: {font: \"STIX-Web\"}});}</script>\n",
              "                <script type=\"text/javascript\">window.PlotlyConfig = {MathJaxConfig: 'local'};</script>\n",
              "        <script src=\"https://cdn.plot.ly/plotly-latest.min.js\"></script>    \n",
              "            <div id=\"bc646bb3-7732-40a2-9b13-2fefc32e7396\" class=\"plotly-graph-div\" style=\"height:600px; width:800px;\"></div>\n",
              "            <script type=\"text/javascript\">\n",
              "                \n",
              "                    window.PLOTLYENV=window.PLOTLYENV || {};\n",
              "                    \n",
              "                if (document.getElementById(\"bc646bb3-7732-40a2-9b13-2fefc32e7396\")) {\n",
              "                    Plotly.newPlot(\n",
              "                        'bc646bb3-7732-40a2-9b13-2fefc32e7396',\n",
              "                        [{\"alignmentgroup\": \"True\", \"hoverlabel\": {\"namelength\": 0}, \"hovertemplate\": \"Symbol=%{x}<br>Quarterly_Return=%{y}\", \"legendgroup\": \"\", \"marker\": {\"color\": \"#636efa\"}, \"name\": \"\", \"offsetgroup\": \"\", \"orientation\": \"v\", \"showlegend\": false, \"textposition\": \"auto\", \"type\": \"bar\", \"x\": [\"SANWARIA\", \"GOENKA\", \"JINDALSWHL\", \"IBWSL\", \"SANGHVIFOR\", \"DEN\", \"WOCKPHARMA\", \"WHEELS\", \"AKSHOPTFBR\", \"INVENTURE\"], \"xaxis\": \"x\", \"y\": [185.5, 152.3274478330658, 124.90931076178961, 123.45679012345683, 121.2860310421286, 118.24742268041236, 114.80086114101185, 114.70260223048325, 107.19424460431654, 97.34899328859062], \"yaxis\": \"y\"}],\n",
              "                        {\"barmode\": \"relative\", \"height\": 600, \"legend\": {\"tracegroupgap\": 0}, \"template\": {\"data\": {\"bar\": [{\"error_x\": {\"color\": \"#2a3f5f\"}, \"error_y\": {\"color\": \"#2a3f5f\"}, \"marker\": {\"line\": {\"color\": \"#E5ECF6\", \"width\": 0.5}}, \"type\": \"bar\"}], \"barpolar\": [{\"marker\": {\"line\": {\"color\": \"#E5ECF6\", \"width\": 0.5}}, \"type\": \"barpolar\"}], \"carpet\": [{\"aaxis\": {\"endlinecolor\": \"#2a3f5f\", \"gridcolor\": \"white\", \"linecolor\": \"white\", \"minorgridcolor\": \"white\", \"startlinecolor\": \"#2a3f5f\"}, \"baxis\": {\"endlinecolor\": \"#2a3f5f\", \"gridcolor\": \"white\", \"linecolor\": \"white\", \"minorgridcolor\": \"white\", \"startlinecolor\": \"#2a3f5f\"}, \"type\": \"carpet\"}], \"choropleth\": [{\"colorbar\": {\"outlinewidth\": 0, \"ticks\": \"\"}, \"type\": \"choropleth\"}], \"contour\": [{\"colorbar\": {\"outlinewidth\": 0, \"ticks\": \"\"}, \"colorscale\": [[0.0, \"#0d0887\"], [0.1111111111111111, \"#46039f\"], [0.2222222222222222, \"#7201a8\"], [0.3333333333333333, \"#9c179e\"], [0.4444444444444444, \"#bd3786\"], [0.5555555555555556, \"#d8576b\"], [0.6666666666666666, \"#ed7953\"], [0.7777777777777778, \"#fb9f3a\"], [0.8888888888888888, \"#fdca26\"], [1.0, \"#f0f921\"]], \"type\": \"contour\"}], \"contourcarpet\": [{\"colorbar\": {\"outlinewidth\": 0, \"ticks\": \"\"}, \"type\": \"contourcarpet\"}], \"heatmap\": [{\"colorbar\": {\"outlinewidth\": 0, \"ticks\": \"\"}, \"colorscale\": [[0.0, \"#0d0887\"], [0.1111111111111111, \"#46039f\"], [0.2222222222222222, \"#7201a8\"], [0.3333333333333333, \"#9c179e\"], [0.4444444444444444, \"#bd3786\"], [0.5555555555555556, \"#d8576b\"], [0.6666666666666666, \"#ed7953\"], [0.7777777777777778, \"#fb9f3a\"], [0.8888888888888888, \"#fdca26\"], [1.0, \"#f0f921\"]], \"type\": \"heatmap\"}], \"heatmapgl\": [{\"colorbar\": {\"outlinewidth\": 0, \"ticks\": \"\"}, \"colorscale\": [[0.0, \"#0d0887\"], [0.1111111111111111, \"#46039f\"], [0.2222222222222222, \"#7201a8\"], [0.3333333333333333, \"#9c179e\"], [0.4444444444444444, \"#bd3786\"], [0.5555555555555556, \"#d8576b\"], [0.6666666666666666, \"#ed7953\"], [0.7777777777777778, \"#fb9f3a\"], [0.8888888888888888, \"#fdca26\"], [1.0, \"#f0f921\"]], \"type\": \"heatmapgl\"}], \"histogram\": [{\"marker\": {\"colorbar\": {\"outlinewidth\": 0, \"ticks\": \"\"}}, \"type\": \"histogram\"}], \"histogram2d\": [{\"colorbar\": {\"outlinewidth\": 0, \"ticks\": \"\"}, \"colorscale\": [[0.0, \"#0d0887\"], [0.1111111111111111, \"#46039f\"], [0.2222222222222222, \"#7201a8\"], [0.3333333333333333, \"#9c179e\"], [0.4444444444444444, \"#bd3786\"], [0.5555555555555556, \"#d8576b\"], [0.6666666666666666, \"#ed7953\"], [0.7777777777777778, \"#fb9f3a\"], [0.8888888888888888, \"#fdca26\"], [1.0, \"#f0f921\"]], \"type\": \"histogram2d\"}], \"histogram2dcontour\": [{\"colorbar\": {\"outlinewidth\": 0, \"ticks\": \"\"}, \"colorscale\": [[0.0, \"#0d0887\"], [0.1111111111111111, \"#46039f\"], [0.2222222222222222, \"#7201a8\"], [0.3333333333333333, \"#9c179e\"], [0.4444444444444444, \"#bd3786\"], [0.5555555555555556, \"#d8576b\"], [0.6666666666666666, \"#ed7953\"], [0.7777777777777778, \"#fb9f3a\"], [0.8888888888888888, \"#fdca26\"], [1.0, \"#f0f921\"]], \"type\": \"histogram2dcontour\"}], \"mesh3d\": [{\"colorbar\": {\"outlinewidth\": 0, \"ticks\": \"\"}, \"type\": \"mesh3d\"}], \"parcoords\": [{\"line\": {\"colorbar\": {\"outlinewidth\": 0, \"ticks\": \"\"}}, \"type\": \"parcoords\"}], \"pie\": [{\"automargin\": true, \"type\": \"pie\"}], \"scatter\": [{\"marker\": {\"colorbar\": {\"outlinewidth\": 0, \"ticks\": \"\"}}, \"type\": \"scatter\"}], \"scatter3d\": [{\"line\": {\"colorbar\": {\"outlinewidth\": 0, \"ticks\": \"\"}}, \"marker\": {\"colorbar\": {\"outlinewidth\": 0, \"ticks\": \"\"}}, \"type\": \"scatter3d\"}], \"scattercarpet\": [{\"marker\": {\"colorbar\": {\"outlinewidth\": 0, \"ticks\": \"\"}}, \"type\": \"scattercarpet\"}], \"scattergeo\": [{\"marker\": {\"colorbar\": {\"outlinewidth\": 0, \"ticks\": \"\"}}, \"type\": \"scattergeo\"}], \"scattergl\": [{\"marker\": {\"colorbar\": {\"outlinewidth\": 0, \"ticks\": \"\"}}, \"type\": \"scattergl\"}], \"scattermapbox\": [{\"marker\": {\"colorbar\": {\"outlinewidth\": 0, \"ticks\": \"\"}}, \"type\": \"scattermapbox\"}], \"scatterpolar\": [{\"marker\": {\"colorbar\": {\"outlinewidth\": 0, \"ticks\": \"\"}}, \"type\": \"scatterpolar\"}], \"scatterpolargl\": [{\"marker\": {\"colorbar\": {\"outlinewidth\": 0, \"ticks\": \"\"}}, \"type\": \"scatterpolargl\"}], \"scatterternary\": [{\"marker\": {\"colorbar\": {\"outlinewidth\": 0, \"ticks\": \"\"}}, \"type\": \"scatterternary\"}], \"surface\": [{\"colorbar\": {\"outlinewidth\": 0, \"ticks\": \"\"}, \"colorscale\": [[0.0, \"#0d0887\"], [0.1111111111111111, \"#46039f\"], [0.2222222222222222, \"#7201a8\"], [0.3333333333333333, \"#9c179e\"], [0.4444444444444444, \"#bd3786\"], [0.5555555555555556, \"#d8576b\"], [0.6666666666666666, \"#ed7953\"], [0.7777777777777778, \"#fb9f3a\"], [0.8888888888888888, \"#fdca26\"], [1.0, \"#f0f921\"]], \"type\": \"surface\"}], \"table\": [{\"cells\": {\"fill\": {\"color\": \"#EBF0F8\"}, \"line\": {\"color\": \"white\"}}, \"header\": {\"fill\": {\"color\": \"#C8D4E3\"}, \"line\": {\"color\": \"white\"}}, \"type\": \"table\"}]}, \"layout\": {\"annotationdefaults\": {\"arrowcolor\": \"#2a3f5f\", \"arrowhead\": 0, \"arrowwidth\": 1}, \"coloraxis\": {\"colorbar\": {\"outlinewidth\": 0, \"ticks\": \"\"}}, \"colorscale\": {\"diverging\": [[0, \"#8e0152\"], [0.1, \"#c51b7d\"], [0.2, \"#de77ae\"], [0.3, \"#f1b6da\"], [0.4, \"#fde0ef\"], [0.5, \"#f7f7f7\"], [0.6, \"#e6f5d0\"], [0.7, \"#b8e186\"], [0.8, \"#7fbc41\"], [0.9, \"#4d9221\"], [1, \"#276419\"]], \"sequential\": [[0.0, \"#0d0887\"], [0.1111111111111111, \"#46039f\"], [0.2222222222222222, \"#7201a8\"], [0.3333333333333333, \"#9c179e\"], [0.4444444444444444, \"#bd3786\"], [0.5555555555555556, \"#d8576b\"], [0.6666666666666666, \"#ed7953\"], [0.7777777777777778, \"#fb9f3a\"], [0.8888888888888888, \"#fdca26\"], [1.0, \"#f0f921\"]], \"sequentialminus\": [[0.0, \"#0d0887\"], [0.1111111111111111, \"#46039f\"], [0.2222222222222222, \"#7201a8\"], [0.3333333333333333, \"#9c179e\"], [0.4444444444444444, \"#bd3786\"], [0.5555555555555556, \"#d8576b\"], [0.6666666666666666, \"#ed7953\"], [0.7777777777777778, \"#fb9f3a\"], [0.8888888888888888, \"#fdca26\"], [1.0, \"#f0f921\"]]}, \"colorway\": [\"#636efa\", \"#EF553B\", \"#00cc96\", \"#ab63fa\", \"#FFA15A\", \"#19d3f3\", \"#FF6692\", \"#B6E880\", \"#FF97FF\", \"#FECB52\"], \"font\": {\"color\": \"#2a3f5f\"}, \"geo\": {\"bgcolor\": \"white\", \"lakecolor\": \"white\", \"landcolor\": \"#E5ECF6\", \"showlakes\": true, \"showland\": true, \"subunitcolor\": \"white\"}, \"hoverlabel\": {\"align\": \"left\"}, \"hovermode\": \"closest\", \"mapbox\": {\"style\": \"light\"}, \"paper_bgcolor\": \"white\", \"plot_bgcolor\": \"#E5ECF6\", \"polar\": {\"angularaxis\": {\"gridcolor\": \"white\", \"linecolor\": \"white\", \"ticks\": \"\"}, \"bgcolor\": \"#E5ECF6\", \"radialaxis\": {\"gridcolor\": \"white\", \"linecolor\": \"white\", \"ticks\": \"\"}}, \"scene\": {\"xaxis\": {\"backgroundcolor\": \"#E5ECF6\", \"gridcolor\": \"white\", \"gridwidth\": 2, \"linecolor\": \"white\", \"showbackground\": true, \"ticks\": \"\", \"zerolinecolor\": \"white\"}, \"yaxis\": {\"backgroundcolor\": \"#E5ECF6\", \"gridcolor\": \"white\", \"gridwidth\": 2, \"linecolor\": \"white\", \"showbackground\": true, \"ticks\": \"\", \"zerolinecolor\": \"white\"}, \"zaxis\": {\"backgroundcolor\": \"#E5ECF6\", \"gridcolor\": \"white\", \"gridwidth\": 2, \"linecolor\": \"white\", \"showbackground\": true, \"ticks\": \"\", \"zerolinecolor\": \"white\"}}, \"shapedefaults\": {\"line\": {\"color\": \"#2a3f5f\"}}, \"ternary\": {\"aaxis\": {\"gridcolor\": \"white\", \"linecolor\": \"white\", \"ticks\": \"\"}, \"baxis\": {\"gridcolor\": \"white\", \"linecolor\": \"white\", \"ticks\": \"\"}, \"bgcolor\": \"#E5ECF6\", \"caxis\": {\"gridcolor\": \"white\", \"linecolor\": \"white\", \"ticks\": \"\"}}, \"title\": {\"x\": 0.05}, \"xaxis\": {\"automargin\": true, \"gridcolor\": \"white\", \"linecolor\": \"white\", \"ticks\": \"\", \"title\": {\"standoff\": 15}, \"zerolinecolor\": \"white\", \"zerolinewidth\": 2}, \"yaxis\": {\"automargin\": true, \"gridcolor\": \"white\", \"linecolor\": \"white\", \"ticks\": \"\", \"title\": {\"standoff\": 15}, \"zerolinecolor\": \"white\", \"zerolinewidth\": 2}}}, \"title\": {\"text\": \"1st quarter (Jan-Mar)\"}, \"width\": 800, \"xaxis\": {\"anchor\": \"y\", \"domain\": [0.0, 1.0], \"title\": {\"text\": \"Symbol\"}}, \"yaxis\": {\"anchor\": \"x\", \"domain\": [0.0, 1.0], \"title\": {\"text\": \"Quarterly_Return\"}}},\n",
              "                        {\"responsive\": true}\n",
              "                    ).then(function(){\n",
              "                            \n",
              "var gd = document.getElementById('bc646bb3-7732-40a2-9b13-2fefc32e7396');\n",
              "var x = new MutationObserver(function (mutations, observer) {{\n",
              "        var display = window.getComputedStyle(gd).display;\n",
              "        if (!display || display === 'none') {{\n",
              "            console.log([gd, 'removed!']);\n",
              "            Plotly.purge(gd);\n",
              "            observer.disconnect();\n",
              "        }}\n",
              "}});\n",
              "\n",
              "// Listen for the removal of the full notebook cells\n",
              "var notebookContainer = gd.closest('#notebook-container');\n",
              "if (notebookContainer) {{\n",
              "    x.observe(notebookContainer, {childList: true});\n",
              "}}\n",
              "\n",
              "// Listen for the clearing of the current output cell\n",
              "var outputEl = gd.closest('.output');\n",
              "if (outputEl) {{\n",
              "    x.observe(outputEl, {childList: true});\n",
              "}}\n",
              "\n",
              "                        })\n",
              "                };\n",
              "                \n",
              "            </script>\n",
              "        </div>\n",
              "</body>\n",
              "</html>"
            ]
          },
          "metadata": {}
        },
        {
          "output_type": "display_data",
          "data": {
            "text/html": [
              "<html>\n",
              "<head><meta charset=\"utf-8\" /></head>\n",
              "<body>\n",
              "    <div>\n",
              "            <script src=\"https://cdnjs.cloudflare.com/ajax/libs/mathjax/2.7.5/MathJax.js?config=TeX-AMS-MML_SVG\"></script><script type=\"text/javascript\">if (window.MathJax) {MathJax.Hub.Config({SVG: {font: \"STIX-Web\"}});}</script>\n",
              "                <script type=\"text/javascript\">window.PlotlyConfig = {MathJaxConfig: 'local'};</script>\n",
              "        <script src=\"https://cdn.plot.ly/plotly-latest.min.js\"></script>    \n",
              "            <div id=\"1f560d0d-197d-4f90-81a6-d0b7347aeda9\" class=\"plotly-graph-div\" style=\"height:600px; width:800px;\"></div>\n",
              "            <script type=\"text/javascript\">\n",
              "                \n",
              "                    window.PLOTLYENV=window.PLOTLYENV || {};\n",
              "                    \n",
              "                if (document.getElementById(\"1f560d0d-197d-4f90-81a6-d0b7347aeda9\")) {\n",
              "                    Plotly.newPlot(\n",
              "                        '1f560d0d-197d-4f90-81a6-d0b7347aeda9',\n",
              "                        [{\"alignmentgroup\": \"True\", \"hoverlabel\": {\"namelength\": 0}, \"hovertemplate\": \"Symbol=%{x}<br>Quarterly_Return=%{y}\", \"legendgroup\": \"\", \"marker\": {\"color\": \"#636efa\"}, \"name\": \"\", \"offsetgroup\": \"\", \"orientation\": \"v\", \"showlegend\": false, \"textposition\": \"auto\", \"type\": \"bar\", \"x\": [\"SAMBHAAV\", \"GOENKA\", \"MBSWITCH\", \"THINKSOFT\", \"CCL\", \"RELAXO\", \"NUCENT\", \"ZEELEARN\", \"KAUSHALYA\", \"DCW\"], \"xaxis\": \"x\", \"y\": [158.8235294117647, 128.01751094434022, 84.08602150537635, 77.33485193621867, 72.48148148148148, 71.95286195286195, 71.42857142857143, 66.22950819672131, 65.94202898550722, 62.376237623762364], \"yaxis\": \"y\"}],\n",
              "                        {\"barmode\": \"relative\", \"height\": 600, \"legend\": {\"tracegroupgap\": 0}, \"template\": {\"data\": {\"bar\": [{\"error_x\": {\"color\": \"#2a3f5f\"}, \"error_y\": {\"color\": \"#2a3f5f\"}, \"marker\": {\"line\": {\"color\": \"#E5ECF6\", \"width\": 0.5}}, \"type\": \"bar\"}], \"barpolar\": [{\"marker\": {\"line\": {\"color\": \"#E5ECF6\", \"width\": 0.5}}, \"type\": \"barpolar\"}], \"carpet\": [{\"aaxis\": {\"endlinecolor\": \"#2a3f5f\", \"gridcolor\": \"white\", \"linecolor\": \"white\", \"minorgridcolor\": \"white\", \"startlinecolor\": \"#2a3f5f\"}, \"baxis\": {\"endlinecolor\": \"#2a3f5f\", \"gridcolor\": \"white\", \"linecolor\": \"white\", \"minorgridcolor\": \"white\", \"startlinecolor\": \"#2a3f5f\"}, \"type\": \"carpet\"}], \"choropleth\": [{\"colorbar\": {\"outlinewidth\": 0, \"ticks\": \"\"}, \"type\": \"choropleth\"}], \"contour\": [{\"colorbar\": {\"outlinewidth\": 0, \"ticks\": \"\"}, \"colorscale\": [[0.0, \"#0d0887\"], [0.1111111111111111, \"#46039f\"], [0.2222222222222222, \"#7201a8\"], [0.3333333333333333, \"#9c179e\"], [0.4444444444444444, \"#bd3786\"], [0.5555555555555556, \"#d8576b\"], [0.6666666666666666, \"#ed7953\"], [0.7777777777777778, \"#fb9f3a\"], [0.8888888888888888, \"#fdca26\"], [1.0, \"#f0f921\"]], \"type\": \"contour\"}], \"contourcarpet\": [{\"colorbar\": {\"outlinewidth\": 0, \"ticks\": \"\"}, \"type\": \"contourcarpet\"}], \"heatmap\": [{\"colorbar\": {\"outlinewidth\": 0, \"ticks\": \"\"}, \"colorscale\": [[0.0, \"#0d0887\"], [0.1111111111111111, \"#46039f\"], [0.2222222222222222, \"#7201a8\"], [0.3333333333333333, \"#9c179e\"], [0.4444444444444444, \"#bd3786\"], [0.5555555555555556, \"#d8576b\"], [0.6666666666666666, \"#ed7953\"], [0.7777777777777778, \"#fb9f3a\"], [0.8888888888888888, \"#fdca26\"], [1.0, \"#f0f921\"]], \"type\": \"heatmap\"}], \"heatmapgl\": [{\"colorbar\": {\"outlinewidth\": 0, \"ticks\": \"\"}, \"colorscale\": [[0.0, \"#0d0887\"], [0.1111111111111111, \"#46039f\"], [0.2222222222222222, \"#7201a8\"], [0.3333333333333333, \"#9c179e\"], [0.4444444444444444, \"#bd3786\"], [0.5555555555555556, \"#d8576b\"], [0.6666666666666666, \"#ed7953\"], [0.7777777777777778, \"#fb9f3a\"], [0.8888888888888888, \"#fdca26\"], [1.0, \"#f0f921\"]], \"type\": \"heatmapgl\"}], \"histogram\": [{\"marker\": {\"colorbar\": {\"outlinewidth\": 0, \"ticks\": \"\"}}, \"type\": \"histogram\"}], \"histogram2d\": [{\"colorbar\": {\"outlinewidth\": 0, \"ticks\": \"\"}, \"colorscale\": [[0.0, \"#0d0887\"], [0.1111111111111111, \"#46039f\"], [0.2222222222222222, \"#7201a8\"], [0.3333333333333333, \"#9c179e\"], [0.4444444444444444, \"#bd3786\"], [0.5555555555555556, \"#d8576b\"], [0.6666666666666666, \"#ed7953\"], [0.7777777777777778, \"#fb9f3a\"], [0.8888888888888888, \"#fdca26\"], [1.0, \"#f0f921\"]], \"type\": \"histogram2d\"}], \"histogram2dcontour\": [{\"colorbar\": {\"outlinewidth\": 0, \"ticks\": \"\"}, \"colorscale\": [[0.0, \"#0d0887\"], [0.1111111111111111, \"#46039f\"], [0.2222222222222222, \"#7201a8\"], [0.3333333333333333, \"#9c179e\"], [0.4444444444444444, \"#bd3786\"], [0.5555555555555556, \"#d8576b\"], [0.6666666666666666, \"#ed7953\"], [0.7777777777777778, \"#fb9f3a\"], [0.8888888888888888, \"#fdca26\"], [1.0, \"#f0f921\"]], \"type\": \"histogram2dcontour\"}], \"mesh3d\": [{\"colorbar\": {\"outlinewidth\": 0, \"ticks\": \"\"}, \"type\": \"mesh3d\"}], \"parcoords\": [{\"line\": {\"colorbar\": {\"outlinewidth\": 0, \"ticks\": \"\"}}, \"type\": \"parcoords\"}], \"pie\": [{\"automargin\": true, \"type\": \"pie\"}], \"scatter\": [{\"marker\": {\"colorbar\": {\"outlinewidth\": 0, \"ticks\": \"\"}}, \"type\": \"scatter\"}], \"scatter3d\": [{\"line\": {\"colorbar\": {\"outlinewidth\": 0, \"ticks\": \"\"}}, \"marker\": {\"colorbar\": {\"outlinewidth\": 0, \"ticks\": \"\"}}, \"type\": \"scatter3d\"}], \"scattercarpet\": [{\"marker\": {\"colorbar\": {\"outlinewidth\": 0, \"ticks\": \"\"}}, \"type\": \"scattercarpet\"}], \"scattergeo\": [{\"marker\": {\"colorbar\": {\"outlinewidth\": 0, \"ticks\": \"\"}}, \"type\": \"scattergeo\"}], \"scattergl\": [{\"marker\": {\"colorbar\": {\"outlinewidth\": 0, \"ticks\": \"\"}}, \"type\": \"scattergl\"}], \"scattermapbox\": [{\"marker\": {\"colorbar\": {\"outlinewidth\": 0, \"ticks\": \"\"}}, \"type\": \"scattermapbox\"}], \"scatterpolar\": [{\"marker\": {\"colorbar\": {\"outlinewidth\": 0, \"ticks\": \"\"}}, \"type\": \"scatterpolar\"}], \"scatterpolargl\": [{\"marker\": {\"colorbar\": {\"outlinewidth\": 0, \"ticks\": \"\"}}, \"type\": \"scatterpolargl\"}], \"scatterternary\": [{\"marker\": {\"colorbar\": {\"outlinewidth\": 0, \"ticks\": \"\"}}, \"type\": \"scatterternary\"}], \"surface\": [{\"colorbar\": {\"outlinewidth\": 0, \"ticks\": \"\"}, \"colorscale\": [[0.0, \"#0d0887\"], [0.1111111111111111, \"#46039f\"], [0.2222222222222222, \"#7201a8\"], [0.3333333333333333, \"#9c179e\"], [0.4444444444444444, \"#bd3786\"], [0.5555555555555556, \"#d8576b\"], [0.6666666666666666, \"#ed7953\"], [0.7777777777777778, \"#fb9f3a\"], [0.8888888888888888, \"#fdca26\"], [1.0, \"#f0f921\"]], \"type\": \"surface\"}], \"table\": [{\"cells\": {\"fill\": {\"color\": \"#EBF0F8\"}, \"line\": {\"color\": \"white\"}}, \"header\": {\"fill\": {\"color\": \"#C8D4E3\"}, \"line\": {\"color\": \"white\"}}, \"type\": \"table\"}]}, \"layout\": {\"annotationdefaults\": {\"arrowcolor\": \"#2a3f5f\", \"arrowhead\": 0, \"arrowwidth\": 1}, \"coloraxis\": {\"colorbar\": {\"outlinewidth\": 0, \"ticks\": \"\"}}, \"colorscale\": {\"diverging\": [[0, \"#8e0152\"], [0.1, \"#c51b7d\"], [0.2, \"#de77ae\"], [0.3, \"#f1b6da\"], [0.4, \"#fde0ef\"], [0.5, \"#f7f7f7\"], [0.6, \"#e6f5d0\"], [0.7, \"#b8e186\"], [0.8, \"#7fbc41\"], [0.9, \"#4d9221\"], [1, \"#276419\"]], \"sequential\": [[0.0, \"#0d0887\"], [0.1111111111111111, \"#46039f\"], [0.2222222222222222, \"#7201a8\"], [0.3333333333333333, \"#9c179e\"], [0.4444444444444444, \"#bd3786\"], [0.5555555555555556, \"#d8576b\"], [0.6666666666666666, \"#ed7953\"], [0.7777777777777778, \"#fb9f3a\"], [0.8888888888888888, \"#fdca26\"], [1.0, \"#f0f921\"]], \"sequentialminus\": [[0.0, \"#0d0887\"], [0.1111111111111111, \"#46039f\"], [0.2222222222222222, \"#7201a8\"], [0.3333333333333333, \"#9c179e\"], [0.4444444444444444, \"#bd3786\"], [0.5555555555555556, \"#d8576b\"], [0.6666666666666666, \"#ed7953\"], [0.7777777777777778, \"#fb9f3a\"], [0.8888888888888888, \"#fdca26\"], [1.0, \"#f0f921\"]]}, \"colorway\": [\"#636efa\", \"#EF553B\", \"#00cc96\", \"#ab63fa\", \"#FFA15A\", \"#19d3f3\", \"#FF6692\", \"#B6E880\", \"#FF97FF\", \"#FECB52\"], \"font\": {\"color\": \"#2a3f5f\"}, \"geo\": {\"bgcolor\": \"white\", \"lakecolor\": \"white\", \"landcolor\": \"#E5ECF6\", \"showlakes\": true, \"showland\": true, \"subunitcolor\": \"white\"}, \"hoverlabel\": {\"align\": \"left\"}, \"hovermode\": \"closest\", \"mapbox\": {\"style\": \"light\"}, \"paper_bgcolor\": \"white\", \"plot_bgcolor\": \"#E5ECF6\", \"polar\": {\"angularaxis\": {\"gridcolor\": \"white\", \"linecolor\": \"white\", \"ticks\": \"\"}, \"bgcolor\": \"#E5ECF6\", \"radialaxis\": {\"gridcolor\": \"white\", \"linecolor\": \"white\", \"ticks\": \"\"}}, \"scene\": {\"xaxis\": {\"backgroundcolor\": \"#E5ECF6\", \"gridcolor\": \"white\", \"gridwidth\": 2, \"linecolor\": \"white\", \"showbackground\": true, \"ticks\": \"\", \"zerolinecolor\": \"white\"}, \"yaxis\": {\"backgroundcolor\": \"#E5ECF6\", \"gridcolor\": \"white\", \"gridwidth\": 2, \"linecolor\": \"white\", \"showbackground\": true, \"ticks\": \"\", \"zerolinecolor\": \"white\"}, \"zaxis\": {\"backgroundcolor\": \"#E5ECF6\", \"gridcolor\": \"white\", \"gridwidth\": 2, \"linecolor\": \"white\", \"showbackground\": true, \"ticks\": \"\", \"zerolinecolor\": \"white\"}}, \"shapedefaults\": {\"line\": {\"color\": \"#2a3f5f\"}}, \"ternary\": {\"aaxis\": {\"gridcolor\": \"white\", \"linecolor\": \"white\", \"ticks\": \"\"}, \"baxis\": {\"gridcolor\": \"white\", \"linecolor\": \"white\", \"ticks\": \"\"}, \"bgcolor\": \"#E5ECF6\", \"caxis\": {\"gridcolor\": \"white\", \"linecolor\": \"white\", \"ticks\": \"\"}}, \"title\": {\"x\": 0.05}, \"xaxis\": {\"automargin\": true, \"gridcolor\": \"white\", \"linecolor\": \"white\", \"ticks\": \"\", \"title\": {\"standoff\": 15}, \"zerolinecolor\": \"white\", \"zerolinewidth\": 2}, \"yaxis\": {\"automargin\": true, \"gridcolor\": \"white\", \"linecolor\": \"white\", \"ticks\": \"\", \"title\": {\"standoff\": 15}, \"zerolinecolor\": \"white\", \"zerolinewidth\": 2}}}, \"title\": {\"text\": \"2nd quarter (Apr-Jun)\"}, \"width\": 800, \"xaxis\": {\"anchor\": \"y\", \"domain\": [0.0, 1.0], \"title\": {\"text\": \"Symbol\"}}, \"yaxis\": {\"anchor\": \"x\", \"domain\": [0.0, 1.0], \"title\": {\"text\": \"Quarterly_Return\"}}},\n",
              "                        {\"responsive\": true}\n",
              "                    ).then(function(){\n",
              "                            \n",
              "var gd = document.getElementById('1f560d0d-197d-4f90-81a6-d0b7347aeda9');\n",
              "var x = new MutationObserver(function (mutations, observer) {{\n",
              "        var display = window.getComputedStyle(gd).display;\n",
              "        if (!display || display === 'none') {{\n",
              "            console.log([gd, 'removed!']);\n",
              "            Plotly.purge(gd);\n",
              "            observer.disconnect();\n",
              "        }}\n",
              "}});\n",
              "\n",
              "// Listen for the removal of the full notebook cells\n",
              "var notebookContainer = gd.closest('#notebook-container');\n",
              "if (notebookContainer) {{\n",
              "    x.observe(notebookContainer, {childList: true});\n",
              "}}\n",
              "\n",
              "// Listen for the clearing of the current output cell\n",
              "var outputEl = gd.closest('.output');\n",
              "if (outputEl) {{\n",
              "    x.observe(outputEl, {childList: true});\n",
              "}}\n",
              "\n",
              "                        })\n",
              "                };\n",
              "                \n",
              "            </script>\n",
              "        </div>\n",
              "</body>\n",
              "</html>"
            ]
          },
          "metadata": {}
        },
        {
          "output_type": "display_data",
          "data": {
            "text/html": [
              "<html>\n",
              "<head><meta charset=\"utf-8\" /></head>\n",
              "<body>\n",
              "    <div>\n",
              "            <script src=\"https://cdnjs.cloudflare.com/ajax/libs/mathjax/2.7.5/MathJax.js?config=TeX-AMS-MML_SVG\"></script><script type=\"text/javascript\">if (window.MathJax) {MathJax.Hub.Config({SVG: {font: \"STIX-Web\"}});}</script>\n",
              "                <script type=\"text/javascript\">window.PlotlyConfig = {MathJaxConfig: 'local'};</script>\n",
              "        <script src=\"https://cdn.plot.ly/plotly-latest.min.js\"></script>    \n",
              "            <div id=\"7ccb8ef6-c8a1-42e7-a4dc-f649e61663ea\" class=\"plotly-graph-div\" style=\"height:600px; width:800px;\"></div>\n",
              "            <script type=\"text/javascript\">\n",
              "                \n",
              "                    window.PLOTLYENV=window.PLOTLYENV || {};\n",
              "                    \n",
              "                if (document.getElementById(\"7ccb8ef6-c8a1-42e7-a4dc-f649e61663ea\")) {\n",
              "                    Plotly.newPlot(\n",
              "                        '7ccb8ef6-c8a1-42e7-a4dc-f649e61663ea',\n",
              "                        [{\"alignmentgroup\": \"True\", \"hoverlabel\": {\"namelength\": 0}, \"hovertemplate\": \"Symbol=%{x}<br>Quarterly_Return=%{y}\", \"legendgroup\": \"\", \"marker\": {\"color\": \"#636efa\"}, \"name\": \"\", \"offsetgroup\": \"\", \"orientation\": \"v\", \"showlegend\": false, \"textposition\": \"auto\", \"type\": \"bar\", \"x\": [\"VADILALIND\", \"ASHAPURMIN\", \"ONELIFECAP\", \"MANINDS\", \"TIRUMALCHM\", \"HERITGFOOD\", \"SYMPHONY\", \"BLISSGVS\", \"RSSOFTWARE\", \"TIIL\"], \"xaxis\": \"x\", \"y\": [142.19626168224298, 132.14285714285714, 122.6780185758514, 122.52427184466018, 111.40939597315437, 102.88590604026847, 100.76751671205744, 92.51101321585905, 86.61971830985915, 84.55696202531647], \"yaxis\": \"y\"}],\n",
              "                        {\"barmode\": \"relative\", \"height\": 600, \"legend\": {\"tracegroupgap\": 0}, \"template\": {\"data\": {\"bar\": [{\"error_x\": {\"color\": \"#2a3f5f\"}, \"error_y\": {\"color\": \"#2a3f5f\"}, \"marker\": {\"line\": {\"color\": \"#E5ECF6\", \"width\": 0.5}}, \"type\": \"bar\"}], \"barpolar\": [{\"marker\": {\"line\": {\"color\": \"#E5ECF6\", \"width\": 0.5}}, \"type\": \"barpolar\"}], \"carpet\": [{\"aaxis\": {\"endlinecolor\": \"#2a3f5f\", \"gridcolor\": \"white\", \"linecolor\": \"white\", \"minorgridcolor\": \"white\", \"startlinecolor\": \"#2a3f5f\"}, \"baxis\": {\"endlinecolor\": \"#2a3f5f\", \"gridcolor\": \"white\", \"linecolor\": \"white\", \"minorgridcolor\": \"white\", \"startlinecolor\": \"#2a3f5f\"}, \"type\": \"carpet\"}], \"choropleth\": [{\"colorbar\": {\"outlinewidth\": 0, \"ticks\": \"\"}, \"type\": \"choropleth\"}], \"contour\": [{\"colorbar\": {\"outlinewidth\": 0, \"ticks\": \"\"}, \"colorscale\": [[0.0, \"#0d0887\"], [0.1111111111111111, \"#46039f\"], [0.2222222222222222, \"#7201a8\"], [0.3333333333333333, \"#9c179e\"], [0.4444444444444444, \"#bd3786\"], [0.5555555555555556, \"#d8576b\"], [0.6666666666666666, \"#ed7953\"], [0.7777777777777778, \"#fb9f3a\"], [0.8888888888888888, \"#fdca26\"], [1.0, \"#f0f921\"]], \"type\": \"contour\"}], \"contourcarpet\": [{\"colorbar\": {\"outlinewidth\": 0, \"ticks\": \"\"}, \"type\": \"contourcarpet\"}], \"heatmap\": [{\"colorbar\": {\"outlinewidth\": 0, \"ticks\": \"\"}, \"colorscale\": [[0.0, \"#0d0887\"], [0.1111111111111111, \"#46039f\"], [0.2222222222222222, \"#7201a8\"], [0.3333333333333333, \"#9c179e\"], [0.4444444444444444, \"#bd3786\"], [0.5555555555555556, \"#d8576b\"], [0.6666666666666666, \"#ed7953\"], [0.7777777777777778, \"#fb9f3a\"], [0.8888888888888888, \"#fdca26\"], [1.0, \"#f0f921\"]], \"type\": \"heatmap\"}], \"heatmapgl\": [{\"colorbar\": {\"outlinewidth\": 0, \"ticks\": \"\"}, \"colorscale\": [[0.0, \"#0d0887\"], [0.1111111111111111, \"#46039f\"], [0.2222222222222222, \"#7201a8\"], [0.3333333333333333, \"#9c179e\"], [0.4444444444444444, \"#bd3786\"], [0.5555555555555556, \"#d8576b\"], [0.6666666666666666, \"#ed7953\"], [0.7777777777777778, \"#fb9f3a\"], [0.8888888888888888, \"#fdca26\"], [1.0, \"#f0f921\"]], \"type\": \"heatmapgl\"}], \"histogram\": [{\"marker\": {\"colorbar\": {\"outlinewidth\": 0, \"ticks\": \"\"}}, \"type\": \"histogram\"}], \"histogram2d\": [{\"colorbar\": {\"outlinewidth\": 0, \"ticks\": \"\"}, \"colorscale\": [[0.0, \"#0d0887\"], [0.1111111111111111, \"#46039f\"], [0.2222222222222222, \"#7201a8\"], [0.3333333333333333, \"#9c179e\"], [0.4444444444444444, \"#bd3786\"], [0.5555555555555556, \"#d8576b\"], [0.6666666666666666, \"#ed7953\"], [0.7777777777777778, \"#fb9f3a\"], [0.8888888888888888, \"#fdca26\"], [1.0, \"#f0f921\"]], \"type\": \"histogram2d\"}], \"histogram2dcontour\": [{\"colorbar\": {\"outlinewidth\": 0, \"ticks\": \"\"}, \"colorscale\": [[0.0, \"#0d0887\"], [0.1111111111111111, \"#46039f\"], [0.2222222222222222, \"#7201a8\"], [0.3333333333333333, \"#9c179e\"], [0.4444444444444444, \"#bd3786\"], [0.5555555555555556, \"#d8576b\"], [0.6666666666666666, \"#ed7953\"], [0.7777777777777778, \"#fb9f3a\"], [0.8888888888888888, \"#fdca26\"], [1.0, \"#f0f921\"]], \"type\": \"histogram2dcontour\"}], \"mesh3d\": [{\"colorbar\": {\"outlinewidth\": 0, \"ticks\": \"\"}, \"type\": \"mesh3d\"}], \"parcoords\": [{\"line\": {\"colorbar\": {\"outlinewidth\": 0, \"ticks\": \"\"}}, \"type\": \"parcoords\"}], \"pie\": [{\"automargin\": true, \"type\": \"pie\"}], \"scatter\": [{\"marker\": {\"colorbar\": {\"outlinewidth\": 0, \"ticks\": \"\"}}, \"type\": \"scatter\"}], \"scatter3d\": [{\"line\": {\"colorbar\": {\"outlinewidth\": 0, \"ticks\": \"\"}}, \"marker\": {\"colorbar\": {\"outlinewidth\": 0, \"ticks\": \"\"}}, \"type\": \"scatter3d\"}], \"scattercarpet\": [{\"marker\": {\"colorbar\": {\"outlinewidth\": 0, \"ticks\": \"\"}}, \"type\": \"scattercarpet\"}], \"scattergeo\": [{\"marker\": {\"colorbar\": {\"outlinewidth\": 0, \"ticks\": \"\"}}, \"type\": \"scattergeo\"}], \"scattergl\": [{\"marker\": {\"colorbar\": {\"outlinewidth\": 0, \"ticks\": \"\"}}, \"type\": \"scattergl\"}], \"scattermapbox\": [{\"marker\": {\"colorbar\": {\"outlinewidth\": 0, \"ticks\": \"\"}}, \"type\": \"scattermapbox\"}], \"scatterpolar\": [{\"marker\": {\"colorbar\": {\"outlinewidth\": 0, \"ticks\": \"\"}}, \"type\": \"scatterpolar\"}], \"scatterpolargl\": [{\"marker\": {\"colorbar\": {\"outlinewidth\": 0, \"ticks\": \"\"}}, \"type\": \"scatterpolargl\"}], \"scatterternary\": [{\"marker\": {\"colorbar\": {\"outlinewidth\": 0, \"ticks\": \"\"}}, \"type\": \"scatterternary\"}], \"surface\": [{\"colorbar\": {\"outlinewidth\": 0, \"ticks\": \"\"}, \"colorscale\": [[0.0, \"#0d0887\"], [0.1111111111111111, \"#46039f\"], [0.2222222222222222, \"#7201a8\"], [0.3333333333333333, \"#9c179e\"], [0.4444444444444444, \"#bd3786\"], [0.5555555555555556, \"#d8576b\"], [0.6666666666666666, \"#ed7953\"], [0.7777777777777778, \"#fb9f3a\"], [0.8888888888888888, \"#fdca26\"], [1.0, \"#f0f921\"]], \"type\": \"surface\"}], \"table\": [{\"cells\": {\"fill\": {\"color\": \"#EBF0F8\"}, \"line\": {\"color\": \"white\"}}, \"header\": {\"fill\": {\"color\": \"#C8D4E3\"}, \"line\": {\"color\": \"white\"}}, \"type\": \"table\"}]}, \"layout\": {\"annotationdefaults\": {\"arrowcolor\": \"#2a3f5f\", \"arrowhead\": 0, \"arrowwidth\": 1}, \"coloraxis\": {\"colorbar\": {\"outlinewidth\": 0, \"ticks\": \"\"}}, \"colorscale\": {\"diverging\": [[0, \"#8e0152\"], [0.1, \"#c51b7d\"], [0.2, \"#de77ae\"], [0.3, \"#f1b6da\"], [0.4, \"#fde0ef\"], [0.5, \"#f7f7f7\"], [0.6, \"#e6f5d0\"], [0.7, \"#b8e186\"], [0.8, \"#7fbc41\"], [0.9, \"#4d9221\"], [1, \"#276419\"]], \"sequential\": [[0.0, \"#0d0887\"], [0.1111111111111111, \"#46039f\"], [0.2222222222222222, \"#7201a8\"], [0.3333333333333333, \"#9c179e\"], [0.4444444444444444, \"#bd3786\"], [0.5555555555555556, \"#d8576b\"], [0.6666666666666666, \"#ed7953\"], [0.7777777777777778, \"#fb9f3a\"], [0.8888888888888888, \"#fdca26\"], [1.0, \"#f0f921\"]], \"sequentialminus\": [[0.0, \"#0d0887\"], [0.1111111111111111, \"#46039f\"], [0.2222222222222222, \"#7201a8\"], [0.3333333333333333, \"#9c179e\"], [0.4444444444444444, \"#bd3786\"], [0.5555555555555556, \"#d8576b\"], [0.6666666666666666, \"#ed7953\"], [0.7777777777777778, \"#fb9f3a\"], [0.8888888888888888, \"#fdca26\"], [1.0, \"#f0f921\"]]}, \"colorway\": [\"#636efa\", \"#EF553B\", \"#00cc96\", \"#ab63fa\", \"#FFA15A\", \"#19d3f3\", \"#FF6692\", \"#B6E880\", \"#FF97FF\", \"#FECB52\"], \"font\": {\"color\": \"#2a3f5f\"}, \"geo\": {\"bgcolor\": \"white\", \"lakecolor\": \"white\", \"landcolor\": \"#E5ECF6\", \"showlakes\": true, \"showland\": true, \"subunitcolor\": \"white\"}, \"hoverlabel\": {\"align\": \"left\"}, \"hovermode\": \"closest\", \"mapbox\": {\"style\": \"light\"}, \"paper_bgcolor\": \"white\", \"plot_bgcolor\": \"#E5ECF6\", \"polar\": {\"angularaxis\": {\"gridcolor\": \"white\", \"linecolor\": \"white\", \"ticks\": \"\"}, \"bgcolor\": \"#E5ECF6\", \"radialaxis\": {\"gridcolor\": \"white\", \"linecolor\": \"white\", \"ticks\": \"\"}}, \"scene\": {\"xaxis\": {\"backgroundcolor\": \"#E5ECF6\", \"gridcolor\": \"white\", \"gridwidth\": 2, \"linecolor\": \"white\", \"showbackground\": true, \"ticks\": \"\", \"zerolinecolor\": \"white\"}, \"yaxis\": {\"backgroundcolor\": \"#E5ECF6\", \"gridcolor\": \"white\", \"gridwidth\": 2, \"linecolor\": \"white\", \"showbackground\": true, \"ticks\": \"\", \"zerolinecolor\": \"white\"}, \"zaxis\": {\"backgroundcolor\": \"#E5ECF6\", \"gridcolor\": \"white\", \"gridwidth\": 2, \"linecolor\": \"white\", \"showbackground\": true, \"ticks\": \"\", \"zerolinecolor\": \"white\"}}, \"shapedefaults\": {\"line\": {\"color\": \"#2a3f5f\"}}, \"ternary\": {\"aaxis\": {\"gridcolor\": \"white\", \"linecolor\": \"white\", \"ticks\": \"\"}, \"baxis\": {\"gridcolor\": \"white\", \"linecolor\": \"white\", \"ticks\": \"\"}, \"bgcolor\": \"#E5ECF6\", \"caxis\": {\"gridcolor\": \"white\", \"linecolor\": \"white\", \"ticks\": \"\"}}, \"title\": {\"x\": 0.05}, \"xaxis\": {\"automargin\": true, \"gridcolor\": \"white\", \"linecolor\": \"white\", \"ticks\": \"\", \"title\": {\"standoff\": 15}, \"zerolinecolor\": \"white\", \"zerolinewidth\": 2}, \"yaxis\": {\"automargin\": true, \"gridcolor\": \"white\", \"linecolor\": \"white\", \"ticks\": \"\", \"title\": {\"standoff\": 15}, \"zerolinecolor\": \"white\", \"zerolinewidth\": 2}}}, \"title\": {\"text\": \"3rd quarter (Jul-Sept)\"}, \"width\": 800, \"xaxis\": {\"anchor\": \"y\", \"domain\": [0.0, 1.0], \"title\": {\"text\": \"Symbol\"}}, \"yaxis\": {\"anchor\": \"x\", \"domain\": [0.0, 1.0], \"title\": {\"text\": \"Quarterly_Return\"}}},\n",
              "                        {\"responsive\": true}\n",
              "                    ).then(function(){\n",
              "                            \n",
              "var gd = document.getElementById('7ccb8ef6-c8a1-42e7-a4dc-f649e61663ea');\n",
              "var x = new MutationObserver(function (mutations, observer) {{\n",
              "        var display = window.getComputedStyle(gd).display;\n",
              "        if (!display || display === 'none') {{\n",
              "            console.log([gd, 'removed!']);\n",
              "            Plotly.purge(gd);\n",
              "            observer.disconnect();\n",
              "        }}\n",
              "}});\n",
              "\n",
              "// Listen for the removal of the full notebook cells\n",
              "var notebookContainer = gd.closest('#notebook-container');\n",
              "if (notebookContainer) {{\n",
              "    x.observe(notebookContainer, {childList: true});\n",
              "}}\n",
              "\n",
              "// Listen for the clearing of the current output cell\n",
              "var outputEl = gd.closest('.output');\n",
              "if (outputEl) {{\n",
              "    x.observe(outputEl, {childList: true});\n",
              "}}\n",
              "\n",
              "                        })\n",
              "                };\n",
              "                \n",
              "            </script>\n",
              "        </div>\n",
              "</body>\n",
              "</html>"
            ]
          },
          "metadata": {}
        },
        {
          "output_type": "display_data",
          "data": {
            "text/html": [
              "<html>\n",
              "<head><meta charset=\"utf-8\" /></head>\n",
              "<body>\n",
              "    <div>\n",
              "            <script src=\"https://cdnjs.cloudflare.com/ajax/libs/mathjax/2.7.5/MathJax.js?config=TeX-AMS-MML_SVG\"></script><script type=\"text/javascript\">if (window.MathJax) {MathJax.Hub.Config({SVG: {font: \"STIX-Web\"}});}</script>\n",
              "                <script type=\"text/javascript\">window.PlotlyConfig = {MathJaxConfig: 'local'};</script>\n",
              "        <script src=\"https://cdn.plot.ly/plotly-latest.min.js\"></script>    \n",
              "            <div id=\"6083375e-deda-4d98-9b53-aab7d914c1e1\" class=\"plotly-graph-div\" style=\"height:600px; width:800px;\"></div>\n",
              "            <script type=\"text/javascript\">\n",
              "                \n",
              "                    window.PLOTLYENV=window.PLOTLYENV || {};\n",
              "                    \n",
              "                if (document.getElementById(\"6083375e-deda-4d98-9b53-aab7d914c1e1\")) {\n",
              "                    Plotly.newPlot(\n",
              "                        '6083375e-deda-4d98-9b53-aab7d914c1e1',\n",
              "                        [{\"alignmentgroup\": \"True\", \"hoverlabel\": {\"namelength\": 0}, \"hovertemplate\": \"Symbol=%{x}<br>Quarterly_Return=%{y}\", \"legendgroup\": \"\", \"marker\": {\"color\": \"#636efa\"}, \"name\": \"\", \"offsetgroup\": \"\", \"orientation\": \"v\", \"showlegend\": false, \"textposition\": \"auto\", \"type\": \"bar\", \"x\": [\"BIL\", \"KOLTEPATIL\", \"SYNCOM\", \"MARKSANS\", \"DBREALTY\", \"COMPUSOFT\", \"PREMIER\", \"KIL\", \"PONNIERODE\", \"LAOPALA\"], \"xaxis\": \"x\", \"y\": [218.90359168241963, 151.66666666666666, 145.5357142857143, 145.45454545454547, 117.65114662960389, 103.98230088495575, 103.95398993529835, 96.64634146341466, 91.82859990034878, 90.60616802552288], \"yaxis\": \"y\"}],\n",
              "                        {\"barmode\": \"relative\", \"height\": 600, \"legend\": {\"tracegroupgap\": 0}, \"template\": {\"data\": {\"bar\": [{\"error_x\": {\"color\": \"#2a3f5f\"}, \"error_y\": {\"color\": \"#2a3f5f\"}, \"marker\": {\"line\": {\"color\": \"#E5ECF6\", \"width\": 0.5}}, \"type\": \"bar\"}], \"barpolar\": [{\"marker\": {\"line\": {\"color\": \"#E5ECF6\", \"width\": 0.5}}, \"type\": \"barpolar\"}], \"carpet\": [{\"aaxis\": {\"endlinecolor\": \"#2a3f5f\", \"gridcolor\": \"white\", \"linecolor\": \"white\", \"minorgridcolor\": \"white\", \"startlinecolor\": \"#2a3f5f\"}, \"baxis\": {\"endlinecolor\": \"#2a3f5f\", \"gridcolor\": \"white\", \"linecolor\": \"white\", \"minorgridcolor\": \"white\", \"startlinecolor\": \"#2a3f5f\"}, \"type\": \"carpet\"}], \"choropleth\": [{\"colorbar\": {\"outlinewidth\": 0, \"ticks\": \"\"}, \"type\": \"choropleth\"}], \"contour\": [{\"colorbar\": {\"outlinewidth\": 0, \"ticks\": \"\"}, \"colorscale\": [[0.0, \"#0d0887\"], [0.1111111111111111, \"#46039f\"], [0.2222222222222222, \"#7201a8\"], [0.3333333333333333, \"#9c179e\"], [0.4444444444444444, \"#bd3786\"], [0.5555555555555556, \"#d8576b\"], [0.6666666666666666, \"#ed7953\"], [0.7777777777777778, \"#fb9f3a\"], [0.8888888888888888, \"#fdca26\"], [1.0, \"#f0f921\"]], \"type\": \"contour\"}], \"contourcarpet\": [{\"colorbar\": {\"outlinewidth\": 0, \"ticks\": \"\"}, \"type\": \"contourcarpet\"}], \"heatmap\": [{\"colorbar\": {\"outlinewidth\": 0, \"ticks\": \"\"}, \"colorscale\": [[0.0, \"#0d0887\"], [0.1111111111111111, \"#46039f\"], [0.2222222222222222, \"#7201a8\"], [0.3333333333333333, \"#9c179e\"], [0.4444444444444444, \"#bd3786\"], [0.5555555555555556, \"#d8576b\"], [0.6666666666666666, \"#ed7953\"], [0.7777777777777778, \"#fb9f3a\"], [0.8888888888888888, \"#fdca26\"], [1.0, \"#f0f921\"]], \"type\": \"heatmap\"}], \"heatmapgl\": [{\"colorbar\": {\"outlinewidth\": 0, \"ticks\": \"\"}, \"colorscale\": [[0.0, \"#0d0887\"], [0.1111111111111111, \"#46039f\"], [0.2222222222222222, \"#7201a8\"], [0.3333333333333333, \"#9c179e\"], [0.4444444444444444, \"#bd3786\"], [0.5555555555555556, \"#d8576b\"], [0.6666666666666666, \"#ed7953\"], [0.7777777777777778, \"#fb9f3a\"], [0.8888888888888888, \"#fdca26\"], [1.0, \"#f0f921\"]], \"type\": \"heatmapgl\"}], \"histogram\": [{\"marker\": {\"colorbar\": {\"outlinewidth\": 0, \"ticks\": \"\"}}, \"type\": \"histogram\"}], \"histogram2d\": [{\"colorbar\": {\"outlinewidth\": 0, \"ticks\": \"\"}, \"colorscale\": [[0.0, \"#0d0887\"], [0.1111111111111111, \"#46039f\"], [0.2222222222222222, \"#7201a8\"], [0.3333333333333333, \"#9c179e\"], [0.4444444444444444, \"#bd3786\"], [0.5555555555555556, \"#d8576b\"], [0.6666666666666666, \"#ed7953\"], [0.7777777777777778, \"#fb9f3a\"], [0.8888888888888888, \"#fdca26\"], [1.0, \"#f0f921\"]], \"type\": \"histogram2d\"}], \"histogram2dcontour\": [{\"colorbar\": {\"outlinewidth\": 0, \"ticks\": \"\"}, \"colorscale\": [[0.0, \"#0d0887\"], [0.1111111111111111, \"#46039f\"], [0.2222222222222222, \"#7201a8\"], [0.3333333333333333, \"#9c179e\"], [0.4444444444444444, \"#bd3786\"], [0.5555555555555556, \"#d8576b\"], [0.6666666666666666, \"#ed7953\"], [0.7777777777777778, \"#fb9f3a\"], [0.8888888888888888, \"#fdca26\"], [1.0, \"#f0f921\"]], \"type\": \"histogram2dcontour\"}], \"mesh3d\": [{\"colorbar\": {\"outlinewidth\": 0, \"ticks\": \"\"}, \"type\": \"mesh3d\"}], \"parcoords\": [{\"line\": {\"colorbar\": {\"outlinewidth\": 0, \"ticks\": \"\"}}, \"type\": \"parcoords\"}], \"pie\": [{\"automargin\": true, \"type\": \"pie\"}], \"scatter\": [{\"marker\": {\"colorbar\": {\"outlinewidth\": 0, \"ticks\": \"\"}}, \"type\": \"scatter\"}], \"scatter3d\": [{\"line\": {\"colorbar\": {\"outlinewidth\": 0, \"ticks\": \"\"}}, \"marker\": {\"colorbar\": {\"outlinewidth\": 0, \"ticks\": \"\"}}, \"type\": \"scatter3d\"}], \"scattercarpet\": [{\"marker\": {\"colorbar\": {\"outlinewidth\": 0, \"ticks\": \"\"}}, \"type\": \"scattercarpet\"}], \"scattergeo\": [{\"marker\": {\"colorbar\": {\"outlinewidth\": 0, \"ticks\": \"\"}}, \"type\": \"scattergeo\"}], \"scattergl\": [{\"marker\": {\"colorbar\": {\"outlinewidth\": 0, \"ticks\": \"\"}}, \"type\": \"scattergl\"}], \"scattermapbox\": [{\"marker\": {\"colorbar\": {\"outlinewidth\": 0, \"ticks\": \"\"}}, \"type\": \"scattermapbox\"}], \"scatterpolar\": [{\"marker\": {\"colorbar\": {\"outlinewidth\": 0, \"ticks\": \"\"}}, \"type\": \"scatterpolar\"}], \"scatterpolargl\": [{\"marker\": {\"colorbar\": {\"outlinewidth\": 0, \"ticks\": \"\"}}, \"type\": \"scatterpolargl\"}], \"scatterternary\": [{\"marker\": {\"colorbar\": {\"outlinewidth\": 0, \"ticks\": \"\"}}, \"type\": \"scatterternary\"}], \"surface\": [{\"colorbar\": {\"outlinewidth\": 0, \"ticks\": \"\"}, \"colorscale\": [[0.0, \"#0d0887\"], [0.1111111111111111, \"#46039f\"], [0.2222222222222222, \"#7201a8\"], [0.3333333333333333, \"#9c179e\"], [0.4444444444444444, \"#bd3786\"], [0.5555555555555556, \"#d8576b\"], [0.6666666666666666, \"#ed7953\"], [0.7777777777777778, \"#fb9f3a\"], [0.8888888888888888, \"#fdca26\"], [1.0, \"#f0f921\"]], \"type\": \"surface\"}], \"table\": [{\"cells\": {\"fill\": {\"color\": \"#EBF0F8\"}, \"line\": {\"color\": \"white\"}}, \"header\": {\"fill\": {\"color\": \"#C8D4E3\"}, \"line\": {\"color\": \"white\"}}, \"type\": \"table\"}]}, \"layout\": {\"annotationdefaults\": {\"arrowcolor\": \"#2a3f5f\", \"arrowhead\": 0, \"arrowwidth\": 1}, \"coloraxis\": {\"colorbar\": {\"outlinewidth\": 0, \"ticks\": \"\"}}, \"colorscale\": {\"diverging\": [[0, \"#8e0152\"], [0.1, \"#c51b7d\"], [0.2, \"#de77ae\"], [0.3, \"#f1b6da\"], [0.4, \"#fde0ef\"], [0.5, \"#f7f7f7\"], [0.6, \"#e6f5d0\"], [0.7, \"#b8e186\"], [0.8, \"#7fbc41\"], [0.9, \"#4d9221\"], [1, \"#276419\"]], \"sequential\": [[0.0, \"#0d0887\"], [0.1111111111111111, \"#46039f\"], [0.2222222222222222, \"#7201a8\"], [0.3333333333333333, \"#9c179e\"], [0.4444444444444444, \"#bd3786\"], [0.5555555555555556, \"#d8576b\"], [0.6666666666666666, \"#ed7953\"], [0.7777777777777778, \"#fb9f3a\"], [0.8888888888888888, \"#fdca26\"], [1.0, \"#f0f921\"]], \"sequentialminus\": [[0.0, \"#0d0887\"], [0.1111111111111111, \"#46039f\"], [0.2222222222222222, \"#7201a8\"], [0.3333333333333333, \"#9c179e\"], [0.4444444444444444, \"#bd3786\"], [0.5555555555555556, \"#d8576b\"], [0.6666666666666666, \"#ed7953\"], [0.7777777777777778, \"#fb9f3a\"], [0.8888888888888888, \"#fdca26\"], [1.0, \"#f0f921\"]]}, \"colorway\": [\"#636efa\", \"#EF553B\", \"#00cc96\", \"#ab63fa\", \"#FFA15A\", \"#19d3f3\", \"#FF6692\", \"#B6E880\", \"#FF97FF\", \"#FECB52\"], \"font\": {\"color\": \"#2a3f5f\"}, \"geo\": {\"bgcolor\": \"white\", \"lakecolor\": \"white\", \"landcolor\": \"#E5ECF6\", \"showlakes\": true, \"showland\": true, \"subunitcolor\": \"white\"}, \"hoverlabel\": {\"align\": \"left\"}, \"hovermode\": \"closest\", \"mapbox\": {\"style\": \"light\"}, \"paper_bgcolor\": \"white\", \"plot_bgcolor\": \"#E5ECF6\", \"polar\": {\"angularaxis\": {\"gridcolor\": \"white\", \"linecolor\": \"white\", \"ticks\": \"\"}, \"bgcolor\": \"#E5ECF6\", \"radialaxis\": {\"gridcolor\": \"white\", \"linecolor\": \"white\", \"ticks\": \"\"}}, \"scene\": {\"xaxis\": {\"backgroundcolor\": \"#E5ECF6\", \"gridcolor\": \"white\", \"gridwidth\": 2, \"linecolor\": \"white\", \"showbackground\": true, \"ticks\": \"\", \"zerolinecolor\": \"white\"}, \"yaxis\": {\"backgroundcolor\": \"#E5ECF6\", \"gridcolor\": \"white\", \"gridwidth\": 2, \"linecolor\": \"white\", \"showbackground\": true, \"ticks\": \"\", \"zerolinecolor\": \"white\"}, \"zaxis\": {\"backgroundcolor\": \"#E5ECF6\", \"gridcolor\": \"white\", \"gridwidth\": 2, \"linecolor\": \"white\", \"showbackground\": true, \"ticks\": \"\", \"zerolinecolor\": \"white\"}}, \"shapedefaults\": {\"line\": {\"color\": \"#2a3f5f\"}}, \"ternary\": {\"aaxis\": {\"gridcolor\": \"white\", \"linecolor\": \"white\", \"ticks\": \"\"}, \"baxis\": {\"gridcolor\": \"white\", \"linecolor\": \"white\", \"ticks\": \"\"}, \"bgcolor\": \"#E5ECF6\", \"caxis\": {\"gridcolor\": \"white\", \"linecolor\": \"white\", \"ticks\": \"\"}}, \"title\": {\"x\": 0.05}, \"xaxis\": {\"automargin\": true, \"gridcolor\": \"white\", \"linecolor\": \"white\", \"ticks\": \"\", \"title\": {\"standoff\": 15}, \"zerolinecolor\": \"white\", \"zerolinewidth\": 2}, \"yaxis\": {\"automargin\": true, \"gridcolor\": \"white\", \"linecolor\": \"white\", \"ticks\": \"\", \"title\": {\"standoff\": 15}, \"zerolinecolor\": \"white\", \"zerolinewidth\": 2}}}, \"title\": {\"text\": \"4th quarter (Oct-Dec)\"}, \"width\": 800, \"xaxis\": {\"anchor\": \"y\", \"domain\": [0.0, 1.0], \"title\": {\"text\": \"Symbol\"}}, \"yaxis\": {\"anchor\": \"x\", \"domain\": [0.0, 1.0], \"title\": {\"text\": \"Quarterly_Return\"}}},\n",
              "                        {\"responsive\": true}\n",
              "                    ).then(function(){\n",
              "                            \n",
              "var gd = document.getElementById('6083375e-deda-4d98-9b53-aab7d914c1e1');\n",
              "var x = new MutationObserver(function (mutations, observer) {{\n",
              "        var display = window.getComputedStyle(gd).display;\n",
              "        if (!display || display === 'none') {{\n",
              "            console.log([gd, 'removed!']);\n",
              "            Plotly.purge(gd);\n",
              "            observer.disconnect();\n",
              "        }}\n",
              "}});\n",
              "\n",
              "// Listen for the removal of the full notebook cells\n",
              "var notebookContainer = gd.closest('#notebook-container');\n",
              "if (notebookContainer) {{\n",
              "    x.observe(notebookContainer, {childList: true});\n",
              "}}\n",
              "\n",
              "// Listen for the clearing of the current output cell\n",
              "var outputEl = gd.closest('.output');\n",
              "if (outputEl) {{\n",
              "    x.observe(outputEl, {childList: true});\n",
              "}}\n",
              "\n",
              "                        })\n",
              "                };\n",
              "                \n",
              "            </script>\n",
              "        </div>\n",
              "</body>\n",
              "</html>"
            ]
          },
          "metadata": {}
        }
      ]
    },
    {
      "cell_type": "markdown",
      "metadata": {
        "id": "ULEL56CfQvHA"
      },
      "source": [
        "## Problem 7. Show the daily return of the stock on average in a particular time frame"
      ]
    },
    {
      "cell_type": "code",
      "metadata": {
        "colab": {
          "base_uri": "https://localhost:8080/",
          "height": 617
        },
        "id": "IbsLSF1URPrH",
        "outputId": "eca62c2c-b231-4c88-a100-36e99c34063d"
      },
      "source": [
        "def problemSix(stocks_df, stock_to_invest, start_time, end_time):\n",
        "  #Get the SCRIP from the user\n",
        "  #start_time -> The starting time of the time frame\n",
        "  #end_time -> The end time of the time frame\n",
        "  #plot a graph for daily returns, x axis will be date, and y will be return on that date\n",
        "  filtered_df = stocks_df.filter(stocks_df.Symbol == stock_to_invest).select(to_date(col(\"Date\")).alias(\"Date\"), col(\"Symbol\"), col(\"Open\"), col(\"Close\")).filter(stocks_df.Date >= start_time).filter(stocks_df.Date <= end_time)\n",
        "  daily_returns_df = filtered_df.withColumn(\"Daily_Returns\", filtered_df[\"Close\"] - filtered_df[\"Open\"])\n",
        "  graph_data = daily_returns_df.collect()\n",
        "  #graph plot\n",
        "  dates = []\n",
        "  daily_returns = []\n",
        "  for row in graph_data:\n",
        "    dates.append(row['Date'])\n",
        "    daily_returns.append(row['Daily_Returns'])\n",
        "  #end graph plot\n",
        "  answer = daily_returns_df.select(\"Date\", \"Symbol\", \"Daily_Returns\").groupBy(\"Symbol\").avg(\"Daily_Returns\").withColumnRenamed(\"avg(Daily_Returns)\", \"Avg_Daily_Returns\").collect()\n",
        "  figure(figsize=(5,3), dpi=200)\n",
        "  plt.title(\"Average Daily Returns for \" + stock_to_invest + \" = \" + str(answer[0]['Avg_Daily_Returns']))\n",
        "  plt.plot(dates, daily_returns, label='Daily Return (close - open)')\n",
        "  plt.axhline(y=answer[0]['Avg_Daily_Returns'], color='r', linestyle='-')\n",
        "  return answer[0]['Avg_Daily_Returns']\n",
        "problemSix(__STOCKS_DF__, \"TATASTEEL\", \"2012-01-01\", \"2020-01-01\")"
      ],
      "execution_count": 18,
      "outputs": [
        {
          "output_type": "execute_result",
          "data": {
            "text/plain": [
              "-0.5832828282828285"
            ]
          },
          "metadata": {},
          "execution_count": 18
        },
        {
          "output_type": "display_data",
          "data": {
            "image/png": "[encoded data removed]",
            "text/plain": [
              "<Figure size 1000x600 with 1 Axes>"
            ]
          },
          "metadata": {
            "needs_background": "light"
          }
        }
      ]
    },
    {
      "cell_type": "markdown",
      "metadata": {
        "id": "rvxn_jfJRY6j"
      },
      "source": [
        "## Problem 8. Show the moving average of the various stocks in a particular time frame."
      ]
    },
    {
      "cell_type": "code",
      "metadata": {
        "colab": {
          "base_uri": "https://localhost:8080/",
          "height": 307
        },
        "id": "ILNfpxxRRYmg",
        "outputId": "b2cc8611-164e-4154-d6ad-4a3d685e5ef8"
      },
      "source": [
        "STOCK_NAME = \"TATASTEEL\"\n",
        "import matplotlib.dates as mdates\n",
        "import matplotlib.pyplot as plt\n",
        "def problemSeven(stocks_df, stocks, start_time, end_time, window_length):\n",
        "  df = stocks_df.filter(stocks_df.Symbol == stocks).select(to_date(col(\"Date\")).alias(\"Date\"), col(\"Symbol\"), col(\"Close\")).filter(stocks_df.Date >= start_time).filter(stocks_df.Date <= end_time)\n",
        "  w = (Window().orderBy(col(\"Date\").asc()).rowsBetween(Window.currentRow, window_length))\n",
        "  df = df.withColumn('rolling_average', avg(\"Close\").over(w))\n",
        "  return df.collect()\n",
        "data = problemSeven(__STOCKS_DF__, STOCK_NAME, \"2015-01-01\", \"2021-01-01\", 5);\n",
        "dates = []\n",
        "rolling_average = []\n",
        "close_prices = []\n",
        "for row in data:\n",
        "    dates.append(row['Date'])\n",
        "    rolling_average.append(row['rolling_average'])\n",
        "    close_prices.append(row['Close'])\n",
        "plt.plot(dates, close_prices, label='Actual')\n",
        "plt.plot(dates, rolling_average, label='Moving Average')\n",
        "plt.xlabel(\"Dates\")\n",
        "plt.ylabel(\"Closing Price\")\n",
        "plt.legend()\n",
        "# plt.gca().xaxis.set_major_locator(mdates.MonthLocator())\n",
        "# plt.gca().xaxis.set_minor_locator(mdates.MonthLocator())\n",
        "# plt.gca().xaxis.set_major_formatter(mdates.DateFormatter('%Y-%b'))\n",
        "plt.title(\"Moving Average Analysis for \" + STOCK_NAME)\n",
        "for label in plt.gca().get_xticklabels(which='major'):\n",
        "    label.set(rotation=30, horizontalalignment='right')"
      ],
      "execution_count": 19,
      "outputs": [
        {
          "output_type": "display_data",
          "data": {
            "image/png": "[encoded data removed]",
            "text/plain": [
              "<Figure size 432x288 with 1 Axes>"
            ]
          },
          "metadata": {
            "needs_background": "light"
          }
        }
      ]
    },
    {
      "cell_type": "code",
      "metadata": {
        "colab": {
          "base_uri": "https://localhost:8080/"
        },
        "id": "GgaBz9PvyfKN",
        "outputId": "8f5e7b76-13b7-4384-cc1e-ae894f40fd6c"
      },
      "source": [
        "#Twitter sentiment analysis Code\n",
        "\n",
        "params = {\n",
        "          'query': '(reliance) (lang:en)',\n",
        "          'max_results': '100',\n",
        "          'tweet.fields': 'created_at,lang'\n",
        "          }\n",
        "\n",
        "BEARER_TOKEN = 'AAAAAAAAAAAAAAAAAAAAAExoWQEAAAAAkfB0OGoSb9dUd5c8rNEFbHyhgwU%3DnQKcP6jsareZzqXPm5tMBrLNWvi0BilFHKOeNrCh5HRVRW1wOW'\n",
        "'''response = requests.get(\n",
        "    'https://api.twitter.com/2/tweets/search/recent',\n",
        "    params=params,\n",
        "    headers={\n",
        "        'authorization': 'Bearer '+ BEARER_TOKEN\n",
        "})'''\n",
        "\n",
        "\n",
        "tweetList = []\n",
        "\n",
        "#Regex for cleaning tweet text\n",
        "whitespace = re.compile(r\"\\s+\")\n",
        "web_address = re.compile(r\"(?i)http(s):\\/\\/[a-z0-9.~_\\-\\/]+\")\n",
        "reliance = re.compile(r\"(?i)@Reliance(?=\\b)\")\n",
        "user = re.compile(r\"(?i)@[a-z0-9_]+\")\n",
        "  \n",
        "\n",
        "dtformat = '%Y-%m-%dT%H:%M:%SZ'\n",
        "\n",
        "now = datetime.now() - timedelta(seconds=10)  #Get the current datetime\n",
        "endTime = now\n",
        "\n",
        "startTime = endTime - timedelta(days=8)  #StartTime would be number of days mentioned before the end time\n",
        "endTime = endTime.strftime(dtformat)  #Convert now datetime to format for API\n",
        "\n",
        "iteration = 0\n",
        "while True:\n",
        "    if datetime.strptime(endTime, dtformat) < startTime:\n",
        "        #Break the loop if endTime reaches startTime\n",
        "        break\n",
        "\n",
        "    pre60 = time_travel(endTime, 60)  #Get 1 hour before endTime\n",
        "\n",
        "    #Assign from and to datetime parameters for the API\n",
        "    params['start_time'] = pre60\n",
        "    params['end_time'] = endTime\n",
        "    response = requests.get(\n",
        "      'https://api.twitter.com/2/tweets/search/recent',\n",
        "      params=params,\n",
        "      headers={\n",
        "        'authorization': 'Bearer '+ BEARER_TOKEN\n",
        "      })\n",
        "    iteration = iteration + 1\n",
        "    if iteration % 288 == 0:\n",
        "      time.sleep(15)\n",
        "    endTime = pre60  #Move the window 1 hour earlier\n",
        "\n",
        "    if \"data\" in response.json():\n",
        "      for tweet in response.json()['data']:\n",
        "        row = getData(tweet)\n",
        "        tweetList.append(row)\n",
        "\n",
        "tweetDf = spark.createDataFrame(Row(**x) for x in tweetList)\n",
        "tweetDf = tweetDf.withColumn('text', tweetUDF(col('text')))\n",
        "tweetDf.show(5)\n",
        "tweetDf.cache()\n",
        "\n"
      ],
      "execution_count": 20,
      "outputs": [
        {
          "output_type": "stream",
          "name": "stdout",
          "text": [
            "+-------------------+--------------------+--------------------+\n",
            "|                 id|          created_at|                text|\n",
            "+-------------------+--------------------+--------------------+\n",
            "|1469352549593788417|2021-12-10T17:05:...|RT : Interesting....|\n",
            "|1469352546665967625|2021-12-10T17:05:...|Rupee - Dec 10, 2...|\n",
            "|1469352403115945988|2021-12-10T17:04:...|RT : Flying witho...|\n",
            "|1469352243291832322|2021-12-10T17:04:...|RT : #Indraprasth...|\n",
            "|1469352219225083908|2021-12-10T17:04:...|RT : Flying witho...|\n",
            "+-------------------+--------------------+--------------------+\n",
            "only showing top 5 rows\n",
            "\n"
          ]
        },
        {
          "output_type": "execute_result",
          "data": {
            "text/plain": [
              "DataFrame[id: string, created_at: string, text: string]"
            ]
          },
          "metadata": {},
          "execution_count": 20
        }
      ]
    },
    {
      "cell_type": "code",
      "metadata": {
        "colab": {
          "base_uri": "https://localhost:8080/"
        },
        "id": "S0IXIKmCcPIV",
        "outputId": "5c424735-46b7-44e2-cd3b-0765ea18c69a"
      },
      "source": [
        "#Function to get the Predicted Sentiment Score\n",
        "def predictSentimentScore(tweet):\n",
        "  sentence = flair.data.Sentence(tweet)\n",
        "  sentiment_model.predict(sentence)\n",
        "  return sentence.labels[0].score\n",
        "\n",
        "#Function to get the Predicted Sentiment Value\n",
        "def predictSentimentValue(tweet):\n",
        "  sentence = flair.data.Sentence(tweet)\n",
        "  sentiment_model.predict(sentence)\n",
        "  return sentence.labels[0].value\n",
        "\n",
        "predictScoreUDF = udf(lambda z:predictSentimentScore(z),DoubleType())\n",
        "predictValueUDF = udf(lambda z:predictSentimentValue(z),StringType())\n",
        "\n",
        "tweetDf = tweetDf.withColumn('probability', predictScoreUDF(col('text'))).withColumn('sentiment', predictValueUDF(col('text')))\n",
        "tweetDf = tweetDf.withColumn('date', substring('created_at', 1,10))\n",
        "tweetDf.show(5)\n",
        "tweetDf.cache()"
      ],
      "execution_count": 21,
      "outputs": [
        {
          "output_type": "stream",
          "name": "stdout",
          "text": [
            "+-------------------+--------------------+--------------------+------------------+---------+----------+\n",
            "|                 id|          created_at|                text|       probability|sentiment|      date|\n",
            "+-------------------+--------------------+--------------------+------------------+---------+----------+\n",
            "|1469352549593788417|2021-12-10T17:05:...|RT : Interesting....|0.9954772591590881| NEGATIVE|2021-12-10|\n",
            "|1469352546665967625|2021-12-10T17:05:...|Rupee - Dec 10, 2...|0.8381022214889526| NEGATIVE|2021-12-10|\n",
            "|1469352403115945988|2021-12-10T17:04:...|RT : Flying witho...|0.8545066714286804| POSITIVE|2021-12-10|\n",
            "|1469352243291832322|2021-12-10T17:04:...|RT : #Indraprasth...|0.7850717902183533| POSITIVE|2021-12-10|\n",
            "|1469352219225083908|2021-12-10T17:04:...|RT : Flying witho...|0.8545066714286804| POSITIVE|2021-12-10|\n",
            "+-------------------+--------------------+--------------------+------------------+---------+----------+\n",
            "only showing top 5 rows\n",
            "\n"
          ]
        },
        {
          "output_type": "execute_result",
          "data": {
            "text/plain": [
              "DataFrame[id: string, created_at: string, text: string, probability: double, sentiment: string, date: string]"
            ]
          },
          "metadata": {},
          "execution_count": 21
        }
      ]
    },
    {
      "cell_type": "code",
      "metadata": {
        "colab": {
          "base_uri": "https://localhost:8080/"
        },
        "id": "ay4fRbQMhEHr",
        "outputId": "b02916d5-9600-4421-c237-de51c563898a"
      },
      "source": [
        "#Grouping the Data Frame by date and Sentiment value to get average probability and tweet count in a single day based on sentiment\n",
        "avgTweetDf = tweetDf.groupBy(\"date\", \"sentiment\").agg(avg(\"probability\").alias(\"avgProbability\"), count(\"id\").alias(\"tweetCount\"))\n",
        "avgTweetDf = avgTweetDf.select(date_format(col(\"date\"),\"MMM dd, yyyy\").alias(\"Date\"), col(\"avgProbability\"), col(\"tweetCount\"), col(\"sentiment\"))\n",
        "avgTweetDf.show(14)\n",
        "avgTweetDf.cache()"
      ],
      "execution_count": 22,
      "outputs": [
        {
          "output_type": "stream",
          "name": "stdout",
          "text": [
            "+------------+------------------+----------+---------+\n",
            "|        Date|    avgProbability|tweetCount|sentiment|\n",
            "+------------+------------------+----------+---------+\n",
            "|Dec 10, 2021|0.8999399024557014|       521| POSITIVE|\n",
            "|Dec 05, 2021|0.9571385880867085|      1430| NEGATIVE|\n",
            "|Dec 04, 2021|0.9177351395506718|       913| POSITIVE|\n",
            "|Dec 08, 2021|0.9480828767498151|      1511| NEGATIVE|\n",
            "|Dec 06, 2021|0.9053890700639691|      1067| POSITIVE|\n",
            "|Dec 08, 2021|0.9140621703774992|       879| POSITIVE|\n",
            "|Dec 09, 2021|0.9369858534125223|      1549| NEGATIVE|\n",
            "|Dec 10, 2021|0.9398105151788636|      1145| NEGATIVE|\n",
            "|Dec 09, 2021|0.9130130250262313|       846| POSITIVE|\n",
            "|Dec 04, 2021| 0.937269993600616|      1414| NEGATIVE|\n",
            "|Dec 07, 2021|0.9349233272008538|      1492| NEGATIVE|\n",
            "|Dec 03, 2021|0.9103639418152487|       157| POSITIVE|\n",
            "|Dec 07, 2021|0.8864965403040206|       899| POSITIVE|\n",
            "|Dec 03, 2021|0.9372182617199074|       412| NEGATIVE|\n",
            "+------------+------------------+----------+---------+\n",
            "only showing top 14 rows\n",
            "\n"
          ]
        },
        {
          "output_type": "execute_result",
          "data": {
            "text/plain": [
              "DataFrame[Date: string, avgProbability: double, tweetCount: bigint, sentiment: string]"
            ]
          },
          "metadata": {},
          "execution_count": 22
        }
      ]
    },
    {
      "cell_type": "code",
      "metadata": {
        "id": "3jj9IsLl-YfT"
      },
      "source": [
        "#Dividing the Data Frame w.r.t Positive and Negative sentiment\n",
        "negTweetDf = avgTweetDf.filter(col(\"sentiment\").like(\"%NEGATIVE%\"))\n",
        "negTweetDf = negTweetDf.withColumnRenamed(\"avgProbability\",\"avgNegativeProbability\")\n",
        "negTweetDf = negTweetDf.withColumnRenamed(\"tweetCount\",\"negativeTweetCount\")\n",
        "negTweetDf = negTweetDf.drop(\"sentiment\")\n",
        "\n",
        "posTweetDf = avgTweetDf.filter(col(\"sentiment\").like(\"%POSITIVE%\"))\n",
        "posTweetDf = posTweetDf.withColumnRenamed(\"avgProbability\",\"avgPositiveProbability\")\n",
        "posTweetDf = posTweetDf.withColumnRenamed(\"tweetCount\",\"positiveTweetCount\")\n",
        "posTweetDf = posTweetDf.drop(\"sentiment\")"
      ],
      "execution_count": 23,
      "outputs": []
    },
    {
      "cell_type": "code",
      "metadata": {
        "colab": {
          "base_uri": "https://localhost:8080/"
        },
        "id": "B-YVQUII1AbD",
        "outputId": "c9ff7e1a-9d81-4aec-a159-9bf6eb111657"
      },
      "source": [
        "#Web Scraping Reliance stock Data\n",
        "\n",
        "headers = {'User-Agent': 'Mozilla/5.0 (Windows NT 6.1) AppleWebKit/537.36 (KHTML, like Gecko) Chrome/41.0.2228.0 Safari/537.3'}\n",
        "\n",
        "url = \"https://in.investing.com/equities/reliance-industries-historical-data\"\n",
        "r = Request(url, headers=headers)\n",
        "try:\n",
        "  page = urlopen(r)\n",
        "except:\n",
        " print(\"Error\")\n",
        "\n",
        "soup = bs4.BeautifulSoup(page,'html.parser')\n",
        "\n",
        "date = soup.find_all('td',{'class': 'col-rowDate'})#.find('span').text\n",
        "allDates = [data.text.replace(\"\\n\", \"\") for data in date]\n",
        "\n",
        "lastClose = soup.find_all('td',{'class': 'col-last_close'})\n",
        "allClose = [data.text.replace(\"\\n\", \"\") for data in lastClose]\n",
        "\n",
        "open = soup.find_all('td',{'class': 'col-last_open'})\n",
        "allOpen = [data.text.replace(\"\\n\", \"\") for data in open]\n",
        "\n",
        "high = soup.find_all('td',{'class': 'col-last_max'})\n",
        "allHigh = [data.text.replace(\"\\n\", \"\") for data in high]\n",
        "\n",
        "low = soup.find_all('td',{'class': 'col-last_min'})\n",
        "allLow = [data.text.replace(\"\\n\", \"\") for data in low]\n",
        "\n",
        "change = soup.find_all('td',{'class': 'col-change_percent'})\n",
        "allChange = [data.text.replace(\"\\n\", \"\")[:-1] for data in change]\n",
        "\n",
        "relianceDf = spark.createDataFrame(zip(allDates, allClose, allOpen, allHigh, allLow, allChange), schema=['Date', 'Price', 'Open', 'High', 'Low', 'ChangePerc'])\n",
        "\n",
        "relianceDf.show()"
      ],
      "execution_count": 24,
      "outputs": [
        {
          "output_type": "stream",
          "name": "stdout",
          "text": [
            "+------------+--------+--------+--------+--------+----------+\n",
            "|        Date|   Price|    Open|    High|     Low|ChangePerc|\n",
            "+------------+--------+--------+--------+--------+----------+\n",
            "|Dec 10, 2021|2,458.95|2,440.25|2,466.00|2,430.35|      0.10|\n",
            "|Dec 09, 2021|2,456.45|2,435.00|2,474.90|2,425.00|      1.59|\n",
            "|Dec 08, 2021|2,418.10|2,424.10|2,431.80|2,406.30|      1.52|\n",
            "|Dec 07, 2021|2,381.85|2,376.15|2,404.00|2,360.00|      0.81|\n",
            "|Dec 06, 2021|2,362.60|2,416.00|2,425.00|2,357.15|     -1.90|\n",
            "|Dec 03, 2021|2,408.25|2,498.40|2,498.50|2,400.00|     -3.00|\n",
            "|Dec 02, 2021|2,482.85|2,469.70|2,496.20|2,461.60|      0.64|\n",
            "|Dec 01, 2021|2,467.00|2,433.00|2,474.00|2,425.10|      2.56|\n",
            "|Nov 30, 2021|2,405.40|2,468.00|2,475.90|2,388.85|     -1.48|\n",
            "|Nov 29, 2021|2,441.50|2,439.10|2,500.00|2,399.10|      1.20|\n",
            "|Nov 26, 2021|2,412.60|2,467.80|2,477.60|2,401.50|     -3.22|\n",
            "|Nov 25, 2021|2,492.95|2,373.00|2,502.00|2,357.15|      6.02|\n",
            "|Nov 24, 2021|2,351.40|2,380.00|2,409.90|2,343.55|     -1.44|\n",
            "|Nov 23, 2021|2,385.85|2,333.05|2,401.25|2,309.00|      0.93|\n",
            "|Nov 22, 2021|2,363.75|2,436.10|2,449.00|2,351.00|     -4.43|\n",
            "|Nov 18, 2021|2,473.30|2,460.00|2,489.00|2,450.05|      0.38|\n",
            "|Nov 17, 2021|2,464.00|2,498.95|2,498.95|2,461.00|     -2.14|\n",
            "|Nov 16, 2021|2,517.90|2,572.05|2,575.00|2,495.00|     -2.32|\n",
            "|Nov 15, 2021|2,577.80|2,600.00|2,602.20|2,570.00|     -0.59|\n",
            "|Nov 12, 2021|2,593.10|2,562.90|2,598.75|2,557.00|      1.51|\n",
            "+------------+--------+--------+--------+--------+----------+\n",
            "only showing top 20 rows\n",
            "\n"
          ]
        }
      ]
    },
    {
      "cell_type": "code",
      "metadata": {
        "colab": {
          "base_uri": "https://localhost:8080/"
        },
        "id": "w21nKWMi2NHb",
        "outputId": "078f1ffc-f1dd-4952-f4cc-489f77bbdf36"
      },
      "source": [
        "#Joining the web scraped Reliance stock data frame with already created POSITIVE and NEGATIVE data frames \n",
        "fullDf = relianceDf.join(posTweetDf,'Date', how=\"inner\")\n",
        "fullDf = fullDf.join(negTweetDf,'Date', how=\"inner\")\n",
        "fullDf = fullDf.sort(\"Date\")\n",
        "fullDf.show()\n",
        "fullDf.cache()"
      ],
      "execution_count": 25,
      "outputs": [
        {
          "output_type": "stream",
          "name": "stdout",
          "text": [
            "+------------+--------+--------+--------+--------+----------+----------------------+------------------+----------------------+------------------+\n",
            "|        Date|   Price|    Open|    High|     Low|ChangePerc|avgPositiveProbability|positiveTweetCount|avgNegativeProbability|negativeTweetCount|\n",
            "+------------+--------+--------+--------+--------+----------+----------------------+------------------+----------------------+------------------+\n",
            "|Dec 03, 2021|2,408.25|2,498.40|2,498.50|2,400.00|     -3.00|    0.9103639418152487|               157|    0.9372182617199074|               412|\n",
            "|Dec 06, 2021|2,362.60|2,416.00|2,425.00|2,357.15|     -1.90|    0.9053890700639691|              1067|    0.9508849513034416|              1273|\n",
            "|Dec 07, 2021|2,381.85|2,376.15|2,404.00|2,360.00|      0.81|    0.8864965403040206|               899|    0.9349233272008538|              1492|\n",
            "|Dec 08, 2021|2,418.10|2,424.10|2,431.80|2,406.30|      1.52|    0.9140621703774992|               879|    0.9480828767498151|              1511|\n",
            "|Dec 09, 2021|2,456.45|2,435.00|2,474.90|2,425.00|      1.59|    0.9130130250262313|               846|    0.9369858534125223|              1549|\n",
            "|Dec 10, 2021|2,458.95|2,440.25|2,466.00|2,430.35|      0.10|    0.8999399024557014|               521|    0.9398105151788636|              1145|\n",
            "+------------+--------+--------+--------+--------+----------+----------------------+------------------+----------------------+------------------+\n",
            "\n"
          ]
        },
        {
          "output_type": "execute_result",
          "data": {
            "text/plain": [
              "DataFrame[Date: string, Price: string, Open: string, High: string, Low: string, ChangePerc: string, avgPositiveProbability: double, positiveTweetCount: bigint, avgNegativeProbability: double, negativeTweetCount: bigint]"
            ]
          },
          "metadata": {},
          "execution_count": 25
        }
      ]
    },
    {
      "cell_type": "code",
      "metadata": {
        "id": "yH-ULOUrDF2M"
      },
      "source": [
        "dateList = []\n",
        "priceList = []\n",
        "posTweetCountList = []\n",
        "negTweetCountList = []\n",
        "avgPositiveProbabilityList = []\n",
        "avgNegativeProbabilityList = []\n",
        "\n",
        "for row in fullDf.collect():\n",
        "  dateList.append(row.Date)\n",
        "  priceList.append(row.Price)\n",
        "  posTweetCountList.append(row.positiveTweetCount)\n",
        "  negTweetCountList.append(row.negativeTweetCount)\n",
        "  avgPositiveProbabilityList.append(row.avgPositiveProbability)\n",
        "  avgNegativeProbabilityList.append(row.avgNegativeProbability)\n",
        "\n",
        "priceList = [float(s.replace(\",\", \"\")) for s in priceList]"
      ],
      "execution_count": 26,
      "outputs": []
    },
    {
      "cell_type": "code",
      "metadata": {
        "id": "KKjvKgRWGDkQ",
        "colab": {
          "base_uri": "https://localhost:8080/",
          "height": 266
        },
        "outputId": "6173ae8d-d372-43ab-f703-6dc6cf8f3ec8"
      },
      "source": [
        "#Plotting Graph of the observed Data\n",
        "fig = plt.figure()\n",
        "ax = fig.add_subplot(111)\n",
        "X_axis = np.arange(len(dateList))\n",
        "ax.plot(dateList,priceList, color='red', label = 'Share Price')\n",
        "ax.legend(loc='upper right')\n",
        "\n",
        "axB = ax.twinx()\n",
        "axB.plot(dateList,avgPositiveProbabilityList, color='blue', label = 'Net Positive Sentiment')\n",
        "plt.show()\n"
      ],
      "execution_count": 27,
      "outputs": [
        {
          "output_type": "display_data",
          "data": {
            "image/png": "[encoded data removed]",
            "text/plain": [
              "<Figure size 432x288 with 2 Axes>"
            ]
          },
          "metadata": {
            "needs_background": "light"
          }
        }
      ]
    },
    {
      "cell_type": "code",
      "metadata": {
        "colab": {
          "base_uri": "https://localhost:8080/",
          "height": 265
        },
        "id": "E0FfLl99qNnr",
        "outputId": "c416240a-5913-4a7c-e85b-1053841a2469"
      },
      "source": [
        "#Plotting Graph of the observed Data\n",
        "fig = plt.figure()\n",
        "ax = fig.add_subplot(111)\n",
        "X_axis = np.arange(len(dateList))\n",
        "ax.plot(dateList,priceList, color='red', label = 'Share Price')\n",
        "ax.legend(loc='upper right')\n",
        "\n",
        "axB = ax.twinx()\n",
        "axB.plot(dateList,avgNegativeProbabilityList, color='blue', label = 'Net Positive Sentiment')\n",
        "plt.show()"
      ],
      "execution_count": 28,
      "outputs": [
        {
          "output_type": "display_data",
          "data": {
            "image/png": "[encoded data removed]",
            "text/plain": [
              "<Figure size 432x288 with 2 Axes>"
            ]
          },
          "metadata": {
            "needs_background": "light"
          }
        }
      ]
    }
  ]
}